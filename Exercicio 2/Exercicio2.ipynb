{
 "cells": [
  {
   "cell_type": "markdown",
   "metadata": {
    "id": "XRuhiBHN4vtZ"
   },
   "source": [
    "# Data Wrangling - Case 2 "
   ]
  },
  {
   "cell_type": "markdown",
   "metadata": {
    "id": "mQ_sBWdNkwfC"
   },
   "source": [
    "Nesse case, iremos continuar o case 1, partindo do ponto em que paramos e evoluindo com novas variáveis."
   ]
  },
  {
   "cell_type": "markdown",
   "metadata": {
    "id": "ueaB3xnB6wWG"
   },
   "source": [
    "Se você fosse gerente em uma empresa, o que você faria diferente caso descobrisse que alguns de seus funcionários estão pensando em sair? Daria um aumento, buscaria contratar outro ou tentaria ver como melhorar? De toda forma, seria útil e evitaria muitos problemas!\n",
    "\n",
    "No case de hoje, vamos fazer exatamente isso! \n",
    "\n",
    "Daily Happiness & Employee Turnover\n",
    "Is There a Relationship Between Employee Happiness and Job Turnover?\n",
    "\n",
    "\n",
    "Dataset: https://www.kaggle.com/harriken/employeeturnover?select=votes.csv\n"
   ]
  },
  {
   "cell_type": "markdown",
   "metadata": {
    "id": "Mf3A3BNJ411y"
   },
   "source": [
    "## Importe as bibliotecas necessárias:"
   ]
  },
  {
   "cell_type": "code",
   "execution_count": 2,
   "metadata": {
    "id": "1xYyDsJC4BtZ"
   },
   "outputs": [],
   "source": [
    "import pandas as pd\n",
    "import numpy as np\n",
    "import matplotlib.pyplot as plt\n",
    "import seaborn as sns\n",
    "import plotly.express as px\n",
    "import plotly.graph_objects as go\n",
    "from sklearn.preprocessing import KBinsDiscretizer\n",
    "from sklearn.preprocessing import FunctionTransformer\n",
    "from sklearn.preprocessing import PowerTransformer\n",
    "from sklearn.preprocessing import KBinsDiscretizer\n",
    "# adicione outras aqui"
   ]
  },
  {
   "cell_type": "markdown",
   "metadata": {
    "id": "WGEUTNOg5Gjk"
   },
   "source": [
    "## Importe os arquivos necessários:"
   ]
  },
  {
   "cell_type": "markdown",
   "metadata": {
    "id": "cMlAvadT7qi0"
   },
   "source": [
    "- <b>Arquivo de churn Enriquecido (resultado da parte 1 com colunas adicionais)</b>:\n",
    "Descreve se o funcionário ainda está na empresa, indicando os que já sairam (<i>churn</i>). O id do funcionário é único dentro da empresa somente (funcionários distintos em empresas diferentes podem ter o mesmo ID). Contem informações referentes às votações em que esse funcionário participou e aos comentários registrados por ele, além do genero da pessoa e do tipo de empresa.\n",
    "Arquivo: data/churn.csv\n",
    "\n",
    "- <b>Arquivo de Interação nos Comentários</b>:\n",
    "Descreve os usuário que interagiram com os comentários postados, dando like ou deslike. Arquivo: data/commentInteractions.csv\n",
    "\n",
    "- <b>Arquivo de Comentários Anônimos</b>:\n",
    "Descreve cada comentário escrito pelos funcionários e uma visão geral da quantidade de likes e deslikes. Arquivo: data/comments_clean_anonimized.csv"
   ]
  },
  {
   "cell_type": "markdown",
   "metadata": {
    "id": "nX_u9a1Ug_9C"
   },
   "source": [
    "## Importando arquivos necessários\n",
    "\n",
    "\n",
    "\n",
    "\n",
    "\n",
    "\n",
    "\n",
    "\n"
   ]
  },
  {
   "cell_type": "code",
   "execution_count": null,
   "metadata": {
    "id": "tiXJk3jGJJOz"
   },
   "outputs": [],
   "source": [
    "[churn_enriq, commentInteractions, comments_clean_anonimized] = dfs"
   ]
  },
  {
   "cell_type": "code",
   "execution_count": 4,
   "metadata": {},
   "outputs": [],
   "source": [
    "churn_enriq = pd.read_csv('churn_enriq.csv')\n",
    "commentInteractions = pd.read_csv('comment_interactions.csv')\n",
    "comments_clean_anonimized = pd.read_csv('comments_clean_anonimized.csv')"
   ]
  },
  {
   "cell_type": "code",
   "execution_count": null,
   "metadata": {
    "colab": {
     "base_uri": "https://localhost:8080/",
     "height": 145
    },
    "executionInfo": {
     "elapsed": 23,
     "status": "ok",
     "timestamp": 1643330680233,
     "user": {
      "displayName": "Matheus Scheffer",
      "photoUrl": "https://lh3.googleusercontent.com/a-/AOh14GglPDI7gdLFED26W1SJncCIZFA5A-5rjTBcxfjH=s64",
      "userId": "18314476337770992076"
     },
     "user_tz": 180
    },
    "id": "tIUthq-0JaaU",
    "outputId": "a1ef5e76-58f9-4038-d72f-b90241fe3ad2"
   },
   "outputs": [
    {
     "data": {
      "text/html": [
       "\n",
       "  <div id=\"df-fa3c01b5-459f-4224-b69c-525040294191\">\n",
       "    <div class=\"colab-df-container\">\n",
       "      <div>\n",
       "<style scoped>\n",
       "    .dataframe tbody tr th:only-of-type {\n",
       "        vertical-align: middle;\n",
       "    }\n",
       "\n",
       "    .dataframe tbody tr th {\n",
       "        vertical-align: top;\n",
       "    }\n",
       "\n",
       "    .dataframe thead th {\n",
       "        text-align: right;\n",
       "    }\n",
       "</style>\n",
       "<table border=\"1\" class=\"dataframe\">\n",
       "  <thead>\n",
       "    <tr style=\"text-align: right;\">\n",
       "      <th></th>\n",
       "      <th>employee</th>\n",
       "      <th>companyAlias</th>\n",
       "      <th>numVotes</th>\n",
       "      <th>lastParticipationDate</th>\n",
       "      <th>stillExists</th>\n",
       "      <th>vote_mean</th>\n",
       "      <th>vote_mode</th>\n",
       "      <th>vote_min</th>\n",
       "      <th>vote_max</th>\n",
       "      <th>vote_count</th>\n",
       "      <th>qt_dias_diff_vote_min</th>\n",
       "      <th>qt_dias_diff_vote_max</th>\n",
       "      <th>qt_dias_diff_vote_median</th>\n",
       "      <th>likes_mean</th>\n",
       "      <th>likes_min</th>\n",
       "      <th>likes_max</th>\n",
       "      <th>dislikes_mean</th>\n",
       "      <th>dislikes_min</th>\n",
       "      <th>dislikes_max</th>\n",
       "      <th>qt_dias_diff_comment_min</th>\n",
       "      <th>qt_dias_diff_comment_max</th>\n",
       "      <th>qt_dias_diff_comment_median</th>\n",
       "      <th>commentId_count</th>\n",
       "      <th>companyType</th>\n",
       "      <th>gender</th>\n",
       "    </tr>\n",
       "  </thead>\n",
       "  <tbody>\n",
       "    <tr>\n",
       "      <th>0</th>\n",
       "      <td>512</td>\n",
       "      <td>56aec740f1ef260003e307d6</td>\n",
       "      <td>4</td>\n",
       "      <td>2017-02-23 11:48:04</td>\n",
       "      <td>1</td>\n",
       "      <td>2.0</td>\n",
       "      <td>1.0</td>\n",
       "      <td>1.0</td>\n",
       "      <td>3.0</td>\n",
       "      <td>3.0</td>\n",
       "      <td>2.0</td>\n",
       "      <td>37.0</td>\n",
       "      <td>31.0</td>\n",
       "      <td>7.5</td>\n",
       "      <td>6.0</td>\n",
       "      <td>9.0</td>\n",
       "      <td>1.0</td>\n",
       "      <td>0.0</td>\n",
       "      <td>2.0</td>\n",
       "      <td>2.0</td>\n",
       "      <td>30.0</td>\n",
       "      <td>16.0</td>\n",
       "      <td>2.0</td>\n",
       "      <td>Product</td>\n",
       "      <td>Male</td>\n",
       "    </tr>\n",
       "  </tbody>\n",
       "</table>\n",
       "</div>\n",
       "      <button class=\"colab-df-convert\" onclick=\"convertToInteractive('df-fa3c01b5-459f-4224-b69c-525040294191')\"\n",
       "              title=\"Convert this dataframe to an interactive table.\"\n",
       "              style=\"display:none;\">\n",
       "        \n",
       "  <svg xmlns=\"http://www.w3.org/2000/svg\" height=\"24px\"viewBox=\"0 0 24 24\"\n",
       "       width=\"24px\">\n",
       "    <path d=\"M0 0h24v24H0V0z\" fill=\"none\"/>\n",
       "    <path d=\"M18.56 5.44l.94 2.06.94-2.06 2.06-.94-2.06-.94-.94-2.06-.94 2.06-2.06.94zm-11 1L8.5 8.5l.94-2.06 2.06-.94-2.06-.94L8.5 2.5l-.94 2.06-2.06.94zm10 10l.94 2.06.94-2.06 2.06-.94-2.06-.94-.94-2.06-.94 2.06-2.06.94z\"/><path d=\"M17.41 7.96l-1.37-1.37c-.4-.4-.92-.59-1.43-.59-.52 0-1.04.2-1.43.59L10.3 9.45l-7.72 7.72c-.78.78-.78 2.05 0 2.83L4 21.41c.39.39.9.59 1.41.59.51 0 1.02-.2 1.41-.59l7.78-7.78 2.81-2.81c.8-.78.8-2.07 0-2.86zM5.41 20L4 18.59l7.72-7.72 1.47 1.35L5.41 20z\"/>\n",
       "  </svg>\n",
       "      </button>\n",
       "      \n",
       "  <style>\n",
       "    .colab-df-container {\n",
       "      display:flex;\n",
       "      flex-wrap:wrap;\n",
       "      gap: 12px;\n",
       "    }\n",
       "\n",
       "    .colab-df-convert {\n",
       "      background-color: #E8F0FE;\n",
       "      border: none;\n",
       "      border-radius: 50%;\n",
       "      cursor: pointer;\n",
       "      display: none;\n",
       "      fill: #1967D2;\n",
       "      height: 32px;\n",
       "      padding: 0 0 0 0;\n",
       "      width: 32px;\n",
       "    }\n",
       "\n",
       "    .colab-df-convert:hover {\n",
       "      background-color: #E2EBFA;\n",
       "      box-shadow: 0px 1px 2px rgba(60, 64, 67, 0.3), 0px 1px 3px 1px rgba(60, 64, 67, 0.15);\n",
       "      fill: #174EA6;\n",
       "    }\n",
       "\n",
       "    [theme=dark] .colab-df-convert {\n",
       "      background-color: #3B4455;\n",
       "      fill: #D2E3FC;\n",
       "    }\n",
       "\n",
       "    [theme=dark] .colab-df-convert:hover {\n",
       "      background-color: #434B5C;\n",
       "      box-shadow: 0px 1px 3px 1px rgba(0, 0, 0, 0.15);\n",
       "      filter: drop-shadow(0px 1px 2px rgba(0, 0, 0, 0.3));\n",
       "      fill: #FFFFFF;\n",
       "    }\n",
       "  </style>\n",
       "\n",
       "      <script>\n",
       "        const buttonEl =\n",
       "          document.querySelector('#df-fa3c01b5-459f-4224-b69c-525040294191 button.colab-df-convert');\n",
       "        buttonEl.style.display =\n",
       "          google.colab.kernel.accessAllowed ? 'block' : 'none';\n",
       "\n",
       "        async function convertToInteractive(key) {\n",
       "          const element = document.querySelector('#df-fa3c01b5-459f-4224-b69c-525040294191');\n",
       "          const dataTable =\n",
       "            await google.colab.kernel.invokeFunction('convertToInteractive',\n",
       "                                                     [key], {});\n",
       "          if (!dataTable) return;\n",
       "\n",
       "          const docLinkHtml = 'Like what you see? Visit the ' +\n",
       "            '<a target=\"_blank\" href=https://colab.research.google.com/notebooks/data_table.ipynb>data table notebook</a>'\n",
       "            + ' to learn more about interactive tables.';\n",
       "          element.innerHTML = '';\n",
       "          dataTable['output_type'] = 'display_data';\n",
       "          await google.colab.output.renderOutput(dataTable, element);\n",
       "          const docLink = document.createElement('div');\n",
       "          docLink.innerHTML = docLinkHtml;\n",
       "          element.appendChild(docLink);\n",
       "        }\n",
       "      </script>\n",
       "    </div>\n",
       "  </div>\n",
       "  "
      ],
      "text/plain": [
       "   employee              companyAlias  ...  companyType gender\n",
       "0       512  56aec740f1ef260003e307d6  ...      Product   Male\n",
       "\n",
       "[1 rows x 25 columns]"
      ]
     },
     "execution_count": 7,
     "metadata": {},
     "output_type": "execute_result"
    }
   ],
   "source": [
    "churn_enriq.head(1)"
   ]
  },
  {
   "cell_type": "code",
   "execution_count": null,
   "metadata": {
    "colab": {
     "base_uri": "https://localhost:8080/",
     "height": 81
    },
    "executionInfo": {
     "elapsed": 12,
     "status": "ok",
     "timestamp": 1643330680234,
     "user": {
      "displayName": "Matheus Scheffer",
      "photoUrl": "https://lh3.googleusercontent.com/a-/AOh14GglPDI7gdLFED26W1SJncCIZFA5A-5rjTBcxfjH=s64",
      "userId": "18314476337770992076"
     },
     "user_tz": 180
    },
    "id": "qD_g22vVJbXy",
    "outputId": "fbbe7f89-88b9-4a23-e03e-ad0675670fa4"
   },
   "outputs": [
    {
     "data": {
      "text/html": [
       "\n",
       "  <div id=\"df-ffda1f06-e445-4721-a610-bafdba029604\">\n",
       "    <div class=\"colab-df-container\">\n",
       "      <div>\n",
       "<style scoped>\n",
       "    .dataframe tbody tr th:only-of-type {\n",
       "        vertical-align: middle;\n",
       "    }\n",
       "\n",
       "    .dataframe tbody tr th {\n",
       "        vertical-align: top;\n",
       "    }\n",
       "\n",
       "    .dataframe thead th {\n",
       "        text-align: right;\n",
       "    }\n",
       "</style>\n",
       "<table border=\"1\" class=\"dataframe\">\n",
       "  <thead>\n",
       "    <tr style=\"text-align: right;\">\n",
       "      <th></th>\n",
       "      <th>employee</th>\n",
       "      <th>companyAlias</th>\n",
       "      <th>liked</th>\n",
       "      <th>disliked</th>\n",
       "      <th>commentId</th>\n",
       "    </tr>\n",
       "  </thead>\n",
       "  <tbody>\n",
       "    <tr>\n",
       "      <th>0</th>\n",
       "      <td>307</td>\n",
       "      <td>56aec740f1ef260003e307d6</td>\n",
       "      <td>1</td>\n",
       "      <td>0</td>\n",
       "      <td>58d018d7e010990004e38070</td>\n",
       "    </tr>\n",
       "  </tbody>\n",
       "</table>\n",
       "</div>\n",
       "      <button class=\"colab-df-convert\" onclick=\"convertToInteractive('df-ffda1f06-e445-4721-a610-bafdba029604')\"\n",
       "              title=\"Convert this dataframe to an interactive table.\"\n",
       "              style=\"display:none;\">\n",
       "        \n",
       "  <svg xmlns=\"http://www.w3.org/2000/svg\" height=\"24px\"viewBox=\"0 0 24 24\"\n",
       "       width=\"24px\">\n",
       "    <path d=\"M0 0h24v24H0V0z\" fill=\"none\"/>\n",
       "    <path d=\"M18.56 5.44l.94 2.06.94-2.06 2.06-.94-2.06-.94-.94-2.06-.94 2.06-2.06.94zm-11 1L8.5 8.5l.94-2.06 2.06-.94-2.06-.94L8.5 2.5l-.94 2.06-2.06.94zm10 10l.94 2.06.94-2.06 2.06-.94-2.06-.94-.94-2.06-.94 2.06-2.06.94z\"/><path d=\"M17.41 7.96l-1.37-1.37c-.4-.4-.92-.59-1.43-.59-.52 0-1.04.2-1.43.59L10.3 9.45l-7.72 7.72c-.78.78-.78 2.05 0 2.83L4 21.41c.39.39.9.59 1.41.59.51 0 1.02-.2 1.41-.59l7.78-7.78 2.81-2.81c.8-.78.8-2.07 0-2.86zM5.41 20L4 18.59l7.72-7.72 1.47 1.35L5.41 20z\"/>\n",
       "  </svg>\n",
       "      </button>\n",
       "      \n",
       "  <style>\n",
       "    .colab-df-container {\n",
       "      display:flex;\n",
       "      flex-wrap:wrap;\n",
       "      gap: 12px;\n",
       "    }\n",
       "\n",
       "    .colab-df-convert {\n",
       "      background-color: #E8F0FE;\n",
       "      border: none;\n",
       "      border-radius: 50%;\n",
       "      cursor: pointer;\n",
       "      display: none;\n",
       "      fill: #1967D2;\n",
       "      height: 32px;\n",
       "      padding: 0 0 0 0;\n",
       "      width: 32px;\n",
       "    }\n",
       "\n",
       "    .colab-df-convert:hover {\n",
       "      background-color: #E2EBFA;\n",
       "      box-shadow: 0px 1px 2px rgba(60, 64, 67, 0.3), 0px 1px 3px 1px rgba(60, 64, 67, 0.15);\n",
       "      fill: #174EA6;\n",
       "    }\n",
       "\n",
       "    [theme=dark] .colab-df-convert {\n",
       "      background-color: #3B4455;\n",
       "      fill: #D2E3FC;\n",
       "    }\n",
       "\n",
       "    [theme=dark] .colab-df-convert:hover {\n",
       "      background-color: #434B5C;\n",
       "      box-shadow: 0px 1px 3px 1px rgba(0, 0, 0, 0.15);\n",
       "      filter: drop-shadow(0px 1px 2px rgba(0, 0, 0, 0.3));\n",
       "      fill: #FFFFFF;\n",
       "    }\n",
       "  </style>\n",
       "\n",
       "      <script>\n",
       "        const buttonEl =\n",
       "          document.querySelector('#df-ffda1f06-e445-4721-a610-bafdba029604 button.colab-df-convert');\n",
       "        buttonEl.style.display =\n",
       "          google.colab.kernel.accessAllowed ? 'block' : 'none';\n",
       "\n",
       "        async function convertToInteractive(key) {\n",
       "          const element = document.querySelector('#df-ffda1f06-e445-4721-a610-bafdba029604');\n",
       "          const dataTable =\n",
       "            await google.colab.kernel.invokeFunction('convertToInteractive',\n",
       "                                                     [key], {});\n",
       "          if (!dataTable) return;\n",
       "\n",
       "          const docLinkHtml = 'Like what you see? Visit the ' +\n",
       "            '<a target=\"_blank\" href=https://colab.research.google.com/notebooks/data_table.ipynb>data table notebook</a>'\n",
       "            + ' to learn more about interactive tables.';\n",
       "          element.innerHTML = '';\n",
       "          dataTable['output_type'] = 'display_data';\n",
       "          await google.colab.output.renderOutput(dataTable, element);\n",
       "          const docLink = document.createElement('div');\n",
       "          docLink.innerHTML = docLinkHtml;\n",
       "          element.appendChild(docLink);\n",
       "        }\n",
       "      </script>\n",
       "    </div>\n",
       "  </div>\n",
       "  "
      ],
      "text/plain": [
       "   employee              companyAlias  ...  disliked                 commentId\n",
       "0       307  56aec740f1ef260003e307d6  ...         0  58d018d7e010990004e38070\n",
       "\n",
       "[1 rows x 5 columns]"
      ]
     },
     "execution_count": 8,
     "metadata": {},
     "output_type": "execute_result"
    }
   ],
   "source": [
    "commentInteractions.head(1)"
   ]
  },
  {
   "cell_type": "code",
   "execution_count": null,
   "metadata": {
    "colab": {
     "base_uri": "https://localhost:8080/",
     "height": 81
    },
    "executionInfo": {
     "elapsed": 7,
     "status": "ok",
     "timestamp": 1643330682902,
     "user": {
      "displayName": "Matheus Scheffer",
      "photoUrl": "https://lh3.googleusercontent.com/a-/AOh14GglPDI7gdLFED26W1SJncCIZFA5A-5rjTBcxfjH=s64",
      "userId": "18314476337770992076"
     },
     "user_tz": 180
    },
    "id": "iCG7QSwZIUtR",
    "outputId": "cc448af5-89bc-4d2b-85db-7a0f5ec54c80"
   },
   "outputs": [
    {
     "data": {
      "text/html": [
       "\n",
       "  <div id=\"df-1b742f2b-a4e0-4b40-aada-af2ae6828c96\">\n",
       "    <div class=\"colab-df-container\">\n",
       "      <div>\n",
       "<style scoped>\n",
       "    .dataframe tbody tr th:only-of-type {\n",
       "        vertical-align: middle;\n",
       "    }\n",
       "\n",
       "    .dataframe tbody tr th {\n",
       "        vertical-align: top;\n",
       "    }\n",
       "\n",
       "    .dataframe thead th {\n",
       "        text-align: right;\n",
       "    }\n",
       "</style>\n",
       "<table border=\"1\" class=\"dataframe\">\n",
       "  <thead>\n",
       "    <tr style=\"text-align: right;\">\n",
       "      <th></th>\n",
       "      <th>employee</th>\n",
       "      <th>companyAlias</th>\n",
       "      <th>commentId</th>\n",
       "      <th>txt</th>\n",
       "      <th>likes</th>\n",
       "      <th>dislikes</th>\n",
       "      <th>commentDate</th>\n",
       "    </tr>\n",
       "  </thead>\n",
       "  <tbody>\n",
       "    <tr>\n",
       "      <th>0</th>\n",
       "      <td>307</td>\n",
       "      <td>56aec740f1ef260003e307d6</td>\n",
       "      <td>58d018d7e010990004e38070</td>\n",
       "      <td>**********************************************...</td>\n",
       "      <td>4.0</td>\n",
       "      <td>0.0</td>\n",
       "      <td>2017-03-20 18:00:17</td>\n",
       "    </tr>\n",
       "  </tbody>\n",
       "</table>\n",
       "</div>\n",
       "      <button class=\"colab-df-convert\" onclick=\"convertToInteractive('df-1b742f2b-a4e0-4b40-aada-af2ae6828c96')\"\n",
       "              title=\"Convert this dataframe to an interactive table.\"\n",
       "              style=\"display:none;\">\n",
       "        \n",
       "  <svg xmlns=\"http://www.w3.org/2000/svg\" height=\"24px\"viewBox=\"0 0 24 24\"\n",
       "       width=\"24px\">\n",
       "    <path d=\"M0 0h24v24H0V0z\" fill=\"none\"/>\n",
       "    <path d=\"M18.56 5.44l.94 2.06.94-2.06 2.06-.94-2.06-.94-.94-2.06-.94 2.06-2.06.94zm-11 1L8.5 8.5l.94-2.06 2.06-.94-2.06-.94L8.5 2.5l-.94 2.06-2.06.94zm10 10l.94 2.06.94-2.06 2.06-.94-2.06-.94-.94-2.06-.94 2.06-2.06.94z\"/><path d=\"M17.41 7.96l-1.37-1.37c-.4-.4-.92-.59-1.43-.59-.52 0-1.04.2-1.43.59L10.3 9.45l-7.72 7.72c-.78.78-.78 2.05 0 2.83L4 21.41c.39.39.9.59 1.41.59.51 0 1.02-.2 1.41-.59l7.78-7.78 2.81-2.81c.8-.78.8-2.07 0-2.86zM5.41 20L4 18.59l7.72-7.72 1.47 1.35L5.41 20z\"/>\n",
       "  </svg>\n",
       "      </button>\n",
       "      \n",
       "  <style>\n",
       "    .colab-df-container {\n",
       "      display:flex;\n",
       "      flex-wrap:wrap;\n",
       "      gap: 12px;\n",
       "    }\n",
       "\n",
       "    .colab-df-convert {\n",
       "      background-color: #E8F0FE;\n",
       "      border: none;\n",
       "      border-radius: 50%;\n",
       "      cursor: pointer;\n",
       "      display: none;\n",
       "      fill: #1967D2;\n",
       "      height: 32px;\n",
       "      padding: 0 0 0 0;\n",
       "      width: 32px;\n",
       "    }\n",
       "\n",
       "    .colab-df-convert:hover {\n",
       "      background-color: #E2EBFA;\n",
       "      box-shadow: 0px 1px 2px rgba(60, 64, 67, 0.3), 0px 1px 3px 1px rgba(60, 64, 67, 0.15);\n",
       "      fill: #174EA6;\n",
       "    }\n",
       "\n",
       "    [theme=dark] .colab-df-convert {\n",
       "      background-color: #3B4455;\n",
       "      fill: #D2E3FC;\n",
       "    }\n",
       "\n",
       "    [theme=dark] .colab-df-convert:hover {\n",
       "      background-color: #434B5C;\n",
       "      box-shadow: 0px 1px 3px 1px rgba(0, 0, 0, 0.15);\n",
       "      filter: drop-shadow(0px 1px 2px rgba(0, 0, 0, 0.3));\n",
       "      fill: #FFFFFF;\n",
       "    }\n",
       "  </style>\n",
       "\n",
       "      <script>\n",
       "        const buttonEl =\n",
       "          document.querySelector('#df-1b742f2b-a4e0-4b40-aada-af2ae6828c96 button.colab-df-convert');\n",
       "        buttonEl.style.display =\n",
       "          google.colab.kernel.accessAllowed ? 'block' : 'none';\n",
       "\n",
       "        async function convertToInteractive(key) {\n",
       "          const element = document.querySelector('#df-1b742f2b-a4e0-4b40-aada-af2ae6828c96');\n",
       "          const dataTable =\n",
       "            await google.colab.kernel.invokeFunction('convertToInteractive',\n",
       "                                                     [key], {});\n",
       "          if (!dataTable) return;\n",
       "\n",
       "          const docLinkHtml = 'Like what you see? Visit the ' +\n",
       "            '<a target=\"_blank\" href=https://colab.research.google.com/notebooks/data_table.ipynb>data table notebook</a>'\n",
       "            + ' to learn more about interactive tables.';\n",
       "          element.innerHTML = '';\n",
       "          dataTable['output_type'] = 'display_data';\n",
       "          await google.colab.output.renderOutput(dataTable, element);\n",
       "          const docLink = document.createElement('div');\n",
       "          docLink.innerHTML = docLinkHtml;\n",
       "          element.appendChild(docLink);\n",
       "        }\n",
       "      </script>\n",
       "    </div>\n",
       "  </div>\n",
       "  "
      ],
      "text/plain": [
       "   employee              companyAlias  ... dislikes          commentDate\n",
       "0       307  56aec740f1ef260003e307d6  ...      0.0  2017-03-20 18:00:17\n",
       "\n",
       "[1 rows x 7 columns]"
      ]
     },
     "execution_count": 9,
     "metadata": {},
     "output_type": "execute_result"
    }
   ],
   "source": [
    "comments_clean_anonimized.head(1)"
   ]
  },
  {
   "cell_type": "markdown",
   "metadata": {
    "id": "HBDyebfgkwfG"
   },
   "source": [
    "# Enriquecimento dos dados"
   ]
  },
  {
   "cell_type": "markdown",
   "metadata": {
    "id": "ugrT-TMtkwfH"
   },
   "source": [
    "### Combinar 2 variáveis diferentes"
   ]
  },
  {
   "cell_type": "markdown",
   "metadata": {
    "id": "Vyelwv3RkwfH"
   },
   "source": [
    "a) Vamos combinar as colunas likes_mean e dislikes_mean calculando a razão de uma sobre a outra. Isso nos dará uma ideia da proporção entre likes e dislikes de um comentário."
   ]
  },
  {
   "cell_type": "code",
   "execution_count": null,
   "metadata": {
    "colab": {
     "base_uri": "https://localhost:8080/",
     "height": 34
    },
    "executionInfo": {
     "elapsed": 5,
     "status": "ok",
     "timestamp": 1643330683167,
     "user": {
      "displayName": "Matheus Scheffer",
      "photoUrl": "https://lh3.googleusercontent.com/a-/AOh14GglPDI7gdLFED26W1SJncCIZFA5A-5rjTBcxfjH=s64",
      "userId": "18314476337770992076"
     },
     "user_tz": 180
    },
    "id": "ftwqYrvVI0pf",
    "outputId": "9936e06d-5eac-4a43-d6a4-bb59af188890"
   },
   "outputs": [
    {
     "data": {
      "text/plain": [
       "<Figure size 432x288 with 0 Axes>"
      ]
     },
     "metadata": {},
     "output_type": "display_data"
    }
   ],
   "source": [
    "fig = plt.figure()\n"
   ]
  },
  {
   "cell_type": "code",
   "execution_count": null,
   "metadata": {
    "id": "8lQ2lXubIrJO"
   },
   "outputs": [],
   "source": [
    "churn_enriq['razao_likes_deslikes'] = churn_enriq.likes_mean / churn_enriq.dislikes_mean"
   ]
  },
  {
   "cell_type": "code",
   "execution_count": null,
   "metadata": {
    "colab": {
     "base_uri": "https://localhost:8080/"
    },
    "executionInfo": {
     "elapsed": 4,
     "status": "ok",
     "timestamp": 1643330689723,
     "user": {
      "displayName": "Matheus Scheffer",
      "photoUrl": "https://lh3.googleusercontent.com/a-/AOh14GglPDI7gdLFED26W1SJncCIZFA5A-5rjTBcxfjH=s64",
      "userId": "18314476337770992076"
     },
     "user_tz": 180
    },
    "id": "ROmQt2DQJdXZ",
    "outputId": "f36505c4-4af4-490e-8c02-78c6d1fec557"
   },
   "outputs": [
    {
     "data": {
      "text/plain": [
       "count    3974.000000\n",
       "mean             inf\n",
       "std              NaN\n",
       "min         0.000000\n",
       "25%         5.611109\n",
       "50%         5.611109\n",
       "75%        11.650000\n",
       "max              inf\n",
       "Name: razao_likes_deslikes, dtype: float64"
      ]
     },
     "execution_count": 12,
     "metadata": {},
     "output_type": "execute_result"
    }
   ],
   "source": [
    "churn_enriq.razao_likes_deslikes.describe()"
   ]
  },
  {
   "cell_type": "markdown",
   "metadata": {
    "id": "BfZt4vazkwfI"
   },
   "source": [
    "b) Por ser uma divisão, essa variável ficou com alguns valores estranhos, como nulos e infinitos.\n",
    "O nulo acontece quando dividimos 0 por 0. Já o infinito acontece quando temos algum like e 0 dislikes.\n",
    "Calcule o valor de nulos e infinitos (np.inf)."
   ]
  },
  {
   "cell_type": "code",
   "execution_count": null,
   "metadata": {
    "colab": {
     "base_uri": "https://localhost:8080/"
    },
    "executionInfo": {
     "elapsed": 6,
     "status": "ok",
     "timestamp": 1643330690001,
     "user": {
      "displayName": "Matheus Scheffer",
      "photoUrl": "https://lh3.googleusercontent.com/a-/AOh14GglPDI7gdLFED26W1SJncCIZFA5A-5rjTBcxfjH=s64",
      "userId": "18314476337770992076"
     },
     "user_tz": 180
    },
    "id": "87bGasRKM7NU",
    "outputId": "034c0fbe-e918-457d-c7c1-522d2015d1ed"
   },
   "outputs": [
    {
     "data": {
      "text/plain": [
       "(538, 26)"
      ]
     },
     "execution_count": 13,
     "metadata": {},
     "output_type": "execute_result"
    }
   ],
   "source": [
    "churn_enriq[churn_enriq.razao_likes_deslikes == np.inf].shape"
   ]
  },
  {
   "cell_type": "code",
   "execution_count": null,
   "metadata": {
    "colab": {
     "base_uri": "https://localhost:8080/"
    },
    "executionInfo": {
     "elapsed": 6,
     "status": "ok",
     "timestamp": 1643330690002,
     "user": {
      "displayName": "Matheus Scheffer",
      "photoUrl": "https://lh3.googleusercontent.com/a-/AOh14GglPDI7gdLFED26W1SJncCIZFA5A-5rjTBcxfjH=s64",
      "userId": "18314476337770992076"
     },
     "user_tz": 180
    },
    "id": "l_9B_PmQQ_ax",
    "outputId": "b6840156-3b24-4248-ae81-5342d85fbaaa"
   },
   "outputs": [
    {
     "data": {
      "text/plain": [
       "(90, 26)"
      ]
     },
     "execution_count": 14,
     "metadata": {},
     "output_type": "execute_result"
    }
   ],
   "source": [
    "churn_enriq[churn_enriq.razao_likes_deslikes.isna()].shape"
   ]
  },
  {
   "cell_type": "markdown",
   "metadata": {
    "id": "eEIYg6eNkwfJ"
   },
   "source": [
    "c) Vamos preencher os nulos com o valor 1 que indica mesma qt. de likes e dislikes"
   ]
  },
  {
   "cell_type": "code",
   "execution_count": null,
   "metadata": {
    "id": "DtC5tvGdRNa8"
   },
   "outputs": [],
   "source": [
    "churn_enriq.loc[churn_enriq['razao_likes_deslikes'].isna(),'razao_likes_deslikes'] = 1"
   ]
  },
  {
   "cell_type": "code",
   "execution_count": null,
   "metadata": {
    "colab": {
     "base_uri": "https://localhost:8080/"
    },
    "executionInfo": {
     "elapsed": 3,
     "status": "ok",
     "timestamp": 1643330707186,
     "user": {
      "displayName": "Matheus Scheffer",
      "photoUrl": "https://lh3.googleusercontent.com/a-/AOh14GglPDI7gdLFED26W1SJncCIZFA5A-5rjTBcxfjH=s64",
      "userId": "18314476337770992076"
     },
     "user_tz": 180
    },
    "id": "FzNjLB5oSJNx",
    "outputId": "7a5f32b8-c112-4ab8-b001-efa2a72ee652"
   },
   "outputs": [
    {
     "data": {
      "text/plain": [
       "Series([], Name: razao_likes_deslikes, dtype: float64)"
      ]
     },
     "execution_count": 16,
     "metadata": {},
     "output_type": "execute_result"
    }
   ],
   "source": [
    "churn_enriq.loc[churn_enriq['razao_likes_deslikes'].isna(),'razao_likes_deslikes']"
   ]
  },
  {
   "cell_type": "markdown",
   "metadata": {
    "id": "Oof9h01PkwfJ"
   },
   "source": [
    "d) Plote o histograma dessa nova variável"
   ]
  },
  {
   "cell_type": "code",
   "execution_count": null,
   "metadata": {
    "id": "J8n1mXeXUKNV"
   },
   "outputs": [],
   "source": [
    "# plt.hist(x=churn_enriq.razao_likes_deslikes)"
   ]
  },
  {
   "cell_type": "code",
   "execution_count": null,
   "metadata": {
    "colab": {
     "base_uri": "https://localhost:8080/",
     "height": 297
    },
    "executionInfo": {
     "elapsed": 510,
     "status": "ok",
     "timestamp": 1643330811998,
     "user": {
      "displayName": "Matheus Scheffer",
      "photoUrl": "https://lh3.googleusercontent.com/a-/AOh14GglPDI7gdLFED26W1SJncCIZFA5A-5rjTBcxfjH=s64",
      "userId": "18314476337770992076"
     },
     "user_tz": 180
    },
    "id": "8J6o1U2ZUebo",
    "outputId": "2f3db718-c164-4937-d995-f26455b9c0a0"
   },
   "outputs": [
    {
     "data": {
      "text/plain": [
       "<matplotlib.axes._subplots.AxesSubplot at 0x7f57c0275c90>"
      ]
     },
     "execution_count": 18,
     "metadata": {},
     "output_type": "execute_result"
    },
    {
     "data": {
      "image/png": "[encoded data removed]",
      "text/plain": [
       "<Figure size 432x288 with 1 Axes>"
      ]
     },
     "metadata": {
      "needs_background": "light"
     },
     "output_type": "display_data"
    }
   ],
   "source": [
    "sns.histplot(data=churn_enriq, x=churn_enriq['razao_likes_deslikes'],bins=6)"
   ]
  },
  {
   "cell_type": "code",
   "execution_count": null,
   "metadata": {
    "colab": {
     "base_uri": "https://localhost:8080/",
     "height": 542
    },
    "executionInfo": {
     "elapsed": 1020,
     "status": "ok",
     "timestamp": 1643330813549,
     "user": {
      "displayName": "Matheus Scheffer",
      "photoUrl": "https://lh3.googleusercontent.com/a-/AOh14GglPDI7gdLFED26W1SJncCIZFA5A-5rjTBcxfjH=s64",
      "userId": "18314476337770992076"
     },
     "user_tz": 180
    },
    "id": "KQubaiFGVNGV",
    "outputId": "07dd82da-f245-439e-a62a-c6c7f40b49a9"
   },
   "outputs": [
    {
     "data": {
      "text/html": [
       "<html>\n",
       "<head><meta charset=\"utf-8\" /></head>\n",
       "<body>\n",
       "    <div>            <script src=\"https://cdnjs.cloudflare.com/ajax/libs/mathjax/2.7.5/MathJax.js?config=TeX-AMS-MML_SVG\"></script><script type=\"text/javascript\">if (window.MathJax) {MathJax.Hub.Config({SVG: {font: \"STIX-Web\"}});}</script>                <script type=\"text/javascript\">window.PlotlyConfig = {MathJaxConfig: 'local'};</script>\n",
       "        <script src=\"https://cdn.plot.ly/plotly-2.8.3.min.js\"></script>                <div id=\"f6b0f0d5-ff5b-48d9-ab04-4fd16e67b037\" class=\"plotly-graph-div\" style=\"height:525px; width:100%;\"></div>            <script type=\"text/javascript\">                                    window.PLOTLYENV=window.PLOTLYENV || {};                                    if (document.getElementById(\"f6b0f0d5-ff5b-48d9-ab04-4fd16e67b037\")) {                    Plotly.newPlot(                        \"f6b0f0d5-ff5b-48d9-ab04-4fd16e67b037\",                        [{\"alignmentgroup\":\"True\",\"bingroup\":\"x\",\"hovertemplate\":\"razao_likes_deslikes=%{x}<br>count=%{y}<extra></extra>\",\"legendgroup\":\"\",\"marker\":{\"color\":\"#636efa\",\"pattern\":{\"shape\":\"\"}},\"name\":\"\",\"offsetgroup\":\"\",\"orientation\":\"v\",\"showlegend\":false,\"x\":[7.5,1.1343283582089554,null,3.75,7.5,2.15625,0.9562043795620437,4.666666666666667,5.611108934248954,4.08974358974359,5.611108934248954,2.34375,null,6.999999999999998,0.8,18.5,3.416666666666667,2.0508474576271194,2.7027027027027035,4.067484662576686,null,5.611108934248954,2.5769230769230775,3.6633663366336635,43.0,4.783132530120481,3.2297297297297294,3.5945945945945947,7.750000000000001,null,null,8.0,5.611108934248954,2.5,44.0,17.000000000000004,0.7241379310344828,10.23529411764706,7.25,11.45,0.5,8.333333333333334,5.611108934248954,5.611108934248954,4.545454545454546,8.882352941176471,null,1.9636363636363636,5.611108934248954,5.611108934248954,null,10.0,3.8666666666666667,3.1818181818181817,2.5294117647058822,5.611108934248954,null,12.666666666666666,17.000000000000004,5.611108934248954,8.0,null,null,3.75,5.611108934248954,9.566666666666668,5.611108934248954,5.611108934248954,5.611108934248954,5.45,7.799999999999999,5.611108934248954,6.0,null,4.675,7.1,19.799999999999997,8.0,2.388888888888889,10.882352941176471,7.25,null,35.5,8.25,6.52,4.019230769230769,4.513513513513513,7.666666666666667,3.8750000000000004,9.0,4.897435897435897,5.611108934248954,39.0,1.3037383177570094,5.611108934248954,3.958333333333334,6.0,4.794520547945206,5.088235294117647,2.8000000000000003,2.0670731707317067,0.25,7.0,3.3043478260869565,7.0,5.611108934248954,2.9000000000000004,5.611108934248954,4.023529411764706,2.3939393939393945,5.611108934248954,5.239999999999999,2.6813186813186816,3.2093023255813953,1.941176470588235,2.130434782608696,5.611108934248954,2.660714285714286,5.611108934248954,4.545454545454545,3.0,2.75,2.6,0.782608695652174,10.666666666666666,5.611108934248954,12.25,9.0,2.769230769230769,5.5,12.000000000000002,2.4666666666666663,3.1190476190476186,5.611108934248954,null,null,5.611108934248954,2.1,24.166666666666668,5.611108934248954,5.611108934248954,3.4062500000000013,5.611108934248954,3.5000000000000004,5.611108934248954,4.564102564102564,4.0,8.0,11.285714285714286,8.833333333333332,6.888888888888889,1.25,5.611108934248954,5.611108934248954,1.8059701492537312,6.0,11.25,6.175000000000001,13.666666666666668,5.611108934248954,5.611108934248954,2.0733944954128445,5.611108934248954,8.347826086956522,5.611108934248954,5.833333333333333,5.611108934248954,null,5.611108934248954,1.0762331838565022,5.611108934248954,3.827586206896551,5.892857142857143,23.5,4.25,10.4,3.8095238095238093,2.9166666666666665,11.428571428571429,7.07843137254902,3.87037037037037,16.0,16.800000000000004,5.437500000000001,5.611108934248954,4.846153846153845,3.386138613861385,11.999999999999998,4.206896551724138,7.033333333333333,null,3.6666666666666665,null,11.000000000000004,1.2857142857142858,4.6,3.5,5.611108934248954,5.611108934248954,5.907407407407407,5.611108934248954,3.9591836734693877,4.6063829787234045,9.966666666666669,10.555555555555555,8.571428571428573,9.9,5.611108934248954,7.393939393939394,5.666666666666667,7.545454545454546,5.611108934248954,3.6595744680851063,2.596385542168675,9.391304347826086,5.6875,9.749999999999998,4.758620689655173,5.611108934248954,8.25,1.5400000000000003,5.611108934248954,4.636363636363636,4.447761194029851,6.166666666666666,7.113207547169812,2.57843137254902,11.875000000000002,2.5,8.0,4.825,5.611108934248954,2.3333333333333335,null,5.611108934248954,2.25,1.5,8.863636363636363,1.2,1.5890410958904113,1.75,5.611108934248954,4.796296296296298,1.894736842105263,5.611108934248954,6.833333333333333,10.0,5.611108934248954,11.0,5.611108934248954,4.911764705882354,0.9444444444444443,11.333333333333336,23.0,null,1.0615384615384618,5.611108934248954,7.787878787878789,5.611108934248954,11.714285714285712,5.611108934248954,5.0,5.611108934248954,5.611108934248954,5.611108934248954,1.4285714285714286,5.611108934248954,4.586956521739129,1.4936708860759493,1.58,5.611108934248954,10.375000000000002,5.611108934248954,null,4.666666666666667,3.175,null,9.500000000000002,10.0,7.222222222222224,5.611108934248954,5.611108934248954,2.8,1.3921568627450978,5.611108934248954,5.611108934248954,4.4,3.2857142857142856,5.611108934248954,6.46875,4.0,5.611108934248954,16.000000000000004,5.611108934248954,1.8333333333333333,null,5.611108934248954,6.250000000000001,4.600000000000001,8.0,2.4545454545454546,5.611108934248954,5.611108934248954,5.611108934248954,3.0,5.611108934248954,5.551724137931035,5.611108934248954,0.2,2.0,0.2,5.611108934248954,0.9562043795620437,5.611108934248954,5.611108934248954,5.611108934248954,5.611108934248954,5.611108934248954,5.611108934248954,null,5.611108934248954,5.611108934248954,3.064516129032257,4.333333333333334,null,42.0,1.5,12.5,5.611108934248954,null,1.4999999999999998,2.7500000000000004,2.0,0.0,2.0,5.611108934248954,2.0,2.2500000000000004,3.0,5.611108934248954,null,2.0,2.0,1.0,0.0,5.611108934248954,20.000000000000004,9.448275862068966,6.999999999999999,10.25,5.785714285714287,13.666666666666666,1.0,3.391304347826086,8.941176470588236,11.0,3.4687499999999996,23.333333333333332,11.0,5.611108934248954,5.611108934248954,6.25,2.0,7.0,5.611108934248954,1.0,21.000000000000004,2.6285714285714277,1.5,8.049999999999999,null,4.428571428571429,1.3030303030303032,5.611108934248954,6.5,6.875000000000001,0.2,29.25,4.057142857142857,62.99999999999999,2.8596491228070176,2.9411764705882355,2.4,8.333333333333334,null,22.999999999999996,10.0,25.500000000000007,17.0,5.611108934248954,5.611108934248954,5.611108934248954,5.611108934248954,5.611108934248954,5.611108934248954,5.611108934248954,5.611108934248954,5.611108934248954,5.611108934248954,5.611108934248954,5.611108934248954,5.611108934248954,5.611108934248954,5.611108934248954,5.611108934248954,5.611108934248954,5.611108934248954,5.611108934248954,5.611108934248954,5.611108934248954,5.611108934248954,5.611108934248954,5.611108934248954,5.611108934248954,5.611108934248954,5.611108934248954,5.611108934248954,5.611108934248954,5.611108934248954,5.611108934248954,5.611108934248954,5.611108934248954,5.611108934248954,5.611108934248954,5.611108934248954,5.611108934248954,5.611108934248954,5.611108934248954,5.611108934248954,5.611108934248954,5.611108934248954,5.611108934248954,5.611108934248954,5.611108934248954,5.611108934248954,5.611108934248954,5.611108934248954,5.611108934248954,5.611108934248954,5.611108934248954,5.611108934248954,5.611108934248954,5.611108934248954,5.611108934248954,5.611108934248954,5.611108934248954,5.611108934248954,5.611108934248954,5.611108934248954,5.611108934248954,5.611108934248954,5.611108934248954,5.611108934248954,5.611108934248954,5.611108934248954,5.611108934248954,5.611108934248954,5.611108934248954,5.611108934248954,5.611108934248954,5.611108934248954,5.611108934248954,5.611108934248954,5.611108934248954,5.611108934248954,5.611108934248954,5.611108934248954,5.611108934248954,5.611108934248954,5.611108934248954,5.611108934248954,5.611108934248954,5.611108934248954,5.611108934248954,5.611108934248954,5.611108934248954,5.611108934248954,5.611108934248954,5.611108934248954,5.611108934248954,5.611108934248954,5.611108934248954,5.611108934248954,5.611108934248954,5.611108934248954,5.611108934248954,5.611108934248954,5.611108934248954,5.611108934248954,5.611108934248954,5.611108934248954,5.611108934248954,5.611108934248954,5.611108934248954,5.611108934248954,5.611108934248954,5.611108934248954,5.611108934248954,5.611108934248954,5.611108934248954,5.611108934248954,5.611108934248954,5.611108934248954,5.611108934248954,5.611108934248954,5.611108934248954,5.611108934248954,5.611108934248954,5.611108934248954,5.611108934248954,5.611108934248954,5.611108934248954,5.611108934248954,5.611108934248954,5.611108934248954,5.611108934248954,5.611108934248954,5.611108934248954,5.611108934248954,5.611108934248954,5.611108934248954,5.611108934248954,5.611108934248954,5.611108934248954,5.611108934248954,5.611108934248954,5.611108934248954,5.611108934248954,5.611108934248954,5.2285714285714295,9.5,5.611108934248954,5.611108934248954,5.611108934248954,20.000000000000004,null,null,9.0,4.0,4.0,13.666666666666666,1.0,null,null,null,15.0,11.833333333333336,5.611108934248954,9.499999999999998,null,6.0,null,5.611108934248954,5.611108934248954,5.611108934248954,5.611108934248954,5.611108934248954,null,5.611108934248954,5.611108934248954,41.250000000000014,19.153846153846153,14.0,7.375000000000001,7.6,6.478260869565218,6.250000000000001,1.1666666666666667,2.192411924119241,5.611108934248954,4.0,5.611108934248954,15.0,6.0,12.0,26.0,6.0,5.611108934248954,null,5.611108934248954,5.611108934248954,35.0,7.333333333333332,2.25,4.822784810126582,7.17948717948718,18.0,1.583333333333333,37.99999999999999,9.15151515151515,null,15.636363636363637,null,1.0,5.310679611650485,2.333333333333333,4.924242424242425,5.611108934248954,5.611108934248954,10.666666666666666,5.187500000000002,5.611108934248954,5.611108934248954,29.0,30.0,2.9,6.499999999999999,1.0,null,null,5.611108934248954,3.5,3.5000000000000004,5.611108934248954,5.611108934248954,5.611108934248954,5.611108934248954,null,3.0,5.611108934248954,6.833333333333332,4.461538461538462,11.0,5.72,41.00000000000001,4.3076923076923075,2.0000000000000004,9.333333333333334,5.611108934248954,7.142857142857143,null,5.571428571428572,3.5,null,5.611108934248954,7.5,3.739130434782608,2.5000000000000004,3.4999999999999996,5.749999999999999,null,21.500000000000004,7.411764705882353,13.5,5.611108934248954,26.374999999999996,null,25.0,1.5897435897435896,46.99999999999999,5.76470588235294,23.5,1.1333333333333333,9.263157894736842,6.655172413793102,5.611108934248954,5.611108934248954,4.142857142857143,7.263157894736842,5.611108934248954,null,null,4.312500000000002,5.611108934248954,17.0,4.5,null,5.611108934248954,5.611108934248954,6.000000000000001,null,6.642857142857144,null,6.785714285714286,5.611108934248954,6.166666666666666,5.611108934248954,5.611108934248954,23.0,14.000000000000002,22.0,6.724999999999998,2.073033707865169,13.5,20.0,12.0,13.700000000000001,5.611108934248954,12.999999999999998,null,4.5,5.611108934248954,6.166666666666667,5.75,12.000000000000002,5.611108934248954,10.0,1.0,5.611108934248954,null,4.333333333333333,2.1999999999999997,2.857142857142857,5.611108934248954,null,5.714285714285714,null,5.611108934248954,20.0,10.0,5.611108934248954,null,6.428571428571429,5.611108934248954,null,1.0,5.611108934248954,10.888888888888891,13.333333333333334,1.0,5.333333333333333,10.0,0.0,5.611108934248954,null,5.611108934248954,5.611108934248954,22.999999999999996,5.611108934248954,5.611108934248954,8.799999999999999,5.611108934248954,9.0,null,null,5.611108934248954,null,37.499999999999986,10.0,5.611108934248954,5.611108934248954,18.666666666666668,5.611108934248954,5.611108934248954,5.611108934248954,5.611108934248954,null,10.105263157894736,null,4.88888888888889,null,18.0,8.117647058823529,4.947368421052631,null,1.6,null,3.5000000000000004,null,5.611108934248954,10.0,10.333333333333334,null,5.972602739726027,null,1.6666666666666667,11.499999999999998,null,6.5,5.611108934248954,null,null,4.736842105263158,13.285714285714285,null,null,2.0,7.814814814814815,10.666666666666666,5.611108934248954,1.0,22.0,null,2.75,6.999999999999998,5.611108934248954,5.611108934248954,5.611108934248954,0.5,2.357142857142857,5.611108934248954,5.611108934248954,0.25,null,5.611108934248954,5.611108934248954,5.611108934248954,1.4999999999999998,null,5.611108934248954,0.0,0.0,5.611108934248954,5.611108934248954,5.611108934248954,null,5.611108934248954,6.0,5.611108934248954,18.0,7.552631578947369,null,18.0,15.200000000000001,5.611108934248954,1.0,2.5000000000000004,1.0,1.0,5.611108934248954,null,14.999999999999996,5.611108934248954,1.0,null,5.611108934248954,3.0,1.0,4.0,null,5.611108934248954,5.611108934248954,2.25,1.6666666666666667,2.333333333333333,null,3.0,14.0,7.666666666666666,6.999999999999999,null,5.611108934248954,5.611108934248954,5.208333333333334,5.611108934248954,1.6666666666666667,3.3333333333333335,4.5,5.611108934248954,3.0,null,1.0,5.611108934248954,10.5,5.611108934248954,15.999999999999998,null,5.2857142857142865,1.0,5.611108934248954,5.0,5.611108934248954,25.000000000000007,null,2.285714285714285,17.5,2.8,1.0,null,10.666666666666666,5.611108934248954,10.5,3.9090909090909087,14.5,0.9090909090909092,1.0,9.6,1.0,5.611108934248954,5.611108934248954,1.0,null,16.5,7.5,5.611108934248954,1.2999999999999998,5.611108934248954,5.611108934248954,2.277777777777778,6.833333333333333,13.250000000000002,5.611108934248954,5.611108934248954,null,0.9,3.1333333333333333,5.611108934248954,23.0,7.999999999999999,2.0,6.500000000000001,null,0.5,null,5.611108934248954,7.333333333333333,5.611108934248954,1.0,null,null,1.5714285714285716,20.0,5.0,3.0,null,1.0,5.611108934248954,null,null,null,null,2.9999999999999996,null,9.499999999999998,5.611108934248954,5.611108934248954,1.0,10.08,4.0,25.5,24.5,5.611108934248954,5.611108934248954,1.0,null,1.7499999999999998,5.611108934248954,4.909090909090909,17.399999999999995,5.611108934248954,3.0,null,21.0,9.333333333333334,1.7000000000000004,5.611108934248954,6.733333333333334,null,8.600000000000001,30.0,7.75,3.999999999999999,5.611108934248954,14.75,1.0,5.611108934248954,5.611108934248954,11.999999999999998,null,null,null,null,5.611108934248954,5.611108934248954,1.0,null,5.611108934248954,null,1.0,7.5,5.5,10.333333333333334,6.181818181818181,5.0,5.611108934248954,5.3,8.0,3.8437500000000004,3.5172413793103443,5.611108934248954,5.611108934248954,5.611108934248954,null,0.28571428571428575,5.611108934248954,12.0,null,5.611108934248954,20.333333333333332,14.0,null,20.857142857142854,5.611108934248954,6.857142857142857,1.0,10.5,6.416666666666664,null,null,1.0,7.0,null,4.0,7.25,36.0,5.4,13.0,null,4.466666666666667,5.000000000000001,4.0,7.000000000000001,11.500000000000002,null,2.3725490196078427,34.0,1.4,45.0,3.333333333333333,null,6.142857142857142,5.611108934248954,5.611108934248954,8.125,5.611108934248954,4.058823529411764,5.611108934248954,5.611108934248954,8.666666666666668,5.611108934248954,5.611108934248954,6.0,5.611108934248954,5.761904761904762,null,2.166666666666667,5.25,3.5,5.611108934248954,6.5,4.0,null,5.611108934248954,24.2,null,6.0,5.611108934248954,6.0,16.0,4.050000000000001,4.0606060606060606,5.611108934248954,2.402298850574712,21.999999999999996,5.611108934248954,5.611108934248954,5.611108934248954,1.8947368421052633,22.0,2.916666666666667,null,5.611108934248954,5.0,5.611108934248954,8.6,5.611108934248954,5.611108934248954,5.852941176470588,4.357142857142858,7.333333333333333,null,null,4.2,4.083333333333333,5.0,2.3333333333333335,null,5.611108934248954,5.611108934248954,5.611108934248954,null,null,4.666666666666667,2.1142857142857148,5.611108934248954,5.611108934248954,6.095238095238095,null,5.611108934248954,3.2222222222222223,null,1.5555555555555554,7.2,4.571428571428572,5.611108934248954,6.375,5.611108934248954,4.3,6.718750000000001,null,2.6530612244897966,4.0,5.611108934248954,4.029411764705882,5.611108934248954,5.08045977011494,null,5.611108934248954,9.333333333333334,4.0,2.290322580645162,5.611108934248954,5.611108934248954,5.611108934248954,5.611108934248954,5.611108934248954,1.1818181818181817,12.5,4.016666666666667,4.0,5.611108934248954,5.611108934248954,6.071428571428573,5.611108934248954,4.2727272727272725,5.611108934248954,11.6,0.0,3.6666666666666665,5.611108934248954,4.363636363636364,4.836734693877551,5.611108934248954,1.4,5.611108934248954,12.0,7.0,null,14.285714285714283,3.07142857142857,13.000000000000002,8.857142857142856,3.6666666666666665,6.437500000000003,6.5,null,10.206896551724142,5.611108934248954,6.333333333333332,5.266666666666665,5.388888888888888,8.333333333333334,7.173913043478261,8.555555555555557,null,9.0,5.1875,5.611108934248954,5.611108934248954,3.5,4.15,2.25,19.000000000000004,5.611108934248954,4.833333333333335,5.611108934248954,5.611108934248954,10.833333333333337,5.611108934248954,null,0.0,5.611108934248954,5.611108934248954,5.611108934248954,1.0,5.611108934248954,13.249999999999998,null,5.611108934248954,5.611108934248954,5.611108934248954,5.611108934248954,5.611108934248954,5.611108934248954,5.611108934248954,5.611108934248954,5.611108934248954,null,5.611108934248954,5.611108934248954,17.0,3.5641025641025643,0.875,5.611108934248954,5.611108934248954,5.611108934248954,5.611108934248954,null,9.0,2.25,5.611108934248954,4.0,5.611108934248954,4.0,null,5.611108934248954,6.833333333333333,5.611108934248954,7.000000000000001,5.611108934248954,22.000000000000004,1.0,5.611108934248954,5.611108934248954,5.611108934248954,1.6666666666666665,5.428571428571428,5.611108934248954,1.0,2.0,null,1.0,5.611108934248954,1.0,3.0,3.0,null,5.611108934248954,5.611108934248954,0.16666666666666666,1.0,4.666666666666667,4.0,5.611108934248954,5.611108934248954,1.0,5.611108934248954,5.611108934248954,1.0,4.0,1.5,null,5.611108934248954,5.611108934248954,1.0,5.611108934248954,5.611108934248954,1.0,5.611108934248954,null,null,5.611108934248954,5.611108934248954,7.499999999999999,5.611108934248954,2.1666666666666665,null,5.611108934248954,5.611108934248954,9.0,5.611108934248954,8.625,null,4.232558139534883,5.611108934248954,5.611108934248954,5.374999999999999,24.0,5.611108934248954,12.0,2.727272727272727,1.0,20.0,0.0,4.232558139534883,5.818181818181818,2.461538461538462,4.232558139534883,5.611108934248954,5.611108934248954,5.611108934248954,5.611108934248954,5.611108934248954,5.611108934248954,0.8,5.611108934248954,5.611108934248954,5.611108934248954,1.0,5.611108934248954,5.611108934248954,3.0769230769230758,5.611108934248954,4.888888888888889,2.507936507936508,10.714285714285715,5.611108934248954,13.333333333333334,null,5.611108934248954,5.611108934248954,5.611108934248954,1.15,8.625,5.611108934248954,5.611108934248954,7.480519480519481,1.9111111111111114,14.333333333333334,4.232558139534883,5.611108934248954,5.611108934248954,5.611108934248954,3.272727272727273,4.232558139534883,5.611108934248954,9.666666666666666,5.611108934248954,6.072727272727273,7.840000000000002,5.611108934248954,6.439024390243903,5.611108934248954,4.11764705882353,5.611108934248954,1.8,9.5,14.0,null,9.0,10.571428571428573,6.0,5.611108934248954,5.611108934248954,null,5.611108934248954,5.611108934248954,5.611108934248954,5.611108934248954,5.611108934248954,10.28,5.611108934248954,3.470187393526405,5.611108934248954,4.232558139534883,5.611108934248954,3.28,5.611108934248954,5.611108934248954,12.0,5.611108934248954,5.611108934248954,8.16666666666667,5.611108934248954,5.611108934248954,8.529411764705884,4.3,5.611108934248954,5.611108934248954,9.499999999999998,5.611108934248954,5.611108934248954,5.611108934248954,4.414634146341464,17.399999999999995,2.408163265306123,4.142857142857143,9.499999999999998,4.884210526315789,3.0,0.8,5.611108934248954,134.99999999999997,5.611108934248954,6.670068027210885,29.66666666666667,5.611108934248954,5.611108934248954,5.666666666666667,5.611108934248954,5.482758620689656,5.611108934248954,14.510638297872338,5.611108934248954,5.611108934248954,5.611108934248954,null,5.611108934248954,3.4285714285714284,1.6815286624203822,0.875,3.5793991416309012,null,null,5.611108934248954,4.818840579710145,3.75,5.611108934248954,5.611108934248954,6.646153846153846,10.333333333333334,14.000000000000004,5.611108934248954,5.611108934248954,5.611108934248954,5.611108934248954,5.611108934248954,5.611108934248954,3.55,5.611108934248954,null,8.285714285714286,12.0,9.230769230769232,5.611108934248954,8.545454545454543,3.5384615384615388,2.6842105263157894,null,5.611108934248954,2.3781512605042017,5.611108934248954,13.599999999999998,26.0,7.692307692307696,5.611108934248954,2.25,1.7500000000000002,null,1.2222222222222223,2.857142857142857,5.611108934248954,6.0,2.466666666666667,null,6.571428571428571,5.611108934248954,5.611108934248954,1.0,7.0,5.53125,7.5,5.604651162790698,2.0,5.611108934248954,5.611108934248954,16.0,4.1923076923076925,3.470187393526405,5.440860215053766,5.611108934248954,5.611108934248954,5.611108934248954,1.0,null,12.0,17.72727272727273,2.717488789237669,4.0,5.611108934248954,5.611108934248954,4.03030303030303,5.611108934248954,3.28,1.0,5.611108934248954,3.2692307692307696,5.611108934248954,5.611108934248954,4.522292993630573,1.6625,1.0,5.611108934248954,5.611108934248954,5.0,5.611108934248954,5.611108934248954,5.3999999999999995,5.611108934248954,8.384615384615385,5.611108934248954,5.8,4.099999999999998,1.0,6.875,2.2727272727272725,5.8807339449541285,2.8,5.611108934248954,5.611108934248954,2.076923076923077,5.611108934248954,1.8571428571428572,9.653846153846155,5.611108934248954,2.75,5.611108934248954,null,5.611108934248954,5.611108934248954,4.184210526315789,5.611108934248954,4.923076923076923,3.5,2.3333333333333335,5.611108934248954,5.611108934248954,5.611108934248954,4.563953488372094,5.0,0.3333333333333333,5.611108934248954,5.611108934248954,5.611108934248954,5.611108934248954,4.0,5.611108934248954,5.611108934248954,null,5.611108934248954,6.333333333333333,4.333333333333333,5.611108934248954,5.611108934248954,5.09090909090909,5.611108934248954,5.611108934248954,5.611108934248954,2.857142857142857,null,3.987012987012988,5.611108934248954,5.611108934248954,5.611108934248954,1.0,5.611108934248954,5.611108934248954,5.611108934248954,5.611108934248954,12.999999999999998,null,10.454545454545453,3.0,8.799999999999999,5.0,1.0,5.611108934248954,5.611108934248954,8.333333333333334,5.611108934248954,5.611108934248954,4.652380952380952,5.611108934248954,5.611108934248954,3.0,5.6,5.611108934248954,5.611108934248954,5.611108934248954,5.611108934248954,5.611108934248954,5.611108934248954,0.5,5.611108934248954,5.611108934248954,3.8221153846153855,5.611108934248954,6.714285714285714,10.153846153846153,5.611108934248954,5.611108934248954,5.611108934248954,5.611108934248954,2.7,5.611108934248954,5.611108934248954,5.611108934248954,2.875,5.611108934248954,5.611108934248954,6.0,5.611108934248954,5.611108934248954,1.6206896551724141,5.611108934248954,11.0,3.45,null,5.611108934248954,null,5.611108934248954,9.91044776119403,5.464285714285715,5.611108934248954,1.4399999999999997,3.454545454545454,5.611108934248954,3.1999999999999997,1.75,1.625,2.9117647058823533,5.611108934248954,5.611108934248954,5.611108934248954,6.0,5.611108934248954,5.611108934248954,5.611108934248954,5.611108934248954,5.611108934248954,5.611108934248954,5.611108934248954,5.611108934248954,5.611108934248954,5.611108934248954,5.611108934248954,5.611108934248954,5.611108934248954,5.611108934248954,5.611108934248954,5.611108934248954,5.611108934248954,5.611108934248954,5.611108934248954,5.611108934248954,5.611108934248954,5.611108934248954,5.611108934248954,5.611108934248954,5.611108934248954,5.611108934248954,0.5,5.611108934248954,1.8,5.611108934248954,5.611108934248954,5.611108934248954,1.8,3.7,1.0,5.611108934248954,5.611108934248954,5.611108934248954,18.166666666666668,1.875,13.142857142857144,3.357142857142857,3.6666666666666665,14.72222222222222,5.611108934248954,5.611108934248954,5.611108934248954,5.611108934248954,5.611108934248954,5.611108934248954,5.611108934248954,5.611108934248954,7.0,5.611108934248954,3.6,null,null,null,null,18.0,5.611108934248954,10.5,5.611108934248954,20.000000000000007,null,null,5.611108934248954,21.333333333333336,5.611108934248954,null,5.611108934248954,15.0,null,2.5,20.000000000000004,null,5.611108934248954,null,5.611108934248954,92.00000000000001,5.611108934248954,5.611108934248954,2.0,39.7,null,3.083333333333334,null,5.611108934248954,3.12,11.545454545454541,null,52.99999999999999,5.611108934248954,11.19047619047619,null,5.611108934248954,5.611108934248954,20.400000000000002,5.611108934248954,1.8,12.214285714285714,5.611108934248954,null,60.00000000000001,5.611108934248954,null,5.611108934248954,null,5.611108934248954,10.357142857142858,5.611108934248954,5.611108934248954,5.611108934248954,5.611108934248954,5.611108934248954,1.6666666666666667,null,5.611108934248954,null,5.611108934248954,5.611108934248954,5.611108934248954,2.2352941176470593,9.0,null,12.218750000000004,5.611108934248954,5.611108934248954,5.611108934248954,null,5.611108934248954,5.611108934248954,71.99999999999999,20.0,2.0256410256410255,21.0,null,null,5.611108934248954,5.611108934248954,null,null,1.8888888888888888,null,5.611108934248954,2.276923076923077,7.6,5.611108934248954,10.5,null,8.533333333333333,5.611108934248954,11.500000000000002,5.611108934248954,5.611108934248954,5.611108934248954,5.611108934248954,5.611108934248954,null,null,5.611108934248954,5.611108934248954,5.611108934248954,null,5.611108934248954,10.499999999999996,5.611108934248954,5.611108934248954,null,null,5.611108934248954,null,41.50000000000001,21.0,36.4,5.611108934248954,null,20.0,11.91304347826087,0.0,null,19.5,null,5.611108934248954,null,15.375000000000002,5.611108934248954,null,17.0,5.611108934248954,8.666666666666668,24.999999999999996,5.611108934248954,5.611108934248954,1.0,null,5.611108934248954,38.333333333333336,8.266666666666667,5.611108934248954,null,5.611108934248954,5.611108934248954,5.611108934248954,5.611108934248954,54.5,42.0,5.611108934248954,5.611108934248954,10.799999999999997,null,5.611108934248954,5.611108934248954,null,8.068965517241377,5.611108934248954,5.611108934248954,5.0,5.611108934248954,27.0,5.611108934248954,5.611108934248954,1.0,5.611108934248954,null,5.611108934248954,null,19.821428571428573,5.611108934248954,5.611108934248954,5.000000000000001,null,11.666666666666666,5.611108934248954,null,4.750000000000001,90.99999999999999,8.333333333333334,5.611108934248954,109.0,5.611108934248954,19.166666666666664,5.611108934248954,null,20.0,11.0,null,3.860759493670886,null,9.666666666666666,5.611108934248954,5.611108934248954,6.500000000000001,5.611108934248954,5.764705882352941,22.44444444444445,5.611108934248954,54.0,4.965517241379311,21.375000000000004,5.611108934248954,13.999999999999996,null,5.611108934248954,null,null,16.333333333333336,45.75,5.611108934248954,5.611108934248954,null,null,5.611108934248954,5.611108934248954,5.611108934248954,4.866666666666665,1.2500000000000002,2.999999999999999,1.0,3.666666666666667,null,5.611108934248954,5.611108934248954,5.611108934248954,5.611108934248954,null,null,5.611108934248954,null,0.5,1.0,5.611108934248954,0.0,5.611108934248954,2.4576271186440684,3.0068965517241373,4.655172413793103,1.4375,30.5,3.0,3.984126984126985,7.000000000000001,5.829457364341084,5.611108934248954,10.47058823529412,2.9285714285714284,7.8404669260700395,5.893939393939394,3.933333333333333,2.482758620689655,9.0,5.611108934248954,null,3.2195121951219514,2.925925925925926,5.25,5.611108934248954,null,null,2.7916666666666665,6.875,5.611108934248954,7.789473684210527,5.611108934248954,5.611108934248954,4.0,5.611108934248954,5.93939393939394,3.8571428571428577,5.0,4.50632911392405,6.0,8.027777777777777,4.5,17.0,4.6190476190476195,4.31578947368421,5.611108934248954,6.750000000000001,1.0,9.882352941176471,5.611108934248954,2.7272727272727275,2.75,7.3478260869565215,6.857142857142858,3.904,7.491525423728815,12.666666666666666,2.7,7.096774193548387,18.0,3.7,3.6666666666666665,4.333333333333333,4.018181818181818,16.0,4.761904761904763,5.611108934248954,5.611108934248954,5.611108934248954,5.611108934248954,2.375,5.7,8.1,5.611108934248954,null,3.0,5.611108934248954,5.611108934248954,3.8,12.666666666666664,8.0,36.0,4.0,5.379310344827586,4.0,5.611108934248954,40.0,3.4342105263157894,5.611108934248954,5.0769230769230775,5.611108934248954,5.52,1.0,5.611108934248954,2.0,4.96969696969697,17.666666666666668,6.0740740740740735,2.9611650485436884,6.6,10.0,0.6666666666666666,3.0,12.0,5.25,12.0,10.365079365079364,5.611108934248954,4.248366013071895,3.056603773584906,6.6,2.88125,2.4971428571428573,3.2666666666666666,5.611108934248954,3.6521739130434776,6.0,2.4000000000000004,5.611108934248954,4.0,5.611108934248954,4.081632653061225,null,null,5.611108934248954,7.368421052631577,4.553191489361702,12.166666666666666,5.000000000000001,3.4935897435897427,null,8.5,48.50000000000001,31.0,13.846153846153847,3.3384615384615386,3.194285714285715,null,2.222222222222222,5.611108934248954,8.125,4.85981308411215,3.25,2.8965517241379315,2.634615384615385,5.611108934248954,5.611108934248954,7.400000000000001,5.611108934248954,11.500000000000002,3.3409090909090904,5.611108934248954,2.0,10.87704918032787,8.600000000000001,5.611108934248954,3.8461538461538454,20.0,5.611108934248954,5.611108934248954,5.611108934248954,5.611108934248954,5.516483516483516,6.000000000000001,6.0,5.611108934248954,4.5102040816326525,5.611108934248954,2.45,5.611108934248954,4.142857142857143,3.612612612612614,null,7.2727272727272725,30.0,4.0,18.461538461538463,6.8,40.0,5.611108934248954,5.611108934248954,5.611108934248954,1.875,11.833333333333334,8.285714285714286,5.611108934248954,9.277777777777775,7.0,5.611108934248954,5.611108934248954,5.611108934248954,5.000000000000001,10.250000000000002,64.0,null,5.611108934248954,5.611108934248954,5.611108934248954,7.888888888888889,11.666666666666668,5.611108934248954,2.8000000000000007,3.75,6.6,3.0,5.611108934248954,1.4375,5.454545454545455,5.611108934248954,17.333333333333332,3.0068965517241373,null,5.611108934248954,5.611108934248954,5.611108934248954,2.0,5.611108934248954,null,5.611108934248954,5.611108934248954,null,null,3.0,5.611108934248954,5.611108934248954,null,null,5.611108934248954,5.611108934248954,7.750000000000001,7.818181818181819,1.354838709677419,null,5.611108934248954,5.7272727272727275,3.333333333333333,3.6,1.0,11.499999999999998,null,5.611108934248954,5.611108934248954,11.0,2.0,9.714285714285715,null,1.3333333333333333,3.3305785123966944,null,5.611108934248954,5.611108934248954,null,null,5.611108934248954,6.0,5.2272727272727275,7.357142857142855,4.979166666666667,19.199999999999996,20.0,5.611108934248954,5.611108934248954,1.4,4.4,43.0,null,null,5.611108934248954,null,10.0,5.611108934248954,5.611108934248954,21.0,5.611108934248954,5.611108934248954,3.3,5.611108934248954,5.611108934248954,0.5714285714285714,5.611108934248954,5.611108934248954,12.0,5.611108934248954,5.611108934248954,null,5.611108934248954,5.611108934248954,5.611108934248954,5.611108934248954,1.3333333333333333,5.611108934248954,2.0909090909090904,null,5.611108934248954,null,null,5.611108934248954,5.611108934248954,5.611108934248954,5.611108934248954,5.611108934248954,2.0,5.611108934248954,5.611108934248954,5.611108934248954,null,5.611108934248954,5.611108934248954,5.611108934248954,null,2.3846153846153846,null,33.0,null,1.3333333333333335,47.0,31.333333333333332,74.8,null,5.611108934248954,5.611108934248954,44.00000000000001,61.5,64.00000000000001,5.611108934248954,null,5.611108934248954,null,36.0,53.800000000000004,14.333333333333334,null,50.0,null,73.00000000000001,0.28571428571428575,14.2,5.611108934248954,1.2727272727272725,6.571428571428572,21.0,0.0,17.0,null,null,82.00000000000001,null,1.0,null,null,1.2222222222222223,null,null,1.0,1.0,null,null,4.084745762711864,2.285714285714286,5.3006993006993,4.542056074766355,1.1363636363636365,2.245033112582781,5.392670157068062,3.946236559139786,1.0,3.5200000000000005,1.0909090909090908,3.6363636363636362,0.7142857142857143,2.8000000000000003,2.7142857142857144,1.5,1.4545454545454546,9.941176470588236,2.569444444444444,4.565217391304349,1.5,2.6,1.6086956521739133,4.411764705882353,11.875000000000004,0.625,1.8918918918918917,3.4580152671755706,3.7945205479452055,4.133333333333334,8.2,9.75,2.782608695652174,6.478260869565218,5.611108934248954,null,4.916666666666667,1.6,2.468085106382979,2.777777777777778,12.8,5.611108934248954,1.0,5.611108934248954,0.4,null,6.666666666666667,5.0,7.7142857142857135,3.6363636363636362,5.6,null,5.611108934248954,5.0,null,11.0,1.7499999999999998,5.611108934248954,3.0,5.0,null,7.5,3.0,5.611108934248954,5.611108934248954,5.666666666666667,5.611108934248954,null,5.611108934248954,5.611108934248954,5.611108934248954,5.611108934248954,5.611108934248954,5.611108934248954,5.611108934248954,5.611108934248954,5.611108934248954,2.25,5.611108934248954,5.611108934248954,3.7222222222222223,5.611108934248954,10.857142857142858,null,5.611108934248954,13.0,5.611108934248954,4.933333333333334,1.0,5.611108934248954,null,5.611108934248954,6.0,1.2,5.611108934248954,4.0,5.611108934248954,5.611108934248954,null,1.0,1.0,1.0,1.0,5.611108934248954,null,null,1.0,null,5.611108934248954,1.0,1.0,5.611108934248954,5.611108934248954,5.611108934248954,5.611108934248954,null,5.611108934248954,1.0,1.0,1.0,5.611108934248954,6.750000000000002,11.666666666666668,11.666666666666668,14.999999999999998,2.6666666666666665,1.0,4.333333333333332,null,7.5,1.0,5.611108934248954,7.666666666666667,3.4285714285714284,4.500000000000001,2.333333333333333,4.833333333333333,3.6666666666666665,13.88235294117647,14.999999999999998,5.857142857142856,5.611108934248954,9.000000000000002,21.999999999999993,null,null,3.0,10.0,0.0,12.333333333333334,5.611108934248954,7.999999999999999,7.000000000000001,12.833333333333334,11.333333333333337,2.2857142857142856,null,null,null,11.523809523809526,1.0,7.333333333333333,11.749999999999998,20.0,5.611108934248954,null,null,5.611108934248954,5.611108934248954,1.0,5.611108934248954,5.611108934248954,5.611108934248954,6.0,5.611108934248954,6.941176470588236,5.611108934248954,25.8,3.3999999999999995,1.4307692307692303,5.611108934248954,1.3333333333333333,1.6470588235294117,8.153846153846153,30.5,6.357142857142859,4.428571428571429,3.05,8.375,5.611108934248954,39.333333333333336,15.399999999999999,5.611108934248954,6.666666666666667,null,11.0,3.142857142857143,3.4,30.666666666666668,5.611108934248954,23.5,14.0,2.5882352941176467,5.611108934248954,8.0,5.26595744680851,5.611108934248954,7.2857142857142865,null,null,7.812500000000001,5.24,5.687500000000002,3.2,19.846153846153847,null,null,6.760869565217391,null,2.8846153846153846,8.000000000000002,15.260869565217392,9.025,5.611108934248954,5.611108934248954,5.333333333333333,10.5,5.419354838709677,20.0,4.875,26.5,5.611108934248954,5.611108934248954,5.611108934248954,2.476190476190476,5.611108934248954,5.611108934248954,10.0,5.611108934248954,3.833333333333334,5.611108934248954,5.611108934248954,5.611108934248954,5.611108934248954,null,2.1999999999999997,8.419354838709678,5.611108934248954,5.0,5.611108934248954,0.75,2.8181818181818183,null,5.611108934248954,3.0819672131147544,2.068181818181818,5.611108934248954,4.5,8.08695652173913,null,null,24.5,5.611108934248954,5.611108934248954,5.611108934248954,5.611108934248954,6.970954356846471,7.6,49.5,11.8,3.3600000000000003,9.571428571428573,9.714285714285715,null,5.611108934248954,5.611108934248954,7.565217391304348,null,10.515789473684212,20.0,5.611108934248954,5.611108934248954,5.611108934248954,16.0,null,16.066666666666663,5.611108934248954,5.611108934248954,0.2,8.6,5.611108934248954,5.611108934248954,7.777777777777778,5.611108934248954,4.818181818181818,3.0526315789473677,14.857142857142856,5.611108934248954,4.625,5.611108934248954,29.0,4.578947368421052,9.641509433962264,1.7272727272727273,20.0,5.28301886792453,7.775862068965517,7.416666666666668,2.6129032258064515,9.0,8.304347826086957,5.611108934248954,5.611108934248954,3.5,6.285714285714284,1.5,5.611108934248954,6.666666666666667,6.774193548387097,4.12,null,4.428571428571429,5.611108934248954,5.611108934248954,8.0,5.611108934248954,70.99999999999999,5.611108934248954,27.4,3.8399999999999994,3.7647058823529402,5.611108934248954,5.611108934248954,2.1194029850746268,2.388888888888889,4.733333333333333,2.6391752577319587,5.611108934248954,15.249999999999996,1.625,5.611108934248954,5.611108934248954,3.0,2.0,22.0,2.1494252873563218,5.611108934248954,7.899999999999997,5.611108934248954,5.611108934248954,1.6363636363636365,5.611108934248954,1.6285714285714286,9.428571428571429,5.611108934248954,6.0,5.611108934248954,5.611108934248954,5.611108934248954,11.25,5.611108934248954,5.611108934248954,6.952380952380952,5.611108934248954,3.0,7.606382978723402,5.611108934248954,null,20.0,null,5.611108934248954,4.693548387096775,6.5,null,5.611108934248954,33.333333333333336,3.1538461538461533,5.611108934248954,11.0,5.611108934248954,5.611108934248954,null,5.833333333333332,5.337539432176658,1.0,1.9666666666666668,5.611108934248954,4.916666666666666,3.4107142857142843,19.999999999999996,9.315789473684212,5.611108934248954,6.97872340425532,10.4,5.611108934248954,0.6,5.611108934248954,null,2.6470588235294117,5.611108934248954,null,9.0,6.111111111111111,2.5,5.611108934248954,5.611108934248954,5.611108934248954,5.611108934248954,10.0,8.406250000000002,null,5.611108934248954,3.8666666666666667,4.0,12.333333333333336,5.611108934248954,7.708333333333334,5.611108934248954,35.0,5.611108934248954,3.1,1.65,2.0272727272727273,3.328947368421053,4.111111111111111,5.611108934248954,null,5.611108934248954,4.160714285714286,5.611108934248954,6.666666666666667,3.55,3.736842105263158,5.611108934248954,3.3823529411764706,12.0,3.333333333333333,12.416666666666668,5.0,6.250000000000001,5.611108934248954,5.611108934248954,5.611108934248954,8.0,15.25,0.6,5.611108934248954,5.6923076923076925,8.142857142857142,4.333333333333333,2.645833333333333,3.6666666666666665,10.2,10.0,2.917525773195876,null,0.5,5.611108934248954,2.2,10.0,5.611108934248954,2.6,21.333333333333332,5.611108934248954,5.611108934248954,5.611108934248954,5.611108934248954,5.611108934248954,5.611108934248954,5.611108934248954,5.611108934248954,5.611108934248954,5.611108934248954,5.611108934248954,5.611108934248954,5.611108934248954,5.611108934248954,5.611108934248954,5.611108934248954,5.611108934248954,5.611108934248954,5.611108934248954,5.611108934248954,5.611108934248954,5.611108934248954,5.611108934248954,5.611108934248954,5.611108934248954,5.611108934248954,5.611108934248954,5.611108934248954,5.611108934248954,5.611108934248954,5.611108934248954,5.611108934248954,5.611108934248954,5.611108934248954,5.611108934248954,5.611108934248954,5.611108934248954,5.611108934248954,5.611108934248954,5.611108934248954,5.611108934248954,5.611108934248954,5.611108934248954,5.611108934248954,5.611108934248954,5.611108934248954,5.611108934248954,5.611108934248954,5.611108934248954,5.611108934248954,5.611108934248954,5.611108934248954,5.611108934248954,5.611108934248954,5.611108934248954,5.611108934248954,5.611108934248954,5.611108934248954,5.611108934248954,5.611108934248954,5.611108934248954,5.549999999999999,5.611108934248954,4.5,17.666666666666668,1.777777777777778,4.0,9.333333333333334,0.9166666666666667,8.0,5.611108934248954,1.0,5.611108934248954,2.583333333333333,2.9999999999999996,null,3.2857142857142856,null,5.000000000000001,14.000000000000002,2.5,4.111111111111111,null,5.611108934248954,3.0,null,null,5.611108934248954,10.0,5.611108934248954,5.611108934248954,null,5.611108934248954,1.0,null,3.2,31.5,5.611108934248954,3.6399999999999997,2.0,1.1250000000000002,null,5.611108934248954,5.250000000000001,3.714285714285714,5.230769230769232,3.5,null,2.0,9.500000000000004,4.0,null,3.142857142857143,14.0,9.428571428571432,24.5,1.2380952380952381,1.6575342465753424,5.611108934248954,null,10.33333333333333,null,6.714285714285715,32.0,70.0,18.999999999999996,5.611108934248954,0.8095238095238095,1.0,10.428571428571427,null,2.526315789473684,null,null,2.415094339622641,16.666666666666668,null,6.0,5.611108934248954,5.404761904761905,null,1.0,1.0,5.000000000000001,null,3.5789473684210535,7.615384615384617,47.25000000000001,8.333333333333332,null,6.333333333333334,12.000000000000004,1.736842105263158,7.0,null,5.909090909090911,13.0,1.875,5.666666666666667,32.99999999999999,0.3333333333333333,5.611108934248954,5.611108934248954,5.611108934248954,null,0.0,0.0,9.0,5.611108934248954,5.611108934248954,30.000000000000004,5.611108934248954,6.999999999999999,7.75,2.666666666666667,6.666666666666667,5.611108934248954,5.611108934248954,5.611108934248954,10.0,15.0,5.611108934248954,4.666666666666667,5.611108934248954,5.611108934248954,1.0,5.444444444444445,null,32.0,5.611108934248954,5.0,5.611108934248954,17.0,5.611108934248954,null,5.611108934248954,5.611108934248954,5.611108934248954,1.8,5.611108934248954,5.611108934248954,10.0,5.611108934248954,5.611108934248954,2.0,null,null,5.611108934248954,7.0,5.0,5.611108934248954,5.611108934248954,22.666666666666668,6.166666666666667,null,5.611108934248954,5.611108934248954,2.7142857142857144,3.3333333333333335,null,5.611108934248954,32.0,5.611108934248954,null,5.611108934248954,5.611108934248954,5.611108934248954,4.294117647058823,5.611108934248954,4.0,5.611108934248954,5.611108934248954,5.611108934248954,47.0,11.5,3.75,5.611108934248954,13.5,50.0,5.611108934248954,2.964285714285715,null,16.33333333333333,5.611108934248954,5.611108934248954,5.611108934248954,43.0,5.611108934248954,6.5,5.611108934248954,5.611108934248954,5.611108934248954,5.611108934248954,12.999999999999998,null,null,5.611108934248954,1.0,1.0,2.0,1.0,4.0,null,null,null,5.611108934248954,5.611108934248954,null,null,null,5.611108934248954,null,1.0,1.0,5.611108934248954,1.0,1.0,5.611108934248954,5.611108934248954,5.611108934248954,null,1.0,1.0,1.0,1.0,1.0,1.0,5.611108934248954,5.611108934248954,5.611108934248954,5.611108934248954,14.400000000000002,14.5,5.611108934248954,5.611108934248954,2.7333333333333325,3.642857142857143,1.0,5.611108934248954,5.611108934248954,5.611108934248954,5.611108934248954,5.611108934248954,10.000000000000002,5.611108934248954,15.0,39.0,5.666666666666667,4.964285714285714,null,null,27.0,0.5,9.0,5.0,5.611108934248954,5.611108934248954,null,2.4,null,14.0,null,5.368421052631579,null,5.611108934248954,47.33333333333334,5.611108934248954,5.611108934248954,null,4.25,1.0,46.0,4.892857142857143,5.611108934248954,null,null,5.666666666666667,null,1.0,6.777777777777778,1.0,6.5,null,null,5.611108934248954,8.249999999999998,5.611108934248954,5.611108934248954,18.0,0.5,5.611108934248954,4.0,5.611108934248954,5.611108934248954,5.611108934248954,null,null,5.611108934248954,null,3.5000000000000004,null,4.0,20.5,null,null,11.249999999999996,null,5.611108934248954,5.611108934248954,5.611108934248954,null,1.0,null,1.0,0.0,5.611108934248954,null,5.611108934248954,5.611108934248954,null,5.611108934248954,null,5.611108934248954,null,2.0,11.0,1.0,null,5.611108934248954,2.2,null,null,17.999999999999996,36.00000000000001,5.611108934248954,5.611108934248954,31.000000000000004,null,5.611108934248954,5.611108934248954,null,null,0.0,5.611108934248954,null,3.75,9.166666666666666,6.333333333333334,1.0,5.611108934248954,6.999999999999999,null,5.611108934248954,5.611108934248954,1.0,5.611108934248954,null,5.611108934248954,null,5.611108934248954,null,1.0,null,1.0,5.611108934248954,5.499999999999999,5.611108934248954,5.611108934248954,11.0,5.611108934248954,5.611108934248954,5.611108934248954,null,null,null,5.611108934248954,null,4.0,5.611108934248954,5.611108934248954,5.611108934248954,5.611108934248954,null,null,17.0,5.611108934248954,5.611108934248954,5.611108934248954,1.0,5.611108934248954,1.0,null,5.611108934248954,5.611108934248954,5.611108934248954,1.0,6.0,27.0,null,null,5.611108934248954,1.0,null,null,null,null,11.666666666666668,null,5.611108934248954,24.000000000000004,6.2,5.611108934248954,5.611108934248954,3.0,0.6666666666666666,5.611108934248954,null,null,5.611108934248954,null,5.611108934248954,null,7.000000000000001,null,5.611108934248954,5.611108934248954,5.611108934248954,null,5.611108934248954,4.0,null,5.611108934248954,5.611108934248954,5.611108934248954,2.9999999999999996,1.0,1.0,5.611108934248954,5.611108934248954,5.611108934248954,40.99999999999999,5.611108934248954,5.611108934248954,26.999999999999996,null,13.5,5.611108934248954,null,5.611108934248954,5.611108934248954,4.0,5.611108934248954,7.0,4.0,5.611108934248954,5.611108934248954,null,5.611108934248954,5.611108934248954,5.611108934248954,null,null,5.611108934248954,null,10.0,5.611108934248954,5.611108934248954,5.611108934248954,null,5.611108934248954,null,5.611108934248954,5.611108934248954,null,null,5.611108934248954,26.0,5.611108934248954,5.611108934248954,5.611108934248954,null,5.611108934248954,6.0,null,5.611108934248954,5.611108934248954,5.611108934248954,5.611108934248954,5.611108934248954,0.0,15.137931034482756,19.5,5.611108934248954,null,10.203703703703702,54.0,5.611108934248954,12.0,6.809523809523809,81.99999999999999,null,7.41666666666667,36.888888888888886,286.99999999999994,7.23529411764706,5.611108934248954,5.611108934248954,11.749999999999998,29.399999999999995,5.466666666666667,5.611108934248954,5.611108934248954,6.374999999999999,35.0,14.0,15.928571428571427,3.4444444444444446,27.5,15.46296296296296,5.611108934248954,94.66666666666666,20.000000000000004,null,24.571428571428573,39.400000000000006,null,9.499999999999998,8.5,24.799999999999997,120.0,8.176470588235293,31.999999999999996,19.33333333333333,5.611108934248954,5.611108934248954,5.611108934248954,5.611108934248954,16.430555555555557,5.611108934248954,9.0,null,19.363636363636363,null,22.270833333333336,5.611108934248954,6.5,8.0,5.611108934248954,5.425,null,5.352941176470588,24.285714285714285,2.3214285714285716,5.611108934248954,null,6.896000000000001,2.6666666666666665,18.666666666666668,7.608695652173912,null,4.319727891156462,5.4333333333333345,8.11111111111111,5.611108934248954,5.611108934248954,null,null,7.787037037037038,4.294117647058823,38.61111111111111,16.884615384615387,24.33333333333333,null,8.999999999999998,63.2,31.5,20.0,28.111111111111114,5.611108934248954,null,30.0,23.299999999999997,7.833333333333333,14.888888888888888,14.873873873873872,4.419354838709677,14.2,8.56521739130435,37.25,10.750000000000002,12.782608695652174,5.310344827586207,10.444444444444445,1.0,24.666666666666668,5.263157894736842,5.611108934248954,19.473684210526315,20.333333333333332,15.363636363636362,null,null,6.199999999999999,5.611108934248954,11.6,10.0,22.500000000000004,48.14285714285715,95.0,13.0,null,7.5,5.611108934248954,25.853658536585364,35.333333333333336,5.454545454545454,16.31111111111111,31.27272727272726,6.666666666666667,5.25,13.0,8.724137931034482,5.611108934248954,10.203703703703702,null,8.75,35.0,5.611108934248954,5.611108934248954,13.857142857142858,5.611108934248954,15.4,null,null,5.611108934248954,5.611108934248954,5.611108934248954,54.28571428571429,6.12,28.88888888888889,null,3.0,15.137931034482756,8.633027522935778,null,5.611108934248954,5.611108934248954,14.107142857142858,10.785714285714286,5.611108934248954,5.611108934248954,1.0,10.0,5.611108934248954,null,5.611108934248954,null,23.499999999999996,5.611108934248954,46.5,86.5,5.611108934248954,null,3.2,5.611108934248954,22.5,5.611108934248954,5.611108934248954,5.611108934248954,null,5.611108934248954,null,5.611108934248954,7.5,null,17.05263157894737,4.749999999999999,null,24.666666666666668,2.6363636363636362,5.611108934248954,5.611108934248954,1.9,4.666666666666667,null,5.833333333333334,null,5.611108934248954,null,5.611108934248954,5.611108934248954,1.7037037037037037,null,5.611108934248954,27.0,5.611108934248954,5.611108934248954,37.0,53.0,5.611108934248954,15.69230769230769,21.0,29.00000000000001,null,1.736842105263158,24.571428571428573,2.833333333333334,null,5.611108934248954,5.611108934248954,20.0,64.5,1.7142857142857142,null,null,5.611108934248954,null,8.15625,5.611108934248954,null,5.611108934248954,11.25,14.750000000000002,5.944444444444445,5.611108934248954,null,4.571428571428571,5.611108934248954,9.53846153846154,5.611108934248954,null,5.611108934248954,12.14285714285714,17.571428571428573,5.611108934248954,2.0,13.0,null,null,33.0,3.3061224489795933,7.0,5.611108934248954,10.307692307692305,5.611108934248954,15.0,null,5.611108934248954,5.611108934248954,null,1.8,5.611108934248954,5.611108934248954,18.0,43.00000000000001,11.739130434782608,null,null,5.611108934248954,5.611108934248954,7.9333333333333345,14.11111111111111,5.611108934248954,5.611108934248954,5.611108934248954,null,6.333333333333333,5.611108934248954,5.611108934248954,16.0,5.611108934248954,6.666666666666668,3.916666666666666,9.200000000000001,55.0,5.611108934248954,18.91666666666666,13.0,3.611111111111111,null,5.571428571428572,5.611108934248954,22.000000000000004,5.25,9.0,8.727272727272728,null,5.611108934248954,11.16,5.611108934248954,null,23.444444444444443,18.0,null,2.2,9.057142857142855,null,19.400000000000002,18.999999999999996,1.3599999999999999,null,null,null,null,null,5.611108934248954,5.611108934248954,34.99999999999999,15.0,0.28571428571428575,14.230769230769232,31.0,5.611108934248954,5.0,19.750000000000004,5.611108934248954,null,5.611108934248954,30.22222222222222,28.538461538461537,10.75,30.73333333333333,5.611108934248954,5.611108934248954,5.611108934248954,null,5.611108934248954,5.611108934248954,15.529411764705884,5.611108934248954,null,5.611108934248954,10.076923076923077,7.2142857142857135,5.611108934248954,5.611108934248954,11.555555555555557,4.000000000000001,5.611108934248954,37.60000000000001,26.25,10.999999999999996,29.28571428571428,null,5.000000000000001,1.3333333333333333,5.611108934248954,5.611108934248954,5.611108934248954,null,5.611108934248954,5.611108934248954,5.611108934248954,null,5.611108934248954,null,null,5.611108934248954,null,36.00000000000001,5.611108934248954,null,5.611108934248954,19.666666666666664,null,null,5.611108934248954,48.0,null,null,5.611108934248954,null,null,null,null,82.0,null,158.00000000000003,72.0,null,null,null,null,null,null,6.0,null,92.00000000000003,18.8,null,null,null,null,5.611108934248954,91.0,null,5.611108934248954,5.611108934248954,5.611108934248954,1.0,5.611108934248954,5.611108934248954,5.611108934248954,5.611108934248954,5.611108934248954,5.611108934248954,12.999999999999998,2.45,null,5.611108934248954,1.8421052631578947,1.8,null,null,4.25,5.611108934248954,1.52,5.611108934248954,5.611108934248954,5.0,null,5.611108934248954,5.611108934248954,5.611108934248954,5.611108934248954,20.0,5.611108934248954,2.5301204819277103,6.256410256410255,2.155555555555556,5.611108934248954,3.2666666666666666,null,5.611108934248954,5.611108934248954,null,null,3.739130434782609,5.611108934248954,5.611108934248954,5.611108934248954,5.611108934248954,3.4999999999999996,5.611108934248954,6.666666666666667,5.611108934248954,5.611108934248954,1.2142857142857142,5.611108934248954,2.0,5.611108934248954,5.611108934248954,3.8695652173913047,4.6,9.500000000000002,10.0,1.0666666666666667,5.611108934248954,5.611108934248954,5.611108934248954,0.0,5.611108934248954,5.611108934248954,5.611108934248954,5.611108934248954,5.611108934248954,5.611108934248954,null,5.611108934248954,0.7777777777777778,5.611108934248954,5.611108934248954,2.0,5.611108934248954,3.35,5.4,60.0,1.0,9.0,8.46153846153846,5.611108934248954,5.611108934248954,5.611108934248954,5.611108934248954,5.611108934248954,11.428571428571429,5.611108934248954,null,0.0,0.6111111111111112,34.00000000000001,5.611108934248954,3.627906976744185,0.95,5.611108934248954,0.8,5.611108934248954,5.611108934248954,11.142857142857142,9.25,5.611108934248954,2.0,5.611108934248954,5.611108934248954,0.33333333333333337,2.6,0.6363636363636364,4.529411764705882,5.611108934248954,2.294117647058824,0.8400000000000002,1.6363636363636365,3.75,2.4615384615384617,3.75,5.611108934248954,5.611108934248954,5.611108934248954,9.0,5.611108934248954,5.611108934248954,0.85,null,1.6666666666666667,5.611108934248954,5.611108934248954,null,5.611108934248954,2.951219512195122,5.611108934248954,3.6153846153846154,null,5.5,11.0,2.0,null,1.5,2.888888888888889,null,5.611108934248954,15.833333333333336,null,5.611108934248954,5.611108934248954,3.2,5.611108934248954,24.0,5.611108934248954,53.333333333333336,5.611108934248954,3.0,5.611108934248954,31.0,20.0,5.611108934248954,4.333333333333333,null,3.466666666666667,13.684210526315788,10.0,5.611108934248954,5.611108934248954,5.611108934248954,5.611108934248954,7.647058823529411,18.916666666666664,0.0,1.8571428571428572,18.0,5.611108934248954,5.611108934248954,5.611108934248954,5.611108934248954,5.611108934248954,0.27272727272727276,5.611108934248954,7.857142857142856,1.1666666666666667,5.611108934248954,5.611108934248954,13.666666666666666,0.7142857142857144,5.611108934248954,7.964285714285714,null,5.611108934248954,1.956521739130435,5.611108934248954,5.611108934248954,5.611108934248954,0.4,5.611108934248954,2.4533333333333336,0.0,8.533333333333333,null,5.611108934248954,5.611108934248954,18.0,5.611108934248954,1.4,5.611108934248954,0.0,3.61764705882353,1.6,5.611108934248954,5.611108934248954,5.611108934248954,5.611108934248954,5.611108934248954,5.611108934248954,5.611108934248954,5.611108934248954,3.1481481481481484,5.611108934248954,14.0,5.611108934248954,5.611108934248954,10.333333333333334,1.6666666666666667,5.611108934248954,5.611108934248954,5.611108934248954,1.0,5.611108934248954,4.375,2.142857142857143,15.5,null,10.999999999999998,5.611108934248954,null,6.521739130434782,5.611108934248954,3.023809523809523,null,5.611108934248954,13.333333333333334,null,4.666666666666667,5.611108934248954,null,4.526315789473684,2.05,18.33333333333333,3.6666666666666665,0.9230769230769232,3.0,2.473684210526316,5.611108934248954,5.611108934248954,3.0,5.611108934248954,5.611108934248954,2.25,5.611108934248954,1.0555555555555556,20.0,null,2.066666666666667,48.0,1.25,5.611108934248954,0.7272727272727273,6.615384615384617,0.6666666666666666,1.6,4.0,5.611108934248954,1.4166666666666667,5.611108934248954,3.7272727272727266,3.6,19.0,5.611108934248954,3.9411764705882355,5.611108934248954,5.611108934248954,2.975,1.75,2.4615384615384617,5.611108934248954,3.888888888888889,2.8,3.125,6.699999999999999,5.611108934248954,2.0,5.611108934248954,0.42857142857142855,5.611108934248954,1.6666666666666667,5.857142857142856,5.611108934248954,19.0,5.611108934248954,5.611108934248954,5.611108934248954,20.0,3.9375,5.611108934248954,5.611108934248954,5.611108934248954,5.611108934248954,5.611108934248954,5.611108934248954,5.611108934248954,5.611108934248954,5.611108934248954,5.611108934248954,5.611108934248954,5.611108934248954,5.611108934248954,5.611108934248954,6.333333333333333,20.0,5.611108934248954,5.473684210526316,5.611108934248954,1.8399999999999999,5.611108934248954,0.5,5.611108934248954,5.611108934248954,null,2.12,0.6875,5.611108934248954,5.611108934248954,5.611108934248954,3.5,4.5,1.9,6.428571428571429,20.0,1.2500000000000002,11.11111111111111,19.333333333333332,5.611108934248954,5.611108934248954,20.0,2.3750000000000004,21.4,11.875000000000002,2.5,1.0,0.5555555555555556,5.611108934248954,5.0,3.4444444444444446,1.0,5.611108934248954,4.0,5.611108934248954,5.611108934248954,5.611108934248954,0.7,null,5.611108934248954,5.611108934248954,5.611108934248954,0.96969696969697,5.611108934248954,5.611108934248954,1.8,null,5.749999999999999,1.0,5.611108934248954,5.611108934248954,5.611108934248954,5.611108934248954,0.25,5.611108934248954,null,null,5.611108934248954,2.1333333333333333,5.611108934248954,5.611108934248954,5.611108934248954,5.611108934248954,5.611108934248954,5.611108934248954,5.611108934248954,5.611108934248954,5.611108934248954],\"xaxis\":\"x\",\"yaxis\":\"y\",\"type\":\"histogram\"}],                        {\"template\":{\"data\":{\"bar\":[{\"error_x\":{\"color\":\"#2a3f5f\"},\"error_y\":{\"color\":\"#2a3f5f\"},\"marker\":{\"line\":{\"color\":\"#E5ECF6\",\"width\":0.5},\"pattern\":{\"fillmode\":\"overlay\",\"size\":10,\"solidity\":0.2}},\"type\":\"bar\"}],\"barpolar\":[{\"marker\":{\"line\":{\"color\":\"#E5ECF6\",\"width\":0.5},\"pattern\":{\"fillmode\":\"overlay\",\"size\":10,\"solidity\":0.2}},\"type\":\"barpolar\"}],\"carpet\":[{\"aaxis\":{\"endlinecolor\":\"#2a3f5f\",\"gridcolor\":\"white\",\"linecolor\":\"white\",\"minorgridcolor\":\"white\",\"startlinecolor\":\"#2a3f5f\"},\"baxis\":{\"endlinecolor\":\"#2a3f5f\",\"gridcolor\":\"white\",\"linecolor\":\"white\",\"minorgridcolor\":\"white\",\"startlinecolor\":\"#2a3f5f\"},\"type\":\"carpet\"}],\"choropleth\":[{\"colorbar\":{\"outlinewidth\":0,\"ticks\":\"\"},\"type\":\"choropleth\"}],\"contour\":[{\"colorbar\":{\"outlinewidth\":0,\"ticks\":\"\"},\"colorscale\":[[0.0,\"#0d0887\"],[0.1111111111111111,\"#46039f\"],[0.2222222222222222,\"#7201a8\"],[0.3333333333333333,\"#9c179e\"],[0.4444444444444444,\"#bd3786\"],[0.5555555555555556,\"#d8576b\"],[0.6666666666666666,\"#ed7953\"],[0.7777777777777778,\"#fb9f3a\"],[0.8888888888888888,\"#fdca26\"],[1.0,\"#f0f921\"]],\"type\":\"contour\"}],\"contourcarpet\":[{\"colorbar\":{\"outlinewidth\":0,\"ticks\":\"\"},\"type\":\"contourcarpet\"}],\"heatmap\":[{\"colorbar\":{\"outlinewidth\":0,\"ticks\":\"\"},\"colorscale\":[[0.0,\"#0d0887\"],[0.1111111111111111,\"#46039f\"],[0.2222222222222222,\"#7201a8\"],[0.3333333333333333,\"#9c179e\"],[0.4444444444444444,\"#bd3786\"],[0.5555555555555556,\"#d8576b\"],[0.6666666666666666,\"#ed7953\"],[0.7777777777777778,\"#fb9f3a\"],[0.8888888888888888,\"#fdca26\"],[1.0,\"#f0f921\"]],\"type\":\"heatmap\"}],\"heatmapgl\":[{\"colorbar\":{\"outlinewidth\":0,\"ticks\":\"\"},\"colorscale\":[[0.0,\"#0d0887\"],[0.1111111111111111,\"#46039f\"],[0.2222222222222222,\"#7201a8\"],[0.3333333333333333,\"#9c179e\"],[0.4444444444444444,\"#bd3786\"],[0.5555555555555556,\"#d8576b\"],[0.6666666666666666,\"#ed7953\"],[0.7777777777777778,\"#fb9f3a\"],[0.8888888888888888,\"#fdca26\"],[1.0,\"#f0f921\"]],\"type\":\"heatmapgl\"}],\"histogram\":[{\"marker\":{\"pattern\":{\"fillmode\":\"overlay\",\"size\":10,\"solidity\":0.2}},\"type\":\"histogram\"}],\"histogram2d\":[{\"colorbar\":{\"outlinewidth\":0,\"ticks\":\"\"},\"colorscale\":[[0.0,\"#0d0887\"],[0.1111111111111111,\"#46039f\"],[0.2222222222222222,\"#7201a8\"],[0.3333333333333333,\"#9c179e\"],[0.4444444444444444,\"#bd3786\"],[0.5555555555555556,\"#d8576b\"],[0.6666666666666666,\"#ed7953\"],[0.7777777777777778,\"#fb9f3a\"],[0.8888888888888888,\"#fdca26\"],[1.0,\"#f0f921\"]],\"type\":\"histogram2d\"}],\"histogram2dcontour\":[{\"colorbar\":{\"outlinewidth\":0,\"ticks\":\"\"},\"colorscale\":[[0.0,\"#0d0887\"],[0.1111111111111111,\"#46039f\"],[0.2222222222222222,\"#7201a8\"],[0.3333333333333333,\"#9c179e\"],[0.4444444444444444,\"#bd3786\"],[0.5555555555555556,\"#d8576b\"],[0.6666666666666666,\"#ed7953\"],[0.7777777777777778,\"#fb9f3a\"],[0.8888888888888888,\"#fdca26\"],[1.0,\"#f0f921\"]],\"type\":\"histogram2dcontour\"}],\"mesh3d\":[{\"colorbar\":{\"outlinewidth\":0,\"ticks\":\"\"},\"type\":\"mesh3d\"}],\"parcoords\":[{\"line\":{\"colorbar\":{\"outlinewidth\":0,\"ticks\":\"\"}},\"type\":\"parcoords\"}],\"pie\":[{\"automargin\":true,\"type\":\"pie\"}],\"scatter\":[{\"marker\":{\"colorbar\":{\"outlinewidth\":0,\"ticks\":\"\"}},\"type\":\"scatter\"}],\"scatter3d\":[{\"line\":{\"colorbar\":{\"outlinewidth\":0,\"ticks\":\"\"}},\"marker\":{\"colorbar\":{\"outlinewidth\":0,\"ticks\":\"\"}},\"type\":\"scatter3d\"}],\"scattercarpet\":[{\"marker\":{\"colorbar\":{\"outlinewidth\":0,\"ticks\":\"\"}},\"type\":\"scattercarpet\"}],\"scattergeo\":[{\"marker\":{\"colorbar\":{\"outlinewidth\":0,\"ticks\":\"\"}},\"type\":\"scattergeo\"}],\"scattergl\":[{\"marker\":{\"colorbar\":{\"outlinewidth\":0,\"ticks\":\"\"}},\"type\":\"scattergl\"}],\"scattermapbox\":[{\"marker\":{\"colorbar\":{\"outlinewidth\":0,\"ticks\":\"\"}},\"type\":\"scattermapbox\"}],\"scatterpolar\":[{\"marker\":{\"colorbar\":{\"outlinewidth\":0,\"ticks\":\"\"}},\"type\":\"scatterpolar\"}],\"scatterpolargl\":[{\"marker\":{\"colorbar\":{\"outlinewidth\":0,\"ticks\":\"\"}},\"type\":\"scatterpolargl\"}],\"scatterternary\":[{\"marker\":{\"colorbar\":{\"outlinewidth\":0,\"ticks\":\"\"}},\"type\":\"scatterternary\"}],\"surface\":[{\"colorbar\":{\"outlinewidth\":0,\"ticks\":\"\"},\"colorscale\":[[0.0,\"#0d0887\"],[0.1111111111111111,\"#46039f\"],[0.2222222222222222,\"#7201a8\"],[0.3333333333333333,\"#9c179e\"],[0.4444444444444444,\"#bd3786\"],[0.5555555555555556,\"#d8576b\"],[0.6666666666666666,\"#ed7953\"],[0.7777777777777778,\"#fb9f3a\"],[0.8888888888888888,\"#fdca26\"],[1.0,\"#f0f921\"]],\"type\":\"surface\"}],\"table\":[{\"cells\":{\"fill\":{\"color\":\"#EBF0F8\"},\"line\":{\"color\":\"white\"}},\"header\":{\"fill\":{\"color\":\"#C8D4E3\"},\"line\":{\"color\":\"white\"}},\"type\":\"table\"}]},\"layout\":{\"annotationdefaults\":{\"arrowcolor\":\"#2a3f5f\",\"arrowhead\":0,\"arrowwidth\":1},\"autotypenumbers\":\"strict\",\"coloraxis\":{\"colorbar\":{\"outlinewidth\":0,\"ticks\":\"\"}},\"colorscale\":{\"diverging\":[[0,\"#8e0152\"],[0.1,\"#c51b7d\"],[0.2,\"#de77ae\"],[0.3,\"#f1b6da\"],[0.4,\"#fde0ef\"],[0.5,\"#f7f7f7\"],[0.6,\"#e6f5d0\"],[0.7,\"#b8e186\"],[0.8,\"#7fbc41\"],[0.9,\"#4d9221\"],[1,\"#276419\"]],\"sequential\":[[0.0,\"#0d0887\"],[0.1111111111111111,\"#46039f\"],[0.2222222222222222,\"#7201a8\"],[0.3333333333333333,\"#9c179e\"],[0.4444444444444444,\"#bd3786\"],[0.5555555555555556,\"#d8576b\"],[0.6666666666666666,\"#ed7953\"],[0.7777777777777778,\"#fb9f3a\"],[0.8888888888888888,\"#fdca26\"],[1.0,\"#f0f921\"]],\"sequentialminus\":[[0.0,\"#0d0887\"],[0.1111111111111111,\"#46039f\"],[0.2222222222222222,\"#7201a8\"],[0.3333333333333333,\"#9c179e\"],[0.4444444444444444,\"#bd3786\"],[0.5555555555555556,\"#d8576b\"],[0.6666666666666666,\"#ed7953\"],[0.7777777777777778,\"#fb9f3a\"],[0.8888888888888888,\"#fdca26\"],[1.0,\"#f0f921\"]]},\"colorway\":[\"#636efa\",\"#EF553B\",\"#00cc96\",\"#ab63fa\",\"#FFA15A\",\"#19d3f3\",\"#FF6692\",\"#B6E880\",\"#FF97FF\",\"#FECB52\"],\"font\":{\"color\":\"#2a3f5f\"},\"geo\":{\"bgcolor\":\"white\",\"lakecolor\":\"white\",\"landcolor\":\"#E5ECF6\",\"showlakes\":true,\"showland\":true,\"subunitcolor\":\"white\"},\"hoverlabel\":{\"align\":\"left\"},\"hovermode\":\"closest\",\"mapbox\":{\"style\":\"light\"},\"paper_bgcolor\":\"white\",\"plot_bgcolor\":\"#E5ECF6\",\"polar\":{\"angularaxis\":{\"gridcolor\":\"white\",\"linecolor\":\"white\",\"ticks\":\"\"},\"bgcolor\":\"#E5ECF6\",\"radialaxis\":{\"gridcolor\":\"white\",\"linecolor\":\"white\",\"ticks\":\"\"}},\"scene\":{\"xaxis\":{\"backgroundcolor\":\"#E5ECF6\",\"gridcolor\":\"white\",\"gridwidth\":2,\"linecolor\":\"white\",\"showbackground\":true,\"ticks\":\"\",\"zerolinecolor\":\"white\"},\"yaxis\":{\"backgroundcolor\":\"#E5ECF6\",\"gridcolor\":\"white\",\"gridwidth\":2,\"linecolor\":\"white\",\"showbackground\":true,\"ticks\":\"\",\"zerolinecolor\":\"white\"},\"zaxis\":{\"backgroundcolor\":\"#E5ECF6\",\"gridcolor\":\"white\",\"gridwidth\":2,\"linecolor\":\"white\",\"showbackground\":true,\"ticks\":\"\",\"zerolinecolor\":\"white\"}},\"shapedefaults\":{\"line\":{\"color\":\"#2a3f5f\"}},\"ternary\":{\"aaxis\":{\"gridcolor\":\"white\",\"linecolor\":\"white\",\"ticks\":\"\"},\"baxis\":{\"gridcolor\":\"white\",\"linecolor\":\"white\",\"ticks\":\"\"},\"bgcolor\":\"#E5ECF6\",\"caxis\":{\"gridcolor\":\"white\",\"linecolor\":\"white\",\"ticks\":\"\"}},\"title\":{\"x\":0.05},\"xaxis\":{\"automargin\":true,\"gridcolor\":\"white\",\"linecolor\":\"white\",\"ticks\":\"\",\"title\":{\"standoff\":15},\"zerolinecolor\":\"white\",\"zerolinewidth\":2},\"yaxis\":{\"automargin\":true,\"gridcolor\":\"white\",\"linecolor\":\"white\",\"ticks\":\"\",\"title\":{\"standoff\":15},\"zerolinecolor\":\"white\",\"zerolinewidth\":2}}},\"xaxis\":{\"anchor\":\"y\",\"domain\":[0.0,1.0],\"title\":{\"text\":\"razao_likes_deslikes\"}},\"yaxis\":{\"anchor\":\"x\",\"domain\":[0.0,1.0],\"title\":{\"text\":\"count\"}},\"legend\":{\"tracegroupgap\":0},\"margin\":{\"t\":60},\"barmode\":\"relative\"},                        {\"responsive\": true}                    ).then(function(){\n",
       "                            \n",
       "var gd = document.getElementById('f6b0f0d5-ff5b-48d9-ab04-4fd16e67b037');\n",
       "var x = new MutationObserver(function (mutations, observer) {{\n",
       "        var display = window.getComputedStyle(gd).display;\n",
       "        if (!display || display === 'none') {{\n",
       "            console.log([gd, 'removed!']);\n",
       "            Plotly.purge(gd);\n",
       "            observer.disconnect();\n",
       "        }}\n",
       "}});\n",
       "\n",
       "// Listen for the removal of the full notebook cells\n",
       "var notebookContainer = gd.closest('#notebook-container');\n",
       "if (notebookContainer) {{\n",
       "    x.observe(notebookContainer, {childList: true});\n",
       "}}\n",
       "\n",
       "// Listen for the clearing of the current output cell\n",
       "var outputEl = gd.closest('.output');\n",
       "if (outputEl) {{\n",
       "    x.observe(outputEl, {childList: true});\n",
       "}}\n",
       "\n",
       "                        })                };                            </script>        </div>\n",
       "</body>\n",
       "</html>"
      ]
     },
     "metadata": {},
     "output_type": "display_data"
    }
   ],
   "source": [
    "px.histogram(churn_enriq,churn_enriq.razao_likes_deslikes)"
   ]
  },
  {
   "cell_type": "code",
   "execution_count": null,
   "metadata": {
    "colab": {
     "base_uri": "https://localhost:8080/",
     "height": 265
    },
    "executionInfo": {
     "elapsed": 30,
     "status": "ok",
     "timestamp": 1643330813551,
     "user": {
      "displayName": "Matheus Scheffer",
      "photoUrl": "https://lh3.googleusercontent.com/a-/AOh14GglPDI7gdLFED26W1SJncCIZFA5A-5rjTBcxfjH=s64",
      "userId": "18314476337770992076"
     },
     "user_tz": 180
    },
    "id": "eXcPI9ArWOkX",
    "outputId": "a9a71ff9-e9ef-4744-e5d1-39cde561c272"
   },
   "outputs": [
    {
     "data": {
      "image/png": "[encoded data removed]",
      "text/plain": [
       "<Figure size 432x288 with 1 Axes>"
      ]
     },
     "metadata": {
      "needs_background": "light"
     },
     "output_type": "display_data"
    }
   ],
   "source": [
    "plt.boxplot(churn_enriq.razao_likes_deslikes, vert = False, showfliers=False, notch=True, patch_artist=True)\n",
    "plt.show()"
   ]
  },
  {
   "cell_type": "code",
   "execution_count": null,
   "metadata": {
    "colab": {
     "base_uri": "https://localhost:8080/",
     "height": 297
    },
    "executionInfo": {
     "elapsed": 357,
     "status": "ok",
     "timestamp": 1643330813880,
     "user": {
      "displayName": "Matheus Scheffer",
      "photoUrl": "https://lh3.googleusercontent.com/a-/AOh14GglPDI7gdLFED26W1SJncCIZFA5A-5rjTBcxfjH=s64",
      "userId": "18314476337770992076"
     },
     "user_tz": 180
    },
    "id": "0Hv5egSvWpvy",
    "outputId": "db12ab14-412c-48aa-e0f0-694ea72fa667"
   },
   "outputs": [
    {
     "data": {
      "text/plain": [
       "<matplotlib.axes._subplots.AxesSubplot at 0x7f57bd93f150>"
      ]
     },
     "execution_count": 21,
     "metadata": {},
     "output_type": "execute_result"
    },
    {
     "data": {
      "image/png": "[encoded data removed]",
      "text/plain": [
       "<Figure size 432x288 with 1 Axes>"
      ]
     },
     "metadata": {
      "needs_background": "light"
     },
     "output_type": "display_data"
    }
   ],
   "source": [
    "sns.boxplot(x=churn_enriq.razao_likes_deslikes)"
   ]
  },
  {
   "cell_type": "code",
   "execution_count": null,
   "metadata": {
    "colab": {
     "base_uri": "https://localhost:8080/",
     "height": 542
    },
    "executionInfo": {
     "elapsed": 14,
     "status": "ok",
     "timestamp": 1643330813881,
     "user": {
      "displayName": "Matheus Scheffer",
      "photoUrl": "https://lh3.googleusercontent.com/a-/AOh14GglPDI7gdLFED26W1SJncCIZFA5A-5rjTBcxfjH=s64",
      "userId": "18314476337770992076"
     },
     "user_tz": 180
    },
    "id": "p3F6J3MwVieh",
    "outputId": "bb888084-8af5-4582-8435-e55f64b575f7"
   },
   "outputs": [
    {
     "data": {
      "text/html": [
       "<html>\n",
       "<head><meta charset=\"utf-8\" /></head>\n",
       "<body>\n",
       "    <div>            <script src=\"https://cdnjs.cloudflare.com/ajax/libs/mathjax/2.7.5/MathJax.js?config=TeX-AMS-MML_SVG\"></script><script type=\"text/javascript\">if (window.MathJax) {MathJax.Hub.Config({SVG: {font: \"STIX-Web\"}});}</script>                <script type=\"text/javascript\">window.PlotlyConfig = {MathJaxConfig: 'local'};</script>\n",
       "        <script src=\"https://cdn.plot.ly/plotly-2.8.3.min.js\"></script>                <div id=\"f75ebbe4-7bb2-49d2-84ee-983e246ef23d\" class=\"plotly-graph-div\" style=\"height:525px; width:100%;\"></div>            <script type=\"text/javascript\">                                    window.PLOTLYENV=window.PLOTLYENV || {};                                    if (document.getElementById(\"f75ebbe4-7bb2-49d2-84ee-983e246ef23d\")) {                    Plotly.newPlot(                        \"f75ebbe4-7bb2-49d2-84ee-983e246ef23d\",                        [{\"alignmentgroup\":\"True\",\"hovertemplate\":\"razao_likes_deslikes=%{y}<extra></extra>\",\"legendgroup\":\"\",\"marker\":{\"color\":\"#636efa\"},\"name\":\"\",\"notched\":false,\"offsetgroup\":\"\",\"orientation\":\"v\",\"showlegend\":false,\"x0\":\" \",\"xaxis\":\"x\",\"y\":[7.5,1.1343283582089554,null,3.75,7.5,2.15625,0.9562043795620437,4.666666666666667,5.611108934248954,4.08974358974359,5.611108934248954,2.34375,null,6.999999999999998,0.8,18.5,3.416666666666667,2.0508474576271194,2.7027027027027035,4.067484662576686,null,5.611108934248954,2.5769230769230775,3.6633663366336635,43.0,4.783132530120481,3.2297297297297294,3.5945945945945947,7.750000000000001,null,null,8.0,5.611108934248954,2.5,44.0,17.000000000000004,0.7241379310344828,10.23529411764706,7.25,11.45,0.5,8.333333333333334,5.611108934248954,5.611108934248954,4.545454545454546,8.882352941176471,null,1.9636363636363636,5.611108934248954,5.611108934248954,null,10.0,3.8666666666666667,3.1818181818181817,2.5294117647058822,5.611108934248954,null,12.666666666666666,17.000000000000004,5.611108934248954,8.0,null,null,3.75,5.611108934248954,9.566666666666668,5.611108934248954,5.611108934248954,5.611108934248954,5.45,7.799999999999999,5.611108934248954,6.0,null,4.675,7.1,19.799999999999997,8.0,2.388888888888889,10.882352941176471,7.25,null,35.5,8.25,6.52,4.019230769230769,4.513513513513513,7.666666666666667,3.8750000000000004,9.0,4.897435897435897,5.611108934248954,39.0,1.3037383177570094,5.611108934248954,3.958333333333334,6.0,4.794520547945206,5.088235294117647,2.8000000000000003,2.0670731707317067,0.25,7.0,3.3043478260869565,7.0,5.611108934248954,2.9000000000000004,5.611108934248954,4.023529411764706,2.3939393939393945,5.611108934248954,5.239999999999999,2.6813186813186816,3.2093023255813953,1.941176470588235,2.130434782608696,5.611108934248954,2.660714285714286,5.611108934248954,4.545454545454545,3.0,2.75,2.6,0.782608695652174,10.666666666666666,5.611108934248954,12.25,9.0,2.769230769230769,5.5,12.000000000000002,2.4666666666666663,3.1190476190476186,5.611108934248954,null,null,5.611108934248954,2.1,24.166666666666668,5.611108934248954,5.611108934248954,3.4062500000000013,5.611108934248954,3.5000000000000004,5.611108934248954,4.564102564102564,4.0,8.0,11.285714285714286,8.833333333333332,6.888888888888889,1.25,5.611108934248954,5.611108934248954,1.8059701492537312,6.0,11.25,6.175000000000001,13.666666666666668,5.611108934248954,5.611108934248954,2.0733944954128445,5.611108934248954,8.347826086956522,5.611108934248954,5.833333333333333,5.611108934248954,null,5.611108934248954,1.0762331838565022,5.611108934248954,3.827586206896551,5.892857142857143,23.5,4.25,10.4,3.8095238095238093,2.9166666666666665,11.428571428571429,7.07843137254902,3.87037037037037,16.0,16.800000000000004,5.437500000000001,5.611108934248954,4.846153846153845,3.386138613861385,11.999999999999998,4.206896551724138,7.033333333333333,null,3.6666666666666665,null,11.000000000000004,1.2857142857142858,4.6,3.5,5.611108934248954,5.611108934248954,5.907407407407407,5.611108934248954,3.9591836734693877,4.6063829787234045,9.966666666666669,10.555555555555555,8.571428571428573,9.9,5.611108934248954,7.393939393939394,5.666666666666667,7.545454545454546,5.611108934248954,3.6595744680851063,2.596385542168675,9.391304347826086,5.6875,9.749999999999998,4.758620689655173,5.611108934248954,8.25,1.5400000000000003,5.611108934248954,4.636363636363636,4.447761194029851,6.166666666666666,7.113207547169812,2.57843137254902,11.875000000000002,2.5,8.0,4.825,5.611108934248954,2.3333333333333335,null,5.611108934248954,2.25,1.5,8.863636363636363,1.2,1.5890410958904113,1.75,5.611108934248954,4.796296296296298,1.894736842105263,5.611108934248954,6.833333333333333,10.0,5.611108934248954,11.0,5.611108934248954,4.911764705882354,0.9444444444444443,11.333333333333336,23.0,null,1.0615384615384618,5.611108934248954,7.787878787878789,5.611108934248954,11.714285714285712,5.611108934248954,5.0,5.611108934248954,5.611108934248954,5.611108934248954,1.4285714285714286,5.611108934248954,4.586956521739129,1.4936708860759493,1.58,5.611108934248954,10.375000000000002,5.611108934248954,null,4.666666666666667,3.175,null,9.500000000000002,10.0,7.222222222222224,5.611108934248954,5.611108934248954,2.8,1.3921568627450978,5.611108934248954,5.611108934248954,4.4,3.2857142857142856,5.611108934248954,6.46875,4.0,5.611108934248954,16.000000000000004,5.611108934248954,1.8333333333333333,null,5.611108934248954,6.250000000000001,4.600000000000001,8.0,2.4545454545454546,5.611108934248954,5.611108934248954,5.611108934248954,3.0,5.611108934248954,5.551724137931035,5.611108934248954,0.2,2.0,0.2,5.611108934248954,0.9562043795620437,5.611108934248954,5.611108934248954,5.611108934248954,5.611108934248954,5.611108934248954,5.611108934248954,null,5.611108934248954,5.611108934248954,3.064516129032257,4.333333333333334,null,42.0,1.5,12.5,5.611108934248954,null,1.4999999999999998,2.7500000000000004,2.0,0.0,2.0,5.611108934248954,2.0,2.2500000000000004,3.0,5.611108934248954,null,2.0,2.0,1.0,0.0,5.611108934248954,20.000000000000004,9.448275862068966,6.999999999999999,10.25,5.785714285714287,13.666666666666666,1.0,3.391304347826086,8.941176470588236,11.0,3.4687499999999996,23.333333333333332,11.0,5.611108934248954,5.611108934248954,6.25,2.0,7.0,5.611108934248954,1.0,21.000000000000004,2.6285714285714277,1.5,8.049999999999999,null,4.428571428571429,1.3030303030303032,5.611108934248954,6.5,6.875000000000001,0.2,29.25,4.057142857142857,62.99999999999999,2.8596491228070176,2.9411764705882355,2.4,8.333333333333334,null,22.999999999999996,10.0,25.500000000000007,17.0,5.611108934248954,5.611108934248954,5.611108934248954,5.611108934248954,5.611108934248954,5.611108934248954,5.611108934248954,5.611108934248954,5.611108934248954,5.611108934248954,5.611108934248954,5.611108934248954,5.611108934248954,5.611108934248954,5.611108934248954,5.611108934248954,5.611108934248954,5.611108934248954,5.611108934248954,5.611108934248954,5.611108934248954,5.611108934248954,5.611108934248954,5.611108934248954,5.611108934248954,5.611108934248954,5.611108934248954,5.611108934248954,5.611108934248954,5.611108934248954,5.611108934248954,5.611108934248954,5.611108934248954,5.611108934248954,5.611108934248954,5.611108934248954,5.611108934248954,5.611108934248954,5.611108934248954,5.611108934248954,5.611108934248954,5.611108934248954,5.611108934248954,5.611108934248954,5.611108934248954,5.611108934248954,5.611108934248954,5.611108934248954,5.611108934248954,5.611108934248954,5.611108934248954,5.611108934248954,5.611108934248954,5.611108934248954,5.611108934248954,5.611108934248954,5.611108934248954,5.611108934248954,5.611108934248954,5.611108934248954,5.611108934248954,5.611108934248954,5.611108934248954,5.611108934248954,5.611108934248954,5.611108934248954,5.611108934248954,5.611108934248954,5.611108934248954,5.611108934248954,5.611108934248954,5.611108934248954,5.611108934248954,5.611108934248954,5.611108934248954,5.611108934248954,5.611108934248954,5.611108934248954,5.611108934248954,5.611108934248954,5.611108934248954,5.611108934248954,5.611108934248954,5.611108934248954,5.611108934248954,5.611108934248954,5.611108934248954,5.611108934248954,5.611108934248954,5.611108934248954,5.611108934248954,5.611108934248954,5.611108934248954,5.611108934248954,5.611108934248954,5.611108934248954,5.611108934248954,5.611108934248954,5.611108934248954,5.611108934248954,5.611108934248954,5.611108934248954,5.611108934248954,5.611108934248954,5.611108934248954,5.611108934248954,5.611108934248954,5.611108934248954,5.611108934248954,5.611108934248954,5.611108934248954,5.611108934248954,5.611108934248954,5.611108934248954,5.611108934248954,5.611108934248954,5.611108934248954,5.611108934248954,5.611108934248954,5.611108934248954,5.611108934248954,5.611108934248954,5.611108934248954,5.611108934248954,5.611108934248954,5.611108934248954,5.611108934248954,5.611108934248954,5.611108934248954,5.611108934248954,5.611108934248954,5.611108934248954,5.611108934248954,5.611108934248954,5.611108934248954,5.611108934248954,5.611108934248954,5.611108934248954,5.611108934248954,5.611108934248954,5.2285714285714295,9.5,5.611108934248954,5.611108934248954,5.611108934248954,20.000000000000004,null,null,9.0,4.0,4.0,13.666666666666666,1.0,null,null,null,15.0,11.833333333333336,5.611108934248954,9.499999999999998,null,6.0,null,5.611108934248954,5.611108934248954,5.611108934248954,5.611108934248954,5.611108934248954,null,5.611108934248954,5.611108934248954,41.250000000000014,19.153846153846153,14.0,7.375000000000001,7.6,6.478260869565218,6.250000000000001,1.1666666666666667,2.192411924119241,5.611108934248954,4.0,5.611108934248954,15.0,6.0,12.0,26.0,6.0,5.611108934248954,null,5.611108934248954,5.611108934248954,35.0,7.333333333333332,2.25,4.822784810126582,7.17948717948718,18.0,1.583333333333333,37.99999999999999,9.15151515151515,null,15.636363636363637,null,1.0,5.310679611650485,2.333333333333333,4.924242424242425,5.611108934248954,5.611108934248954,10.666666666666666,5.187500000000002,5.611108934248954,5.611108934248954,29.0,30.0,2.9,6.499999999999999,1.0,null,null,5.611108934248954,3.5,3.5000000000000004,5.611108934248954,5.611108934248954,5.611108934248954,5.611108934248954,null,3.0,5.611108934248954,6.833333333333332,4.461538461538462,11.0,5.72,41.00000000000001,4.3076923076923075,2.0000000000000004,9.333333333333334,5.611108934248954,7.142857142857143,null,5.571428571428572,3.5,null,5.611108934248954,7.5,3.739130434782608,2.5000000000000004,3.4999999999999996,5.749999999999999,null,21.500000000000004,7.411764705882353,13.5,5.611108934248954,26.374999999999996,null,25.0,1.5897435897435896,46.99999999999999,5.76470588235294,23.5,1.1333333333333333,9.263157894736842,6.655172413793102,5.611108934248954,5.611108934248954,4.142857142857143,7.263157894736842,5.611108934248954,null,null,4.312500000000002,5.611108934248954,17.0,4.5,null,5.611108934248954,5.611108934248954,6.000000000000001,null,6.642857142857144,null,6.785714285714286,5.611108934248954,6.166666666666666,5.611108934248954,5.611108934248954,23.0,14.000000000000002,22.0,6.724999999999998,2.073033707865169,13.5,20.0,12.0,13.700000000000001,5.611108934248954,12.999999999999998,null,4.5,5.611108934248954,6.166666666666667,5.75,12.000000000000002,5.611108934248954,10.0,1.0,5.611108934248954,null,4.333333333333333,2.1999999999999997,2.857142857142857,5.611108934248954,null,5.714285714285714,null,5.611108934248954,20.0,10.0,5.611108934248954,null,6.428571428571429,5.611108934248954,null,1.0,5.611108934248954,10.888888888888891,13.333333333333334,1.0,5.333333333333333,10.0,0.0,5.611108934248954,null,5.611108934248954,5.611108934248954,22.999999999999996,5.611108934248954,5.611108934248954,8.799999999999999,5.611108934248954,9.0,null,null,5.611108934248954,null,37.499999999999986,10.0,5.611108934248954,5.611108934248954,18.666666666666668,5.611108934248954,5.611108934248954,5.611108934248954,5.611108934248954,null,10.105263157894736,null,4.88888888888889,null,18.0,8.117647058823529,4.947368421052631,null,1.6,null,3.5000000000000004,null,5.611108934248954,10.0,10.333333333333334,null,5.972602739726027,null,1.6666666666666667,11.499999999999998,null,6.5,5.611108934248954,null,null,4.736842105263158,13.285714285714285,null,null,2.0,7.814814814814815,10.666666666666666,5.611108934248954,1.0,22.0,null,2.75,6.999999999999998,5.611108934248954,5.611108934248954,5.611108934248954,0.5,2.357142857142857,5.611108934248954,5.611108934248954,0.25,null,5.611108934248954,5.611108934248954,5.611108934248954,1.4999999999999998,null,5.611108934248954,0.0,0.0,5.611108934248954,5.611108934248954,5.611108934248954,null,5.611108934248954,6.0,5.611108934248954,18.0,7.552631578947369,null,18.0,15.200000000000001,5.611108934248954,1.0,2.5000000000000004,1.0,1.0,5.611108934248954,null,14.999999999999996,5.611108934248954,1.0,null,5.611108934248954,3.0,1.0,4.0,null,5.611108934248954,5.611108934248954,2.25,1.6666666666666667,2.333333333333333,null,3.0,14.0,7.666666666666666,6.999999999999999,null,5.611108934248954,5.611108934248954,5.208333333333334,5.611108934248954,1.6666666666666667,3.3333333333333335,4.5,5.611108934248954,3.0,null,1.0,5.611108934248954,10.5,5.611108934248954,15.999999999999998,null,5.2857142857142865,1.0,5.611108934248954,5.0,5.611108934248954,25.000000000000007,null,2.285714285714285,17.5,2.8,1.0,null,10.666666666666666,5.611108934248954,10.5,3.9090909090909087,14.5,0.9090909090909092,1.0,9.6,1.0,5.611108934248954,5.611108934248954,1.0,null,16.5,7.5,5.611108934248954,1.2999999999999998,5.611108934248954,5.611108934248954,2.277777777777778,6.833333333333333,13.250000000000002,5.611108934248954,5.611108934248954,null,0.9,3.1333333333333333,5.611108934248954,23.0,7.999999999999999,2.0,6.500000000000001,null,0.5,null,5.611108934248954,7.333333333333333,5.611108934248954,1.0,null,null,1.5714285714285716,20.0,5.0,3.0,null,1.0,5.611108934248954,null,null,null,null,2.9999999999999996,null,9.499999999999998,5.611108934248954,5.611108934248954,1.0,10.08,4.0,25.5,24.5,5.611108934248954,5.611108934248954,1.0,null,1.7499999999999998,5.611108934248954,4.909090909090909,17.399999999999995,5.611108934248954,3.0,null,21.0,9.333333333333334,1.7000000000000004,5.611108934248954,6.733333333333334,null,8.600000000000001,30.0,7.75,3.999999999999999,5.611108934248954,14.75,1.0,5.611108934248954,5.611108934248954,11.999999999999998,null,null,null,null,5.611108934248954,5.611108934248954,1.0,null,5.611108934248954,null,1.0,7.5,5.5,10.333333333333334,6.181818181818181,5.0,5.611108934248954,5.3,8.0,3.8437500000000004,3.5172413793103443,5.611108934248954,5.611108934248954,5.611108934248954,null,0.28571428571428575,5.611108934248954,12.0,null,5.611108934248954,20.333333333333332,14.0,null,20.857142857142854,5.611108934248954,6.857142857142857,1.0,10.5,6.416666666666664,null,null,1.0,7.0,null,4.0,7.25,36.0,5.4,13.0,null,4.466666666666667,5.000000000000001,4.0,7.000000000000001,11.500000000000002,null,2.3725490196078427,34.0,1.4,45.0,3.333333333333333,null,6.142857142857142,5.611108934248954,5.611108934248954,8.125,5.611108934248954,4.058823529411764,5.611108934248954,5.611108934248954,8.666666666666668,5.611108934248954,5.611108934248954,6.0,5.611108934248954,5.761904761904762,null,2.166666666666667,5.25,3.5,5.611108934248954,6.5,4.0,null,5.611108934248954,24.2,null,6.0,5.611108934248954,6.0,16.0,4.050000000000001,4.0606060606060606,5.611108934248954,2.402298850574712,21.999999999999996,5.611108934248954,5.611108934248954,5.611108934248954,1.8947368421052633,22.0,2.916666666666667,null,5.611108934248954,5.0,5.611108934248954,8.6,5.611108934248954,5.611108934248954,5.852941176470588,4.357142857142858,7.333333333333333,null,null,4.2,4.083333333333333,5.0,2.3333333333333335,null,5.611108934248954,5.611108934248954,5.611108934248954,null,null,4.666666666666667,2.1142857142857148,5.611108934248954,5.611108934248954,6.095238095238095,null,5.611108934248954,3.2222222222222223,null,1.5555555555555554,7.2,4.571428571428572,5.611108934248954,6.375,5.611108934248954,4.3,6.718750000000001,null,2.6530612244897966,4.0,5.611108934248954,4.029411764705882,5.611108934248954,5.08045977011494,null,5.611108934248954,9.333333333333334,4.0,2.290322580645162,5.611108934248954,5.611108934248954,5.611108934248954,5.611108934248954,5.611108934248954,1.1818181818181817,12.5,4.016666666666667,4.0,5.611108934248954,5.611108934248954,6.071428571428573,5.611108934248954,4.2727272727272725,5.611108934248954,11.6,0.0,3.6666666666666665,5.611108934248954,4.363636363636364,4.836734693877551,5.611108934248954,1.4,5.611108934248954,12.0,7.0,null,14.285714285714283,3.07142857142857,13.000000000000002,8.857142857142856,3.6666666666666665,6.437500000000003,6.5,null,10.206896551724142,5.611108934248954,6.333333333333332,5.266666666666665,5.388888888888888,8.333333333333334,7.173913043478261,8.555555555555557,null,9.0,5.1875,5.611108934248954,5.611108934248954,3.5,4.15,2.25,19.000000000000004,5.611108934248954,4.833333333333335,5.611108934248954,5.611108934248954,10.833333333333337,5.611108934248954,null,0.0,5.611108934248954,5.611108934248954,5.611108934248954,1.0,5.611108934248954,13.249999999999998,null,5.611108934248954,5.611108934248954,5.611108934248954,5.611108934248954,5.611108934248954,5.611108934248954,5.611108934248954,5.611108934248954,5.611108934248954,null,5.611108934248954,5.611108934248954,17.0,3.5641025641025643,0.875,5.611108934248954,5.611108934248954,5.611108934248954,5.611108934248954,null,9.0,2.25,5.611108934248954,4.0,5.611108934248954,4.0,null,5.611108934248954,6.833333333333333,5.611108934248954,7.000000000000001,5.611108934248954,22.000000000000004,1.0,5.611108934248954,5.611108934248954,5.611108934248954,1.6666666666666665,5.428571428571428,5.611108934248954,1.0,2.0,null,1.0,5.611108934248954,1.0,3.0,3.0,null,5.611108934248954,5.611108934248954,0.16666666666666666,1.0,4.666666666666667,4.0,5.611108934248954,5.611108934248954,1.0,5.611108934248954,5.611108934248954,1.0,4.0,1.5,null,5.611108934248954,5.611108934248954,1.0,5.611108934248954,5.611108934248954,1.0,5.611108934248954,null,null,5.611108934248954,5.611108934248954,7.499999999999999,5.611108934248954,2.1666666666666665,null,5.611108934248954,5.611108934248954,9.0,5.611108934248954,8.625,null,4.232558139534883,5.611108934248954,5.611108934248954,5.374999999999999,24.0,5.611108934248954,12.0,2.727272727272727,1.0,20.0,0.0,4.232558139534883,5.818181818181818,2.461538461538462,4.232558139534883,5.611108934248954,5.611108934248954,5.611108934248954,5.611108934248954,5.611108934248954,5.611108934248954,0.8,5.611108934248954,5.611108934248954,5.611108934248954,1.0,5.611108934248954,5.611108934248954,3.0769230769230758,5.611108934248954,4.888888888888889,2.507936507936508,10.714285714285715,5.611108934248954,13.333333333333334,null,5.611108934248954,5.611108934248954,5.611108934248954,1.15,8.625,5.611108934248954,5.611108934248954,7.480519480519481,1.9111111111111114,14.333333333333334,4.232558139534883,5.611108934248954,5.611108934248954,5.611108934248954,3.272727272727273,4.232558139534883,5.611108934248954,9.666666666666666,5.611108934248954,6.072727272727273,7.840000000000002,5.611108934248954,6.439024390243903,5.611108934248954,4.11764705882353,5.611108934248954,1.8,9.5,14.0,null,9.0,10.571428571428573,6.0,5.611108934248954,5.611108934248954,null,5.611108934248954,5.611108934248954,5.611108934248954,5.611108934248954,5.611108934248954,10.28,5.611108934248954,3.470187393526405,5.611108934248954,4.232558139534883,5.611108934248954,3.28,5.611108934248954,5.611108934248954,12.0,5.611108934248954,5.611108934248954,8.16666666666667,5.611108934248954,5.611108934248954,8.529411764705884,4.3,5.611108934248954,5.611108934248954,9.499999999999998,5.611108934248954,5.611108934248954,5.611108934248954,4.414634146341464,17.399999999999995,2.408163265306123,4.142857142857143,9.499999999999998,4.884210526315789,3.0,0.8,5.611108934248954,134.99999999999997,5.611108934248954,6.670068027210885,29.66666666666667,5.611108934248954,5.611108934248954,5.666666666666667,5.611108934248954,5.482758620689656,5.611108934248954,14.510638297872338,5.611108934248954,5.611108934248954,5.611108934248954,null,5.611108934248954,3.4285714285714284,1.6815286624203822,0.875,3.5793991416309012,null,null,5.611108934248954,4.818840579710145,3.75,5.611108934248954,5.611108934248954,6.646153846153846,10.333333333333334,14.000000000000004,5.611108934248954,5.611108934248954,5.611108934248954,5.611108934248954,5.611108934248954,5.611108934248954,3.55,5.611108934248954,null,8.285714285714286,12.0,9.230769230769232,5.611108934248954,8.545454545454543,3.5384615384615388,2.6842105263157894,null,5.611108934248954,2.3781512605042017,5.611108934248954,13.599999999999998,26.0,7.692307692307696,5.611108934248954,2.25,1.7500000000000002,null,1.2222222222222223,2.857142857142857,5.611108934248954,6.0,2.466666666666667,null,6.571428571428571,5.611108934248954,5.611108934248954,1.0,7.0,5.53125,7.5,5.604651162790698,2.0,5.611108934248954,5.611108934248954,16.0,4.1923076923076925,3.470187393526405,5.440860215053766,5.611108934248954,5.611108934248954,5.611108934248954,1.0,null,12.0,17.72727272727273,2.717488789237669,4.0,5.611108934248954,5.611108934248954,4.03030303030303,5.611108934248954,3.28,1.0,5.611108934248954,3.2692307692307696,5.611108934248954,5.611108934248954,4.522292993630573,1.6625,1.0,5.611108934248954,5.611108934248954,5.0,5.611108934248954,5.611108934248954,5.3999999999999995,5.611108934248954,8.384615384615385,5.611108934248954,5.8,4.099999999999998,1.0,6.875,2.2727272727272725,5.8807339449541285,2.8,5.611108934248954,5.611108934248954,2.076923076923077,5.611108934248954,1.8571428571428572,9.653846153846155,5.611108934248954,2.75,5.611108934248954,null,5.611108934248954,5.611108934248954,4.184210526315789,5.611108934248954,4.923076923076923,3.5,2.3333333333333335,5.611108934248954,5.611108934248954,5.611108934248954,4.563953488372094,5.0,0.3333333333333333,5.611108934248954,5.611108934248954,5.611108934248954,5.611108934248954,4.0,5.611108934248954,5.611108934248954,null,5.611108934248954,6.333333333333333,4.333333333333333,5.611108934248954,5.611108934248954,5.09090909090909,5.611108934248954,5.611108934248954,5.611108934248954,2.857142857142857,null,3.987012987012988,5.611108934248954,5.611108934248954,5.611108934248954,1.0,5.611108934248954,5.611108934248954,5.611108934248954,5.611108934248954,12.999999999999998,null,10.454545454545453,3.0,8.799999999999999,5.0,1.0,5.611108934248954,5.611108934248954,8.333333333333334,5.611108934248954,5.611108934248954,4.652380952380952,5.611108934248954,5.611108934248954,3.0,5.6,5.611108934248954,5.611108934248954,5.611108934248954,5.611108934248954,5.611108934248954,5.611108934248954,0.5,5.611108934248954,5.611108934248954,3.8221153846153855,5.611108934248954,6.714285714285714,10.153846153846153,5.611108934248954,5.611108934248954,5.611108934248954,5.611108934248954,2.7,5.611108934248954,5.611108934248954,5.611108934248954,2.875,5.611108934248954,5.611108934248954,6.0,5.611108934248954,5.611108934248954,1.6206896551724141,5.611108934248954,11.0,3.45,null,5.611108934248954,null,5.611108934248954,9.91044776119403,5.464285714285715,5.611108934248954,1.4399999999999997,3.454545454545454,5.611108934248954,3.1999999999999997,1.75,1.625,2.9117647058823533,5.611108934248954,5.611108934248954,5.611108934248954,6.0,5.611108934248954,5.611108934248954,5.611108934248954,5.611108934248954,5.611108934248954,5.611108934248954,5.611108934248954,5.611108934248954,5.611108934248954,5.611108934248954,5.611108934248954,5.611108934248954,5.611108934248954,5.611108934248954,5.611108934248954,5.611108934248954,5.611108934248954,5.611108934248954,5.611108934248954,5.611108934248954,5.611108934248954,5.611108934248954,5.611108934248954,5.611108934248954,5.611108934248954,5.611108934248954,0.5,5.611108934248954,1.8,5.611108934248954,5.611108934248954,5.611108934248954,1.8,3.7,1.0,5.611108934248954,5.611108934248954,5.611108934248954,18.166666666666668,1.875,13.142857142857144,3.357142857142857,3.6666666666666665,14.72222222222222,5.611108934248954,5.611108934248954,5.611108934248954,5.611108934248954,5.611108934248954,5.611108934248954,5.611108934248954,5.611108934248954,7.0,5.611108934248954,3.6,null,null,null,null,18.0,5.611108934248954,10.5,5.611108934248954,20.000000000000007,null,null,5.611108934248954,21.333333333333336,5.611108934248954,null,5.611108934248954,15.0,null,2.5,20.000000000000004,null,5.611108934248954,null,5.611108934248954,92.00000000000001,5.611108934248954,5.611108934248954,2.0,39.7,null,3.083333333333334,null,5.611108934248954,3.12,11.545454545454541,null,52.99999999999999,5.611108934248954,11.19047619047619,null,5.611108934248954,5.611108934248954,20.400000000000002,5.611108934248954,1.8,12.214285714285714,5.611108934248954,null,60.00000000000001,5.611108934248954,null,5.611108934248954,null,5.611108934248954,10.357142857142858,5.611108934248954,5.611108934248954,5.611108934248954,5.611108934248954,5.611108934248954,1.6666666666666667,null,5.611108934248954,null,5.611108934248954,5.611108934248954,5.611108934248954,2.2352941176470593,9.0,null,12.218750000000004,5.611108934248954,5.611108934248954,5.611108934248954,null,5.611108934248954,5.611108934248954,71.99999999999999,20.0,2.0256410256410255,21.0,null,null,5.611108934248954,5.611108934248954,null,null,1.8888888888888888,null,5.611108934248954,2.276923076923077,7.6,5.611108934248954,10.5,null,8.533333333333333,5.611108934248954,11.500000000000002,5.611108934248954,5.611108934248954,5.611108934248954,5.611108934248954,5.611108934248954,null,null,5.611108934248954,5.611108934248954,5.611108934248954,null,5.611108934248954,10.499999999999996,5.611108934248954,5.611108934248954,null,null,5.611108934248954,null,41.50000000000001,21.0,36.4,5.611108934248954,null,20.0,11.91304347826087,0.0,null,19.5,null,5.611108934248954,null,15.375000000000002,5.611108934248954,null,17.0,5.611108934248954,8.666666666666668,24.999999999999996,5.611108934248954,5.611108934248954,1.0,null,5.611108934248954,38.333333333333336,8.266666666666667,5.611108934248954,null,5.611108934248954,5.611108934248954,5.611108934248954,5.611108934248954,54.5,42.0,5.611108934248954,5.611108934248954,10.799999999999997,null,5.611108934248954,5.611108934248954,null,8.068965517241377,5.611108934248954,5.611108934248954,5.0,5.611108934248954,27.0,5.611108934248954,5.611108934248954,1.0,5.611108934248954,null,5.611108934248954,null,19.821428571428573,5.611108934248954,5.611108934248954,5.000000000000001,null,11.666666666666666,5.611108934248954,null,4.750000000000001,90.99999999999999,8.333333333333334,5.611108934248954,109.0,5.611108934248954,19.166666666666664,5.611108934248954,null,20.0,11.0,null,3.860759493670886,null,9.666666666666666,5.611108934248954,5.611108934248954,6.500000000000001,5.611108934248954,5.764705882352941,22.44444444444445,5.611108934248954,54.0,4.965517241379311,21.375000000000004,5.611108934248954,13.999999999999996,null,5.611108934248954,null,null,16.333333333333336,45.75,5.611108934248954,5.611108934248954,null,null,5.611108934248954,5.611108934248954,5.611108934248954,4.866666666666665,1.2500000000000002,2.999999999999999,1.0,3.666666666666667,null,5.611108934248954,5.611108934248954,5.611108934248954,5.611108934248954,null,null,5.611108934248954,null,0.5,1.0,5.611108934248954,0.0,5.611108934248954,2.4576271186440684,3.0068965517241373,4.655172413793103,1.4375,30.5,3.0,3.984126984126985,7.000000000000001,5.829457364341084,5.611108934248954,10.47058823529412,2.9285714285714284,7.8404669260700395,5.893939393939394,3.933333333333333,2.482758620689655,9.0,5.611108934248954,null,3.2195121951219514,2.925925925925926,5.25,5.611108934248954,null,null,2.7916666666666665,6.875,5.611108934248954,7.789473684210527,5.611108934248954,5.611108934248954,4.0,5.611108934248954,5.93939393939394,3.8571428571428577,5.0,4.50632911392405,6.0,8.027777777777777,4.5,17.0,4.6190476190476195,4.31578947368421,5.611108934248954,6.750000000000001,1.0,9.882352941176471,5.611108934248954,2.7272727272727275,2.75,7.3478260869565215,6.857142857142858,3.904,7.491525423728815,12.666666666666666,2.7,7.096774193548387,18.0,3.7,3.6666666666666665,4.333333333333333,4.018181818181818,16.0,4.761904761904763,5.611108934248954,5.611108934248954,5.611108934248954,5.611108934248954,2.375,5.7,8.1,5.611108934248954,null,3.0,5.611108934248954,5.611108934248954,3.8,12.666666666666664,8.0,36.0,4.0,5.379310344827586,4.0,5.611108934248954,40.0,3.4342105263157894,5.611108934248954,5.0769230769230775,5.611108934248954,5.52,1.0,5.611108934248954,2.0,4.96969696969697,17.666666666666668,6.0740740740740735,2.9611650485436884,6.6,10.0,0.6666666666666666,3.0,12.0,5.25,12.0,10.365079365079364,5.611108934248954,4.248366013071895,3.056603773584906,6.6,2.88125,2.4971428571428573,3.2666666666666666,5.611108934248954,3.6521739130434776,6.0,2.4000000000000004,5.611108934248954,4.0,5.611108934248954,4.081632653061225,null,null,5.611108934248954,7.368421052631577,4.553191489361702,12.166666666666666,5.000000000000001,3.4935897435897427,null,8.5,48.50000000000001,31.0,13.846153846153847,3.3384615384615386,3.194285714285715,null,2.222222222222222,5.611108934248954,8.125,4.85981308411215,3.25,2.8965517241379315,2.634615384615385,5.611108934248954,5.611108934248954,7.400000000000001,5.611108934248954,11.500000000000002,3.3409090909090904,5.611108934248954,2.0,10.87704918032787,8.600000000000001,5.611108934248954,3.8461538461538454,20.0,5.611108934248954,5.611108934248954,5.611108934248954,5.611108934248954,5.516483516483516,6.000000000000001,6.0,5.611108934248954,4.5102040816326525,5.611108934248954,2.45,5.611108934248954,4.142857142857143,3.612612612612614,null,7.2727272727272725,30.0,4.0,18.461538461538463,6.8,40.0,5.611108934248954,5.611108934248954,5.611108934248954,1.875,11.833333333333334,8.285714285714286,5.611108934248954,9.277777777777775,7.0,5.611108934248954,5.611108934248954,5.611108934248954,5.000000000000001,10.250000000000002,64.0,null,5.611108934248954,5.611108934248954,5.611108934248954,7.888888888888889,11.666666666666668,5.611108934248954,2.8000000000000007,3.75,6.6,3.0,5.611108934248954,1.4375,5.454545454545455,5.611108934248954,17.333333333333332,3.0068965517241373,null,5.611108934248954,5.611108934248954,5.611108934248954,2.0,5.611108934248954,null,5.611108934248954,5.611108934248954,null,null,3.0,5.611108934248954,5.611108934248954,null,null,5.611108934248954,5.611108934248954,7.750000000000001,7.818181818181819,1.354838709677419,null,5.611108934248954,5.7272727272727275,3.333333333333333,3.6,1.0,11.499999999999998,null,5.611108934248954,5.611108934248954,11.0,2.0,9.714285714285715,null,1.3333333333333333,3.3305785123966944,null,5.611108934248954,5.611108934248954,null,null,5.611108934248954,6.0,5.2272727272727275,7.357142857142855,4.979166666666667,19.199999999999996,20.0,5.611108934248954,5.611108934248954,1.4,4.4,43.0,null,null,5.611108934248954,null,10.0,5.611108934248954,5.611108934248954,21.0,5.611108934248954,5.611108934248954,3.3,5.611108934248954,5.611108934248954,0.5714285714285714,5.611108934248954,5.611108934248954,12.0,5.611108934248954,5.611108934248954,null,5.611108934248954,5.611108934248954,5.611108934248954,5.611108934248954,1.3333333333333333,5.611108934248954,2.0909090909090904,null,5.611108934248954,null,null,5.611108934248954,5.611108934248954,5.611108934248954,5.611108934248954,5.611108934248954,2.0,5.611108934248954,5.611108934248954,5.611108934248954,null,5.611108934248954,5.611108934248954,5.611108934248954,null,2.3846153846153846,null,33.0,null,1.3333333333333335,47.0,31.333333333333332,74.8,null,5.611108934248954,5.611108934248954,44.00000000000001,61.5,64.00000000000001,5.611108934248954,null,5.611108934248954,null,36.0,53.800000000000004,14.333333333333334,null,50.0,null,73.00000000000001,0.28571428571428575,14.2,5.611108934248954,1.2727272727272725,6.571428571428572,21.0,0.0,17.0,null,null,82.00000000000001,null,1.0,null,null,1.2222222222222223,null,null,1.0,1.0,null,null,4.084745762711864,2.285714285714286,5.3006993006993,4.542056074766355,1.1363636363636365,2.245033112582781,5.392670157068062,3.946236559139786,1.0,3.5200000000000005,1.0909090909090908,3.6363636363636362,0.7142857142857143,2.8000000000000003,2.7142857142857144,1.5,1.4545454545454546,9.941176470588236,2.569444444444444,4.565217391304349,1.5,2.6,1.6086956521739133,4.411764705882353,11.875000000000004,0.625,1.8918918918918917,3.4580152671755706,3.7945205479452055,4.133333333333334,8.2,9.75,2.782608695652174,6.478260869565218,5.611108934248954,null,4.916666666666667,1.6,2.468085106382979,2.777777777777778,12.8,5.611108934248954,1.0,5.611108934248954,0.4,null,6.666666666666667,5.0,7.7142857142857135,3.6363636363636362,5.6,null,5.611108934248954,5.0,null,11.0,1.7499999999999998,5.611108934248954,3.0,5.0,null,7.5,3.0,5.611108934248954,5.611108934248954,5.666666666666667,5.611108934248954,null,5.611108934248954,5.611108934248954,5.611108934248954,5.611108934248954,5.611108934248954,5.611108934248954,5.611108934248954,5.611108934248954,5.611108934248954,2.25,5.611108934248954,5.611108934248954,3.7222222222222223,5.611108934248954,10.857142857142858,null,5.611108934248954,13.0,5.611108934248954,4.933333333333334,1.0,5.611108934248954,null,5.611108934248954,6.0,1.2,5.611108934248954,4.0,5.611108934248954,5.611108934248954,null,1.0,1.0,1.0,1.0,5.611108934248954,null,null,1.0,null,5.611108934248954,1.0,1.0,5.611108934248954,5.611108934248954,5.611108934248954,5.611108934248954,null,5.611108934248954,1.0,1.0,1.0,5.611108934248954,6.750000000000002,11.666666666666668,11.666666666666668,14.999999999999998,2.6666666666666665,1.0,4.333333333333332,null,7.5,1.0,5.611108934248954,7.666666666666667,3.4285714285714284,4.500000000000001,2.333333333333333,4.833333333333333,3.6666666666666665,13.88235294117647,14.999999999999998,5.857142857142856,5.611108934248954,9.000000000000002,21.999999999999993,null,null,3.0,10.0,0.0,12.333333333333334,5.611108934248954,7.999999999999999,7.000000000000001,12.833333333333334,11.333333333333337,2.2857142857142856,null,null,null,11.523809523809526,1.0,7.333333333333333,11.749999999999998,20.0,5.611108934248954,null,null,5.611108934248954,5.611108934248954,1.0,5.611108934248954,5.611108934248954,5.611108934248954,6.0,5.611108934248954,6.941176470588236,5.611108934248954,25.8,3.3999999999999995,1.4307692307692303,5.611108934248954,1.3333333333333333,1.6470588235294117,8.153846153846153,30.5,6.357142857142859,4.428571428571429,3.05,8.375,5.611108934248954,39.333333333333336,15.399999999999999,5.611108934248954,6.666666666666667,null,11.0,3.142857142857143,3.4,30.666666666666668,5.611108934248954,23.5,14.0,2.5882352941176467,5.611108934248954,8.0,5.26595744680851,5.611108934248954,7.2857142857142865,null,null,7.812500000000001,5.24,5.687500000000002,3.2,19.846153846153847,null,null,6.760869565217391,null,2.8846153846153846,8.000000000000002,15.260869565217392,9.025,5.611108934248954,5.611108934248954,5.333333333333333,10.5,5.419354838709677,20.0,4.875,26.5,5.611108934248954,5.611108934248954,5.611108934248954,2.476190476190476,5.611108934248954,5.611108934248954,10.0,5.611108934248954,3.833333333333334,5.611108934248954,5.611108934248954,5.611108934248954,5.611108934248954,null,2.1999999999999997,8.419354838709678,5.611108934248954,5.0,5.611108934248954,0.75,2.8181818181818183,null,5.611108934248954,3.0819672131147544,2.068181818181818,5.611108934248954,4.5,8.08695652173913,null,null,24.5,5.611108934248954,5.611108934248954,5.611108934248954,5.611108934248954,6.970954356846471,7.6,49.5,11.8,3.3600000000000003,9.571428571428573,9.714285714285715,null,5.611108934248954,5.611108934248954,7.565217391304348,null,10.515789473684212,20.0,5.611108934248954,5.611108934248954,5.611108934248954,16.0,null,16.066666666666663,5.611108934248954,5.611108934248954,0.2,8.6,5.611108934248954,5.611108934248954,7.777777777777778,5.611108934248954,4.818181818181818,3.0526315789473677,14.857142857142856,5.611108934248954,4.625,5.611108934248954,29.0,4.578947368421052,9.641509433962264,1.7272727272727273,20.0,5.28301886792453,7.775862068965517,7.416666666666668,2.6129032258064515,9.0,8.304347826086957,5.611108934248954,5.611108934248954,3.5,6.285714285714284,1.5,5.611108934248954,6.666666666666667,6.774193548387097,4.12,null,4.428571428571429,5.611108934248954,5.611108934248954,8.0,5.611108934248954,70.99999999999999,5.611108934248954,27.4,3.8399999999999994,3.7647058823529402,5.611108934248954,5.611108934248954,2.1194029850746268,2.388888888888889,4.733333333333333,2.6391752577319587,5.611108934248954,15.249999999999996,1.625,5.611108934248954,5.611108934248954,3.0,2.0,22.0,2.1494252873563218,5.611108934248954,7.899999999999997,5.611108934248954,5.611108934248954,1.6363636363636365,5.611108934248954,1.6285714285714286,9.428571428571429,5.611108934248954,6.0,5.611108934248954,5.611108934248954,5.611108934248954,11.25,5.611108934248954,5.611108934248954,6.952380952380952,5.611108934248954,3.0,7.606382978723402,5.611108934248954,null,20.0,null,5.611108934248954,4.693548387096775,6.5,null,5.611108934248954,33.333333333333336,3.1538461538461533,5.611108934248954,11.0,5.611108934248954,5.611108934248954,null,5.833333333333332,5.337539432176658,1.0,1.9666666666666668,5.611108934248954,4.916666666666666,3.4107142857142843,19.999999999999996,9.315789473684212,5.611108934248954,6.97872340425532,10.4,5.611108934248954,0.6,5.611108934248954,null,2.6470588235294117,5.611108934248954,null,9.0,6.111111111111111,2.5,5.611108934248954,5.611108934248954,5.611108934248954,5.611108934248954,10.0,8.406250000000002,null,5.611108934248954,3.8666666666666667,4.0,12.333333333333336,5.611108934248954,7.708333333333334,5.611108934248954,35.0,5.611108934248954,3.1,1.65,2.0272727272727273,3.328947368421053,4.111111111111111,5.611108934248954,null,5.611108934248954,4.160714285714286,5.611108934248954,6.666666666666667,3.55,3.736842105263158,5.611108934248954,3.3823529411764706,12.0,3.333333333333333,12.416666666666668,5.0,6.250000000000001,5.611108934248954,5.611108934248954,5.611108934248954,8.0,15.25,0.6,5.611108934248954,5.6923076923076925,8.142857142857142,4.333333333333333,2.645833333333333,3.6666666666666665,10.2,10.0,2.917525773195876,null,0.5,5.611108934248954,2.2,10.0,5.611108934248954,2.6,21.333333333333332,5.611108934248954,5.611108934248954,5.611108934248954,5.611108934248954,5.611108934248954,5.611108934248954,5.611108934248954,5.611108934248954,5.611108934248954,5.611108934248954,5.611108934248954,5.611108934248954,5.611108934248954,5.611108934248954,5.611108934248954,5.611108934248954,5.611108934248954,5.611108934248954,5.611108934248954,5.611108934248954,5.611108934248954,5.611108934248954,5.611108934248954,5.611108934248954,5.611108934248954,5.611108934248954,5.611108934248954,5.611108934248954,5.611108934248954,5.611108934248954,5.611108934248954,5.611108934248954,5.611108934248954,5.611108934248954,5.611108934248954,5.611108934248954,5.611108934248954,5.611108934248954,5.611108934248954,5.611108934248954,5.611108934248954,5.611108934248954,5.611108934248954,5.611108934248954,5.611108934248954,5.611108934248954,5.611108934248954,5.611108934248954,5.611108934248954,5.611108934248954,5.611108934248954,5.611108934248954,5.611108934248954,5.611108934248954,5.611108934248954,5.611108934248954,5.611108934248954,5.611108934248954,5.611108934248954,5.611108934248954,5.611108934248954,5.549999999999999,5.611108934248954,4.5,17.666666666666668,1.777777777777778,4.0,9.333333333333334,0.9166666666666667,8.0,5.611108934248954,1.0,5.611108934248954,2.583333333333333,2.9999999999999996,null,3.2857142857142856,null,5.000000000000001,14.000000000000002,2.5,4.111111111111111,null,5.611108934248954,3.0,null,null,5.611108934248954,10.0,5.611108934248954,5.611108934248954,null,5.611108934248954,1.0,null,3.2,31.5,5.611108934248954,3.6399999999999997,2.0,1.1250000000000002,null,5.611108934248954,5.250000000000001,3.714285714285714,5.230769230769232,3.5,null,2.0,9.500000000000004,4.0,null,3.142857142857143,14.0,9.428571428571432,24.5,1.2380952380952381,1.6575342465753424,5.611108934248954,null,10.33333333333333,null,6.714285714285715,32.0,70.0,18.999999999999996,5.611108934248954,0.8095238095238095,1.0,10.428571428571427,null,2.526315789473684,null,null,2.415094339622641,16.666666666666668,null,6.0,5.611108934248954,5.404761904761905,null,1.0,1.0,5.000000000000001,null,3.5789473684210535,7.615384615384617,47.25000000000001,8.333333333333332,null,6.333333333333334,12.000000000000004,1.736842105263158,7.0,null,5.909090909090911,13.0,1.875,5.666666666666667,32.99999999999999,0.3333333333333333,5.611108934248954,5.611108934248954,5.611108934248954,null,0.0,0.0,9.0,5.611108934248954,5.611108934248954,30.000000000000004,5.611108934248954,6.999999999999999,7.75,2.666666666666667,6.666666666666667,5.611108934248954,5.611108934248954,5.611108934248954,10.0,15.0,5.611108934248954,4.666666666666667,5.611108934248954,5.611108934248954,1.0,5.444444444444445,null,32.0,5.611108934248954,5.0,5.611108934248954,17.0,5.611108934248954,null,5.611108934248954,5.611108934248954,5.611108934248954,1.8,5.611108934248954,5.611108934248954,10.0,5.611108934248954,5.611108934248954,2.0,null,null,5.611108934248954,7.0,5.0,5.611108934248954,5.611108934248954,22.666666666666668,6.166666666666667,null,5.611108934248954,5.611108934248954,2.7142857142857144,3.3333333333333335,null,5.611108934248954,32.0,5.611108934248954,null,5.611108934248954,5.611108934248954,5.611108934248954,4.294117647058823,5.611108934248954,4.0,5.611108934248954,5.611108934248954,5.611108934248954,47.0,11.5,3.75,5.611108934248954,13.5,50.0,5.611108934248954,2.964285714285715,null,16.33333333333333,5.611108934248954,5.611108934248954,5.611108934248954,43.0,5.611108934248954,6.5,5.611108934248954,5.611108934248954,5.611108934248954,5.611108934248954,12.999999999999998,null,null,5.611108934248954,1.0,1.0,2.0,1.0,4.0,null,null,null,5.611108934248954,5.611108934248954,null,null,null,5.611108934248954,null,1.0,1.0,5.611108934248954,1.0,1.0,5.611108934248954,5.611108934248954,5.611108934248954,null,1.0,1.0,1.0,1.0,1.0,1.0,5.611108934248954,5.611108934248954,5.611108934248954,5.611108934248954,14.400000000000002,14.5,5.611108934248954,5.611108934248954,2.7333333333333325,3.642857142857143,1.0,5.611108934248954,5.611108934248954,5.611108934248954,5.611108934248954,5.611108934248954,10.000000000000002,5.611108934248954,15.0,39.0,5.666666666666667,4.964285714285714,null,null,27.0,0.5,9.0,5.0,5.611108934248954,5.611108934248954,null,2.4,null,14.0,null,5.368421052631579,null,5.611108934248954,47.33333333333334,5.611108934248954,5.611108934248954,null,4.25,1.0,46.0,4.892857142857143,5.611108934248954,null,null,5.666666666666667,null,1.0,6.777777777777778,1.0,6.5,null,null,5.611108934248954,8.249999999999998,5.611108934248954,5.611108934248954,18.0,0.5,5.611108934248954,4.0,5.611108934248954,5.611108934248954,5.611108934248954,null,null,5.611108934248954,null,3.5000000000000004,null,4.0,20.5,null,null,11.249999999999996,null,5.611108934248954,5.611108934248954,5.611108934248954,null,1.0,null,1.0,0.0,5.611108934248954,null,5.611108934248954,5.611108934248954,null,5.611108934248954,null,5.611108934248954,null,2.0,11.0,1.0,null,5.611108934248954,2.2,null,null,17.999999999999996,36.00000000000001,5.611108934248954,5.611108934248954,31.000000000000004,null,5.611108934248954,5.611108934248954,null,null,0.0,5.611108934248954,null,3.75,9.166666666666666,6.333333333333334,1.0,5.611108934248954,6.999999999999999,null,5.611108934248954,5.611108934248954,1.0,5.611108934248954,null,5.611108934248954,null,5.611108934248954,null,1.0,null,1.0,5.611108934248954,5.499999999999999,5.611108934248954,5.611108934248954,11.0,5.611108934248954,5.611108934248954,5.611108934248954,null,null,null,5.611108934248954,null,4.0,5.611108934248954,5.611108934248954,5.611108934248954,5.611108934248954,null,null,17.0,5.611108934248954,5.611108934248954,5.611108934248954,1.0,5.611108934248954,1.0,null,5.611108934248954,5.611108934248954,5.611108934248954,1.0,6.0,27.0,null,null,5.611108934248954,1.0,null,null,null,null,11.666666666666668,null,5.611108934248954,24.000000000000004,6.2,5.611108934248954,5.611108934248954,3.0,0.6666666666666666,5.611108934248954,null,null,5.611108934248954,null,5.611108934248954,null,7.000000000000001,null,5.611108934248954,5.611108934248954,5.611108934248954,null,5.611108934248954,4.0,null,5.611108934248954,5.611108934248954,5.611108934248954,2.9999999999999996,1.0,1.0,5.611108934248954,5.611108934248954,5.611108934248954,40.99999999999999,5.611108934248954,5.611108934248954,26.999999999999996,null,13.5,5.611108934248954,null,5.611108934248954,5.611108934248954,4.0,5.611108934248954,7.0,4.0,5.611108934248954,5.611108934248954,null,5.611108934248954,5.611108934248954,5.611108934248954,null,null,5.611108934248954,null,10.0,5.611108934248954,5.611108934248954,5.611108934248954,null,5.611108934248954,null,5.611108934248954,5.611108934248954,null,null,5.611108934248954,26.0,5.611108934248954,5.611108934248954,5.611108934248954,null,5.611108934248954,6.0,null,5.611108934248954,5.611108934248954,5.611108934248954,5.611108934248954,5.611108934248954,0.0,15.137931034482756,19.5,5.611108934248954,null,10.203703703703702,54.0,5.611108934248954,12.0,6.809523809523809,81.99999999999999,null,7.41666666666667,36.888888888888886,286.99999999999994,7.23529411764706,5.611108934248954,5.611108934248954,11.749999999999998,29.399999999999995,5.466666666666667,5.611108934248954,5.611108934248954,6.374999999999999,35.0,14.0,15.928571428571427,3.4444444444444446,27.5,15.46296296296296,5.611108934248954,94.66666666666666,20.000000000000004,null,24.571428571428573,39.400000000000006,null,9.499999999999998,8.5,24.799999999999997,120.0,8.176470588235293,31.999999999999996,19.33333333333333,5.611108934248954,5.611108934248954,5.611108934248954,5.611108934248954,16.430555555555557,5.611108934248954,9.0,null,19.363636363636363,null,22.270833333333336,5.611108934248954,6.5,8.0,5.611108934248954,5.425,null,5.352941176470588,24.285714285714285,2.3214285714285716,5.611108934248954,null,6.896000000000001,2.6666666666666665,18.666666666666668,7.608695652173912,null,4.319727891156462,5.4333333333333345,8.11111111111111,5.611108934248954,5.611108934248954,null,null,7.787037037037038,4.294117647058823,38.61111111111111,16.884615384615387,24.33333333333333,null,8.999999999999998,63.2,31.5,20.0,28.111111111111114,5.611108934248954,null,30.0,23.299999999999997,7.833333333333333,14.888888888888888,14.873873873873872,4.419354838709677,14.2,8.56521739130435,37.25,10.750000000000002,12.782608695652174,5.310344827586207,10.444444444444445,1.0,24.666666666666668,5.263157894736842,5.611108934248954,19.473684210526315,20.333333333333332,15.363636363636362,null,null,6.199999999999999,5.611108934248954,11.6,10.0,22.500000000000004,48.14285714285715,95.0,13.0,null,7.5,5.611108934248954,25.853658536585364,35.333333333333336,5.454545454545454,16.31111111111111,31.27272727272726,6.666666666666667,5.25,13.0,8.724137931034482,5.611108934248954,10.203703703703702,null,8.75,35.0,5.611108934248954,5.611108934248954,13.857142857142858,5.611108934248954,15.4,null,null,5.611108934248954,5.611108934248954,5.611108934248954,54.28571428571429,6.12,28.88888888888889,null,3.0,15.137931034482756,8.633027522935778,null,5.611108934248954,5.611108934248954,14.107142857142858,10.785714285714286,5.611108934248954,5.611108934248954,1.0,10.0,5.611108934248954,null,5.611108934248954,null,23.499999999999996,5.611108934248954,46.5,86.5,5.611108934248954,null,3.2,5.611108934248954,22.5,5.611108934248954,5.611108934248954,5.611108934248954,null,5.611108934248954,null,5.611108934248954,7.5,null,17.05263157894737,4.749999999999999,null,24.666666666666668,2.6363636363636362,5.611108934248954,5.611108934248954,1.9,4.666666666666667,null,5.833333333333334,null,5.611108934248954,null,5.611108934248954,5.611108934248954,1.7037037037037037,null,5.611108934248954,27.0,5.611108934248954,5.611108934248954,37.0,53.0,5.611108934248954,15.69230769230769,21.0,29.00000000000001,null,1.736842105263158,24.571428571428573,2.833333333333334,null,5.611108934248954,5.611108934248954,20.0,64.5,1.7142857142857142,null,null,5.611108934248954,null,8.15625,5.611108934248954,null,5.611108934248954,11.25,14.750000000000002,5.944444444444445,5.611108934248954,null,4.571428571428571,5.611108934248954,9.53846153846154,5.611108934248954,null,5.611108934248954,12.14285714285714,17.571428571428573,5.611108934248954,2.0,13.0,null,null,33.0,3.3061224489795933,7.0,5.611108934248954,10.307692307692305,5.611108934248954,15.0,null,5.611108934248954,5.611108934248954,null,1.8,5.611108934248954,5.611108934248954,18.0,43.00000000000001,11.739130434782608,null,null,5.611108934248954,5.611108934248954,7.9333333333333345,14.11111111111111,5.611108934248954,5.611108934248954,5.611108934248954,null,6.333333333333333,5.611108934248954,5.611108934248954,16.0,5.611108934248954,6.666666666666668,3.916666666666666,9.200000000000001,55.0,5.611108934248954,18.91666666666666,13.0,3.611111111111111,null,5.571428571428572,5.611108934248954,22.000000000000004,5.25,9.0,8.727272727272728,null,5.611108934248954,11.16,5.611108934248954,null,23.444444444444443,18.0,null,2.2,9.057142857142855,null,19.400000000000002,18.999999999999996,1.3599999999999999,null,null,null,null,null,5.611108934248954,5.611108934248954,34.99999999999999,15.0,0.28571428571428575,14.230769230769232,31.0,5.611108934248954,5.0,19.750000000000004,5.611108934248954,null,5.611108934248954,30.22222222222222,28.538461538461537,10.75,30.73333333333333,5.611108934248954,5.611108934248954,5.611108934248954,null,5.611108934248954,5.611108934248954,15.529411764705884,5.611108934248954,null,5.611108934248954,10.076923076923077,7.2142857142857135,5.611108934248954,5.611108934248954,11.555555555555557,4.000000000000001,5.611108934248954,37.60000000000001,26.25,10.999999999999996,29.28571428571428,null,5.000000000000001,1.3333333333333333,5.611108934248954,5.611108934248954,5.611108934248954,null,5.611108934248954,5.611108934248954,5.611108934248954,null,5.611108934248954,null,null,5.611108934248954,null,36.00000000000001,5.611108934248954,null,5.611108934248954,19.666666666666664,null,null,5.611108934248954,48.0,null,null,5.611108934248954,null,null,null,null,82.0,null,158.00000000000003,72.0,null,null,null,null,null,null,6.0,null,92.00000000000003,18.8,null,null,null,null,5.611108934248954,91.0,null,5.611108934248954,5.611108934248954,5.611108934248954,1.0,5.611108934248954,5.611108934248954,5.611108934248954,5.611108934248954,5.611108934248954,5.611108934248954,12.999999999999998,2.45,null,5.611108934248954,1.8421052631578947,1.8,null,null,4.25,5.611108934248954,1.52,5.611108934248954,5.611108934248954,5.0,null,5.611108934248954,5.611108934248954,5.611108934248954,5.611108934248954,20.0,5.611108934248954,2.5301204819277103,6.256410256410255,2.155555555555556,5.611108934248954,3.2666666666666666,null,5.611108934248954,5.611108934248954,null,null,3.739130434782609,5.611108934248954,5.611108934248954,5.611108934248954,5.611108934248954,3.4999999999999996,5.611108934248954,6.666666666666667,5.611108934248954,5.611108934248954,1.2142857142857142,5.611108934248954,2.0,5.611108934248954,5.611108934248954,3.8695652173913047,4.6,9.500000000000002,10.0,1.0666666666666667,5.611108934248954,5.611108934248954,5.611108934248954,0.0,5.611108934248954,5.611108934248954,5.611108934248954,5.611108934248954,5.611108934248954,5.611108934248954,null,5.611108934248954,0.7777777777777778,5.611108934248954,5.611108934248954,2.0,5.611108934248954,3.35,5.4,60.0,1.0,9.0,8.46153846153846,5.611108934248954,5.611108934248954,5.611108934248954,5.611108934248954,5.611108934248954,11.428571428571429,5.611108934248954,null,0.0,0.6111111111111112,34.00000000000001,5.611108934248954,3.627906976744185,0.95,5.611108934248954,0.8,5.611108934248954,5.611108934248954,11.142857142857142,9.25,5.611108934248954,2.0,5.611108934248954,5.611108934248954,0.33333333333333337,2.6,0.6363636363636364,4.529411764705882,5.611108934248954,2.294117647058824,0.8400000000000002,1.6363636363636365,3.75,2.4615384615384617,3.75,5.611108934248954,5.611108934248954,5.611108934248954,9.0,5.611108934248954,5.611108934248954,0.85,null,1.6666666666666667,5.611108934248954,5.611108934248954,null,5.611108934248954,2.951219512195122,5.611108934248954,3.6153846153846154,null,5.5,11.0,2.0,null,1.5,2.888888888888889,null,5.611108934248954,15.833333333333336,null,5.611108934248954,5.611108934248954,3.2,5.611108934248954,24.0,5.611108934248954,53.333333333333336,5.611108934248954,3.0,5.611108934248954,31.0,20.0,5.611108934248954,4.333333333333333,null,3.466666666666667,13.684210526315788,10.0,5.611108934248954,5.611108934248954,5.611108934248954,5.611108934248954,7.647058823529411,18.916666666666664,0.0,1.8571428571428572,18.0,5.611108934248954,5.611108934248954,5.611108934248954,5.611108934248954,5.611108934248954,0.27272727272727276,5.611108934248954,7.857142857142856,1.1666666666666667,5.611108934248954,5.611108934248954,13.666666666666666,0.7142857142857144,5.611108934248954,7.964285714285714,null,5.611108934248954,1.956521739130435,5.611108934248954,5.611108934248954,5.611108934248954,0.4,5.611108934248954,2.4533333333333336,0.0,8.533333333333333,null,5.611108934248954,5.611108934248954,18.0,5.611108934248954,1.4,5.611108934248954,0.0,3.61764705882353,1.6,5.611108934248954,5.611108934248954,5.611108934248954,5.611108934248954,5.611108934248954,5.611108934248954,5.611108934248954,5.611108934248954,3.1481481481481484,5.611108934248954,14.0,5.611108934248954,5.611108934248954,10.333333333333334,1.6666666666666667,5.611108934248954,5.611108934248954,5.611108934248954,1.0,5.611108934248954,4.375,2.142857142857143,15.5,null,10.999999999999998,5.611108934248954,null,6.521739130434782,5.611108934248954,3.023809523809523,null,5.611108934248954,13.333333333333334,null,4.666666666666667,5.611108934248954,null,4.526315789473684,2.05,18.33333333333333,3.6666666666666665,0.9230769230769232,3.0,2.473684210526316,5.611108934248954,5.611108934248954,3.0,5.611108934248954,5.611108934248954,2.25,5.611108934248954,1.0555555555555556,20.0,null,2.066666666666667,48.0,1.25,5.611108934248954,0.7272727272727273,6.615384615384617,0.6666666666666666,1.6,4.0,5.611108934248954,1.4166666666666667,5.611108934248954,3.7272727272727266,3.6,19.0,5.611108934248954,3.9411764705882355,5.611108934248954,5.611108934248954,2.975,1.75,2.4615384615384617,5.611108934248954,3.888888888888889,2.8,3.125,6.699999999999999,5.611108934248954,2.0,5.611108934248954,0.42857142857142855,5.611108934248954,1.6666666666666667,5.857142857142856,5.611108934248954,19.0,5.611108934248954,5.611108934248954,5.611108934248954,20.0,3.9375,5.611108934248954,5.611108934248954,5.611108934248954,5.611108934248954,5.611108934248954,5.611108934248954,5.611108934248954,5.611108934248954,5.611108934248954,5.611108934248954,5.611108934248954,5.611108934248954,5.611108934248954,5.611108934248954,6.333333333333333,20.0,5.611108934248954,5.473684210526316,5.611108934248954,1.8399999999999999,5.611108934248954,0.5,5.611108934248954,5.611108934248954,null,2.12,0.6875,5.611108934248954,5.611108934248954,5.611108934248954,3.5,4.5,1.9,6.428571428571429,20.0,1.2500000000000002,11.11111111111111,19.333333333333332,5.611108934248954,5.611108934248954,20.0,2.3750000000000004,21.4,11.875000000000002,2.5,1.0,0.5555555555555556,5.611108934248954,5.0,3.4444444444444446,1.0,5.611108934248954,4.0,5.611108934248954,5.611108934248954,5.611108934248954,0.7,null,5.611108934248954,5.611108934248954,5.611108934248954,0.96969696969697,5.611108934248954,5.611108934248954,1.8,null,5.749999999999999,1.0,5.611108934248954,5.611108934248954,5.611108934248954,5.611108934248954,0.25,5.611108934248954,null,null,5.611108934248954,2.1333333333333333,5.611108934248954,5.611108934248954,5.611108934248954,5.611108934248954,5.611108934248954,5.611108934248954,5.611108934248954,5.611108934248954,5.611108934248954],\"y0\":\" \",\"yaxis\":\"y\",\"type\":\"box\"}],                        {\"template\":{\"data\":{\"bar\":[{\"error_x\":{\"color\":\"#2a3f5f\"},\"error_y\":{\"color\":\"#2a3f5f\"},\"marker\":{\"line\":{\"color\":\"#E5ECF6\",\"width\":0.5},\"pattern\":{\"fillmode\":\"overlay\",\"size\":10,\"solidity\":0.2}},\"type\":\"bar\"}],\"barpolar\":[{\"marker\":{\"line\":{\"color\":\"#E5ECF6\",\"width\":0.5},\"pattern\":{\"fillmode\":\"overlay\",\"size\":10,\"solidity\":0.2}},\"type\":\"barpolar\"}],\"carpet\":[{\"aaxis\":{\"endlinecolor\":\"#2a3f5f\",\"gridcolor\":\"white\",\"linecolor\":\"white\",\"minorgridcolor\":\"white\",\"startlinecolor\":\"#2a3f5f\"},\"baxis\":{\"endlinecolor\":\"#2a3f5f\",\"gridcolor\":\"white\",\"linecolor\":\"white\",\"minorgridcolor\":\"white\",\"startlinecolor\":\"#2a3f5f\"},\"type\":\"carpet\"}],\"choropleth\":[{\"colorbar\":{\"outlinewidth\":0,\"ticks\":\"\"},\"type\":\"choropleth\"}],\"contour\":[{\"colorbar\":{\"outlinewidth\":0,\"ticks\":\"\"},\"colorscale\":[[0.0,\"#0d0887\"],[0.1111111111111111,\"#46039f\"],[0.2222222222222222,\"#7201a8\"],[0.3333333333333333,\"#9c179e\"],[0.4444444444444444,\"#bd3786\"],[0.5555555555555556,\"#d8576b\"],[0.6666666666666666,\"#ed7953\"],[0.7777777777777778,\"#fb9f3a\"],[0.8888888888888888,\"#fdca26\"],[1.0,\"#f0f921\"]],\"type\":\"contour\"}],\"contourcarpet\":[{\"colorbar\":{\"outlinewidth\":0,\"ticks\":\"\"},\"type\":\"contourcarpet\"}],\"heatmap\":[{\"colorbar\":{\"outlinewidth\":0,\"ticks\":\"\"},\"colorscale\":[[0.0,\"#0d0887\"],[0.1111111111111111,\"#46039f\"],[0.2222222222222222,\"#7201a8\"],[0.3333333333333333,\"#9c179e\"],[0.4444444444444444,\"#bd3786\"],[0.5555555555555556,\"#d8576b\"],[0.6666666666666666,\"#ed7953\"],[0.7777777777777778,\"#fb9f3a\"],[0.8888888888888888,\"#fdca26\"],[1.0,\"#f0f921\"]],\"type\":\"heatmap\"}],\"heatmapgl\":[{\"colorbar\":{\"outlinewidth\":0,\"ticks\":\"\"},\"colorscale\":[[0.0,\"#0d0887\"],[0.1111111111111111,\"#46039f\"],[0.2222222222222222,\"#7201a8\"],[0.3333333333333333,\"#9c179e\"],[0.4444444444444444,\"#bd3786\"],[0.5555555555555556,\"#d8576b\"],[0.6666666666666666,\"#ed7953\"],[0.7777777777777778,\"#fb9f3a\"],[0.8888888888888888,\"#fdca26\"],[1.0,\"#f0f921\"]],\"type\":\"heatmapgl\"}],\"histogram\":[{\"marker\":{\"pattern\":{\"fillmode\":\"overlay\",\"size\":10,\"solidity\":0.2}},\"type\":\"histogram\"}],\"histogram2d\":[{\"colorbar\":{\"outlinewidth\":0,\"ticks\":\"\"},\"colorscale\":[[0.0,\"#0d0887\"],[0.1111111111111111,\"#46039f\"],[0.2222222222222222,\"#7201a8\"],[0.3333333333333333,\"#9c179e\"],[0.4444444444444444,\"#bd3786\"],[0.5555555555555556,\"#d8576b\"],[0.6666666666666666,\"#ed7953\"],[0.7777777777777778,\"#fb9f3a\"],[0.8888888888888888,\"#fdca26\"],[1.0,\"#f0f921\"]],\"type\":\"histogram2d\"}],\"histogram2dcontour\":[{\"colorbar\":{\"outlinewidth\":0,\"ticks\":\"\"},\"colorscale\":[[0.0,\"#0d0887\"],[0.1111111111111111,\"#46039f\"],[0.2222222222222222,\"#7201a8\"],[0.3333333333333333,\"#9c179e\"],[0.4444444444444444,\"#bd3786\"],[0.5555555555555556,\"#d8576b\"],[0.6666666666666666,\"#ed7953\"],[0.7777777777777778,\"#fb9f3a\"],[0.8888888888888888,\"#fdca26\"],[1.0,\"#f0f921\"]],\"type\":\"histogram2dcontour\"}],\"mesh3d\":[{\"colorbar\":{\"outlinewidth\":0,\"ticks\":\"\"},\"type\":\"mesh3d\"}],\"parcoords\":[{\"line\":{\"colorbar\":{\"outlinewidth\":0,\"ticks\":\"\"}},\"type\":\"parcoords\"}],\"pie\":[{\"automargin\":true,\"type\":\"pie\"}],\"scatter\":[{\"marker\":{\"colorbar\":{\"outlinewidth\":0,\"ticks\":\"\"}},\"type\":\"scatter\"}],\"scatter3d\":[{\"line\":{\"colorbar\":{\"outlinewidth\":0,\"ticks\":\"\"}},\"marker\":{\"colorbar\":{\"outlinewidth\":0,\"ticks\":\"\"}},\"type\":\"scatter3d\"}],\"scattercarpet\":[{\"marker\":{\"colorbar\":{\"outlinewidth\":0,\"ticks\":\"\"}},\"type\":\"scattercarpet\"}],\"scattergeo\":[{\"marker\":{\"colorbar\":{\"outlinewidth\":0,\"ticks\":\"\"}},\"type\":\"scattergeo\"}],\"scattergl\":[{\"marker\":{\"colorbar\":{\"outlinewidth\":0,\"ticks\":\"\"}},\"type\":\"scattergl\"}],\"scattermapbox\":[{\"marker\":{\"colorbar\":{\"outlinewidth\":0,\"ticks\":\"\"}},\"type\":\"scattermapbox\"}],\"scatterpolar\":[{\"marker\":{\"colorbar\":{\"outlinewidth\":0,\"ticks\":\"\"}},\"type\":\"scatterpolar\"}],\"scatterpolargl\":[{\"marker\":{\"colorbar\":{\"outlinewidth\":0,\"ticks\":\"\"}},\"type\":\"scatterpolargl\"}],\"scatterternary\":[{\"marker\":{\"colorbar\":{\"outlinewidth\":0,\"ticks\":\"\"}},\"type\":\"scatterternary\"}],\"surface\":[{\"colorbar\":{\"outlinewidth\":0,\"ticks\":\"\"},\"colorscale\":[[0.0,\"#0d0887\"],[0.1111111111111111,\"#46039f\"],[0.2222222222222222,\"#7201a8\"],[0.3333333333333333,\"#9c179e\"],[0.4444444444444444,\"#bd3786\"],[0.5555555555555556,\"#d8576b\"],[0.6666666666666666,\"#ed7953\"],[0.7777777777777778,\"#fb9f3a\"],[0.8888888888888888,\"#fdca26\"],[1.0,\"#f0f921\"]],\"type\":\"surface\"}],\"table\":[{\"cells\":{\"fill\":{\"color\":\"#EBF0F8\"},\"line\":{\"color\":\"white\"}},\"header\":{\"fill\":{\"color\":\"#C8D4E3\"},\"line\":{\"color\":\"white\"}},\"type\":\"table\"}]},\"layout\":{\"annotationdefaults\":{\"arrowcolor\":\"#2a3f5f\",\"arrowhead\":0,\"arrowwidth\":1},\"autotypenumbers\":\"strict\",\"coloraxis\":{\"colorbar\":{\"outlinewidth\":0,\"ticks\":\"\"}},\"colorscale\":{\"diverging\":[[0,\"#8e0152\"],[0.1,\"#c51b7d\"],[0.2,\"#de77ae\"],[0.3,\"#f1b6da\"],[0.4,\"#fde0ef\"],[0.5,\"#f7f7f7\"],[0.6,\"#e6f5d0\"],[0.7,\"#b8e186\"],[0.8,\"#7fbc41\"],[0.9,\"#4d9221\"],[1,\"#276419\"]],\"sequential\":[[0.0,\"#0d0887\"],[0.1111111111111111,\"#46039f\"],[0.2222222222222222,\"#7201a8\"],[0.3333333333333333,\"#9c179e\"],[0.4444444444444444,\"#bd3786\"],[0.5555555555555556,\"#d8576b\"],[0.6666666666666666,\"#ed7953\"],[0.7777777777777778,\"#fb9f3a\"],[0.8888888888888888,\"#fdca26\"],[1.0,\"#f0f921\"]],\"sequentialminus\":[[0.0,\"#0d0887\"],[0.1111111111111111,\"#46039f\"],[0.2222222222222222,\"#7201a8\"],[0.3333333333333333,\"#9c179e\"],[0.4444444444444444,\"#bd3786\"],[0.5555555555555556,\"#d8576b\"],[0.6666666666666666,\"#ed7953\"],[0.7777777777777778,\"#fb9f3a\"],[0.8888888888888888,\"#fdca26\"],[1.0,\"#f0f921\"]]},\"colorway\":[\"#636efa\",\"#EF553B\",\"#00cc96\",\"#ab63fa\",\"#FFA15A\",\"#19d3f3\",\"#FF6692\",\"#B6E880\",\"#FF97FF\",\"#FECB52\"],\"font\":{\"color\":\"#2a3f5f\"},\"geo\":{\"bgcolor\":\"white\",\"lakecolor\":\"white\",\"landcolor\":\"#E5ECF6\",\"showlakes\":true,\"showland\":true,\"subunitcolor\":\"white\"},\"hoverlabel\":{\"align\":\"left\"},\"hovermode\":\"closest\",\"mapbox\":{\"style\":\"light\"},\"paper_bgcolor\":\"white\",\"plot_bgcolor\":\"#E5ECF6\",\"polar\":{\"angularaxis\":{\"gridcolor\":\"white\",\"linecolor\":\"white\",\"ticks\":\"\"},\"bgcolor\":\"#E5ECF6\",\"radialaxis\":{\"gridcolor\":\"white\",\"linecolor\":\"white\",\"ticks\":\"\"}},\"scene\":{\"xaxis\":{\"backgroundcolor\":\"#E5ECF6\",\"gridcolor\":\"white\",\"gridwidth\":2,\"linecolor\":\"white\",\"showbackground\":true,\"ticks\":\"\",\"zerolinecolor\":\"white\"},\"yaxis\":{\"backgroundcolor\":\"#E5ECF6\",\"gridcolor\":\"white\",\"gridwidth\":2,\"linecolor\":\"white\",\"showbackground\":true,\"ticks\":\"\",\"zerolinecolor\":\"white\"},\"zaxis\":{\"backgroundcolor\":\"#E5ECF6\",\"gridcolor\":\"white\",\"gridwidth\":2,\"linecolor\":\"white\",\"showbackground\":true,\"ticks\":\"\",\"zerolinecolor\":\"white\"}},\"shapedefaults\":{\"line\":{\"color\":\"#2a3f5f\"}},\"ternary\":{\"aaxis\":{\"gridcolor\":\"white\",\"linecolor\":\"white\",\"ticks\":\"\"},\"baxis\":{\"gridcolor\":\"white\",\"linecolor\":\"white\",\"ticks\":\"\"},\"bgcolor\":\"#E5ECF6\",\"caxis\":{\"gridcolor\":\"white\",\"linecolor\":\"white\",\"ticks\":\"\"}},\"title\":{\"x\":0.05},\"xaxis\":{\"automargin\":true,\"gridcolor\":\"white\",\"linecolor\":\"white\",\"ticks\":\"\",\"title\":{\"standoff\":15},\"zerolinecolor\":\"white\",\"zerolinewidth\":2},\"yaxis\":{\"automargin\":true,\"gridcolor\":\"white\",\"linecolor\":\"white\",\"ticks\":\"\",\"title\":{\"standoff\":15},\"zerolinecolor\":\"white\",\"zerolinewidth\":2}}},\"xaxis\":{\"anchor\":\"y\",\"domain\":[0.0,1.0]},\"yaxis\":{\"anchor\":\"x\",\"domain\":[0.0,1.0],\"title\":{\"text\":\"razao_likes_deslikes\"}},\"legend\":{\"tracegroupgap\":0},\"margin\":{\"t\":60},\"boxmode\":\"group\"},                        {\"responsive\": true}                    ).then(function(){\n",
       "                            \n",
       "var gd = document.getElementById('f75ebbe4-7bb2-49d2-84ee-983e246ef23d');\n",
       "var x = new MutationObserver(function (mutations, observer) {{\n",
       "        var display = window.getComputedStyle(gd).display;\n",
       "        if (!display || display === 'none') {{\n",
       "            console.log([gd, 'removed!']);\n",
       "            Plotly.purge(gd);\n",
       "            observer.disconnect();\n",
       "        }}\n",
       "}});\n",
       "\n",
       "// Listen for the removal of the full notebook cells\n",
       "var notebookContainer = gd.closest('#notebook-container');\n",
       "if (notebookContainer) {{\n",
       "    x.observe(notebookContainer, {childList: true});\n",
       "}}\n",
       "\n",
       "// Listen for the clearing of the current output cell\n",
       "var outputEl = gd.closest('.output');\n",
       "if (outputEl) {{\n",
       "    x.observe(outputEl, {childList: true});\n",
       "}}\n",
       "\n",
       "                        })                };                            </script>        </div>\n",
       "</body>\n",
       "</html>"
      ]
     },
     "metadata": {},
     "output_type": "display_data"
    }
   ],
   "source": [
    "fig = px.box(churn_enriq,y='razao_likes_deslikes',)\n",
    "fig.show()"
   ]
  },
  {
   "cell_type": "code",
   "execution_count": null,
   "metadata": {
    "colab": {
     "base_uri": "https://localhost:8080/"
    },
    "executionInfo": {
     "elapsed": 12,
     "status": "ok",
     "timestamp": 1643330813883,
     "user": {
      "displayName": "Matheus Scheffer",
      "photoUrl": "https://lh3.googleusercontent.com/a-/AOh14GglPDI7gdLFED26W1SJncCIZFA5A-5rjTBcxfjH=s64",
      "userId": "18314476337770992076"
     },
     "user_tz": 180
    },
    "id": "LBug06OnXuR2",
    "outputId": "c8474c6f-4ee3-4ce2-f535-05f78893dbeb"
   },
   "outputs": [
    {
     "data": {
      "text/plain": [
       "Box({\n",
       "    'x': array([7.5       , 1.13432836,        inf, ..., 5.61110893, 5.61110893,\n",
       "          5.61110893])\n",
       "})"
      ]
     },
     "execution_count": 23,
     "metadata": {},
     "output_type": "execute_result"
    }
   ],
   "source": [
    "go.Box(x=churn_enriq.razao_likes_deslikes)"
   ]
  },
  {
   "cell_type": "code",
   "execution_count": null,
   "metadata": {
    "colab": {
     "base_uri": "https://localhost:8080/",
     "height": 542
    },
    "executionInfo": {
     "elapsed": 316,
     "status": "ok",
     "timestamp": 1643330818561,
     "user": {
      "displayName": "Matheus Scheffer",
      "photoUrl": "https://lh3.googleusercontent.com/a-/AOh14GglPDI7gdLFED26W1SJncCIZFA5A-5rjTBcxfjH=s64",
      "userId": "18314476337770992076"
     },
     "user_tz": 180
    },
    "id": "4ySRwhJrXRyC",
    "outputId": "16a04442-9f94-45f4-936f-54d7e9aa4651"
   },
   "outputs": [
    {
     "data": {
      "text/html": [
       "<html>\n",
       "<head><meta charset=\"utf-8\" /></head>\n",
       "<body>\n",
       "    <div>            <script src=\"https://cdnjs.cloudflare.com/ajax/libs/mathjax/2.7.5/MathJax.js?config=TeX-AMS-MML_SVG\"></script><script type=\"text/javascript\">if (window.MathJax) {MathJax.Hub.Config({SVG: {font: \"STIX-Web\"}});}</script>                <script type=\"text/javascript\">window.PlotlyConfig = {MathJaxConfig: 'local'};</script>\n",
       "        <script src=\"https://cdn.plot.ly/plotly-2.8.3.min.js\"></script>                <div id=\"2b14e713-3062-4a21-aac0-951c1293e276\" class=\"plotly-graph-div\" style=\"height:525px; width:100%;\"></div>            <script type=\"text/javascript\">                                    window.PLOTLYENV=window.PLOTLYENV || {};                                    if (document.getElementById(\"2b14e713-3062-4a21-aac0-951c1293e276\")) {                    Plotly.newPlot(                        \"2b14e713-3062-4a21-aac0-951c1293e276\",                        [{\"x\":[7.5,1.1343283582089554,null,3.75,7.5,2.15625,0.9562043795620437,4.666666666666667,5.611108934248954,4.08974358974359,5.611108934248954,2.34375,null,6.999999999999998,0.8,18.5,3.416666666666667,2.0508474576271194,2.7027027027027035,4.067484662576686,null,5.611108934248954,2.5769230769230775,3.6633663366336635,43.0,4.783132530120481,3.2297297297297294,3.5945945945945947,7.750000000000001,null,null,8.0,5.611108934248954,2.5,44.0,17.000000000000004,0.7241379310344828,10.23529411764706,7.25,11.45,0.5,8.333333333333334,5.611108934248954,5.611108934248954,4.545454545454546,8.882352941176471,null,1.9636363636363636,5.611108934248954,5.611108934248954,null,10.0,3.8666666666666667,3.1818181818181817,2.5294117647058822,5.611108934248954,null,12.666666666666666,17.000000000000004,5.611108934248954,8.0,null,null,3.75,5.611108934248954,9.566666666666668,5.611108934248954,5.611108934248954,5.611108934248954,5.45,7.799999999999999,5.611108934248954,6.0,null,4.675,7.1,19.799999999999997,8.0,2.388888888888889,10.882352941176471,7.25,null,35.5,8.25,6.52,4.019230769230769,4.513513513513513,7.666666666666667,3.8750000000000004,9.0,4.897435897435897,5.611108934248954,39.0,1.3037383177570094,5.611108934248954,3.958333333333334,6.0,4.794520547945206,5.088235294117647,2.8000000000000003,2.0670731707317067,0.25,7.0,3.3043478260869565,7.0,5.611108934248954,2.9000000000000004,5.611108934248954,4.023529411764706,2.3939393939393945,5.611108934248954,5.239999999999999,2.6813186813186816,3.2093023255813953,1.941176470588235,2.130434782608696,5.611108934248954,2.660714285714286,5.611108934248954,4.545454545454545,3.0,2.75,2.6,0.782608695652174,10.666666666666666,5.611108934248954,12.25,9.0,2.769230769230769,5.5,12.000000000000002,2.4666666666666663,3.1190476190476186,5.611108934248954,null,null,5.611108934248954,2.1,24.166666666666668,5.611108934248954,5.611108934248954,3.4062500000000013,5.611108934248954,3.5000000000000004,5.611108934248954,4.564102564102564,4.0,8.0,11.285714285714286,8.833333333333332,6.888888888888889,1.25,5.611108934248954,5.611108934248954,1.8059701492537312,6.0,11.25,6.175000000000001,13.666666666666668,5.611108934248954,5.611108934248954,2.0733944954128445,5.611108934248954,8.347826086956522,5.611108934248954,5.833333333333333,5.611108934248954,null,5.611108934248954,1.0762331838565022,5.611108934248954,3.827586206896551,5.892857142857143,23.5,4.25,10.4,3.8095238095238093,2.9166666666666665,11.428571428571429,7.07843137254902,3.87037037037037,16.0,16.800000000000004,5.437500000000001,5.611108934248954,4.846153846153845,3.386138613861385,11.999999999999998,4.206896551724138,7.033333333333333,null,3.6666666666666665,null,11.000000000000004,1.2857142857142858,4.6,3.5,5.611108934248954,5.611108934248954,5.907407407407407,5.611108934248954,3.9591836734693877,4.6063829787234045,9.966666666666669,10.555555555555555,8.571428571428573,9.9,5.611108934248954,7.393939393939394,5.666666666666667,7.545454545454546,5.611108934248954,3.6595744680851063,2.596385542168675,9.391304347826086,5.6875,9.749999999999998,4.758620689655173,5.611108934248954,8.25,1.5400000000000003,5.611108934248954,4.636363636363636,4.447761194029851,6.166666666666666,7.113207547169812,2.57843137254902,11.875000000000002,2.5,8.0,4.825,5.611108934248954,2.3333333333333335,null,5.611108934248954,2.25,1.5,8.863636363636363,1.2,1.5890410958904113,1.75,5.611108934248954,4.796296296296298,1.894736842105263,5.611108934248954,6.833333333333333,10.0,5.611108934248954,11.0,5.611108934248954,4.911764705882354,0.9444444444444443,11.333333333333336,23.0,null,1.0615384615384618,5.611108934248954,7.787878787878789,5.611108934248954,11.714285714285712,5.611108934248954,5.0,5.611108934248954,5.611108934248954,5.611108934248954,1.4285714285714286,5.611108934248954,4.586956521739129,1.4936708860759493,1.58,5.611108934248954,10.375000000000002,5.611108934248954,null,4.666666666666667,3.175,null,9.500000000000002,10.0,7.222222222222224,5.611108934248954,5.611108934248954,2.8,1.3921568627450978,5.611108934248954,5.611108934248954,4.4,3.2857142857142856,5.611108934248954,6.46875,4.0,5.611108934248954,16.000000000000004,5.611108934248954,1.8333333333333333,null,5.611108934248954,6.250000000000001,4.600000000000001,8.0,2.4545454545454546,5.611108934248954,5.611108934248954,5.611108934248954,3.0,5.611108934248954,5.551724137931035,5.611108934248954,0.2,2.0,0.2,5.611108934248954,0.9562043795620437,5.611108934248954,5.611108934248954,5.611108934248954,5.611108934248954,5.611108934248954,5.611108934248954,null,5.611108934248954,5.611108934248954,3.064516129032257,4.333333333333334,null,42.0,1.5,12.5,5.611108934248954,null,1.4999999999999998,2.7500000000000004,2.0,0.0,2.0,5.611108934248954,2.0,2.2500000000000004,3.0,5.611108934248954,null,2.0,2.0,1.0,0.0,5.611108934248954,20.000000000000004,9.448275862068966,6.999999999999999,10.25,5.785714285714287,13.666666666666666,1.0,3.391304347826086,8.941176470588236,11.0,3.4687499999999996,23.333333333333332,11.0,5.611108934248954,5.611108934248954,6.25,2.0,7.0,5.611108934248954,1.0,21.000000000000004,2.6285714285714277,1.5,8.049999999999999,null,4.428571428571429,1.3030303030303032,5.611108934248954,6.5,6.875000000000001,0.2,29.25,4.057142857142857,62.99999999999999,2.8596491228070176,2.9411764705882355,2.4,8.333333333333334,null,22.999999999999996,10.0,25.500000000000007,17.0,5.611108934248954,5.611108934248954,5.611108934248954,5.611108934248954,5.611108934248954,5.611108934248954,5.611108934248954,5.611108934248954,5.611108934248954,5.611108934248954,5.611108934248954,5.611108934248954,5.611108934248954,5.611108934248954,5.611108934248954,5.611108934248954,5.611108934248954,5.611108934248954,5.611108934248954,5.611108934248954,5.611108934248954,5.611108934248954,5.611108934248954,5.611108934248954,5.611108934248954,5.611108934248954,5.611108934248954,5.611108934248954,5.611108934248954,5.611108934248954,5.611108934248954,5.611108934248954,5.611108934248954,5.611108934248954,5.611108934248954,5.611108934248954,5.611108934248954,5.611108934248954,5.611108934248954,5.611108934248954,5.611108934248954,5.611108934248954,5.611108934248954,5.611108934248954,5.611108934248954,5.611108934248954,5.611108934248954,5.611108934248954,5.611108934248954,5.611108934248954,5.611108934248954,5.611108934248954,5.611108934248954,5.611108934248954,5.611108934248954,5.611108934248954,5.611108934248954,5.611108934248954,5.611108934248954,5.611108934248954,5.611108934248954,5.611108934248954,5.611108934248954,5.611108934248954,5.611108934248954,5.611108934248954,5.611108934248954,5.611108934248954,5.611108934248954,5.611108934248954,5.611108934248954,5.611108934248954,5.611108934248954,5.611108934248954,5.611108934248954,5.611108934248954,5.611108934248954,5.611108934248954,5.611108934248954,5.611108934248954,5.611108934248954,5.611108934248954,5.611108934248954,5.611108934248954,5.611108934248954,5.611108934248954,5.611108934248954,5.611108934248954,5.611108934248954,5.611108934248954,5.611108934248954,5.611108934248954,5.611108934248954,5.611108934248954,5.611108934248954,5.611108934248954,5.611108934248954,5.611108934248954,5.611108934248954,5.611108934248954,5.611108934248954,5.611108934248954,5.611108934248954,5.611108934248954,5.611108934248954,5.611108934248954,5.611108934248954,5.611108934248954,5.611108934248954,5.611108934248954,5.611108934248954,5.611108934248954,5.611108934248954,5.611108934248954,5.611108934248954,5.611108934248954,5.611108934248954,5.611108934248954,5.611108934248954,5.611108934248954,5.611108934248954,5.611108934248954,5.611108934248954,5.611108934248954,5.611108934248954,5.611108934248954,5.611108934248954,5.611108934248954,5.611108934248954,5.611108934248954,5.611108934248954,5.611108934248954,5.611108934248954,5.611108934248954,5.611108934248954,5.611108934248954,5.611108934248954,5.611108934248954,5.611108934248954,5.611108934248954,5.2285714285714295,9.5,5.611108934248954,5.611108934248954,5.611108934248954,20.000000000000004,null,null,9.0,4.0,4.0,13.666666666666666,1.0,null,null,null,15.0,11.833333333333336,5.611108934248954,9.499999999999998,null,6.0,null,5.611108934248954,5.611108934248954,5.611108934248954,5.611108934248954,5.611108934248954,null,5.611108934248954,5.611108934248954,41.250000000000014,19.153846153846153,14.0,7.375000000000001,7.6,6.478260869565218,6.250000000000001,1.1666666666666667,2.192411924119241,5.611108934248954,4.0,5.611108934248954,15.0,6.0,12.0,26.0,6.0,5.611108934248954,null,5.611108934248954,5.611108934248954,35.0,7.333333333333332,2.25,4.822784810126582,7.17948717948718,18.0,1.583333333333333,37.99999999999999,9.15151515151515,null,15.636363636363637,null,1.0,5.310679611650485,2.333333333333333,4.924242424242425,5.611108934248954,5.611108934248954,10.666666666666666,5.187500000000002,5.611108934248954,5.611108934248954,29.0,30.0,2.9,6.499999999999999,1.0,null,null,5.611108934248954,3.5,3.5000000000000004,5.611108934248954,5.611108934248954,5.611108934248954,5.611108934248954,null,3.0,5.611108934248954,6.833333333333332,4.461538461538462,11.0,5.72,41.00000000000001,4.3076923076923075,2.0000000000000004,9.333333333333334,5.611108934248954,7.142857142857143,null,5.571428571428572,3.5,null,5.611108934248954,7.5,3.739130434782608,2.5000000000000004,3.4999999999999996,5.749999999999999,null,21.500000000000004,7.411764705882353,13.5,5.611108934248954,26.374999999999996,null,25.0,1.5897435897435896,46.99999999999999,5.76470588235294,23.5,1.1333333333333333,9.263157894736842,6.655172413793102,5.611108934248954,5.611108934248954,4.142857142857143,7.263157894736842,5.611108934248954,null,null,4.312500000000002,5.611108934248954,17.0,4.5,null,5.611108934248954,5.611108934248954,6.000000000000001,null,6.642857142857144,null,6.785714285714286,5.611108934248954,6.166666666666666,5.611108934248954,5.611108934248954,23.0,14.000000000000002,22.0,6.724999999999998,2.073033707865169,13.5,20.0,12.0,13.700000000000001,5.611108934248954,12.999999999999998,null,4.5,5.611108934248954,6.166666666666667,5.75,12.000000000000002,5.611108934248954,10.0,1.0,5.611108934248954,null,4.333333333333333,2.1999999999999997,2.857142857142857,5.611108934248954,null,5.714285714285714,null,5.611108934248954,20.0,10.0,5.611108934248954,null,6.428571428571429,5.611108934248954,null,1.0,5.611108934248954,10.888888888888891,13.333333333333334,1.0,5.333333333333333,10.0,0.0,5.611108934248954,null,5.611108934248954,5.611108934248954,22.999999999999996,5.611108934248954,5.611108934248954,8.799999999999999,5.611108934248954,9.0,null,null,5.611108934248954,null,37.499999999999986,10.0,5.611108934248954,5.611108934248954,18.666666666666668,5.611108934248954,5.611108934248954,5.611108934248954,5.611108934248954,null,10.105263157894736,null,4.88888888888889,null,18.0,8.117647058823529,4.947368421052631,null,1.6,null,3.5000000000000004,null,5.611108934248954,10.0,10.333333333333334,null,5.972602739726027,null,1.6666666666666667,11.499999999999998,null,6.5,5.611108934248954,null,null,4.736842105263158,13.285714285714285,null,null,2.0,7.814814814814815,10.666666666666666,5.611108934248954,1.0,22.0,null,2.75,6.999999999999998,5.611108934248954,5.611108934248954,5.611108934248954,0.5,2.357142857142857,5.611108934248954,5.611108934248954,0.25,null,5.611108934248954,5.611108934248954,5.611108934248954,1.4999999999999998,null,5.611108934248954,0.0,0.0,5.611108934248954,5.611108934248954,5.611108934248954,null,5.611108934248954,6.0,5.611108934248954,18.0,7.552631578947369,null,18.0,15.200000000000001,5.611108934248954,1.0,2.5000000000000004,1.0,1.0,5.611108934248954,null,14.999999999999996,5.611108934248954,1.0,null,5.611108934248954,3.0,1.0,4.0,null,5.611108934248954,5.611108934248954,2.25,1.6666666666666667,2.333333333333333,null,3.0,14.0,7.666666666666666,6.999999999999999,null,5.611108934248954,5.611108934248954,5.208333333333334,5.611108934248954,1.6666666666666667,3.3333333333333335,4.5,5.611108934248954,3.0,null,1.0,5.611108934248954,10.5,5.611108934248954,15.999999999999998,null,5.2857142857142865,1.0,5.611108934248954,5.0,5.611108934248954,25.000000000000007,null,2.285714285714285,17.5,2.8,1.0,null,10.666666666666666,5.611108934248954,10.5,3.9090909090909087,14.5,0.9090909090909092,1.0,9.6,1.0,5.611108934248954,5.611108934248954,1.0,null,16.5,7.5,5.611108934248954,1.2999999999999998,5.611108934248954,5.611108934248954,2.277777777777778,6.833333333333333,13.250000000000002,5.611108934248954,5.611108934248954,null,0.9,3.1333333333333333,5.611108934248954,23.0,7.999999999999999,2.0,6.500000000000001,null,0.5,null,5.611108934248954,7.333333333333333,5.611108934248954,1.0,null,null,1.5714285714285716,20.0,5.0,3.0,null,1.0,5.611108934248954,null,null,null,null,2.9999999999999996,null,9.499999999999998,5.611108934248954,5.611108934248954,1.0,10.08,4.0,25.5,24.5,5.611108934248954,5.611108934248954,1.0,null,1.7499999999999998,5.611108934248954,4.909090909090909,17.399999999999995,5.611108934248954,3.0,null,21.0,9.333333333333334,1.7000000000000004,5.611108934248954,6.733333333333334,null,8.600000000000001,30.0,7.75,3.999999999999999,5.611108934248954,14.75,1.0,5.611108934248954,5.611108934248954,11.999999999999998,null,null,null,null,5.611108934248954,5.611108934248954,1.0,null,5.611108934248954,null,1.0,7.5,5.5,10.333333333333334,6.181818181818181,5.0,5.611108934248954,5.3,8.0,3.8437500000000004,3.5172413793103443,5.611108934248954,5.611108934248954,5.611108934248954,null,0.28571428571428575,5.611108934248954,12.0,null,5.611108934248954,20.333333333333332,14.0,null,20.857142857142854,5.611108934248954,6.857142857142857,1.0,10.5,6.416666666666664,null,null,1.0,7.0,null,4.0,7.25,36.0,5.4,13.0,null,4.466666666666667,5.000000000000001,4.0,7.000000000000001,11.500000000000002,null,2.3725490196078427,34.0,1.4,45.0,3.333333333333333,null,6.142857142857142,5.611108934248954,5.611108934248954,8.125,5.611108934248954,4.058823529411764,5.611108934248954,5.611108934248954,8.666666666666668,5.611108934248954,5.611108934248954,6.0,5.611108934248954,5.761904761904762,null,2.166666666666667,5.25,3.5,5.611108934248954,6.5,4.0,null,5.611108934248954,24.2,null,6.0,5.611108934248954,6.0,16.0,4.050000000000001,4.0606060606060606,5.611108934248954,2.402298850574712,21.999999999999996,5.611108934248954,5.611108934248954,5.611108934248954,1.8947368421052633,22.0,2.916666666666667,null,5.611108934248954,5.0,5.611108934248954,8.6,5.611108934248954,5.611108934248954,5.852941176470588,4.357142857142858,7.333333333333333,null,null,4.2,4.083333333333333,5.0,2.3333333333333335,null,5.611108934248954,5.611108934248954,5.611108934248954,null,null,4.666666666666667,2.1142857142857148,5.611108934248954,5.611108934248954,6.095238095238095,null,5.611108934248954,3.2222222222222223,null,1.5555555555555554,7.2,4.571428571428572,5.611108934248954,6.375,5.611108934248954,4.3,6.718750000000001,null,2.6530612244897966,4.0,5.611108934248954,4.029411764705882,5.611108934248954,5.08045977011494,null,5.611108934248954,9.333333333333334,4.0,2.290322580645162,5.611108934248954,5.611108934248954,5.611108934248954,5.611108934248954,5.611108934248954,1.1818181818181817,12.5,4.016666666666667,4.0,5.611108934248954,5.611108934248954,6.071428571428573,5.611108934248954,4.2727272727272725,5.611108934248954,11.6,0.0,3.6666666666666665,5.611108934248954,4.363636363636364,4.836734693877551,5.611108934248954,1.4,5.611108934248954,12.0,7.0,null,14.285714285714283,3.07142857142857,13.000000000000002,8.857142857142856,3.6666666666666665,6.437500000000003,6.5,null,10.206896551724142,5.611108934248954,6.333333333333332,5.266666666666665,5.388888888888888,8.333333333333334,7.173913043478261,8.555555555555557,null,9.0,5.1875,5.611108934248954,5.611108934248954,3.5,4.15,2.25,19.000000000000004,5.611108934248954,4.833333333333335,5.611108934248954,5.611108934248954,10.833333333333337,5.611108934248954,null,0.0,5.611108934248954,5.611108934248954,5.611108934248954,1.0,5.611108934248954,13.249999999999998,null,5.611108934248954,5.611108934248954,5.611108934248954,5.611108934248954,5.611108934248954,5.611108934248954,5.611108934248954,5.611108934248954,5.611108934248954,null,5.611108934248954,5.611108934248954,17.0,3.5641025641025643,0.875,5.611108934248954,5.611108934248954,5.611108934248954,5.611108934248954,null,9.0,2.25,5.611108934248954,4.0,5.611108934248954,4.0,null,5.611108934248954,6.833333333333333,5.611108934248954,7.000000000000001,5.611108934248954,22.000000000000004,1.0,5.611108934248954,5.611108934248954,5.611108934248954,1.6666666666666665,5.428571428571428,5.611108934248954,1.0,2.0,null,1.0,5.611108934248954,1.0,3.0,3.0,null,5.611108934248954,5.611108934248954,0.16666666666666666,1.0,4.666666666666667,4.0,5.611108934248954,5.611108934248954,1.0,5.611108934248954,5.611108934248954,1.0,4.0,1.5,null,5.611108934248954,5.611108934248954,1.0,5.611108934248954,5.611108934248954,1.0,5.611108934248954,null,null,5.611108934248954,5.611108934248954,7.499999999999999,5.611108934248954,2.1666666666666665,null,5.611108934248954,5.611108934248954,9.0,5.611108934248954,8.625,null,4.232558139534883,5.611108934248954,5.611108934248954,5.374999999999999,24.0,5.611108934248954,12.0,2.727272727272727,1.0,20.0,0.0,4.232558139534883,5.818181818181818,2.461538461538462,4.232558139534883,5.611108934248954,5.611108934248954,5.611108934248954,5.611108934248954,5.611108934248954,5.611108934248954,0.8,5.611108934248954,5.611108934248954,5.611108934248954,1.0,5.611108934248954,5.611108934248954,3.0769230769230758,5.611108934248954,4.888888888888889,2.507936507936508,10.714285714285715,5.611108934248954,13.333333333333334,null,5.611108934248954,5.611108934248954,5.611108934248954,1.15,8.625,5.611108934248954,5.611108934248954,7.480519480519481,1.9111111111111114,14.333333333333334,4.232558139534883,5.611108934248954,5.611108934248954,5.611108934248954,3.272727272727273,4.232558139534883,5.611108934248954,9.666666666666666,5.611108934248954,6.072727272727273,7.840000000000002,5.611108934248954,6.439024390243903,5.611108934248954,4.11764705882353,5.611108934248954,1.8,9.5,14.0,null,9.0,10.571428571428573,6.0,5.611108934248954,5.611108934248954,null,5.611108934248954,5.611108934248954,5.611108934248954,5.611108934248954,5.611108934248954,10.28,5.611108934248954,3.470187393526405,5.611108934248954,4.232558139534883,5.611108934248954,3.28,5.611108934248954,5.611108934248954,12.0,5.611108934248954,5.611108934248954,8.16666666666667,5.611108934248954,5.611108934248954,8.529411764705884,4.3,5.611108934248954,5.611108934248954,9.499999999999998,5.611108934248954,5.611108934248954,5.611108934248954,4.414634146341464,17.399999999999995,2.408163265306123,4.142857142857143,9.499999999999998,4.884210526315789,3.0,0.8,5.611108934248954,134.99999999999997,5.611108934248954,6.670068027210885,29.66666666666667,5.611108934248954,5.611108934248954,5.666666666666667,5.611108934248954,5.482758620689656,5.611108934248954,14.510638297872338,5.611108934248954,5.611108934248954,5.611108934248954,null,5.611108934248954,3.4285714285714284,1.6815286624203822,0.875,3.5793991416309012,null,null,5.611108934248954,4.818840579710145,3.75,5.611108934248954,5.611108934248954,6.646153846153846,10.333333333333334,14.000000000000004,5.611108934248954,5.611108934248954,5.611108934248954,5.611108934248954,5.611108934248954,5.611108934248954,3.55,5.611108934248954,null,8.285714285714286,12.0,9.230769230769232,5.611108934248954,8.545454545454543,3.5384615384615388,2.6842105263157894,null,5.611108934248954,2.3781512605042017,5.611108934248954,13.599999999999998,26.0,7.692307692307696,5.611108934248954,2.25,1.7500000000000002,null,1.2222222222222223,2.857142857142857,5.611108934248954,6.0,2.466666666666667,null,6.571428571428571,5.611108934248954,5.611108934248954,1.0,7.0,5.53125,7.5,5.604651162790698,2.0,5.611108934248954,5.611108934248954,16.0,4.1923076923076925,3.470187393526405,5.440860215053766,5.611108934248954,5.611108934248954,5.611108934248954,1.0,null,12.0,17.72727272727273,2.717488789237669,4.0,5.611108934248954,5.611108934248954,4.03030303030303,5.611108934248954,3.28,1.0,5.611108934248954,3.2692307692307696,5.611108934248954,5.611108934248954,4.522292993630573,1.6625,1.0,5.611108934248954,5.611108934248954,5.0,5.611108934248954,5.611108934248954,5.3999999999999995,5.611108934248954,8.384615384615385,5.611108934248954,5.8,4.099999999999998,1.0,6.875,2.2727272727272725,5.8807339449541285,2.8,5.611108934248954,5.611108934248954,2.076923076923077,5.611108934248954,1.8571428571428572,9.653846153846155,5.611108934248954,2.75,5.611108934248954,null,5.611108934248954,5.611108934248954,4.184210526315789,5.611108934248954,4.923076923076923,3.5,2.3333333333333335,5.611108934248954,5.611108934248954,5.611108934248954,4.563953488372094,5.0,0.3333333333333333,5.611108934248954,5.611108934248954,5.611108934248954,5.611108934248954,4.0,5.611108934248954,5.611108934248954,null,5.611108934248954,6.333333333333333,4.333333333333333,5.611108934248954,5.611108934248954,5.09090909090909,5.611108934248954,5.611108934248954,5.611108934248954,2.857142857142857,null,3.987012987012988,5.611108934248954,5.611108934248954,5.611108934248954,1.0,5.611108934248954,5.611108934248954,5.611108934248954,5.611108934248954,12.999999999999998,null,10.454545454545453,3.0,8.799999999999999,5.0,1.0,5.611108934248954,5.611108934248954,8.333333333333334,5.611108934248954,5.611108934248954,4.652380952380952,5.611108934248954,5.611108934248954,3.0,5.6,5.611108934248954,5.611108934248954,5.611108934248954,5.611108934248954,5.611108934248954,5.611108934248954,0.5,5.611108934248954,5.611108934248954,3.8221153846153855,5.611108934248954,6.714285714285714,10.153846153846153,5.611108934248954,5.611108934248954,5.611108934248954,5.611108934248954,2.7,5.611108934248954,5.611108934248954,5.611108934248954,2.875,5.611108934248954,5.611108934248954,6.0,5.611108934248954,5.611108934248954,1.6206896551724141,5.611108934248954,11.0,3.45,null,5.611108934248954,null,5.611108934248954,9.91044776119403,5.464285714285715,5.611108934248954,1.4399999999999997,3.454545454545454,5.611108934248954,3.1999999999999997,1.75,1.625,2.9117647058823533,5.611108934248954,5.611108934248954,5.611108934248954,6.0,5.611108934248954,5.611108934248954,5.611108934248954,5.611108934248954,5.611108934248954,5.611108934248954,5.611108934248954,5.611108934248954,5.611108934248954,5.611108934248954,5.611108934248954,5.611108934248954,5.611108934248954,5.611108934248954,5.611108934248954,5.611108934248954,5.611108934248954,5.611108934248954,5.611108934248954,5.611108934248954,5.611108934248954,5.611108934248954,5.611108934248954,5.611108934248954,5.611108934248954,5.611108934248954,0.5,5.611108934248954,1.8,5.611108934248954,5.611108934248954,5.611108934248954,1.8,3.7,1.0,5.611108934248954,5.611108934248954,5.611108934248954,18.166666666666668,1.875,13.142857142857144,3.357142857142857,3.6666666666666665,14.72222222222222,5.611108934248954,5.611108934248954,5.611108934248954,5.611108934248954,5.611108934248954,5.611108934248954,5.611108934248954,5.611108934248954,7.0,5.611108934248954,3.6,null,null,null,null,18.0,5.611108934248954,10.5,5.611108934248954,20.000000000000007,null,null,5.611108934248954,21.333333333333336,5.611108934248954,null,5.611108934248954,15.0,null,2.5,20.000000000000004,null,5.611108934248954,null,5.611108934248954,92.00000000000001,5.611108934248954,5.611108934248954,2.0,39.7,null,3.083333333333334,null,5.611108934248954,3.12,11.545454545454541,null,52.99999999999999,5.611108934248954,11.19047619047619,null,5.611108934248954,5.611108934248954,20.400000000000002,5.611108934248954,1.8,12.214285714285714,5.611108934248954,null,60.00000000000001,5.611108934248954,null,5.611108934248954,null,5.611108934248954,10.357142857142858,5.611108934248954,5.611108934248954,5.611108934248954,5.611108934248954,5.611108934248954,1.6666666666666667,null,5.611108934248954,null,5.611108934248954,5.611108934248954,5.611108934248954,2.2352941176470593,9.0,null,12.218750000000004,5.611108934248954,5.611108934248954,5.611108934248954,null,5.611108934248954,5.611108934248954,71.99999999999999,20.0,2.0256410256410255,21.0,null,null,5.611108934248954,5.611108934248954,null,null,1.8888888888888888,null,5.611108934248954,2.276923076923077,7.6,5.611108934248954,10.5,null,8.533333333333333,5.611108934248954,11.500000000000002,5.611108934248954,5.611108934248954,5.611108934248954,5.611108934248954,5.611108934248954,null,null,5.611108934248954,5.611108934248954,5.611108934248954,null,5.611108934248954,10.499999999999996,5.611108934248954,5.611108934248954,null,null,5.611108934248954,null,41.50000000000001,21.0,36.4,5.611108934248954,null,20.0,11.91304347826087,0.0,null,19.5,null,5.611108934248954,null,15.375000000000002,5.611108934248954,null,17.0,5.611108934248954,8.666666666666668,24.999999999999996,5.611108934248954,5.611108934248954,1.0,null,5.611108934248954,38.333333333333336,8.266666666666667,5.611108934248954,null,5.611108934248954,5.611108934248954,5.611108934248954,5.611108934248954,54.5,42.0,5.611108934248954,5.611108934248954,10.799999999999997,null,5.611108934248954,5.611108934248954,null,8.068965517241377,5.611108934248954,5.611108934248954,5.0,5.611108934248954,27.0,5.611108934248954,5.611108934248954,1.0,5.611108934248954,null,5.611108934248954,null,19.821428571428573,5.611108934248954,5.611108934248954,5.000000000000001,null,11.666666666666666,5.611108934248954,null,4.750000000000001,90.99999999999999,8.333333333333334,5.611108934248954,109.0,5.611108934248954,19.166666666666664,5.611108934248954,null,20.0,11.0,null,3.860759493670886,null,9.666666666666666,5.611108934248954,5.611108934248954,6.500000000000001,5.611108934248954,5.764705882352941,22.44444444444445,5.611108934248954,54.0,4.965517241379311,21.375000000000004,5.611108934248954,13.999999999999996,null,5.611108934248954,null,null,16.333333333333336,45.75,5.611108934248954,5.611108934248954,null,null,5.611108934248954,5.611108934248954,5.611108934248954,4.866666666666665,1.2500000000000002,2.999999999999999,1.0,3.666666666666667,null,5.611108934248954,5.611108934248954,5.611108934248954,5.611108934248954,null,null,5.611108934248954,null,0.5,1.0,5.611108934248954,0.0,5.611108934248954,2.4576271186440684,3.0068965517241373,4.655172413793103,1.4375,30.5,3.0,3.984126984126985,7.000000000000001,5.829457364341084,5.611108934248954,10.47058823529412,2.9285714285714284,7.8404669260700395,5.893939393939394,3.933333333333333,2.482758620689655,9.0,5.611108934248954,null,3.2195121951219514,2.925925925925926,5.25,5.611108934248954,null,null,2.7916666666666665,6.875,5.611108934248954,7.789473684210527,5.611108934248954,5.611108934248954,4.0,5.611108934248954,5.93939393939394,3.8571428571428577,5.0,4.50632911392405,6.0,8.027777777777777,4.5,17.0,4.6190476190476195,4.31578947368421,5.611108934248954,6.750000000000001,1.0,9.882352941176471,5.611108934248954,2.7272727272727275,2.75,7.3478260869565215,6.857142857142858,3.904,7.491525423728815,12.666666666666666,2.7,7.096774193548387,18.0,3.7,3.6666666666666665,4.333333333333333,4.018181818181818,16.0,4.761904761904763,5.611108934248954,5.611108934248954,5.611108934248954,5.611108934248954,2.375,5.7,8.1,5.611108934248954,null,3.0,5.611108934248954,5.611108934248954,3.8,12.666666666666664,8.0,36.0,4.0,5.379310344827586,4.0,5.611108934248954,40.0,3.4342105263157894,5.611108934248954,5.0769230769230775,5.611108934248954,5.52,1.0,5.611108934248954,2.0,4.96969696969697,17.666666666666668,6.0740740740740735,2.9611650485436884,6.6,10.0,0.6666666666666666,3.0,12.0,5.25,12.0,10.365079365079364,5.611108934248954,4.248366013071895,3.056603773584906,6.6,2.88125,2.4971428571428573,3.2666666666666666,5.611108934248954,3.6521739130434776,6.0,2.4000000000000004,5.611108934248954,4.0,5.611108934248954,4.081632653061225,null,null,5.611108934248954,7.368421052631577,4.553191489361702,12.166666666666666,5.000000000000001,3.4935897435897427,null,8.5,48.50000000000001,31.0,13.846153846153847,3.3384615384615386,3.194285714285715,null,2.222222222222222,5.611108934248954,8.125,4.85981308411215,3.25,2.8965517241379315,2.634615384615385,5.611108934248954,5.611108934248954,7.400000000000001,5.611108934248954,11.500000000000002,3.3409090909090904,5.611108934248954,2.0,10.87704918032787,8.600000000000001,5.611108934248954,3.8461538461538454,20.0,5.611108934248954,5.611108934248954,5.611108934248954,5.611108934248954,5.516483516483516,6.000000000000001,6.0,5.611108934248954,4.5102040816326525,5.611108934248954,2.45,5.611108934248954,4.142857142857143,3.612612612612614,null,7.2727272727272725,30.0,4.0,18.461538461538463,6.8,40.0,5.611108934248954,5.611108934248954,5.611108934248954,1.875,11.833333333333334,8.285714285714286,5.611108934248954,9.277777777777775,7.0,5.611108934248954,5.611108934248954,5.611108934248954,5.000000000000001,10.250000000000002,64.0,null,5.611108934248954,5.611108934248954,5.611108934248954,7.888888888888889,11.666666666666668,5.611108934248954,2.8000000000000007,3.75,6.6,3.0,5.611108934248954,1.4375,5.454545454545455,5.611108934248954,17.333333333333332,3.0068965517241373,null,5.611108934248954,5.611108934248954,5.611108934248954,2.0,5.611108934248954,null,5.611108934248954,5.611108934248954,null,null,3.0,5.611108934248954,5.611108934248954,null,null,5.611108934248954,5.611108934248954,7.750000000000001,7.818181818181819,1.354838709677419,null,5.611108934248954,5.7272727272727275,3.333333333333333,3.6,1.0,11.499999999999998,null,5.611108934248954,5.611108934248954,11.0,2.0,9.714285714285715,null,1.3333333333333333,3.3305785123966944,null,5.611108934248954,5.611108934248954,null,null,5.611108934248954,6.0,5.2272727272727275,7.357142857142855,4.979166666666667,19.199999999999996,20.0,5.611108934248954,5.611108934248954,1.4,4.4,43.0,null,null,5.611108934248954,null,10.0,5.611108934248954,5.611108934248954,21.0,5.611108934248954,5.611108934248954,3.3,5.611108934248954,5.611108934248954,0.5714285714285714,5.611108934248954,5.611108934248954,12.0,5.611108934248954,5.611108934248954,null,5.611108934248954,5.611108934248954,5.611108934248954,5.611108934248954,1.3333333333333333,5.611108934248954,2.0909090909090904,null,5.611108934248954,null,null,5.611108934248954,5.611108934248954,5.611108934248954,5.611108934248954,5.611108934248954,2.0,5.611108934248954,5.611108934248954,5.611108934248954,null,5.611108934248954,5.611108934248954,5.611108934248954,null,2.3846153846153846,null,33.0,null,1.3333333333333335,47.0,31.333333333333332,74.8,null,5.611108934248954,5.611108934248954,44.00000000000001,61.5,64.00000000000001,5.611108934248954,null,5.611108934248954,null,36.0,53.800000000000004,14.333333333333334,null,50.0,null,73.00000000000001,0.28571428571428575,14.2,5.611108934248954,1.2727272727272725,6.571428571428572,21.0,0.0,17.0,null,null,82.00000000000001,null,1.0,null,null,1.2222222222222223,null,null,1.0,1.0,null,null,4.084745762711864,2.285714285714286,5.3006993006993,4.542056074766355,1.1363636363636365,2.245033112582781,5.392670157068062,3.946236559139786,1.0,3.5200000000000005,1.0909090909090908,3.6363636363636362,0.7142857142857143,2.8000000000000003,2.7142857142857144,1.5,1.4545454545454546,9.941176470588236,2.569444444444444,4.565217391304349,1.5,2.6,1.6086956521739133,4.411764705882353,11.875000000000004,0.625,1.8918918918918917,3.4580152671755706,3.7945205479452055,4.133333333333334,8.2,9.75,2.782608695652174,6.478260869565218,5.611108934248954,null,4.916666666666667,1.6,2.468085106382979,2.777777777777778,12.8,5.611108934248954,1.0,5.611108934248954,0.4,null,6.666666666666667,5.0,7.7142857142857135,3.6363636363636362,5.6,null,5.611108934248954,5.0,null,11.0,1.7499999999999998,5.611108934248954,3.0,5.0,null,7.5,3.0,5.611108934248954,5.611108934248954,5.666666666666667,5.611108934248954,null,5.611108934248954,5.611108934248954,5.611108934248954,5.611108934248954,5.611108934248954,5.611108934248954,5.611108934248954,5.611108934248954,5.611108934248954,2.25,5.611108934248954,5.611108934248954,3.7222222222222223,5.611108934248954,10.857142857142858,null,5.611108934248954,13.0,5.611108934248954,4.933333333333334,1.0,5.611108934248954,null,5.611108934248954,6.0,1.2,5.611108934248954,4.0,5.611108934248954,5.611108934248954,null,1.0,1.0,1.0,1.0,5.611108934248954,null,null,1.0,null,5.611108934248954,1.0,1.0,5.611108934248954,5.611108934248954,5.611108934248954,5.611108934248954,null,5.611108934248954,1.0,1.0,1.0,5.611108934248954,6.750000000000002,11.666666666666668,11.666666666666668,14.999999999999998,2.6666666666666665,1.0,4.333333333333332,null,7.5,1.0,5.611108934248954,7.666666666666667,3.4285714285714284,4.500000000000001,2.333333333333333,4.833333333333333,3.6666666666666665,13.88235294117647,14.999999999999998,5.857142857142856,5.611108934248954,9.000000000000002,21.999999999999993,null,null,3.0,10.0,0.0,12.333333333333334,5.611108934248954,7.999999999999999,7.000000000000001,12.833333333333334,11.333333333333337,2.2857142857142856,null,null,null,11.523809523809526,1.0,7.333333333333333,11.749999999999998,20.0,5.611108934248954,null,null,5.611108934248954,5.611108934248954,1.0,5.611108934248954,5.611108934248954,5.611108934248954,6.0,5.611108934248954,6.941176470588236,5.611108934248954,25.8,3.3999999999999995,1.4307692307692303,5.611108934248954,1.3333333333333333,1.6470588235294117,8.153846153846153,30.5,6.357142857142859,4.428571428571429,3.05,8.375,5.611108934248954,39.333333333333336,15.399999999999999,5.611108934248954,6.666666666666667,null,11.0,3.142857142857143,3.4,30.666666666666668,5.611108934248954,23.5,14.0,2.5882352941176467,5.611108934248954,8.0,5.26595744680851,5.611108934248954,7.2857142857142865,null,null,7.812500000000001,5.24,5.687500000000002,3.2,19.846153846153847,null,null,6.760869565217391,null,2.8846153846153846,8.000000000000002,15.260869565217392,9.025,5.611108934248954,5.611108934248954,5.333333333333333,10.5,5.419354838709677,20.0,4.875,26.5,5.611108934248954,5.611108934248954,5.611108934248954,2.476190476190476,5.611108934248954,5.611108934248954,10.0,5.611108934248954,3.833333333333334,5.611108934248954,5.611108934248954,5.611108934248954,5.611108934248954,null,2.1999999999999997,8.419354838709678,5.611108934248954,5.0,5.611108934248954,0.75,2.8181818181818183,null,5.611108934248954,3.0819672131147544,2.068181818181818,5.611108934248954,4.5,8.08695652173913,null,null,24.5,5.611108934248954,5.611108934248954,5.611108934248954,5.611108934248954,6.970954356846471,7.6,49.5,11.8,3.3600000000000003,9.571428571428573,9.714285714285715,null,5.611108934248954,5.611108934248954,7.565217391304348,null,10.515789473684212,20.0,5.611108934248954,5.611108934248954,5.611108934248954,16.0,null,16.066666666666663,5.611108934248954,5.611108934248954,0.2,8.6,5.611108934248954,5.611108934248954,7.777777777777778,5.611108934248954,4.818181818181818,3.0526315789473677,14.857142857142856,5.611108934248954,4.625,5.611108934248954,29.0,4.578947368421052,9.641509433962264,1.7272727272727273,20.0,5.28301886792453,7.775862068965517,7.416666666666668,2.6129032258064515,9.0,8.304347826086957,5.611108934248954,5.611108934248954,3.5,6.285714285714284,1.5,5.611108934248954,6.666666666666667,6.774193548387097,4.12,null,4.428571428571429,5.611108934248954,5.611108934248954,8.0,5.611108934248954,70.99999999999999,5.611108934248954,27.4,3.8399999999999994,3.7647058823529402,5.611108934248954,5.611108934248954,2.1194029850746268,2.388888888888889,4.733333333333333,2.6391752577319587,5.611108934248954,15.249999999999996,1.625,5.611108934248954,5.611108934248954,3.0,2.0,22.0,2.1494252873563218,5.611108934248954,7.899999999999997,5.611108934248954,5.611108934248954,1.6363636363636365,5.611108934248954,1.6285714285714286,9.428571428571429,5.611108934248954,6.0,5.611108934248954,5.611108934248954,5.611108934248954,11.25,5.611108934248954,5.611108934248954,6.952380952380952,5.611108934248954,3.0,7.606382978723402,5.611108934248954,null,20.0,null,5.611108934248954,4.693548387096775,6.5,null,5.611108934248954,33.333333333333336,3.1538461538461533,5.611108934248954,11.0,5.611108934248954,5.611108934248954,null,5.833333333333332,5.337539432176658,1.0,1.9666666666666668,5.611108934248954,4.916666666666666,3.4107142857142843,19.999999999999996,9.315789473684212,5.611108934248954,6.97872340425532,10.4,5.611108934248954,0.6,5.611108934248954,null,2.6470588235294117,5.611108934248954,null,9.0,6.111111111111111,2.5,5.611108934248954,5.611108934248954,5.611108934248954,5.611108934248954,10.0,8.406250000000002,null,5.611108934248954,3.8666666666666667,4.0,12.333333333333336,5.611108934248954,7.708333333333334,5.611108934248954,35.0,5.611108934248954,3.1,1.65,2.0272727272727273,3.328947368421053,4.111111111111111,5.611108934248954,null,5.611108934248954,4.160714285714286,5.611108934248954,6.666666666666667,3.55,3.736842105263158,5.611108934248954,3.3823529411764706,12.0,3.333333333333333,12.416666666666668,5.0,6.250000000000001,5.611108934248954,5.611108934248954,5.611108934248954,8.0,15.25,0.6,5.611108934248954,5.6923076923076925,8.142857142857142,4.333333333333333,2.645833333333333,3.6666666666666665,10.2,10.0,2.917525773195876,null,0.5,5.611108934248954,2.2,10.0,5.611108934248954,2.6,21.333333333333332,5.611108934248954,5.611108934248954,5.611108934248954,5.611108934248954,5.611108934248954,5.611108934248954,5.611108934248954,5.611108934248954,5.611108934248954,5.611108934248954,5.611108934248954,5.611108934248954,5.611108934248954,5.611108934248954,5.611108934248954,5.611108934248954,5.611108934248954,5.611108934248954,5.611108934248954,5.611108934248954,5.611108934248954,5.611108934248954,5.611108934248954,5.611108934248954,5.611108934248954,5.611108934248954,5.611108934248954,5.611108934248954,5.611108934248954,5.611108934248954,5.611108934248954,5.611108934248954,5.611108934248954,5.611108934248954,5.611108934248954,5.611108934248954,5.611108934248954,5.611108934248954,5.611108934248954,5.611108934248954,5.611108934248954,5.611108934248954,5.611108934248954,5.611108934248954,5.611108934248954,5.611108934248954,5.611108934248954,5.611108934248954,5.611108934248954,5.611108934248954,5.611108934248954,5.611108934248954,5.611108934248954,5.611108934248954,5.611108934248954,5.611108934248954,5.611108934248954,5.611108934248954,5.611108934248954,5.611108934248954,5.611108934248954,5.549999999999999,5.611108934248954,4.5,17.666666666666668,1.777777777777778,4.0,9.333333333333334,0.9166666666666667,8.0,5.611108934248954,1.0,5.611108934248954,2.583333333333333,2.9999999999999996,null,3.2857142857142856,null,5.000000000000001,14.000000000000002,2.5,4.111111111111111,null,5.611108934248954,3.0,null,null,5.611108934248954,10.0,5.611108934248954,5.611108934248954,null,5.611108934248954,1.0,null,3.2,31.5,5.611108934248954,3.6399999999999997,2.0,1.1250000000000002,null,5.611108934248954,5.250000000000001,3.714285714285714,5.230769230769232,3.5,null,2.0,9.500000000000004,4.0,null,3.142857142857143,14.0,9.428571428571432,24.5,1.2380952380952381,1.6575342465753424,5.611108934248954,null,10.33333333333333,null,6.714285714285715,32.0,70.0,18.999999999999996,5.611108934248954,0.8095238095238095,1.0,10.428571428571427,null,2.526315789473684,null,null,2.415094339622641,16.666666666666668,null,6.0,5.611108934248954,5.404761904761905,null,1.0,1.0,5.000000000000001,null,3.5789473684210535,7.615384615384617,47.25000000000001,8.333333333333332,null,6.333333333333334,12.000000000000004,1.736842105263158,7.0,null,5.909090909090911,13.0,1.875,5.666666666666667,32.99999999999999,0.3333333333333333,5.611108934248954,5.611108934248954,5.611108934248954,null,0.0,0.0,9.0,5.611108934248954,5.611108934248954,30.000000000000004,5.611108934248954,6.999999999999999,7.75,2.666666666666667,6.666666666666667,5.611108934248954,5.611108934248954,5.611108934248954,10.0,15.0,5.611108934248954,4.666666666666667,5.611108934248954,5.611108934248954,1.0,5.444444444444445,null,32.0,5.611108934248954,5.0,5.611108934248954,17.0,5.611108934248954,null,5.611108934248954,5.611108934248954,5.611108934248954,1.8,5.611108934248954,5.611108934248954,10.0,5.611108934248954,5.611108934248954,2.0,null,null,5.611108934248954,7.0,5.0,5.611108934248954,5.611108934248954,22.666666666666668,6.166666666666667,null,5.611108934248954,5.611108934248954,2.7142857142857144,3.3333333333333335,null,5.611108934248954,32.0,5.611108934248954,null,5.611108934248954,5.611108934248954,5.611108934248954,4.294117647058823,5.611108934248954,4.0,5.611108934248954,5.611108934248954,5.611108934248954,47.0,11.5,3.75,5.611108934248954,13.5,50.0,5.611108934248954,2.964285714285715,null,16.33333333333333,5.611108934248954,5.611108934248954,5.611108934248954,43.0,5.611108934248954,6.5,5.611108934248954,5.611108934248954,5.611108934248954,5.611108934248954,12.999999999999998,null,null,5.611108934248954,1.0,1.0,2.0,1.0,4.0,null,null,null,5.611108934248954,5.611108934248954,null,null,null,5.611108934248954,null,1.0,1.0,5.611108934248954,1.0,1.0,5.611108934248954,5.611108934248954,5.611108934248954,null,1.0,1.0,1.0,1.0,1.0,1.0,5.611108934248954,5.611108934248954,5.611108934248954,5.611108934248954,14.400000000000002,14.5,5.611108934248954,5.611108934248954,2.7333333333333325,3.642857142857143,1.0,5.611108934248954,5.611108934248954,5.611108934248954,5.611108934248954,5.611108934248954,10.000000000000002,5.611108934248954,15.0,39.0,5.666666666666667,4.964285714285714,null,null,27.0,0.5,9.0,5.0,5.611108934248954,5.611108934248954,null,2.4,null,14.0,null,5.368421052631579,null,5.611108934248954,47.33333333333334,5.611108934248954,5.611108934248954,null,4.25,1.0,46.0,4.892857142857143,5.611108934248954,null,null,5.666666666666667,null,1.0,6.777777777777778,1.0,6.5,null,null,5.611108934248954,8.249999999999998,5.611108934248954,5.611108934248954,18.0,0.5,5.611108934248954,4.0,5.611108934248954,5.611108934248954,5.611108934248954,null,null,5.611108934248954,null,3.5000000000000004,null,4.0,20.5,null,null,11.249999999999996,null,5.611108934248954,5.611108934248954,5.611108934248954,null,1.0,null,1.0,0.0,5.611108934248954,null,5.611108934248954,5.611108934248954,null,5.611108934248954,null,5.611108934248954,null,2.0,11.0,1.0,null,5.611108934248954,2.2,null,null,17.999999999999996,36.00000000000001,5.611108934248954,5.611108934248954,31.000000000000004,null,5.611108934248954,5.611108934248954,null,null,0.0,5.611108934248954,null,3.75,9.166666666666666,6.333333333333334,1.0,5.611108934248954,6.999999999999999,null,5.611108934248954,5.611108934248954,1.0,5.611108934248954,null,5.611108934248954,null,5.611108934248954,null,1.0,null,1.0,5.611108934248954,5.499999999999999,5.611108934248954,5.611108934248954,11.0,5.611108934248954,5.611108934248954,5.611108934248954,null,null,null,5.611108934248954,null,4.0,5.611108934248954,5.611108934248954,5.611108934248954,5.611108934248954,null,null,17.0,5.611108934248954,5.611108934248954,5.611108934248954,1.0,5.611108934248954,1.0,null,5.611108934248954,5.611108934248954,5.611108934248954,1.0,6.0,27.0,null,null,5.611108934248954,1.0,null,null,null,null,11.666666666666668,null,5.611108934248954,24.000000000000004,6.2,5.611108934248954,5.611108934248954,3.0,0.6666666666666666,5.611108934248954,null,null,5.611108934248954,null,5.611108934248954,null,7.000000000000001,null,5.611108934248954,5.611108934248954,5.611108934248954,null,5.611108934248954,4.0,null,5.611108934248954,5.611108934248954,5.611108934248954,2.9999999999999996,1.0,1.0,5.611108934248954,5.611108934248954,5.611108934248954,40.99999999999999,5.611108934248954,5.611108934248954,26.999999999999996,null,13.5,5.611108934248954,null,5.611108934248954,5.611108934248954,4.0,5.611108934248954,7.0,4.0,5.611108934248954,5.611108934248954,null,5.611108934248954,5.611108934248954,5.611108934248954,null,null,5.611108934248954,null,10.0,5.611108934248954,5.611108934248954,5.611108934248954,null,5.611108934248954,null,5.611108934248954,5.611108934248954,null,null,5.611108934248954,26.0,5.611108934248954,5.611108934248954,5.611108934248954,null,5.611108934248954,6.0,null,5.611108934248954,5.611108934248954,5.611108934248954,5.611108934248954,5.611108934248954,0.0,15.137931034482756,19.5,5.611108934248954,null,10.203703703703702,54.0,5.611108934248954,12.0,6.809523809523809,81.99999999999999,null,7.41666666666667,36.888888888888886,286.99999999999994,7.23529411764706,5.611108934248954,5.611108934248954,11.749999999999998,29.399999999999995,5.466666666666667,5.611108934248954,5.611108934248954,6.374999999999999,35.0,14.0,15.928571428571427,3.4444444444444446,27.5,15.46296296296296,5.611108934248954,94.66666666666666,20.000000000000004,null,24.571428571428573,39.400000000000006,null,9.499999999999998,8.5,24.799999999999997,120.0,8.176470588235293,31.999999999999996,19.33333333333333,5.611108934248954,5.611108934248954,5.611108934248954,5.611108934248954,16.430555555555557,5.611108934248954,9.0,null,19.363636363636363,null,22.270833333333336,5.611108934248954,6.5,8.0,5.611108934248954,5.425,null,5.352941176470588,24.285714285714285,2.3214285714285716,5.611108934248954,null,6.896000000000001,2.6666666666666665,18.666666666666668,7.608695652173912,null,4.319727891156462,5.4333333333333345,8.11111111111111,5.611108934248954,5.611108934248954,null,null,7.787037037037038,4.294117647058823,38.61111111111111,16.884615384615387,24.33333333333333,null,8.999999999999998,63.2,31.5,20.0,28.111111111111114,5.611108934248954,null,30.0,23.299999999999997,7.833333333333333,14.888888888888888,14.873873873873872,4.419354838709677,14.2,8.56521739130435,37.25,10.750000000000002,12.782608695652174,5.310344827586207,10.444444444444445,1.0,24.666666666666668,5.263157894736842,5.611108934248954,19.473684210526315,20.333333333333332,15.363636363636362,null,null,6.199999999999999,5.611108934248954,11.6,10.0,22.500000000000004,48.14285714285715,95.0,13.0,null,7.5,5.611108934248954,25.853658536585364,35.333333333333336,5.454545454545454,16.31111111111111,31.27272727272726,6.666666666666667,5.25,13.0,8.724137931034482,5.611108934248954,10.203703703703702,null,8.75,35.0,5.611108934248954,5.611108934248954,13.857142857142858,5.611108934248954,15.4,null,null,5.611108934248954,5.611108934248954,5.611108934248954,54.28571428571429,6.12,28.88888888888889,null,3.0,15.137931034482756,8.633027522935778,null,5.611108934248954,5.611108934248954,14.107142857142858,10.785714285714286,5.611108934248954,5.611108934248954,1.0,10.0,5.611108934248954,null,5.611108934248954,null,23.499999999999996,5.611108934248954,46.5,86.5,5.611108934248954,null,3.2,5.611108934248954,22.5,5.611108934248954,5.611108934248954,5.611108934248954,null,5.611108934248954,null,5.611108934248954,7.5,null,17.05263157894737,4.749999999999999,null,24.666666666666668,2.6363636363636362,5.611108934248954,5.611108934248954,1.9,4.666666666666667,null,5.833333333333334,null,5.611108934248954,null,5.611108934248954,5.611108934248954,1.7037037037037037,null,5.611108934248954,27.0,5.611108934248954,5.611108934248954,37.0,53.0,5.611108934248954,15.69230769230769,21.0,29.00000000000001,null,1.736842105263158,24.571428571428573,2.833333333333334,null,5.611108934248954,5.611108934248954,20.0,64.5,1.7142857142857142,null,null,5.611108934248954,null,8.15625,5.611108934248954,null,5.611108934248954,11.25,14.750000000000002,5.944444444444445,5.611108934248954,null,4.571428571428571,5.611108934248954,9.53846153846154,5.611108934248954,null,5.611108934248954,12.14285714285714,17.571428571428573,5.611108934248954,2.0,13.0,null,null,33.0,3.3061224489795933,7.0,5.611108934248954,10.307692307692305,5.611108934248954,15.0,null,5.611108934248954,5.611108934248954,null,1.8,5.611108934248954,5.611108934248954,18.0,43.00000000000001,11.739130434782608,null,null,5.611108934248954,5.611108934248954,7.9333333333333345,14.11111111111111,5.611108934248954,5.611108934248954,5.611108934248954,null,6.333333333333333,5.611108934248954,5.611108934248954,16.0,5.611108934248954,6.666666666666668,3.916666666666666,9.200000000000001,55.0,5.611108934248954,18.91666666666666,13.0,3.611111111111111,null,5.571428571428572,5.611108934248954,22.000000000000004,5.25,9.0,8.727272727272728,null,5.611108934248954,11.16,5.611108934248954,null,23.444444444444443,18.0,null,2.2,9.057142857142855,null,19.400000000000002,18.999999999999996,1.3599999999999999,null,null,null,null,null,5.611108934248954,5.611108934248954,34.99999999999999,15.0,0.28571428571428575,14.230769230769232,31.0,5.611108934248954,5.0,19.750000000000004,5.611108934248954,null,5.611108934248954,30.22222222222222,28.538461538461537,10.75,30.73333333333333,5.611108934248954,5.611108934248954,5.611108934248954,null,5.611108934248954,5.611108934248954,15.529411764705884,5.611108934248954,null,5.611108934248954,10.076923076923077,7.2142857142857135,5.611108934248954,5.611108934248954,11.555555555555557,4.000000000000001,5.611108934248954,37.60000000000001,26.25,10.999999999999996,29.28571428571428,null,5.000000000000001,1.3333333333333333,5.611108934248954,5.611108934248954,5.611108934248954,null,5.611108934248954,5.611108934248954,5.611108934248954,null,5.611108934248954,null,null,5.611108934248954,null,36.00000000000001,5.611108934248954,null,5.611108934248954,19.666666666666664,null,null,5.611108934248954,48.0,null,null,5.611108934248954,null,null,null,null,82.0,null,158.00000000000003,72.0,null,null,null,null,null,null,6.0,null,92.00000000000003,18.8,null,null,null,null,5.611108934248954,91.0,null,5.611108934248954,5.611108934248954,5.611108934248954,1.0,5.611108934248954,5.611108934248954,5.611108934248954,5.611108934248954,5.611108934248954,5.611108934248954,12.999999999999998,2.45,null,5.611108934248954,1.8421052631578947,1.8,null,null,4.25,5.611108934248954,1.52,5.611108934248954,5.611108934248954,5.0,null,5.611108934248954,5.611108934248954,5.611108934248954,5.611108934248954,20.0,5.611108934248954,2.5301204819277103,6.256410256410255,2.155555555555556,5.611108934248954,3.2666666666666666,null,5.611108934248954,5.611108934248954,null,null,3.739130434782609,5.611108934248954,5.611108934248954,5.611108934248954,5.611108934248954,3.4999999999999996,5.611108934248954,6.666666666666667,5.611108934248954,5.611108934248954,1.2142857142857142,5.611108934248954,2.0,5.611108934248954,5.611108934248954,3.8695652173913047,4.6,9.500000000000002,10.0,1.0666666666666667,5.611108934248954,5.611108934248954,5.611108934248954,0.0,5.611108934248954,5.611108934248954,5.611108934248954,5.611108934248954,5.611108934248954,5.611108934248954,null,5.611108934248954,0.7777777777777778,5.611108934248954,5.611108934248954,2.0,5.611108934248954,3.35,5.4,60.0,1.0,9.0,8.46153846153846,5.611108934248954,5.611108934248954,5.611108934248954,5.611108934248954,5.611108934248954,11.428571428571429,5.611108934248954,null,0.0,0.6111111111111112,34.00000000000001,5.611108934248954,3.627906976744185,0.95,5.611108934248954,0.8,5.611108934248954,5.611108934248954,11.142857142857142,9.25,5.611108934248954,2.0,5.611108934248954,5.611108934248954,0.33333333333333337,2.6,0.6363636363636364,4.529411764705882,5.611108934248954,2.294117647058824,0.8400000000000002,1.6363636363636365,3.75,2.4615384615384617,3.75,5.611108934248954,5.611108934248954,5.611108934248954,9.0,5.611108934248954,5.611108934248954,0.85,null,1.6666666666666667,5.611108934248954,5.611108934248954,null,5.611108934248954,2.951219512195122,5.611108934248954,3.6153846153846154,null,5.5,11.0,2.0,null,1.5,2.888888888888889,null,5.611108934248954,15.833333333333336,null,5.611108934248954,5.611108934248954,3.2,5.611108934248954,24.0,5.611108934248954,53.333333333333336,5.611108934248954,3.0,5.611108934248954,31.0,20.0,5.611108934248954,4.333333333333333,null,3.466666666666667,13.684210526315788,10.0,5.611108934248954,5.611108934248954,5.611108934248954,5.611108934248954,7.647058823529411,18.916666666666664,0.0,1.8571428571428572,18.0,5.611108934248954,5.611108934248954,5.611108934248954,5.611108934248954,5.611108934248954,0.27272727272727276,5.611108934248954,7.857142857142856,1.1666666666666667,5.611108934248954,5.611108934248954,13.666666666666666,0.7142857142857144,5.611108934248954,7.964285714285714,null,5.611108934248954,1.956521739130435,5.611108934248954,5.611108934248954,5.611108934248954,0.4,5.611108934248954,2.4533333333333336,0.0,8.533333333333333,null,5.611108934248954,5.611108934248954,18.0,5.611108934248954,1.4,5.611108934248954,0.0,3.61764705882353,1.6,5.611108934248954,5.611108934248954,5.611108934248954,5.611108934248954,5.611108934248954,5.611108934248954,5.611108934248954,5.611108934248954,3.1481481481481484,5.611108934248954,14.0,5.611108934248954,5.611108934248954,10.333333333333334,1.6666666666666667,5.611108934248954,5.611108934248954,5.611108934248954,1.0,5.611108934248954,4.375,2.142857142857143,15.5,null,10.999999999999998,5.611108934248954,null,6.521739130434782,5.611108934248954,3.023809523809523,null,5.611108934248954,13.333333333333334,null,4.666666666666667,5.611108934248954,null,4.526315789473684,2.05,18.33333333333333,3.6666666666666665,0.9230769230769232,3.0,2.473684210526316,5.611108934248954,5.611108934248954,3.0,5.611108934248954,5.611108934248954,2.25,5.611108934248954,1.0555555555555556,20.0,null,2.066666666666667,48.0,1.25,5.611108934248954,0.7272727272727273,6.615384615384617,0.6666666666666666,1.6,4.0,5.611108934248954,1.4166666666666667,5.611108934248954,3.7272727272727266,3.6,19.0,5.611108934248954,3.9411764705882355,5.611108934248954,5.611108934248954,2.975,1.75,2.4615384615384617,5.611108934248954,3.888888888888889,2.8,3.125,6.699999999999999,5.611108934248954,2.0,5.611108934248954,0.42857142857142855,5.611108934248954,1.6666666666666667,5.857142857142856,5.611108934248954,19.0,5.611108934248954,5.611108934248954,5.611108934248954,20.0,3.9375,5.611108934248954,5.611108934248954,5.611108934248954,5.611108934248954,5.611108934248954,5.611108934248954,5.611108934248954,5.611108934248954,5.611108934248954,5.611108934248954,5.611108934248954,5.611108934248954,5.611108934248954,5.611108934248954,6.333333333333333,20.0,5.611108934248954,5.473684210526316,5.611108934248954,1.8399999999999999,5.611108934248954,0.5,5.611108934248954,5.611108934248954,null,2.12,0.6875,5.611108934248954,5.611108934248954,5.611108934248954,3.5,4.5,1.9,6.428571428571429,20.0,1.2500000000000002,11.11111111111111,19.333333333333332,5.611108934248954,5.611108934248954,20.0,2.3750000000000004,21.4,11.875000000000002,2.5,1.0,0.5555555555555556,5.611108934248954,5.0,3.4444444444444446,1.0,5.611108934248954,4.0,5.611108934248954,5.611108934248954,5.611108934248954,0.7,null,5.611108934248954,5.611108934248954,5.611108934248954,0.96969696969697,5.611108934248954,5.611108934248954,1.8,null,5.749999999999999,1.0,5.611108934248954,5.611108934248954,5.611108934248954,5.611108934248954,0.25,5.611108934248954,null,null,5.611108934248954,2.1333333333333333,5.611108934248954,5.611108934248954,5.611108934248954,5.611108934248954,5.611108934248954,5.611108934248954,5.611108934248954,5.611108934248954,5.611108934248954],\"type\":\"box\"}],                        {\"template\":{\"data\":{\"bar\":[{\"error_x\":{\"color\":\"#2a3f5f\"},\"error_y\":{\"color\":\"#2a3f5f\"},\"marker\":{\"line\":{\"color\":\"#E5ECF6\",\"width\":0.5},\"pattern\":{\"fillmode\":\"overlay\",\"size\":10,\"solidity\":0.2}},\"type\":\"bar\"}],\"barpolar\":[{\"marker\":{\"line\":{\"color\":\"#E5ECF6\",\"width\":0.5},\"pattern\":{\"fillmode\":\"overlay\",\"size\":10,\"solidity\":0.2}},\"type\":\"barpolar\"}],\"carpet\":[{\"aaxis\":{\"endlinecolor\":\"#2a3f5f\",\"gridcolor\":\"white\",\"linecolor\":\"white\",\"minorgridcolor\":\"white\",\"startlinecolor\":\"#2a3f5f\"},\"baxis\":{\"endlinecolor\":\"#2a3f5f\",\"gridcolor\":\"white\",\"linecolor\":\"white\",\"minorgridcolor\":\"white\",\"startlinecolor\":\"#2a3f5f\"},\"type\":\"carpet\"}],\"choropleth\":[{\"colorbar\":{\"outlinewidth\":0,\"ticks\":\"\"},\"type\":\"choropleth\"}],\"contour\":[{\"colorbar\":{\"outlinewidth\":0,\"ticks\":\"\"},\"colorscale\":[[0.0,\"#0d0887\"],[0.1111111111111111,\"#46039f\"],[0.2222222222222222,\"#7201a8\"],[0.3333333333333333,\"#9c179e\"],[0.4444444444444444,\"#bd3786\"],[0.5555555555555556,\"#d8576b\"],[0.6666666666666666,\"#ed7953\"],[0.7777777777777778,\"#fb9f3a\"],[0.8888888888888888,\"#fdca26\"],[1.0,\"#f0f921\"]],\"type\":\"contour\"}],\"contourcarpet\":[{\"colorbar\":{\"outlinewidth\":0,\"ticks\":\"\"},\"type\":\"contourcarpet\"}],\"heatmap\":[{\"colorbar\":{\"outlinewidth\":0,\"ticks\":\"\"},\"colorscale\":[[0.0,\"#0d0887\"],[0.1111111111111111,\"#46039f\"],[0.2222222222222222,\"#7201a8\"],[0.3333333333333333,\"#9c179e\"],[0.4444444444444444,\"#bd3786\"],[0.5555555555555556,\"#d8576b\"],[0.6666666666666666,\"#ed7953\"],[0.7777777777777778,\"#fb9f3a\"],[0.8888888888888888,\"#fdca26\"],[1.0,\"#f0f921\"]],\"type\":\"heatmap\"}],\"heatmapgl\":[{\"colorbar\":{\"outlinewidth\":0,\"ticks\":\"\"},\"colorscale\":[[0.0,\"#0d0887\"],[0.1111111111111111,\"#46039f\"],[0.2222222222222222,\"#7201a8\"],[0.3333333333333333,\"#9c179e\"],[0.4444444444444444,\"#bd3786\"],[0.5555555555555556,\"#d8576b\"],[0.6666666666666666,\"#ed7953\"],[0.7777777777777778,\"#fb9f3a\"],[0.8888888888888888,\"#fdca26\"],[1.0,\"#f0f921\"]],\"type\":\"heatmapgl\"}],\"histogram\":[{\"marker\":{\"pattern\":{\"fillmode\":\"overlay\",\"size\":10,\"solidity\":0.2}},\"type\":\"histogram\"}],\"histogram2d\":[{\"colorbar\":{\"outlinewidth\":0,\"ticks\":\"\"},\"colorscale\":[[0.0,\"#0d0887\"],[0.1111111111111111,\"#46039f\"],[0.2222222222222222,\"#7201a8\"],[0.3333333333333333,\"#9c179e\"],[0.4444444444444444,\"#bd3786\"],[0.5555555555555556,\"#d8576b\"],[0.6666666666666666,\"#ed7953\"],[0.7777777777777778,\"#fb9f3a\"],[0.8888888888888888,\"#fdca26\"],[1.0,\"#f0f921\"]],\"type\":\"histogram2d\"}],\"histogram2dcontour\":[{\"colorbar\":{\"outlinewidth\":0,\"ticks\":\"\"},\"colorscale\":[[0.0,\"#0d0887\"],[0.1111111111111111,\"#46039f\"],[0.2222222222222222,\"#7201a8\"],[0.3333333333333333,\"#9c179e\"],[0.4444444444444444,\"#bd3786\"],[0.5555555555555556,\"#d8576b\"],[0.6666666666666666,\"#ed7953\"],[0.7777777777777778,\"#fb9f3a\"],[0.8888888888888888,\"#fdca26\"],[1.0,\"#f0f921\"]],\"type\":\"histogram2dcontour\"}],\"mesh3d\":[{\"colorbar\":{\"outlinewidth\":0,\"ticks\":\"\"},\"type\":\"mesh3d\"}],\"parcoords\":[{\"line\":{\"colorbar\":{\"outlinewidth\":0,\"ticks\":\"\"}},\"type\":\"parcoords\"}],\"pie\":[{\"automargin\":true,\"type\":\"pie\"}],\"scatter\":[{\"marker\":{\"colorbar\":{\"outlinewidth\":0,\"ticks\":\"\"}},\"type\":\"scatter\"}],\"scatter3d\":[{\"line\":{\"colorbar\":{\"outlinewidth\":0,\"ticks\":\"\"}},\"marker\":{\"colorbar\":{\"outlinewidth\":0,\"ticks\":\"\"}},\"type\":\"scatter3d\"}],\"scattercarpet\":[{\"marker\":{\"colorbar\":{\"outlinewidth\":0,\"ticks\":\"\"}},\"type\":\"scattercarpet\"}],\"scattergeo\":[{\"marker\":{\"colorbar\":{\"outlinewidth\":0,\"ticks\":\"\"}},\"type\":\"scattergeo\"}],\"scattergl\":[{\"marker\":{\"colorbar\":{\"outlinewidth\":0,\"ticks\":\"\"}},\"type\":\"scattergl\"}],\"scattermapbox\":[{\"marker\":{\"colorbar\":{\"outlinewidth\":0,\"ticks\":\"\"}},\"type\":\"scattermapbox\"}],\"scatterpolar\":[{\"marker\":{\"colorbar\":{\"outlinewidth\":0,\"ticks\":\"\"}},\"type\":\"scatterpolar\"}],\"scatterpolargl\":[{\"marker\":{\"colorbar\":{\"outlinewidth\":0,\"ticks\":\"\"}},\"type\":\"scatterpolargl\"}],\"scatterternary\":[{\"marker\":{\"colorbar\":{\"outlinewidth\":0,\"ticks\":\"\"}},\"type\":\"scatterternary\"}],\"surface\":[{\"colorbar\":{\"outlinewidth\":0,\"ticks\":\"\"},\"colorscale\":[[0.0,\"#0d0887\"],[0.1111111111111111,\"#46039f\"],[0.2222222222222222,\"#7201a8\"],[0.3333333333333333,\"#9c179e\"],[0.4444444444444444,\"#bd3786\"],[0.5555555555555556,\"#d8576b\"],[0.6666666666666666,\"#ed7953\"],[0.7777777777777778,\"#fb9f3a\"],[0.8888888888888888,\"#fdca26\"],[1.0,\"#f0f921\"]],\"type\":\"surface\"}],\"table\":[{\"cells\":{\"fill\":{\"color\":\"#EBF0F8\"},\"line\":{\"color\":\"white\"}},\"header\":{\"fill\":{\"color\":\"#C8D4E3\"},\"line\":{\"color\":\"white\"}},\"type\":\"table\"}]},\"layout\":{\"annotationdefaults\":{\"arrowcolor\":\"#2a3f5f\",\"arrowhead\":0,\"arrowwidth\":1},\"autotypenumbers\":\"strict\",\"coloraxis\":{\"colorbar\":{\"outlinewidth\":0,\"ticks\":\"\"}},\"colorscale\":{\"diverging\":[[0,\"#8e0152\"],[0.1,\"#c51b7d\"],[0.2,\"#de77ae\"],[0.3,\"#f1b6da\"],[0.4,\"#fde0ef\"],[0.5,\"#f7f7f7\"],[0.6,\"#e6f5d0\"],[0.7,\"#b8e186\"],[0.8,\"#7fbc41\"],[0.9,\"#4d9221\"],[1,\"#276419\"]],\"sequential\":[[0.0,\"#0d0887\"],[0.1111111111111111,\"#46039f\"],[0.2222222222222222,\"#7201a8\"],[0.3333333333333333,\"#9c179e\"],[0.4444444444444444,\"#bd3786\"],[0.5555555555555556,\"#d8576b\"],[0.6666666666666666,\"#ed7953\"],[0.7777777777777778,\"#fb9f3a\"],[0.8888888888888888,\"#fdca26\"],[1.0,\"#f0f921\"]],\"sequentialminus\":[[0.0,\"#0d0887\"],[0.1111111111111111,\"#46039f\"],[0.2222222222222222,\"#7201a8\"],[0.3333333333333333,\"#9c179e\"],[0.4444444444444444,\"#bd3786\"],[0.5555555555555556,\"#d8576b\"],[0.6666666666666666,\"#ed7953\"],[0.7777777777777778,\"#fb9f3a\"],[0.8888888888888888,\"#fdca26\"],[1.0,\"#f0f921\"]]},\"colorway\":[\"#636efa\",\"#EF553B\",\"#00cc96\",\"#ab63fa\",\"#FFA15A\",\"#19d3f3\",\"#FF6692\",\"#B6E880\",\"#FF97FF\",\"#FECB52\"],\"font\":{\"color\":\"#2a3f5f\"},\"geo\":{\"bgcolor\":\"white\",\"lakecolor\":\"white\",\"landcolor\":\"#E5ECF6\",\"showlakes\":true,\"showland\":true,\"subunitcolor\":\"white\"},\"hoverlabel\":{\"align\":\"left\"},\"hovermode\":\"closest\",\"mapbox\":{\"style\":\"light\"},\"paper_bgcolor\":\"white\",\"plot_bgcolor\":\"#E5ECF6\",\"polar\":{\"angularaxis\":{\"gridcolor\":\"white\",\"linecolor\":\"white\",\"ticks\":\"\"},\"bgcolor\":\"#E5ECF6\",\"radialaxis\":{\"gridcolor\":\"white\",\"linecolor\":\"white\",\"ticks\":\"\"}},\"scene\":{\"xaxis\":{\"backgroundcolor\":\"#E5ECF6\",\"gridcolor\":\"white\",\"gridwidth\":2,\"linecolor\":\"white\",\"showbackground\":true,\"ticks\":\"\",\"zerolinecolor\":\"white\"},\"yaxis\":{\"backgroundcolor\":\"#E5ECF6\",\"gridcolor\":\"white\",\"gridwidth\":2,\"linecolor\":\"white\",\"showbackground\":true,\"ticks\":\"\",\"zerolinecolor\":\"white\"},\"zaxis\":{\"backgroundcolor\":\"#E5ECF6\",\"gridcolor\":\"white\",\"gridwidth\":2,\"linecolor\":\"white\",\"showbackground\":true,\"ticks\":\"\",\"zerolinecolor\":\"white\"}},\"shapedefaults\":{\"line\":{\"color\":\"#2a3f5f\"}},\"ternary\":{\"aaxis\":{\"gridcolor\":\"white\",\"linecolor\":\"white\",\"ticks\":\"\"},\"baxis\":{\"gridcolor\":\"white\",\"linecolor\":\"white\",\"ticks\":\"\"},\"bgcolor\":\"#E5ECF6\",\"caxis\":{\"gridcolor\":\"white\",\"linecolor\":\"white\",\"ticks\":\"\"}},\"title\":{\"x\":0.05},\"xaxis\":{\"automargin\":true,\"gridcolor\":\"white\",\"linecolor\":\"white\",\"ticks\":\"\",\"title\":{\"standoff\":15},\"zerolinecolor\":\"white\",\"zerolinewidth\":2},\"yaxis\":{\"automargin\":true,\"gridcolor\":\"white\",\"linecolor\":\"white\",\"ticks\":\"\",\"title\":{\"standoff\":15},\"zerolinecolor\":\"white\",\"zerolinewidth\":2}}}},                        {\"responsive\": true}                    ).then(function(){\n",
       "                            \n",
       "var gd = document.getElementById('2b14e713-3062-4a21-aac0-951c1293e276');\n",
       "var x = new MutationObserver(function (mutations, observer) {{\n",
       "        var display = window.getComputedStyle(gd).display;\n",
       "        if (!display || display === 'none') {{\n",
       "            console.log([gd, 'removed!']);\n",
       "            Plotly.purge(gd);\n",
       "            observer.disconnect();\n",
       "        }}\n",
       "}});\n",
       "\n",
       "// Listen for the removal of the full notebook cells\n",
       "var notebookContainer = gd.closest('#notebook-container');\n",
       "if (notebookContainer) {{\n",
       "    x.observe(notebookContainer, {childList: true});\n",
       "}}\n",
       "\n",
       "// Listen for the clearing of the current output cell\n",
       "var outputEl = gd.closest('.output');\n",
       "if (outputEl) {{\n",
       "    x.observe(outputEl, {childList: true});\n",
       "}}\n",
       "\n",
       "                        })                };                            </script>        </div>\n",
       "</body>\n",
       "</html>"
      ]
     },
     "metadata": {},
     "output_type": "display_data"
    }
   ],
   "source": [
    "fig = go.Figure()\n",
    "fig.add_trace(go.Box(x=churn_enriq.razao_likes_deslikes))\n",
    "fig.show()"
   ]
  },
  {
   "cell_type": "markdown",
   "metadata": {
    "id": "wnQz0nXDkwfK"
   },
   "source": [
    "e) Como essa variável está com alguns picos indesejados e uma grande quantidade de outliers, faz sentido nesse caso aplicarmos a discretização por equal-frequncy usando 3 bins. \n",
    "\n",
    "Dica: para funcionar o algoritmo do KBins, antes substitua os infinitos por um valor alto"
   ]
  },
  {
   "cell_type": "code",
   "execution_count": null,
   "metadata": {
    "colab": {
     "base_uri": "https://localhost:8080/"
    },
    "executionInfo": {
     "elapsed": 6,
     "status": "ok",
     "timestamp": 1643330818982,
     "user": {
      "displayName": "Matheus Scheffer",
      "photoUrl": "https://lh3.googleusercontent.com/a-/AOh14GglPDI7gdLFED26W1SJncCIZFA5A-5rjTBcxfjH=s64",
      "userId": "18314476337770992076"
     },
     "user_tz": 180
    },
    "id": "wz_geec-F5Am",
    "outputId": "c1c84651-25ff-46c9-e183-62a35da425cd"
   },
   "outputs": [
    {
     "name": "stdout",
     "output_type": "stream",
     "text": [
      "286.99999999999994\n"
     ]
    },
    {
     "data": {
      "text/plain": [
       "9999.0"
      ]
     },
     "execution_count": 25,
     "metadata": {},
     "output_type": "execute_result"
    }
   ],
   "source": [
    "print(churn_enriq.loc[churn_enriq.razao_likes_deslikes != np.inf,'razao_likes_deslikes'].max())\n",
    "churn_enriq.loc[churn_enriq.razao_likes_deslikes == np.inf,'razao_likes_deslikes'] = 9999\n",
    "churn_enriq.razao_likes_deslikes.max()"
   ]
  },
  {
   "cell_type": "code",
   "execution_count": null,
   "metadata": {
    "colab": {
     "base_uri": "https://localhost:8080/"
    },
    "executionInfo": {
     "elapsed": 9,
     "status": "ok",
     "timestamp": 1643330819360,
     "user": {
      "displayName": "Matheus Scheffer",
      "photoUrl": "https://lh3.googleusercontent.com/a-/AOh14GglPDI7gdLFED26W1SJncCIZFA5A-5rjTBcxfjH=s64",
      "userId": "18314476337770992076"
     },
     "user_tz": 180
    },
    "id": "aJFMevAZH469",
    "outputId": "fedd741c-88e8-4f30-ed6c-5230d80960eb"
   },
   "outputs": [
    {
     "data": {
      "text/plain": [
       "array([[7.50000000e+00],\n",
       "       [1.13432836e+00],\n",
       "       [9.99900000e+03],\n",
       "       ...,\n",
       "       [5.61110893e+00],\n",
       "       [5.61110893e+00],\n",
       "       [5.61110893e+00]])"
      ]
     },
     "execution_count": 26,
     "metadata": {},
     "output_type": "execute_result"
    }
   ],
   "source": [
    "churn_enriq[['razao_likes_deslikes']].values"
   ]
  },
  {
   "cell_type": "code",
   "execution_count": null,
   "metadata": {
    "id": "fBK0BbgbHhD8"
   },
   "outputs": [],
   "source": [
    "discretizer = KBinsDiscretizer(n_bins=3, encode='ordinal', strategy='quantile')\n",
    "\n",
    "discretizer.fit(churn_enriq[['razao_likes_deslikes']].values)\n",
    "\n",
    "churn_enriq['razao_likes_deslikes_discfreq'] = discretizer.transform(churn_enriq[['razao_likes_deslikes']].values)\n"
   ]
  },
  {
   "cell_type": "code",
   "execution_count": null,
   "metadata": {
    "colab": {
     "base_uri": "https://localhost:8080/"
    },
    "executionInfo": {
     "elapsed": 3,
     "status": "ok",
     "timestamp": 1643330819639,
     "user": {
      "displayName": "Matheus Scheffer",
      "photoUrl": "https://lh3.googleusercontent.com/a-/AOh14GglPDI7gdLFED26W1SJncCIZFA5A-5rjTBcxfjH=s64",
      "userId": "18314476337770992076"
     },
     "user_tz": 180
    },
    "id": "yd7YF6nHIp8d",
    "outputId": "2c22252b-c26a-4db9-e689-99070467938c"
   },
   "outputs": [
    {
     "data": {
      "text/plain": [
       "0       2.0\n",
       "1       0.0\n",
       "2       2.0\n",
       "3       0.0\n",
       "4       2.0\n",
       "       ... \n",
       "4059    1.0\n",
       "4060    1.0\n",
       "4061    1.0\n",
       "4062    1.0\n",
       "4063    1.0\n",
       "Name: razao_likes_deslikes_discfreq, Length: 4064, dtype: float64"
      ]
     },
     "execution_count": 28,
     "metadata": {},
     "output_type": "execute_result"
    }
   ],
   "source": [
    "churn_enriq.razao_likes_deslikes_discfreq"
   ]
  },
  {
   "cell_type": "markdown",
   "metadata": {
    "id": "jztia-HXkwfL"
   },
   "source": [
    "f) Verifique a nova distribuição"
   ]
  },
  {
   "cell_type": "code",
   "execution_count": null,
   "metadata": {
    "colab": {
     "base_uri": "https://localhost:8080/"
    },
    "executionInfo": {
     "elapsed": 4,
     "status": "ok",
     "timestamp": 1643330822479,
     "user": {
      "displayName": "Matheus Scheffer",
      "photoUrl": "https://lh3.googleusercontent.com/a-/AOh14GglPDI7gdLFED26W1SJncCIZFA5A-5rjTBcxfjH=s64",
      "userId": "18314476337770992076"
     },
     "user_tz": 180
    },
    "id": "FfTlNkmQJuNl",
    "outputId": "c7f6addb-d235-4097-9004-963a37621d68"
   },
   "outputs": [
    {
     "data": {
      "text/plain": [
       "1.0    1673\n",
       "2.0    1358\n",
       "0.0    1033\n",
       "Name: razao_likes_deslikes_discfreq, dtype: int64"
      ]
     },
     "execution_count": 29,
     "metadata": {},
     "output_type": "execute_result"
    }
   ],
   "source": [
    "churn_enriq.razao_likes_deslikes_discfreq.value_counts()"
   ]
  },
  {
   "cell_type": "markdown",
   "metadata": {
    "id": "MBfymbRukwfM"
   },
   "source": [
    "## Criação de uma nova dimensão"
   ]
  },
  {
   "cell_type": "markdown",
   "metadata": {
    "id": "yegzJHHrkwfM"
   },
   "source": [
    "Vamos retornar aos datasets de comentários! Já que não sabemos se os comentários são positivos ou não, poderiamos calcular uma dimensão de comentários que indique se o autor daquele comentário chegou a sair da empresa ou não. Isso pode nos indicar que um funcionário que dê like em algum comentário de alguém que saiu pode ser mais propenso a churn também. "
   ]
  },
  {
   "cell_type": "markdown",
   "metadata": {
    "id": "cXdlbZ68kwfN"
   },
   "source": [
    "a) Faça um merge entre a df_comments_clean_anonimized e a df_churn_enriq, trazendo somente a variável stillExists."
   ]
  },
  {
   "cell_type": "code",
   "execution_count": null,
   "metadata": {
    "colab": {
     "base_uri": "https://localhost:8080/"
    },
    "executionInfo": {
     "elapsed": 4,
     "status": "ok",
     "timestamp": 1643330823582,
     "user": {
      "displayName": "Matheus Scheffer",
      "photoUrl": "https://lh3.googleusercontent.com/a-/AOh14GglPDI7gdLFED26W1SJncCIZFA5A-5rjTBcxfjH=s64",
      "userId": "18314476337770992076"
     },
     "user_tz": 180
    },
    "id": "d0gkMzB9QqXL",
    "outputId": "48102633-37e2-47eb-b74a-3057643bbb14"
   },
   "outputs": [
    {
     "name": "stdout",
     "output_type": "stream",
     "text": [
      "(38994, 7)\n"
     ]
    },
    {
     "data": {
      "text/plain": [
       "(4064, 27)"
      ]
     },
     "execution_count": 30,
     "metadata": {},
     "output_type": "execute_result"
    }
   ],
   "source": [
    "print(comments_clean_anonimized.shape)\n",
    "churn_enriq.shape"
   ]
  },
  {
   "cell_type": "code",
   "execution_count": null,
   "metadata": {
    "colab": {
     "base_uri": "https://localhost:8080/",
     "height": 81
    },
    "executionInfo": {
     "elapsed": 6,
     "status": "ok",
     "timestamp": 1643330826197,
     "user": {
      "displayName": "Matheus Scheffer",
      "photoUrl": "https://lh3.googleusercontent.com/a-/AOh14GglPDI7gdLFED26W1SJncCIZFA5A-5rjTBcxfjH=s64",
      "userId": "18314476337770992076"
     },
     "user_tz": 180
    },
    "id": "hbCwN0hBMDeg",
    "outputId": "68d496b7-b66b-4d97-9da7-8e76edd4f9fb"
   },
   "outputs": [
    {
     "data": {
      "text/html": [
       "\n",
       "  <div id=\"df-a405330f-fa8e-44fd-8b2f-13d4ac3dffc0\">\n",
       "    <div class=\"colab-df-container\">\n",
       "      <div>\n",
       "<style scoped>\n",
       "    .dataframe tbody tr th:only-of-type {\n",
       "        vertical-align: middle;\n",
       "    }\n",
       "\n",
       "    .dataframe tbody tr th {\n",
       "        vertical-align: top;\n",
       "    }\n",
       "\n",
       "    .dataframe thead th {\n",
       "        text-align: right;\n",
       "    }\n",
       "</style>\n",
       "<table border=\"1\" class=\"dataframe\">\n",
       "  <thead>\n",
       "    <tr style=\"text-align: right;\">\n",
       "      <th></th>\n",
       "      <th>employee</th>\n",
       "      <th>companyAlias</th>\n",
       "      <th>commentId</th>\n",
       "      <th>txt</th>\n",
       "      <th>likes</th>\n",
       "      <th>dislikes</th>\n",
       "      <th>commentDate</th>\n",
       "    </tr>\n",
       "  </thead>\n",
       "  <tbody>\n",
       "    <tr>\n",
       "      <th>0</th>\n",
       "      <td>307</td>\n",
       "      <td>56aec740f1ef260003e307d6</td>\n",
       "      <td>58d018d7e010990004e38070</td>\n",
       "      <td>**********************************************...</td>\n",
       "      <td>4.0</td>\n",
       "      <td>0.0</td>\n",
       "      <td>2017-03-20 18:00:17</td>\n",
       "    </tr>\n",
       "  </tbody>\n",
       "</table>\n",
       "</div>\n",
       "      <button class=\"colab-df-convert\" onclick=\"convertToInteractive('df-a405330f-fa8e-44fd-8b2f-13d4ac3dffc0')\"\n",
       "              title=\"Convert this dataframe to an interactive table.\"\n",
       "              style=\"display:none;\">\n",
       "        \n",
       "  <svg xmlns=\"http://www.w3.org/2000/svg\" height=\"24px\"viewBox=\"0 0 24 24\"\n",
       "       width=\"24px\">\n",
       "    <path d=\"M0 0h24v24H0V0z\" fill=\"none\"/>\n",
       "    <path d=\"M18.56 5.44l.94 2.06.94-2.06 2.06-.94-2.06-.94-.94-2.06-.94 2.06-2.06.94zm-11 1L8.5 8.5l.94-2.06 2.06-.94-2.06-.94L8.5 2.5l-.94 2.06-2.06.94zm10 10l.94 2.06.94-2.06 2.06-.94-2.06-.94-.94-2.06-.94 2.06-2.06.94z\"/><path d=\"M17.41 7.96l-1.37-1.37c-.4-.4-.92-.59-1.43-.59-.52 0-1.04.2-1.43.59L10.3 9.45l-7.72 7.72c-.78.78-.78 2.05 0 2.83L4 21.41c.39.39.9.59 1.41.59.51 0 1.02-.2 1.41-.59l7.78-7.78 2.81-2.81c.8-.78.8-2.07 0-2.86zM5.41 20L4 18.59l7.72-7.72 1.47 1.35L5.41 20z\"/>\n",
       "  </svg>\n",
       "      </button>\n",
       "      \n",
       "  <style>\n",
       "    .colab-df-container {\n",
       "      display:flex;\n",
       "      flex-wrap:wrap;\n",
       "      gap: 12px;\n",
       "    }\n",
       "\n",
       "    .colab-df-convert {\n",
       "      background-color: #E8F0FE;\n",
       "      border: none;\n",
       "      border-radius: 50%;\n",
       "      cursor: pointer;\n",
       "      display: none;\n",
       "      fill: #1967D2;\n",
       "      height: 32px;\n",
       "      padding: 0 0 0 0;\n",
       "      width: 32px;\n",
       "    }\n",
       "\n",
       "    .colab-df-convert:hover {\n",
       "      background-color: #E2EBFA;\n",
       "      box-shadow: 0px 1px 2px rgba(60, 64, 67, 0.3), 0px 1px 3px 1px rgba(60, 64, 67, 0.15);\n",
       "      fill: #174EA6;\n",
       "    }\n",
       "\n",
       "    [theme=dark] .colab-df-convert {\n",
       "      background-color: #3B4455;\n",
       "      fill: #D2E3FC;\n",
       "    }\n",
       "\n",
       "    [theme=dark] .colab-df-convert:hover {\n",
       "      background-color: #434B5C;\n",
       "      box-shadow: 0px 1px 3px 1px rgba(0, 0, 0, 0.15);\n",
       "      filter: drop-shadow(0px 1px 2px rgba(0, 0, 0, 0.3));\n",
       "      fill: #FFFFFF;\n",
       "    }\n",
       "  </style>\n",
       "\n",
       "      <script>\n",
       "        const buttonEl =\n",
       "          document.querySelector('#df-a405330f-fa8e-44fd-8b2f-13d4ac3dffc0 button.colab-df-convert');\n",
       "        buttonEl.style.display =\n",
       "          google.colab.kernel.accessAllowed ? 'block' : 'none';\n",
       "\n",
       "        async function convertToInteractive(key) {\n",
       "          const element = document.querySelector('#df-a405330f-fa8e-44fd-8b2f-13d4ac3dffc0');\n",
       "          const dataTable =\n",
       "            await google.colab.kernel.invokeFunction('convertToInteractive',\n",
       "                                                     [key], {});\n",
       "          if (!dataTable) return;\n",
       "\n",
       "          const docLinkHtml = 'Like what you see? Visit the ' +\n",
       "            '<a target=\"_blank\" href=https://colab.research.google.com/notebooks/data_table.ipynb>data table notebook</a>'\n",
       "            + ' to learn more about interactive tables.';\n",
       "          element.innerHTML = '';\n",
       "          dataTable['output_type'] = 'display_data';\n",
       "          await google.colab.output.renderOutput(dataTable, element);\n",
       "          const docLink = document.createElement('div');\n",
       "          docLink.innerHTML = docLinkHtml;\n",
       "          element.appendChild(docLink);\n",
       "        }\n",
       "      </script>\n",
       "    </div>\n",
       "  </div>\n",
       "  "
      ],
      "text/plain": [
       "   employee              companyAlias  ... dislikes          commentDate\n",
       "0       307  56aec740f1ef260003e307d6  ...      0.0  2017-03-20 18:00:17\n",
       "\n",
       "[1 rows x 7 columns]"
      ]
     },
     "execution_count": 31,
     "metadata": {},
     "output_type": "execute_result"
    }
   ],
   "source": [
    "comments_clean_anonimized.head(1)"
   ]
  },
  {
   "cell_type": "code",
   "execution_count": null,
   "metadata": {
    "colab": {
     "base_uri": "https://localhost:8080/",
     "height": 145
    },
    "executionInfo": {
     "elapsed": 4,
     "status": "ok",
     "timestamp": 1643330826477,
     "user": {
      "displayName": "Matheus Scheffer",
      "photoUrl": "https://lh3.googleusercontent.com/a-/AOh14GglPDI7gdLFED26W1SJncCIZFA5A-5rjTBcxfjH=s64",
      "userId": "18314476337770992076"
     },
     "user_tz": 180
    },
    "id": "agqnL10FMj2l",
    "outputId": "3059e529-9010-4de8-d24f-afefc43722d8"
   },
   "outputs": [
    {
     "data": {
      "text/html": [
       "\n",
       "  <div id=\"df-ba7fda0a-87ed-44f9-823e-399e152e1fda\">\n",
       "    <div class=\"colab-df-container\">\n",
       "      <div>\n",
       "<style scoped>\n",
       "    .dataframe tbody tr th:only-of-type {\n",
       "        vertical-align: middle;\n",
       "    }\n",
       "\n",
       "    .dataframe tbody tr th {\n",
       "        vertical-align: top;\n",
       "    }\n",
       "\n",
       "    .dataframe thead th {\n",
       "        text-align: right;\n",
       "    }\n",
       "</style>\n",
       "<table border=\"1\" class=\"dataframe\">\n",
       "  <thead>\n",
       "    <tr style=\"text-align: right;\">\n",
       "      <th></th>\n",
       "      <th>employee</th>\n",
       "      <th>companyAlias</th>\n",
       "      <th>numVotes</th>\n",
       "      <th>lastParticipationDate</th>\n",
       "      <th>stillExists</th>\n",
       "      <th>vote_mean</th>\n",
       "      <th>vote_mode</th>\n",
       "      <th>vote_min</th>\n",
       "      <th>vote_max</th>\n",
       "      <th>vote_count</th>\n",
       "      <th>qt_dias_diff_vote_min</th>\n",
       "      <th>qt_dias_diff_vote_max</th>\n",
       "      <th>qt_dias_diff_vote_median</th>\n",
       "      <th>likes_mean</th>\n",
       "      <th>likes_min</th>\n",
       "      <th>likes_max</th>\n",
       "      <th>dislikes_mean</th>\n",
       "      <th>dislikes_min</th>\n",
       "      <th>dislikes_max</th>\n",
       "      <th>qt_dias_diff_comment_min</th>\n",
       "      <th>qt_dias_diff_comment_max</th>\n",
       "      <th>qt_dias_diff_comment_median</th>\n",
       "      <th>commentId_count</th>\n",
       "      <th>companyType</th>\n",
       "      <th>gender</th>\n",
       "      <th>razao_likes_deslikes</th>\n",
       "      <th>razao_likes_deslikes_discfreq</th>\n",
       "    </tr>\n",
       "  </thead>\n",
       "  <tbody>\n",
       "    <tr>\n",
       "      <th>0</th>\n",
       "      <td>512</td>\n",
       "      <td>56aec740f1ef260003e307d6</td>\n",
       "      <td>4</td>\n",
       "      <td>2017-02-23 11:48:04</td>\n",
       "      <td>1</td>\n",
       "      <td>2.0</td>\n",
       "      <td>1.0</td>\n",
       "      <td>1.0</td>\n",
       "      <td>3.0</td>\n",
       "      <td>3.0</td>\n",
       "      <td>2.0</td>\n",
       "      <td>37.0</td>\n",
       "      <td>31.0</td>\n",
       "      <td>7.5</td>\n",
       "      <td>6.0</td>\n",
       "      <td>9.0</td>\n",
       "      <td>1.0</td>\n",
       "      <td>0.0</td>\n",
       "      <td>2.0</td>\n",
       "      <td>2.0</td>\n",
       "      <td>30.0</td>\n",
       "      <td>16.0</td>\n",
       "      <td>2.0</td>\n",
       "      <td>Product</td>\n",
       "      <td>Male</td>\n",
       "      <td>7.5</td>\n",
       "      <td>2.0</td>\n",
       "    </tr>\n",
       "  </tbody>\n",
       "</table>\n",
       "</div>\n",
       "      <button class=\"colab-df-convert\" onclick=\"convertToInteractive('df-ba7fda0a-87ed-44f9-823e-399e152e1fda')\"\n",
       "              title=\"Convert this dataframe to an interactive table.\"\n",
       "              style=\"display:none;\">\n",
       "        \n",
       "  <svg xmlns=\"http://www.w3.org/2000/svg\" height=\"24px\"viewBox=\"0 0 24 24\"\n",
       "       width=\"24px\">\n",
       "    <path d=\"M0 0h24v24H0V0z\" fill=\"none\"/>\n",
       "    <path d=\"M18.56 5.44l.94 2.06.94-2.06 2.06-.94-2.06-.94-.94-2.06-.94 2.06-2.06.94zm-11 1L8.5 8.5l.94-2.06 2.06-.94-2.06-.94L8.5 2.5l-.94 2.06-2.06.94zm10 10l.94 2.06.94-2.06 2.06-.94-2.06-.94-.94-2.06-.94 2.06-2.06.94z\"/><path d=\"M17.41 7.96l-1.37-1.37c-.4-.4-.92-.59-1.43-.59-.52 0-1.04.2-1.43.59L10.3 9.45l-7.72 7.72c-.78.78-.78 2.05 0 2.83L4 21.41c.39.39.9.59 1.41.59.51 0 1.02-.2 1.41-.59l7.78-7.78 2.81-2.81c.8-.78.8-2.07 0-2.86zM5.41 20L4 18.59l7.72-7.72 1.47 1.35L5.41 20z\"/>\n",
       "  </svg>\n",
       "      </button>\n",
       "      \n",
       "  <style>\n",
       "    .colab-df-container {\n",
       "      display:flex;\n",
       "      flex-wrap:wrap;\n",
       "      gap: 12px;\n",
       "    }\n",
       "\n",
       "    .colab-df-convert {\n",
       "      background-color: #E8F0FE;\n",
       "      border: none;\n",
       "      border-radius: 50%;\n",
       "      cursor: pointer;\n",
       "      display: none;\n",
       "      fill: #1967D2;\n",
       "      height: 32px;\n",
       "      padding: 0 0 0 0;\n",
       "      width: 32px;\n",
       "    }\n",
       "\n",
       "    .colab-df-convert:hover {\n",
       "      background-color: #E2EBFA;\n",
       "      box-shadow: 0px 1px 2px rgba(60, 64, 67, 0.3), 0px 1px 3px 1px rgba(60, 64, 67, 0.15);\n",
       "      fill: #174EA6;\n",
       "    }\n",
       "\n",
       "    [theme=dark] .colab-df-convert {\n",
       "      background-color: #3B4455;\n",
       "      fill: #D2E3FC;\n",
       "    }\n",
       "\n",
       "    [theme=dark] .colab-df-convert:hover {\n",
       "      background-color: #434B5C;\n",
       "      box-shadow: 0px 1px 3px 1px rgba(0, 0, 0, 0.15);\n",
       "      filter: drop-shadow(0px 1px 2px rgba(0, 0, 0, 0.3));\n",
       "      fill: #FFFFFF;\n",
       "    }\n",
       "  </style>\n",
       "\n",
       "      <script>\n",
       "        const buttonEl =\n",
       "          document.querySelector('#df-ba7fda0a-87ed-44f9-823e-399e152e1fda button.colab-df-convert');\n",
       "        buttonEl.style.display =\n",
       "          google.colab.kernel.accessAllowed ? 'block' : 'none';\n",
       "\n",
       "        async function convertToInteractive(key) {\n",
       "          const element = document.querySelector('#df-ba7fda0a-87ed-44f9-823e-399e152e1fda');\n",
       "          const dataTable =\n",
       "            await google.colab.kernel.invokeFunction('convertToInteractive',\n",
       "                                                     [key], {});\n",
       "          if (!dataTable) return;\n",
       "\n",
       "          const docLinkHtml = 'Like what you see? Visit the ' +\n",
       "            '<a target=\"_blank\" href=https://colab.research.google.com/notebooks/data_table.ipynb>data table notebook</a>'\n",
       "            + ' to learn more about interactive tables.';\n",
       "          element.innerHTML = '';\n",
       "          dataTable['output_type'] = 'display_data';\n",
       "          await google.colab.output.renderOutput(dataTable, element);\n",
       "          const docLink = document.createElement('div');\n",
       "          docLink.innerHTML = docLinkHtml;\n",
       "          element.appendChild(docLink);\n",
       "        }\n",
       "      </script>\n",
       "    </div>\n",
       "  </div>\n",
       "  "
      ],
      "text/plain": [
       "   employee  ... razao_likes_deslikes_discfreq\n",
       "0       512  ...                           2.0\n",
       "\n",
       "[1 rows x 27 columns]"
      ]
     },
     "execution_count": 32,
     "metadata": {},
     "output_type": "execute_result"
    }
   ],
   "source": [
    "churn_enriq.head(1)"
   ]
  },
  {
   "cell_type": "code",
   "execution_count": null,
   "metadata": {
    "colab": {
     "base_uri": "https://localhost:8080/",
     "height": 362
    },
    "executionInfo": {
     "elapsed": 384,
     "status": "ok",
     "timestamp": 1643330828152,
     "user": {
      "displayName": "Matheus Scheffer",
      "photoUrl": "https://lh3.googleusercontent.com/a-/AOh14GglPDI7gdLFED26W1SJncCIZFA5A-5rjTBcxfjH=s64",
      "userId": "18314476337770992076"
     },
     "user_tz": 180
    },
    "id": "hfaZLRM_lCyW",
    "outputId": "301d82c9-b1d8-4cf3-970d-caaed83f9962"
   },
   "outputs": [
    {
     "name": "stdout",
     "output_type": "stream",
     "text": [
      "employee         0\n",
      "companyAlias     0\n",
      "commentId        0\n",
      "txt             63\n",
      "likes            1\n",
      "dislikes         1\n",
      "commentDate      1\n",
      "stillExists      0\n",
      "dtype: int64\n"
     ]
    },
    {
     "data": {
      "text/html": [
       "\n",
       "  <div id=\"df-a74f68f3-1d8c-4d6a-a5a8-b6f96365ddc2\">\n",
       "    <div class=\"colab-df-container\">\n",
       "      <div>\n",
       "<style scoped>\n",
       "    .dataframe tbody tr th:only-of-type {\n",
       "        vertical-align: middle;\n",
       "    }\n",
       "\n",
       "    .dataframe tbody tr th {\n",
       "        vertical-align: top;\n",
       "    }\n",
       "\n",
       "    .dataframe thead th {\n",
       "        text-align: right;\n",
       "    }\n",
       "</style>\n",
       "<table border=\"1\" class=\"dataframe\">\n",
       "  <thead>\n",
       "    <tr style=\"text-align: right;\">\n",
       "      <th></th>\n",
       "      <th>employee</th>\n",
       "      <th>companyAlias</th>\n",
       "      <th>commentId</th>\n",
       "      <th>txt</th>\n",
       "      <th>likes</th>\n",
       "      <th>dislikes</th>\n",
       "      <th>commentDate</th>\n",
       "      <th>stillExists</th>\n",
       "    </tr>\n",
       "  </thead>\n",
       "  <tbody>\n",
       "    <tr>\n",
       "      <th>0</th>\n",
       "      <td>307</td>\n",
       "      <td>56aec740f1ef260003e307d6</td>\n",
       "      <td>58d018d7e010990004e38070</td>\n",
       "      <td>**********************************************...</td>\n",
       "      <td>4.0</td>\n",
       "      <td>0.0</td>\n",
       "      <td>2017-03-20 18:00:17</td>\n",
       "      <td>1</td>\n",
       "    </tr>\n",
       "    <tr>\n",
       "      <th>1</th>\n",
       "      <td>307</td>\n",
       "      <td>56aec740f1ef260003e307d6</td>\n",
       "      <td>58c913dfbd760e00043f1695</td>\n",
       "      <td>**********************************************...</td>\n",
       "      <td>8.0</td>\n",
       "      <td>1.0</td>\n",
       "      <td>2017-03-15 10:12:39</td>\n",
       "      <td>1</td>\n",
       "    </tr>\n",
       "    <tr>\n",
       "      <th>2</th>\n",
       "      <td>307</td>\n",
       "      <td>56aec740f1ef260003e307d6</td>\n",
       "      <td>58c736e732f72a00046f5614</td>\n",
       "      <td>********************************</td>\n",
       "      <td>5.0</td>\n",
       "      <td>0.0</td>\n",
       "      <td>2017-03-14 00:18:23</td>\n",
       "      <td>1</td>\n",
       "    </tr>\n",
       "    <tr>\n",
       "      <th>3</th>\n",
       "      <td>307</td>\n",
       "      <td>56aec740f1ef260003e307d6</td>\n",
       "      <td>58c53f19307b1e0004ad41af</td>\n",
       "      <td>**********************************************...</td>\n",
       "      <td>8.0</td>\n",
       "      <td>0.0</td>\n",
       "      <td>2017-03-12 12:28:34</td>\n",
       "      <td>1</td>\n",
       "    </tr>\n",
       "    <tr>\n",
       "      <th>4</th>\n",
       "      <td>307</td>\n",
       "      <td>56aec740f1ef260003e307d6</td>\n",
       "      <td>58c3ccf161ca670004c032fb</td>\n",
       "      <td>**********************</td>\n",
       "      <td>5.0</td>\n",
       "      <td>0.0</td>\n",
       "      <td>2017-03-11 10:09:36</td>\n",
       "      <td>1</td>\n",
       "    </tr>\n",
       "  </tbody>\n",
       "</table>\n",
       "</div>\n",
       "      <button class=\"colab-df-convert\" onclick=\"convertToInteractive('df-a74f68f3-1d8c-4d6a-a5a8-b6f96365ddc2')\"\n",
       "              title=\"Convert this dataframe to an interactive table.\"\n",
       "              style=\"display:none;\">\n",
       "        \n",
       "  <svg xmlns=\"http://www.w3.org/2000/svg\" height=\"24px\"viewBox=\"0 0 24 24\"\n",
       "       width=\"24px\">\n",
       "    <path d=\"M0 0h24v24H0V0z\" fill=\"none\"/>\n",
       "    <path d=\"M18.56 5.44l.94 2.06.94-2.06 2.06-.94-2.06-.94-.94-2.06-.94 2.06-2.06.94zm-11 1L8.5 8.5l.94-2.06 2.06-.94-2.06-.94L8.5 2.5l-.94 2.06-2.06.94zm10 10l.94 2.06.94-2.06 2.06-.94-2.06-.94-.94-2.06-.94 2.06-2.06.94z\"/><path d=\"M17.41 7.96l-1.37-1.37c-.4-.4-.92-.59-1.43-.59-.52 0-1.04.2-1.43.59L10.3 9.45l-7.72 7.72c-.78.78-.78 2.05 0 2.83L4 21.41c.39.39.9.59 1.41.59.51 0 1.02-.2 1.41-.59l7.78-7.78 2.81-2.81c.8-.78.8-2.07 0-2.86zM5.41 20L4 18.59l7.72-7.72 1.47 1.35L5.41 20z\"/>\n",
       "  </svg>\n",
       "      </button>\n",
       "      \n",
       "  <style>\n",
       "    .colab-df-container {\n",
       "      display:flex;\n",
       "      flex-wrap:wrap;\n",
       "      gap: 12px;\n",
       "    }\n",
       "\n",
       "    .colab-df-convert {\n",
       "      background-color: #E8F0FE;\n",
       "      border: none;\n",
       "      border-radius: 50%;\n",
       "      cursor: pointer;\n",
       "      display: none;\n",
       "      fill: #1967D2;\n",
       "      height: 32px;\n",
       "      padding: 0 0 0 0;\n",
       "      width: 32px;\n",
       "    }\n",
       "\n",
       "    .colab-df-convert:hover {\n",
       "      background-color: #E2EBFA;\n",
       "      box-shadow: 0px 1px 2px rgba(60, 64, 67, 0.3), 0px 1px 3px 1px rgba(60, 64, 67, 0.15);\n",
       "      fill: #174EA6;\n",
       "    }\n",
       "\n",
       "    [theme=dark] .colab-df-convert {\n",
       "      background-color: #3B4455;\n",
       "      fill: #D2E3FC;\n",
       "    }\n",
       "\n",
       "    [theme=dark] .colab-df-convert:hover {\n",
       "      background-color: #434B5C;\n",
       "      box-shadow: 0px 1px 3px 1px rgba(0, 0, 0, 0.15);\n",
       "      filter: drop-shadow(0px 1px 2px rgba(0, 0, 0, 0.3));\n",
       "      fill: #FFFFFF;\n",
       "    }\n",
       "  </style>\n",
       "\n",
       "      <script>\n",
       "        const buttonEl =\n",
       "          document.querySelector('#df-a74f68f3-1d8c-4d6a-a5a8-b6f96365ddc2 button.colab-df-convert');\n",
       "        buttonEl.style.display =\n",
       "          google.colab.kernel.accessAllowed ? 'block' : 'none';\n",
       "\n",
       "        async function convertToInteractive(key) {\n",
       "          const element = document.querySelector('#df-a74f68f3-1d8c-4d6a-a5a8-b6f96365ddc2');\n",
       "          const dataTable =\n",
       "            await google.colab.kernel.invokeFunction('convertToInteractive',\n",
       "                                                     [key], {});\n",
       "          if (!dataTable) return;\n",
       "\n",
       "          const docLinkHtml = 'Like what you see? Visit the ' +\n",
       "            '<a target=\"_blank\" href=https://colab.research.google.com/notebooks/data_table.ipynb>data table notebook</a>'\n",
       "            + ' to learn more about interactive tables.';\n",
       "          element.innerHTML = '';\n",
       "          dataTable['output_type'] = 'display_data';\n",
       "          await google.colab.output.renderOutput(dataTable, element);\n",
       "          const docLink = document.createElement('div');\n",
       "          docLink.innerHTML = docLinkHtml;\n",
       "          element.appendChild(docLink);\n",
       "        }\n",
       "      </script>\n",
       "    </div>\n",
       "  </div>\n",
       "  "
      ],
      "text/plain": [
       "   employee              companyAlias  ...          commentDate stillExists\n",
       "0       307  56aec740f1ef260003e307d6  ...  2017-03-20 18:00:17           1\n",
       "1       307  56aec740f1ef260003e307d6  ...  2017-03-15 10:12:39           1\n",
       "2       307  56aec740f1ef260003e307d6  ...  2017-03-14 00:18:23           1\n",
       "3       307  56aec740f1ef260003e307d6  ...  2017-03-12 12:28:34           1\n",
       "4       307  56aec740f1ef260003e307d6  ...  2017-03-11 10:09:36           1\n",
       "\n",
       "[5 rows x 8 columns]"
      ]
     },
     "execution_count": 33,
     "metadata": {},
     "output_type": "execute_result"
    }
   ],
   "source": [
    "print(comments_clean_anonimized.merge(churn_enriq[['employee','companyAlias','stillExists']], on=['employee','companyAlias']).isnull().sum())\n",
    "cla_x_churn = comments_clean_anonimized.merge(churn_enriq[['employee','companyAlias','stillExists']], on=['employee','companyAlias'])\n",
    "cla_x_churn.head()"
   ]
  },
  {
   "cell_type": "markdown",
   "metadata": {
    "id": "S6H_heQakwfO"
   },
   "source": [
    "b) Agora faça um merge entre a df_comment_interactions e essa nova base, trazendo somente a variável stillExists."
   ]
  },
  {
   "cell_type": "code",
   "execution_count": null,
   "metadata": {
    "colab": {
     "base_uri": "https://localhost:8080/"
    },
    "executionInfo": {
     "elapsed": 367,
     "status": "ok",
     "timestamp": 1643330828796,
     "user": {
      "displayName": "Matheus Scheffer",
      "photoUrl": "https://lh3.googleusercontent.com/a-/AOh14GglPDI7gdLFED26W1SJncCIZFA5A-5rjTBcxfjH=s64",
      "userId": "18314476337770992076"
     },
     "user_tz": 180
    },
    "id": "0SvKnlXzMis9",
    "outputId": "5a96ea30-76c2-49b4-91f1-b76abbd03fe3"
   },
   "outputs": [
    {
     "name": "stdout",
     "output_type": "stream",
     "text": [
      "employee        0\n",
      "companyAlias    0\n",
      "liked           0\n",
      "disliked        0\n",
      "commentId       0\n",
      "stillExists     0\n",
      "dtype: int64\n"
     ]
    },
    {
     "data": {
      "text/plain": [
       "(13503, 6)"
      ]
     },
     "execution_count": 34,
     "metadata": {},
     "output_type": "execute_result"
    }
   ],
   "source": [
    "#Neste merge, podemos ver que muitos funcionários(employee) que interagiram com os comentários anônimos NÃO DERAM CHURN!\n",
    "print(commentInteractions.merge(cla_x_churn[['employee','companyAlias','commentId','stillExists']],on=['employee','companyAlias','commentId']).isnull().sum())\n",
    "commentInteractions.merge(cla_x_churn[['employee','companyAlias','commentId','stillExists']],on=['employee','companyAlias','commentId']).shape"
   ]
  },
  {
   "cell_type": "code",
   "execution_count": null,
   "metadata": {
    "colab": {
     "base_uri": "https://localhost:8080/",
     "height": 424
    },
    "executionInfo": {
     "elapsed": 5,
     "status": "ok",
     "timestamp": 1643330828796,
     "user": {
      "displayName": "Matheus Scheffer",
      "photoUrl": "https://lh3.googleusercontent.com/a-/AOh14GglPDI7gdLFED26W1SJncCIZFA5A-5rjTBcxfjH=s64",
      "userId": "18314476337770992076"
     },
     "user_tz": 180
    },
    "id": "G28xWFNRMhZX",
    "outputId": "e7ae985a-a6b8-46bb-88db-12feb2cc26e1"
   },
   "outputs": [
    {
     "data": {
      "text/html": [
       "\n",
       "  <div id=\"df-af491af4-947b-43d1-bc10-b65cc0f75aa9\">\n",
       "    <div class=\"colab-df-container\">\n",
       "      <div>\n",
       "<style scoped>\n",
       "    .dataframe tbody tr th:only-of-type {\n",
       "        vertical-align: middle;\n",
       "    }\n",
       "\n",
       "    .dataframe tbody tr th {\n",
       "        vertical-align: top;\n",
       "    }\n",
       "\n",
       "    .dataframe thead th {\n",
       "        text-align: right;\n",
       "    }\n",
       "</style>\n",
       "<table border=\"1\" class=\"dataframe\">\n",
       "  <thead>\n",
       "    <tr style=\"text-align: right;\">\n",
       "      <th></th>\n",
       "      <th>employee</th>\n",
       "      <th>companyAlias</th>\n",
       "      <th>liked</th>\n",
       "      <th>disliked</th>\n",
       "      <th>commentId</th>\n",
       "      <th>stillExists</th>\n",
       "    </tr>\n",
       "  </thead>\n",
       "  <tbody>\n",
       "    <tr>\n",
       "      <th>0</th>\n",
       "      <td>307</td>\n",
       "      <td>56aec740f1ef260003e307d6</td>\n",
       "      <td>1</td>\n",
       "      <td>0</td>\n",
       "      <td>58d018d7e010990004e38070</td>\n",
       "      <td>1</td>\n",
       "    </tr>\n",
       "    <tr>\n",
       "      <th>1</th>\n",
       "      <td>36</td>\n",
       "      <td>56aec740f1ef260003e307d6</td>\n",
       "      <td>1</td>\n",
       "      <td>0</td>\n",
       "      <td>58d018d7e010990004e38070</td>\n",
       "      <td>1</td>\n",
       "    </tr>\n",
       "    <tr>\n",
       "      <th>2</th>\n",
       "      <td>276</td>\n",
       "      <td>56aec740f1ef260003e307d6</td>\n",
       "      <td>1</td>\n",
       "      <td>0</td>\n",
       "      <td>58d018d7e010990004e38070</td>\n",
       "      <td>1</td>\n",
       "    </tr>\n",
       "    <tr>\n",
       "      <th>3</th>\n",
       "      <td>24</td>\n",
       "      <td>56aec740f1ef260003e307d6</td>\n",
       "      <td>1</td>\n",
       "      <td>0</td>\n",
       "      <td>58d018d7e010990004e38070</td>\n",
       "      <td>1</td>\n",
       "    </tr>\n",
       "    <tr>\n",
       "      <th>4</th>\n",
       "      <td>382</td>\n",
       "      <td>56aec740f1ef260003e307d6</td>\n",
       "      <td>1</td>\n",
       "      <td>0</td>\n",
       "      <td>58d0179ae010990004e3806d</td>\n",
       "      <td>1</td>\n",
       "    </tr>\n",
       "    <tr>\n",
       "      <th>...</th>\n",
       "      <td>...</td>\n",
       "      <td>...</td>\n",
       "      <td>...</td>\n",
       "      <td>...</td>\n",
       "      <td>...</td>\n",
       "      <td>...</td>\n",
       "    </tr>\n",
       "    <tr>\n",
       "      <th>274741</th>\n",
       "      <td>259</td>\n",
       "      <td>58a728a0e75bda00042a3468</td>\n",
       "      <td>1</td>\n",
       "      <td>0</td>\n",
       "      <td>58ad8a0db8242400048bf832</td>\n",
       "      <td>1</td>\n",
       "    </tr>\n",
       "    <tr>\n",
       "      <th>274742</th>\n",
       "      <td>219</td>\n",
       "      <td>58a728a0e75bda00042a3468</td>\n",
       "      <td>1</td>\n",
       "      <td>0</td>\n",
       "      <td>58ad8a0db8242400048bf832</td>\n",
       "      <td>1</td>\n",
       "    </tr>\n",
       "    <tr>\n",
       "      <th>274743</th>\n",
       "      <td>121</td>\n",
       "      <td>58a728a0e75bda00042a3468</td>\n",
       "      <td>1</td>\n",
       "      <td>0</td>\n",
       "      <td>58ad899db8242400048bf830</td>\n",
       "      <td>1</td>\n",
       "    </tr>\n",
       "    <tr>\n",
       "      <th>274744</th>\n",
       "      <td>68</td>\n",
       "      <td>58a728a0e75bda00042a3468</td>\n",
       "      <td>1</td>\n",
       "      <td>0</td>\n",
       "      <td>58ad899db8242400048bf830</td>\n",
       "      <td>1</td>\n",
       "    </tr>\n",
       "    <tr>\n",
       "      <th>274745</th>\n",
       "      <td>219</td>\n",
       "      <td>58a728a0e75bda00042a3468</td>\n",
       "      <td>0</td>\n",
       "      <td>1</td>\n",
       "      <td>58ad899db8242400048bf830</td>\n",
       "      <td>1</td>\n",
       "    </tr>\n",
       "  </tbody>\n",
       "</table>\n",
       "<p>274746 rows × 6 columns</p>\n",
       "</div>\n",
       "      <button class=\"colab-df-convert\" onclick=\"convertToInteractive('df-af491af4-947b-43d1-bc10-b65cc0f75aa9')\"\n",
       "              title=\"Convert this dataframe to an interactive table.\"\n",
       "              style=\"display:none;\">\n",
       "        \n",
       "  <svg xmlns=\"http://www.w3.org/2000/svg\" height=\"24px\"viewBox=\"0 0 24 24\"\n",
       "       width=\"24px\">\n",
       "    <path d=\"M0 0h24v24H0V0z\" fill=\"none\"/>\n",
       "    <path d=\"M18.56 5.44l.94 2.06.94-2.06 2.06-.94-2.06-.94-.94-2.06-.94 2.06-2.06.94zm-11 1L8.5 8.5l.94-2.06 2.06-.94-2.06-.94L8.5 2.5l-.94 2.06-2.06.94zm10 10l.94 2.06.94-2.06 2.06-.94-2.06-.94-.94-2.06-.94 2.06-2.06.94z\"/><path d=\"M17.41 7.96l-1.37-1.37c-.4-.4-.92-.59-1.43-.59-.52 0-1.04.2-1.43.59L10.3 9.45l-7.72 7.72c-.78.78-.78 2.05 0 2.83L4 21.41c.39.39.9.59 1.41.59.51 0 1.02-.2 1.41-.59l7.78-7.78 2.81-2.81c.8-.78.8-2.07 0-2.86zM5.41 20L4 18.59l7.72-7.72 1.47 1.35L5.41 20z\"/>\n",
       "  </svg>\n",
       "      </button>\n",
       "      \n",
       "  <style>\n",
       "    .colab-df-container {\n",
       "      display:flex;\n",
       "      flex-wrap:wrap;\n",
       "      gap: 12px;\n",
       "    }\n",
       "\n",
       "    .colab-df-convert {\n",
       "      background-color: #E8F0FE;\n",
       "      border: none;\n",
       "      border-radius: 50%;\n",
       "      cursor: pointer;\n",
       "      display: none;\n",
       "      fill: #1967D2;\n",
       "      height: 32px;\n",
       "      padding: 0 0 0 0;\n",
       "      width: 32px;\n",
       "    }\n",
       "\n",
       "    .colab-df-convert:hover {\n",
       "      background-color: #E2EBFA;\n",
       "      box-shadow: 0px 1px 2px rgba(60, 64, 67, 0.3), 0px 1px 3px 1px rgba(60, 64, 67, 0.15);\n",
       "      fill: #174EA6;\n",
       "    }\n",
       "\n",
       "    [theme=dark] .colab-df-convert {\n",
       "      background-color: #3B4455;\n",
       "      fill: #D2E3FC;\n",
       "    }\n",
       "\n",
       "    [theme=dark] .colab-df-convert:hover {\n",
       "      background-color: #434B5C;\n",
       "      box-shadow: 0px 1px 3px 1px rgba(0, 0, 0, 0.15);\n",
       "      filter: drop-shadow(0px 1px 2px rgba(0, 0, 0, 0.3));\n",
       "      fill: #FFFFFF;\n",
       "    }\n",
       "  </style>\n",
       "\n",
       "      <script>\n",
       "        const buttonEl =\n",
       "          document.querySelector('#df-af491af4-947b-43d1-bc10-b65cc0f75aa9 button.colab-df-convert');\n",
       "        buttonEl.style.display =\n",
       "          google.colab.kernel.accessAllowed ? 'block' : 'none';\n",
       "\n",
       "        async function convertToInteractive(key) {\n",
       "          const element = document.querySelector('#df-af491af4-947b-43d1-bc10-b65cc0f75aa9');\n",
       "          const dataTable =\n",
       "            await google.colab.kernel.invokeFunction('convertToInteractive',\n",
       "                                                     [key], {});\n",
       "          if (!dataTable) return;\n",
       "\n",
       "          const docLinkHtml = 'Like what you see? Visit the ' +\n",
       "            '<a target=\"_blank\" href=https://colab.research.google.com/notebooks/data_table.ipynb>data table notebook</a>'\n",
       "            + ' to learn more about interactive tables.';\n",
       "          element.innerHTML = '';\n",
       "          dataTable['output_type'] = 'display_data';\n",
       "          await google.colab.output.renderOutput(dataTable, element);\n",
       "          const docLink = document.createElement('div');\n",
       "          docLink.innerHTML = docLinkHtml;\n",
       "          element.appendChild(docLink);\n",
       "        }\n",
       "      </script>\n",
       "    </div>\n",
       "  </div>\n",
       "  "
      ],
      "text/plain": [
       "        employee  ... stillExists\n",
       "0            307  ...           1\n",
       "1             36  ...           1\n",
       "2            276  ...           1\n",
       "3             24  ...           1\n",
       "4            382  ...           1\n",
       "...          ...  ...         ...\n",
       "274741       259  ...           1\n",
       "274742       219  ...           1\n",
       "274743       121  ...           1\n",
       "274744        68  ...           1\n",
       "274745       219  ...           1\n",
       "\n",
       "[274746 rows x 6 columns]"
      ]
     },
     "execution_count": 35,
     "metadata": {},
     "output_type": "execute_result"
    }
   ],
   "source": [
    "#Podemos ver que, retirando a variável employee do relacionamento, conseguimos cruzar mais linhas.\n",
    "ci_x_cla_x_churn = commentInteractions.merge(cla_x_churn[['commentId','stillExists']],on=['commentId'])\n",
    "ci_x_cla_x_churn"
   ]
  },
  {
   "cell_type": "markdown",
   "metadata": {
    "id": "PCCXWW_ekwfP"
   },
   "source": [
    "c) Nosso objetivo agora é resgatar o conceito de pivot table e calcular a media do stillExists para cada <employee, company> separando em liked e disliked comments."
   ]
  },
  {
   "cell_type": "markdown",
   "metadata": {
    "id": "sG4rbbXPRH7I"
   },
   "source": []
  },
  {
   "cell_type": "code",
   "execution_count": null,
   "metadata": {
    "id": "lwQoJoQRMMVa"
   },
   "outputs": [],
   "source": [
    "rate_liked_comments = pd.pivot_table(ci_x_cla_x_churn,values='stillExists',index=['companyAlias','employee'],columns=['liked','disliked'], \n",
    "               aggfunc=np.mean, fill_value=0\n",
    ")"
   ]
  },
  {
   "cell_type": "code",
   "execution_count": null,
   "metadata": {
    "colab": {
     "base_uri": "https://localhost:8080/",
     "height": 269
    },
    "executionInfo": {
     "elapsed": 4,
     "status": "ok",
     "timestamp": 1643330837152,
     "user": {
      "displayName": "Matheus Scheffer",
      "photoUrl": "https://lh3.googleusercontent.com/a-/AOh14GglPDI7gdLFED26W1SJncCIZFA5A-5rjTBcxfjH=s64",
      "userId": "18314476337770992076"
     },
     "user_tz": 180
    },
    "id": "RVa4uPNjYpNA",
    "outputId": "53d41b75-b924-4971-df9e-7f47334221bd"
   },
   "outputs": [
    {
     "data": {
      "text/html": [
       "\n",
       "  <div id=\"df-d34154a0-b0db-4c86-9d68-38ff565037f8\">\n",
       "    <div class=\"colab-df-container\">\n",
       "      <div>\n",
       "<style scoped>\n",
       "    .dataframe tbody tr th:only-of-type {\n",
       "        vertical-align: middle;\n",
       "    }\n",
       "\n",
       "    .dataframe tbody tr th {\n",
       "        vertical-align: top;\n",
       "    }\n",
       "\n",
       "    .dataframe thead tr th {\n",
       "        text-align: left;\n",
       "    }\n",
       "\n",
       "    .dataframe thead tr:last-of-type th {\n",
       "        text-align: right;\n",
       "    }\n",
       "</style>\n",
       "<table border=\"1\" class=\"dataframe\">\n",
       "  <thead>\n",
       "    <tr>\n",
       "      <th></th>\n",
       "      <th>liked</th>\n",
       "      <th>0</th>\n",
       "      <th>1</th>\n",
       "    </tr>\n",
       "    <tr>\n",
       "      <th></th>\n",
       "      <th>disliked</th>\n",
       "      <th>1</th>\n",
       "      <th>0</th>\n",
       "    </tr>\n",
       "    <tr>\n",
       "      <th>companyAlias</th>\n",
       "      <th>employee</th>\n",
       "      <th></th>\n",
       "      <th></th>\n",
       "    </tr>\n",
       "  </thead>\n",
       "  <tbody>\n",
       "    <tr>\n",
       "      <th rowspan=\"5\" valign=\"top\">5370af43e4b0cff95558c12a</th>\n",
       "      <th>18</th>\n",
       "      <td>0.444444</td>\n",
       "      <td>0.589912</td>\n",
       "    </tr>\n",
       "    <tr>\n",
       "      <th>20</th>\n",
       "      <td>0.000000</td>\n",
       "      <td>0.375000</td>\n",
       "    </tr>\n",
       "    <tr>\n",
       "      <th>21</th>\n",
       "      <td>0.125000</td>\n",
       "      <td>0.595238</td>\n",
       "    </tr>\n",
       "    <tr>\n",
       "      <th>22</th>\n",
       "      <td>0.500000</td>\n",
       "      <td>0.333333</td>\n",
       "    </tr>\n",
       "    <tr>\n",
       "      <th>23</th>\n",
       "      <td>0.500000</td>\n",
       "      <td>0.500000</td>\n",
       "    </tr>\n",
       "  </tbody>\n",
       "</table>\n",
       "</div>\n",
       "      <button class=\"colab-df-convert\" onclick=\"convertToInteractive('df-d34154a0-b0db-4c86-9d68-38ff565037f8')\"\n",
       "              title=\"Convert this dataframe to an interactive table.\"\n",
       "              style=\"display:none;\">\n",
       "        \n",
       "  <svg xmlns=\"http://www.w3.org/2000/svg\" height=\"24px\"viewBox=\"0 0 24 24\"\n",
       "       width=\"24px\">\n",
       "    <path d=\"M0 0h24v24H0V0z\" fill=\"none\"/>\n",
       "    <path d=\"M18.56 5.44l.94 2.06.94-2.06 2.06-.94-2.06-.94-.94-2.06-.94 2.06-2.06.94zm-11 1L8.5 8.5l.94-2.06 2.06-.94-2.06-.94L8.5 2.5l-.94 2.06-2.06.94zm10 10l.94 2.06.94-2.06 2.06-.94-2.06-.94-.94-2.06-.94 2.06-2.06.94z\"/><path d=\"M17.41 7.96l-1.37-1.37c-.4-.4-.92-.59-1.43-.59-.52 0-1.04.2-1.43.59L10.3 9.45l-7.72 7.72c-.78.78-.78 2.05 0 2.83L4 21.41c.39.39.9.59 1.41.59.51 0 1.02-.2 1.41-.59l7.78-7.78 2.81-2.81c.8-.78.8-2.07 0-2.86zM5.41 20L4 18.59l7.72-7.72 1.47 1.35L5.41 20z\"/>\n",
       "  </svg>\n",
       "      </button>\n",
       "      \n",
       "  <style>\n",
       "    .colab-df-container {\n",
       "      display:flex;\n",
       "      flex-wrap:wrap;\n",
       "      gap: 12px;\n",
       "    }\n",
       "\n",
       "    .colab-df-convert {\n",
       "      background-color: #E8F0FE;\n",
       "      border: none;\n",
       "      border-radius: 50%;\n",
       "      cursor: pointer;\n",
       "      display: none;\n",
       "      fill: #1967D2;\n",
       "      height: 32px;\n",
       "      padding: 0 0 0 0;\n",
       "      width: 32px;\n",
       "    }\n",
       "\n",
       "    .colab-df-convert:hover {\n",
       "      background-color: #E2EBFA;\n",
       "      box-shadow: 0px 1px 2px rgba(60, 64, 67, 0.3), 0px 1px 3px 1px rgba(60, 64, 67, 0.15);\n",
       "      fill: #174EA6;\n",
       "    }\n",
       "\n",
       "    [theme=dark] .colab-df-convert {\n",
       "      background-color: #3B4455;\n",
       "      fill: #D2E3FC;\n",
       "    }\n",
       "\n",
       "    [theme=dark] .colab-df-convert:hover {\n",
       "      background-color: #434B5C;\n",
       "      box-shadow: 0px 1px 3px 1px rgba(0, 0, 0, 0.15);\n",
       "      filter: drop-shadow(0px 1px 2px rgba(0, 0, 0, 0.3));\n",
       "      fill: #FFFFFF;\n",
       "    }\n",
       "  </style>\n",
       "\n",
       "      <script>\n",
       "        const buttonEl =\n",
       "          document.querySelector('#df-d34154a0-b0db-4c86-9d68-38ff565037f8 button.colab-df-convert');\n",
       "        buttonEl.style.display =\n",
       "          google.colab.kernel.accessAllowed ? 'block' : 'none';\n",
       "\n",
       "        async function convertToInteractive(key) {\n",
       "          const element = document.querySelector('#df-d34154a0-b0db-4c86-9d68-38ff565037f8');\n",
       "          const dataTable =\n",
       "            await google.colab.kernel.invokeFunction('convertToInteractive',\n",
       "                                                     [key], {});\n",
       "          if (!dataTable) return;\n",
       "\n",
       "          const docLinkHtml = 'Like what you see? Visit the ' +\n",
       "            '<a target=\"_blank\" href=https://colab.research.google.com/notebooks/data_table.ipynb>data table notebook</a>'\n",
       "            + ' to learn more about interactive tables.';\n",
       "          element.innerHTML = '';\n",
       "          dataTable['output_type'] = 'display_data';\n",
       "          await google.colab.output.renderOutput(dataTable, element);\n",
       "          const docLink = document.createElement('div');\n",
       "          docLink.innerHTML = docLinkHtml;\n",
       "          element.appendChild(docLink);\n",
       "        }\n",
       "      </script>\n",
       "    </div>\n",
       "  </div>\n",
       "  "
      ],
      "text/plain": [
       "liked                                     0         1\n",
       "disliked                                  1         0\n",
       "companyAlias             employee                    \n",
       "5370af43e4b0cff95558c12a 18        0.444444  0.589912\n",
       "                         20        0.000000  0.375000\n",
       "                         21        0.125000  0.595238\n",
       "                         22        0.500000  0.333333\n",
       "                         23        0.500000  0.500000"
      ]
     },
     "execution_count": 37,
     "metadata": {},
     "output_type": "execute_result"
    }
   ],
   "source": [
    "rate_liked_comments.head()"
   ]
  },
  {
   "cell_type": "markdown",
   "metadata": {
    "id": "sxPFq22TR8zy"
   },
   "source": [
    "### Importante!\n",
    "Antes de realizarmos um merge com uma pivot table, precisamos dimencionar o nome das colunas da mesma:"
   ]
  },
  {
   "cell_type": "code",
   "execution_count": null,
   "metadata": {
    "colab": {
     "base_uri": "https://localhost:8080/",
     "height": 112
    },
    "executionInfo": {
     "elapsed": 303,
     "status": "ok",
     "timestamp": 1643332638045,
     "user": {
      "displayName": "Matheus Scheffer",
      "photoUrl": "https://lh3.googleusercontent.com/a-/AOh14GglPDI7gdLFED26W1SJncCIZFA5A-5rjTBcxfjH=s64",
      "userId": "18314476337770992076"
     },
     "user_tz": 180
    },
    "id": "ogIyN_LaSB9v",
    "outputId": "c6f8cf59-6a42-4b65-83c1-9db2e613c4a7"
   },
   "outputs": [
    {
     "data": {
      "text/html": [
       "\n",
       "  <div id=\"df-e635d45f-30b4-4a1e-ad23-761c526547c0\">\n",
       "    <div class=\"colab-df-container\">\n",
       "      <div>\n",
       "<style scoped>\n",
       "    .dataframe tbody tr th:only-of-type {\n",
       "        vertical-align: middle;\n",
       "    }\n",
       "\n",
       "    .dataframe tbody tr th {\n",
       "        vertical-align: top;\n",
       "    }\n",
       "\n",
       "    .dataframe thead th {\n",
       "        text-align: right;\n",
       "    }\n",
       "</style>\n",
       "<table border=\"1\" class=\"dataframe\">\n",
       "  <thead>\n",
       "    <tr style=\"text-align: right;\">\n",
       "      <th></th>\n",
       "      <th></th>\n",
       "      <th>liked</th>\n",
       "      <th>disliked</th>\n",
       "    </tr>\n",
       "    <tr>\n",
       "      <th>companyAlias</th>\n",
       "      <th>employee</th>\n",
       "      <th></th>\n",
       "      <th></th>\n",
       "    </tr>\n",
       "  </thead>\n",
       "  <tbody>\n",
       "    <tr>\n",
       "      <th>5370af43e4b0cff95558c12a</th>\n",
       "      <th>18</th>\n",
       "      <td>0.444444</td>\n",
       "      <td>0.589912</td>\n",
       "    </tr>\n",
       "  </tbody>\n",
       "</table>\n",
       "</div>\n",
       "      <button class=\"colab-df-convert\" onclick=\"convertToInteractive('df-e635d45f-30b4-4a1e-ad23-761c526547c0')\"\n",
       "              title=\"Convert this dataframe to an interactive table.\"\n",
       "              style=\"display:none;\">\n",
       "        \n",
       "  <svg xmlns=\"http://www.w3.org/2000/svg\" height=\"24px\"viewBox=\"0 0 24 24\"\n",
       "       width=\"24px\">\n",
       "    <path d=\"M0 0h24v24H0V0z\" fill=\"none\"/>\n",
       "    <path d=\"M18.56 5.44l.94 2.06.94-2.06 2.06-.94-2.06-.94-.94-2.06-.94 2.06-2.06.94zm-11 1L8.5 8.5l.94-2.06 2.06-.94-2.06-.94L8.5 2.5l-.94 2.06-2.06.94zm10 10l.94 2.06.94-2.06 2.06-.94-2.06-.94-.94-2.06-.94 2.06-2.06.94z\"/><path d=\"M17.41 7.96l-1.37-1.37c-.4-.4-.92-.59-1.43-.59-.52 0-1.04.2-1.43.59L10.3 9.45l-7.72 7.72c-.78.78-.78 2.05 0 2.83L4 21.41c.39.39.9.59 1.41.59.51 0 1.02-.2 1.41-.59l7.78-7.78 2.81-2.81c.8-.78.8-2.07 0-2.86zM5.41 20L4 18.59l7.72-7.72 1.47 1.35L5.41 20z\"/>\n",
       "  </svg>\n",
       "      </button>\n",
       "      \n",
       "  <style>\n",
       "    .colab-df-container {\n",
       "      display:flex;\n",
       "      flex-wrap:wrap;\n",
       "      gap: 12px;\n",
       "    }\n",
       "\n",
       "    .colab-df-convert {\n",
       "      background-color: #E8F0FE;\n",
       "      border: none;\n",
       "      border-radius: 50%;\n",
       "      cursor: pointer;\n",
       "      display: none;\n",
       "      fill: #1967D2;\n",
       "      height: 32px;\n",
       "      padding: 0 0 0 0;\n",
       "      width: 32px;\n",
       "    }\n",
       "\n",
       "    .colab-df-convert:hover {\n",
       "      background-color: #E2EBFA;\n",
       "      box-shadow: 0px 1px 2px rgba(60, 64, 67, 0.3), 0px 1px 3px 1px rgba(60, 64, 67, 0.15);\n",
       "      fill: #174EA6;\n",
       "    }\n",
       "\n",
       "    [theme=dark] .colab-df-convert {\n",
       "      background-color: #3B4455;\n",
       "      fill: #D2E3FC;\n",
       "    }\n",
       "\n",
       "    [theme=dark] .colab-df-convert:hover {\n",
       "      background-color: #434B5C;\n",
       "      box-shadow: 0px 1px 3px 1px rgba(0, 0, 0, 0.15);\n",
       "      filter: drop-shadow(0px 1px 2px rgba(0, 0, 0, 0.3));\n",
       "      fill: #FFFFFF;\n",
       "    }\n",
       "  </style>\n",
       "\n",
       "      <script>\n",
       "        const buttonEl =\n",
       "          document.querySelector('#df-e635d45f-30b4-4a1e-ad23-761c526547c0 button.colab-df-convert');\n",
       "        buttonEl.style.display =\n",
       "          google.colab.kernel.accessAllowed ? 'block' : 'none';\n",
       "\n",
       "        async function convertToInteractive(key) {\n",
       "          const element = document.querySelector('#df-e635d45f-30b4-4a1e-ad23-761c526547c0');\n",
       "          const dataTable =\n",
       "            await google.colab.kernel.invokeFunction('convertToInteractive',\n",
       "                                                     [key], {});\n",
       "          if (!dataTable) return;\n",
       "\n",
       "          const docLinkHtml = 'Like what you see? Visit the ' +\n",
       "            '<a target=\"_blank\" href=https://colab.research.google.com/notebooks/data_table.ipynb>data table notebook</a>'\n",
       "            + ' to learn more about interactive tables.';\n",
       "          element.innerHTML = '';\n",
       "          dataTable['output_type'] = 'display_data';\n",
       "          await google.colab.output.renderOutput(dataTable, element);\n",
       "          const docLink = document.createElement('div');\n",
       "          docLink.innerHTML = docLinkHtml;\n",
       "          element.appendChild(docLink);\n",
       "        }\n",
       "      </script>\n",
       "    </div>\n",
       "  </div>\n",
       "  "
      ],
      "text/plain": [
       "                                      liked  disliked\n",
       "companyAlias             employee                    \n",
       "5370af43e4b0cff95558c12a 18        0.444444  0.589912"
      ]
     },
     "execution_count": 38,
     "metadata": {},
     "output_type": "execute_result"
    }
   ],
   "source": [
    " rate_liked_comments.columns = list(rate_liked_comments.columns.names)\n",
    "\n",
    " rate_liked_comments.head(1)"
   ]
  },
  {
   "cell_type": "code",
   "execution_count": null,
   "metadata": {
    "colab": {
     "base_uri": "https://localhost:8080/",
     "height": 206
    },
    "executionInfo": {
     "elapsed": 448,
     "status": "ok",
     "timestamp": 1643332638877,
     "user": {
      "displayName": "Matheus Scheffer",
      "photoUrl": "https://lh3.googleusercontent.com/a-/AOh14GglPDI7gdLFED26W1SJncCIZFA5A-5rjTBcxfjH=s64",
      "userId": "18314476337770992076"
     },
     "user_tz": 180
    },
    "id": "M3DWVYMsRta0",
    "outputId": "fba6453e-bb87-4080-b2ab-191d4aa566ba"
   },
   "outputs": [
    {
     "data": {
      "text/html": [
       "\n",
       "  <div id=\"df-8292eee0-de3b-4a81-bab5-e9680ea3e515\">\n",
       "    <div class=\"colab-df-container\">\n",
       "      <div>\n",
       "<style scoped>\n",
       "    .dataframe tbody tr th:only-of-type {\n",
       "        vertical-align: middle;\n",
       "    }\n",
       "\n",
       "    .dataframe tbody tr th {\n",
       "        vertical-align: top;\n",
       "    }\n",
       "\n",
       "    .dataframe thead th {\n",
       "        text-align: right;\n",
       "    }\n",
       "</style>\n",
       "<table border=\"1\" class=\"dataframe\">\n",
       "  <thead>\n",
       "    <tr style=\"text-align: right;\">\n",
       "      <th></th>\n",
       "      <th>companyAlias</th>\n",
       "      <th>employee</th>\n",
       "      <th>mean_stillExists_liked_comments</th>\n",
       "      <th>mean_stillExists_disliked_comments</th>\n",
       "    </tr>\n",
       "  </thead>\n",
       "  <tbody>\n",
       "    <tr>\n",
       "      <th>0</th>\n",
       "      <td>5370af43e4b0cff95558c12a</td>\n",
       "      <td>18</td>\n",
       "      <td>0.444444</td>\n",
       "      <td>0.589912</td>\n",
       "    </tr>\n",
       "    <tr>\n",
       "      <th>1</th>\n",
       "      <td>5370af43e4b0cff95558c12a</td>\n",
       "      <td>20</td>\n",
       "      <td>0.000000</td>\n",
       "      <td>0.375000</td>\n",
       "    </tr>\n",
       "    <tr>\n",
       "      <th>2</th>\n",
       "      <td>5370af43e4b0cff95558c12a</td>\n",
       "      <td>21</td>\n",
       "      <td>0.125000</td>\n",
       "      <td>0.595238</td>\n",
       "    </tr>\n",
       "    <tr>\n",
       "      <th>3</th>\n",
       "      <td>5370af43e4b0cff95558c12a</td>\n",
       "      <td>22</td>\n",
       "      <td>0.500000</td>\n",
       "      <td>0.333333</td>\n",
       "    </tr>\n",
       "    <tr>\n",
       "      <th>4</th>\n",
       "      <td>5370af43e4b0cff95558c12a</td>\n",
       "      <td>23</td>\n",
       "      <td>0.500000</td>\n",
       "      <td>0.500000</td>\n",
       "    </tr>\n",
       "  </tbody>\n",
       "</table>\n",
       "</div>\n",
       "      <button class=\"colab-df-convert\" onclick=\"convertToInteractive('df-8292eee0-de3b-4a81-bab5-e9680ea3e515')\"\n",
       "              title=\"Convert this dataframe to an interactive table.\"\n",
       "              style=\"display:none;\">\n",
       "        \n",
       "  <svg xmlns=\"http://www.w3.org/2000/svg\" height=\"24px\"viewBox=\"0 0 24 24\"\n",
       "       width=\"24px\">\n",
       "    <path d=\"M0 0h24v24H0V0z\" fill=\"none\"/>\n",
       "    <path d=\"M18.56 5.44l.94 2.06.94-2.06 2.06-.94-2.06-.94-.94-2.06-.94 2.06-2.06.94zm-11 1L8.5 8.5l.94-2.06 2.06-.94-2.06-.94L8.5 2.5l-.94 2.06-2.06.94zm10 10l.94 2.06.94-2.06 2.06-.94-2.06-.94-.94-2.06-.94 2.06-2.06.94z\"/><path d=\"M17.41 7.96l-1.37-1.37c-.4-.4-.92-.59-1.43-.59-.52 0-1.04.2-1.43.59L10.3 9.45l-7.72 7.72c-.78.78-.78 2.05 0 2.83L4 21.41c.39.39.9.59 1.41.59.51 0 1.02-.2 1.41-.59l7.78-7.78 2.81-2.81c.8-.78.8-2.07 0-2.86zM5.41 20L4 18.59l7.72-7.72 1.47 1.35L5.41 20z\"/>\n",
       "  </svg>\n",
       "      </button>\n",
       "      \n",
       "  <style>\n",
       "    .colab-df-container {\n",
       "      display:flex;\n",
       "      flex-wrap:wrap;\n",
       "      gap: 12px;\n",
       "    }\n",
       "\n",
       "    .colab-df-convert {\n",
       "      background-color: #E8F0FE;\n",
       "      border: none;\n",
       "      border-radius: 50%;\n",
       "      cursor: pointer;\n",
       "      display: none;\n",
       "      fill: #1967D2;\n",
       "      height: 32px;\n",
       "      padding: 0 0 0 0;\n",
       "      width: 32px;\n",
       "    }\n",
       "\n",
       "    .colab-df-convert:hover {\n",
       "      background-color: #E2EBFA;\n",
       "      box-shadow: 0px 1px 2px rgba(60, 64, 67, 0.3), 0px 1px 3px 1px rgba(60, 64, 67, 0.15);\n",
       "      fill: #174EA6;\n",
       "    }\n",
       "\n",
       "    [theme=dark] .colab-df-convert {\n",
       "      background-color: #3B4455;\n",
       "      fill: #D2E3FC;\n",
       "    }\n",
       "\n",
       "    [theme=dark] .colab-df-convert:hover {\n",
       "      background-color: #434B5C;\n",
       "      box-shadow: 0px 1px 3px 1px rgba(0, 0, 0, 0.15);\n",
       "      filter: drop-shadow(0px 1px 2px rgba(0, 0, 0, 0.3));\n",
       "      fill: #FFFFFF;\n",
       "    }\n",
       "  </style>\n",
       "\n",
       "      <script>\n",
       "        const buttonEl =\n",
       "          document.querySelector('#df-8292eee0-de3b-4a81-bab5-e9680ea3e515 button.colab-df-convert');\n",
       "        buttonEl.style.display =\n",
       "          google.colab.kernel.accessAllowed ? 'block' : 'none';\n",
       "\n",
       "        async function convertToInteractive(key) {\n",
       "          const element = document.querySelector('#df-8292eee0-de3b-4a81-bab5-e9680ea3e515');\n",
       "          const dataTable =\n",
       "            await google.colab.kernel.invokeFunction('convertToInteractive',\n",
       "                                                     [key], {});\n",
       "          if (!dataTable) return;\n",
       "\n",
       "          const docLinkHtml = 'Like what you see? Visit the ' +\n",
       "            '<a target=\"_blank\" href=https://colab.research.google.com/notebooks/data_table.ipynb>data table notebook</a>'\n",
       "            + ' to learn more about interactive tables.';\n",
       "          element.innerHTML = '';\n",
       "          dataTable['output_type'] = 'display_data';\n",
       "          await google.colab.output.renderOutput(dataTable, element);\n",
       "          const docLink = document.createElement('div');\n",
       "          docLink.innerHTML = docLinkHtml;\n",
       "          element.appendChild(docLink);\n",
       "        }\n",
       "      </script>\n",
       "    </div>\n",
       "  </div>\n",
       "  "
      ],
      "text/plain": [
       "               companyAlias  ...  mean_stillExists_disliked_comments\n",
       "0  5370af43e4b0cff95558c12a  ...                            0.589912\n",
       "1  5370af43e4b0cff95558c12a  ...                            0.375000\n",
       "2  5370af43e4b0cff95558c12a  ...                            0.595238\n",
       "3  5370af43e4b0cff95558c12a  ...                            0.333333\n",
       "4  5370af43e4b0cff95558c12a  ...                            0.500000\n",
       "\n",
       "[5 rows x 4 columns]"
      ]
     },
     "execution_count": 39,
     "metadata": {},
     "output_type": "execute_result"
    }
   ],
   "source": [
    "rate_liked_comments = rate_liked_comments.reset_index().rename(columns={'liked':'mean_stillExists_liked_comments',\n",
    "                                                                        'disliked':'mean_stillExists_disliked_comments'})\n",
    "rate_liked_comments.head()"
   ]
  },
  {
   "cell_type": "code",
   "execution_count": null,
   "metadata": {
    "id": "24O3vuHgRteV"
   },
   "outputs": [],
   "source": []
  },
  {
   "cell_type": "markdown",
   "metadata": {
    "id": "L47N5TvfkwfQ"
   },
   "source": [
    "d) Agora vamos fazer um merge com o dataset inicial!"
   ]
  },
  {
   "cell_type": "code",
   "execution_count": null,
   "metadata": {
    "colab": {
     "base_uri": "https://localhost:8080/",
     "height": 288
    },
    "executionInfo": {
     "elapsed": 318,
     "status": "ok",
     "timestamp": 1643334229130,
     "user": {
      "displayName": "Matheus Scheffer",
      "photoUrl": "https://lh3.googleusercontent.com/a-/AOh14GglPDI7gdLFED26W1SJncCIZFA5A-5rjTBcxfjH=s64",
      "userId": "18314476337770992076"
     },
     "user_tz": 180
    },
    "id": "HvwOLf5lTuG7",
    "outputId": "8f53bd76-0025-432f-b224-3b0de2dec94f"
   },
   "outputs": [
    {
     "data": {
      "text/html": [
       "\n",
       "  <div id=\"df-e5232f79-6fa7-4c56-baf6-675fc015bb76\">\n",
       "    <div class=\"colab-df-container\">\n",
       "      <div>\n",
       "<style scoped>\n",
       "    .dataframe tbody tr th:only-of-type {\n",
       "        vertical-align: middle;\n",
       "    }\n",
       "\n",
       "    .dataframe tbody tr th {\n",
       "        vertical-align: top;\n",
       "    }\n",
       "\n",
       "    .dataframe thead th {\n",
       "        text-align: right;\n",
       "    }\n",
       "</style>\n",
       "<table border=\"1\" class=\"dataframe\">\n",
       "  <thead>\n",
       "    <tr style=\"text-align: right;\">\n",
       "      <th></th>\n",
       "      <th>employee</th>\n",
       "      <th>companyAlias</th>\n",
       "      <th>numVotes</th>\n",
       "      <th>lastParticipationDate</th>\n",
       "      <th>stillExists</th>\n",
       "      <th>vote_mean</th>\n",
       "      <th>vote_mode</th>\n",
       "      <th>vote_min</th>\n",
       "      <th>vote_max</th>\n",
       "      <th>vote_count</th>\n",
       "      <th>qt_dias_diff_vote_min</th>\n",
       "      <th>qt_dias_diff_vote_max</th>\n",
       "      <th>qt_dias_diff_vote_median</th>\n",
       "      <th>likes_mean</th>\n",
       "      <th>likes_min</th>\n",
       "      <th>likes_max</th>\n",
       "      <th>dislikes_mean</th>\n",
       "      <th>dislikes_min</th>\n",
       "      <th>dislikes_max</th>\n",
       "      <th>qt_dias_diff_comment_min</th>\n",
       "      <th>qt_dias_diff_comment_max</th>\n",
       "      <th>qt_dias_diff_comment_median</th>\n",
       "      <th>commentId_count</th>\n",
       "      <th>companyType</th>\n",
       "      <th>gender</th>\n",
       "      <th>razao_likes_deslikes</th>\n",
       "      <th>razao_likes_deslikes_discfreq</th>\n",
       "      <th>numVotes_pos</th>\n",
       "      <th>numVotes_box-cox</th>\n",
       "      <th>qt_dias_diff_vote_max_box-cox</th>\n",
       "      <th>qt_dias_diff_vote_median_box-cox</th>\n",
       "      <th>qt_dias_diff_comment_min_box-cox</th>\n",
       "      <th>companyType_Service</th>\n",
       "      <th>gender_Male</th>\n",
       "      <th>mean_stillExists_liked_comments</th>\n",
       "      <th>mean_stillExists_disliked_comments</th>\n",
       "    </tr>\n",
       "  </thead>\n",
       "  <tbody>\n",
       "    <tr>\n",
       "      <th>0</th>\n",
       "      <td>512</td>\n",
       "      <td>56aec740f1ef260003e307d6</td>\n",
       "      <td>4</td>\n",
       "      <td>2017-02-23 11:48:04</td>\n",
       "      <td>1</td>\n",
       "      <td>2.000000</td>\n",
       "      <td>1.0</td>\n",
       "      <td>1.0</td>\n",
       "      <td>3.0</td>\n",
       "      <td>3.0</td>\n",
       "      <td>2.0</td>\n",
       "      <td>37.0</td>\n",
       "      <td>31.0</td>\n",
       "      <td>7.500000</td>\n",
       "      <td>6.0</td>\n",
       "      <td>9.0</td>\n",
       "      <td>1.000000</td>\n",
       "      <td>0.0</td>\n",
       "      <td>2.0</td>\n",
       "      <td>2.0</td>\n",
       "      <td>30.0</td>\n",
       "      <td>16.0</td>\n",
       "      <td>2.0</td>\n",
       "      <td>Product</td>\n",
       "      <td>Male</td>\n",
       "      <td>7.500000</td>\n",
       "      <td>2.0</td>\n",
       "      <td>5</td>\n",
       "      <td>1.655730</td>\n",
       "      <td>7.822055</td>\n",
       "      <td>6.833475</td>\n",
       "      <td>0.704922</td>\n",
       "      <td>0</td>\n",
       "      <td>1</td>\n",
       "      <td>0.0</td>\n",
       "      <td>1.000000</td>\n",
       "    </tr>\n",
       "    <tr>\n",
       "      <th>1</th>\n",
       "      <td>2</td>\n",
       "      <td>56aec740f1ef260003e307d6</td>\n",
       "      <td>72</td>\n",
       "      <td>2017-03-17 00:00:00</td>\n",
       "      <td>1</td>\n",
       "      <td>2.239437</td>\n",
       "      <td>1.0</td>\n",
       "      <td>1.0</td>\n",
       "      <td>4.0</td>\n",
       "      <td>71.0</td>\n",
       "      <td>21.0</td>\n",
       "      <td>406.0</td>\n",
       "      <td>256.0</td>\n",
       "      <td>5.428571</td>\n",
       "      <td>0.0</td>\n",
       "      <td>12.0</td>\n",
       "      <td>4.785714</td>\n",
       "      <td>0.0</td>\n",
       "      <td>12.0</td>\n",
       "      <td>43.0</td>\n",
       "      <td>399.0</td>\n",
       "      <td>267.0</td>\n",
       "      <td>14.0</td>\n",
       "      <td>Product</td>\n",
       "      <td>Male</td>\n",
       "      <td>1.134328</td>\n",
       "      <td>0.0</td>\n",
       "      <td>73</td>\n",
       "      <td>4.630097</td>\n",
       "      <td>23.573827</td>\n",
       "      <td>17.893925</td>\n",
       "      <td>4.125844</td>\n",
       "      <td>0</td>\n",
       "      <td>1</td>\n",
       "      <td>1.0</td>\n",
       "      <td>0.979167</td>\n",
       "    </tr>\n",
       "    <tr>\n",
       "      <th>2</th>\n",
       "      <td>487</td>\n",
       "      <td>56aec740f1ef260003e307d6</td>\n",
       "      <td>14</td>\n",
       "      <td>2016-11-19 14:02:14</td>\n",
       "      <td>0</td>\n",
       "      <td>3.181818</td>\n",
       "      <td>3.0</td>\n",
       "      <td>2.0</td>\n",
       "      <td>4.0</td>\n",
       "      <td>22.0</td>\n",
       "      <td>2.0</td>\n",
       "      <td>66.0</td>\n",
       "      <td>26.5</td>\n",
       "      <td>6.000000</td>\n",
       "      <td>6.0</td>\n",
       "      <td>6.0</td>\n",
       "      <td>0.000000</td>\n",
       "      <td>0.0</td>\n",
       "      <td>0.0</td>\n",
       "      <td>22.0</td>\n",
       "      <td>22.0</td>\n",
       "      <td>22.0</td>\n",
       "      <td>1.0</td>\n",
       "      <td>Product</td>\n",
       "      <td>Female</td>\n",
       "      <td>9999.000000</td>\n",
       "      <td>2.0</td>\n",
       "      <td>15</td>\n",
       "      <td>2.840827</td>\n",
       "      <td>10.418957</td>\n",
       "      <td>6.302382</td>\n",
       "      <td>3.334595</td>\n",
       "      <td>0</td>\n",
       "      <td>0</td>\n",
       "      <td>0.0</td>\n",
       "      <td>1.000000</td>\n",
       "    </tr>\n",
       "    <tr>\n",
       "      <th>3</th>\n",
       "      <td>3</td>\n",
       "      <td>56aec740f1ef260003e307d6</td>\n",
       "      <td>22</td>\n",
       "      <td>2017-02-16 00:00:00</td>\n",
       "      <td>1</td>\n",
       "      <td>3.476190</td>\n",
       "      <td>4.0</td>\n",
       "      <td>2.0</td>\n",
       "      <td>4.0</td>\n",
       "      <td>21.0</td>\n",
       "      <td>7.0</td>\n",
       "      <td>378.0</td>\n",
       "      <td>336.0</td>\n",
       "      <td>3.333333</td>\n",
       "      <td>0.0</td>\n",
       "      <td>14.0</td>\n",
       "      <td>0.888889</td>\n",
       "      <td>0.0</td>\n",
       "      <td>4.0</td>\n",
       "      <td>6.0</td>\n",
       "      <td>376.0</td>\n",
       "      <td>239.0</td>\n",
       "      <td>9.0</td>\n",
       "      <td>Product</td>\n",
       "      <td>Female</td>\n",
       "      <td>3.750000</td>\n",
       "      <td>0.0</td>\n",
       "      <td>23</td>\n",
       "      <td>3.314402</td>\n",
       "      <td>22.864652</td>\n",
       "      <td>20.038600</td>\n",
       "      <td>1.871862</td>\n",
       "      <td>0</td>\n",
       "      <td>0</td>\n",
       "      <td>1.0</td>\n",
       "      <td>1.000000</td>\n",
       "    </tr>\n",
       "    <tr>\n",
       "      <th>4</th>\n",
       "      <td>4</td>\n",
       "      <td>56aec740f1ef260003e307d6</td>\n",
       "      <td>195</td>\n",
       "      <td>2017-03-20 00:00:00</td>\n",
       "      <td>1</td>\n",
       "      <td>3.860825</td>\n",
       "      <td>4.0</td>\n",
       "      <td>1.0</td>\n",
       "      <td>4.0</td>\n",
       "      <td>194.0</td>\n",
       "      <td>1.0</td>\n",
       "      <td>368.0</td>\n",
       "      <td>105.5</td>\n",
       "      <td>7.500000</td>\n",
       "      <td>1.0</td>\n",
       "      <td>29.0</td>\n",
       "      <td>1.000000</td>\n",
       "      <td>0.0</td>\n",
       "      <td>4.0</td>\n",
       "      <td>33.0</td>\n",
       "      <td>271.0</td>\n",
       "      <td>107.0</td>\n",
       "      <td>10.0</td>\n",
       "      <td>Product</td>\n",
       "      <td>Female</td>\n",
       "      <td>7.500000</td>\n",
       "      <td>2.0</td>\n",
       "      <td>196</td>\n",
       "      <td>5.798258</td>\n",
       "      <td>22.603556</td>\n",
       "      <td>12.207508</td>\n",
       "      <td>3.810250</td>\n",
       "      <td>0</td>\n",
       "      <td>0</td>\n",
       "      <td>1.0</td>\n",
       "      <td>0.983607</td>\n",
       "    </tr>\n",
       "  </tbody>\n",
       "</table>\n",
       "</div>\n",
       "      <button class=\"colab-df-convert\" onclick=\"convertToInteractive('df-e5232f79-6fa7-4c56-baf6-675fc015bb76')\"\n",
       "              title=\"Convert this dataframe to an interactive table.\"\n",
       "              style=\"display:none;\">\n",
       "        \n",
       "  <svg xmlns=\"http://www.w3.org/2000/svg\" height=\"24px\"viewBox=\"0 0 24 24\"\n",
       "       width=\"24px\">\n",
       "    <path d=\"M0 0h24v24H0V0z\" fill=\"none\"/>\n",
       "    <path d=\"M18.56 5.44l.94 2.06.94-2.06 2.06-.94-2.06-.94-.94-2.06-.94 2.06-2.06.94zm-11 1L8.5 8.5l.94-2.06 2.06-.94-2.06-.94L8.5 2.5l-.94 2.06-2.06.94zm10 10l.94 2.06.94-2.06 2.06-.94-2.06-.94-.94-2.06-.94 2.06-2.06.94z\"/><path d=\"M17.41 7.96l-1.37-1.37c-.4-.4-.92-.59-1.43-.59-.52 0-1.04.2-1.43.59L10.3 9.45l-7.72 7.72c-.78.78-.78 2.05 0 2.83L4 21.41c.39.39.9.59 1.41.59.51 0 1.02-.2 1.41-.59l7.78-7.78 2.81-2.81c.8-.78.8-2.07 0-2.86zM5.41 20L4 18.59l7.72-7.72 1.47 1.35L5.41 20z\"/>\n",
       "  </svg>\n",
       "      </button>\n",
       "      \n",
       "  <style>\n",
       "    .colab-df-container {\n",
       "      display:flex;\n",
       "      flex-wrap:wrap;\n",
       "      gap: 12px;\n",
       "    }\n",
       "\n",
       "    .colab-df-convert {\n",
       "      background-color: #E8F0FE;\n",
       "      border: none;\n",
       "      border-radius: 50%;\n",
       "      cursor: pointer;\n",
       "      display: none;\n",
       "      fill: #1967D2;\n",
       "      height: 32px;\n",
       "      padding: 0 0 0 0;\n",
       "      width: 32px;\n",
       "    }\n",
       "\n",
       "    .colab-df-convert:hover {\n",
       "      background-color: #E2EBFA;\n",
       "      box-shadow: 0px 1px 2px rgba(60, 64, 67, 0.3), 0px 1px 3px 1px rgba(60, 64, 67, 0.15);\n",
       "      fill: #174EA6;\n",
       "    }\n",
       "\n",
       "    [theme=dark] .colab-df-convert {\n",
       "      background-color: #3B4455;\n",
       "      fill: #D2E3FC;\n",
       "    }\n",
       "\n",
       "    [theme=dark] .colab-df-convert:hover {\n",
       "      background-color: #434B5C;\n",
       "      box-shadow: 0px 1px 3px 1px rgba(0, 0, 0, 0.15);\n",
       "      filter: drop-shadow(0px 1px 2px rgba(0, 0, 0, 0.3));\n",
       "      fill: #FFFFFF;\n",
       "    }\n",
       "  </style>\n",
       "\n",
       "      <script>\n",
       "        const buttonEl =\n",
       "          document.querySelector('#df-e5232f79-6fa7-4c56-baf6-675fc015bb76 button.colab-df-convert');\n",
       "        buttonEl.style.display =\n",
       "          google.colab.kernel.accessAllowed ? 'block' : 'none';\n",
       "\n",
       "        async function convertToInteractive(key) {\n",
       "          const element = document.querySelector('#df-e5232f79-6fa7-4c56-baf6-675fc015bb76');\n",
       "          const dataTable =\n",
       "            await google.colab.kernel.invokeFunction('convertToInteractive',\n",
       "                                                     [key], {});\n",
       "          if (!dataTable) return;\n",
       "\n",
       "          const docLinkHtml = 'Like what you see? Visit the ' +\n",
       "            '<a target=\"_blank\" href=https://colab.research.google.com/notebooks/data_table.ipynb>data table notebook</a>'\n",
       "            + ' to learn more about interactive tables.';\n",
       "          element.innerHTML = '';\n",
       "          dataTable['output_type'] = 'display_data';\n",
       "          await google.colab.output.renderOutput(dataTable, element);\n",
       "          const docLink = document.createElement('div');\n",
       "          docLink.innerHTML = docLinkHtml;\n",
       "          element.appendChild(docLink);\n",
       "        }\n",
       "      </script>\n",
       "    </div>\n",
       "  </div>\n",
       "  "
      ],
      "text/plain": [
       "   employee              companyAlias  numVotes lastParticipationDate  \\\n",
       "0       512  56aec740f1ef260003e307d6         4   2017-02-23 11:48:04   \n",
       "1         2  56aec740f1ef260003e307d6        72   2017-03-17 00:00:00   \n",
       "2       487  56aec740f1ef260003e307d6        14   2016-11-19 14:02:14   \n",
       "3         3  56aec740f1ef260003e307d6        22   2017-02-16 00:00:00   \n",
       "4         4  56aec740f1ef260003e307d6       195   2017-03-20 00:00:00   \n",
       "\n",
       "   stillExists  vote_mean  vote_mode  vote_min  vote_max  vote_count  \\\n",
       "0            1   2.000000        1.0       1.0       3.0         3.0   \n",
       "1            1   2.239437        1.0       1.0       4.0        71.0   \n",
       "2            0   3.181818        3.0       2.0       4.0        22.0   \n",
       "3            1   3.476190        4.0       2.0       4.0        21.0   \n",
       "4            1   3.860825        4.0       1.0       4.0       194.0   \n",
       "\n",
       "   qt_dias_diff_vote_min  qt_dias_diff_vote_max  qt_dias_diff_vote_median  \\\n",
       "0                    2.0                   37.0                      31.0   \n",
       "1                   21.0                  406.0                     256.0   \n",
       "2                    2.0                   66.0                      26.5   \n",
       "3                    7.0                  378.0                     336.0   \n",
       "4                    1.0                  368.0                     105.5   \n",
       "\n",
       "   likes_mean  likes_min  likes_max  dislikes_mean  dislikes_min  \\\n",
       "0    7.500000        6.0        9.0       1.000000           0.0   \n",
       "1    5.428571        0.0       12.0       4.785714           0.0   \n",
       "2    6.000000        6.0        6.0       0.000000           0.0   \n",
       "3    3.333333        0.0       14.0       0.888889           0.0   \n",
       "4    7.500000        1.0       29.0       1.000000           0.0   \n",
       "\n",
       "   dislikes_max  qt_dias_diff_comment_min  qt_dias_diff_comment_max  \\\n",
       "0           2.0                       2.0                      30.0   \n",
       "1          12.0                      43.0                     399.0   \n",
       "2           0.0                      22.0                      22.0   \n",
       "3           4.0                       6.0                     376.0   \n",
       "4           4.0                      33.0                     271.0   \n",
       "\n",
       "   qt_dias_diff_comment_median  commentId_count companyType  gender  \\\n",
       "0                         16.0              2.0     Product    Male   \n",
       "1                        267.0             14.0     Product    Male   \n",
       "2                         22.0              1.0     Product  Female   \n",
       "3                        239.0              9.0     Product  Female   \n",
       "4                        107.0             10.0     Product  Female   \n",
       "\n",
       "   razao_likes_deslikes  razao_likes_deslikes_discfreq  numVotes_pos  \\\n",
       "0              7.500000                            2.0             5   \n",
       "1              1.134328                            0.0            73   \n",
       "2           9999.000000                            2.0            15   \n",
       "3              3.750000                            0.0            23   \n",
       "4              7.500000                            2.0           196   \n",
       "\n",
       "   numVotes_box-cox  qt_dias_diff_vote_max_box-cox  \\\n",
       "0          1.655730                       7.822055   \n",
       "1          4.630097                      23.573827   \n",
       "2          2.840827                      10.418957   \n",
       "3          3.314402                      22.864652   \n",
       "4          5.798258                      22.603556   \n",
       "\n",
       "   qt_dias_diff_vote_median_box-cox  qt_dias_diff_comment_min_box-cox  \\\n",
       "0                          6.833475                          0.704922   \n",
       "1                         17.893925                          4.125844   \n",
       "2                          6.302382                          3.334595   \n",
       "3                         20.038600                          1.871862   \n",
       "4                         12.207508                          3.810250   \n",
       "\n",
       "   companyType_Service  gender_Male  mean_stillExists_liked_comments  \\\n",
       "0                    0            1                              0.0   \n",
       "1                    0            1                              1.0   \n",
       "2                    0            0                              0.0   \n",
       "3                    0            0                              1.0   \n",
       "4                    0            0                              1.0   \n",
       "\n",
       "   mean_stillExists_disliked_comments  \n",
       "0                            1.000000  \n",
       "1                            0.979167  \n",
       "2                            1.000000  \n",
       "3                            1.000000  \n",
       "4                            0.983607  "
      ]
     },
     "execution_count": 66,
     "metadata": {},
     "output_type": "execute_result"
    }
   ],
   "source": [
    "churn_enriq.merge(rate_liked_comments, on=['employee','companyAlias'],how='left').head()"
   ]
  },
  {
   "cell_type": "code",
   "execution_count": null,
   "metadata": {
    "id": "FGWxBXSfOZ4n"
   },
   "outputs": [],
   "source": [
    "churn_enriq = churn_enriq.merge(rate_liked_comments, on=['employee','companyAlias'],how='left').head()"
   ]
  },
  {
   "cell_type": "markdown",
   "metadata": {
    "id": "w-20cD3YkwfQ"
   },
   "source": [
    "### Tratamentos em uma única variável"
   ]
  },
  {
   "cell_type": "markdown",
   "metadata": {
    "id": "gC5Ji9gCkwfR"
   },
   "source": [
    "a) Plote os histogramas de cada variável numérica. As distribuicões parecem normais?"
   ]
  },
  {
   "cell_type": "code",
   "execution_count": null,
   "metadata": {
    "colab": {
     "base_uri": "https://localhost:8080/",
     "height": 300
    },
    "executionInfo": {
     "elapsed": 9,
     "status": "ok",
     "timestamp": 1643332644320,
     "user": {
      "displayName": "Matheus Scheffer",
      "photoUrl": "https://lh3.googleusercontent.com/a-/AOh14GglPDI7gdLFED26W1SJncCIZFA5A-5rjTBcxfjH=s64",
      "userId": "18314476337770992076"
     },
     "user_tz": 180
    },
    "id": "eIJsu881XkBh",
    "outputId": "439e37fa-2e29-4c28-fa62-548dd4896cbe"
   },
   "outputs": [
    {
     "data": {
      "text/html": [
       "\n",
       "  <div id=\"df-440b3c5d-b7ba-49b0-ae55-387dce01658b\">\n",
       "    <div class=\"colab-df-container\">\n",
       "      <div>\n",
       "<style scoped>\n",
       "    .dataframe tbody tr th:only-of-type {\n",
       "        vertical-align: middle;\n",
       "    }\n",
       "\n",
       "    .dataframe tbody tr th {\n",
       "        vertical-align: top;\n",
       "    }\n",
       "\n",
       "    .dataframe thead th {\n",
       "        text-align: right;\n",
       "    }\n",
       "</style>\n",
       "<table border=\"1\" class=\"dataframe\">\n",
       "  <thead>\n",
       "    <tr style=\"text-align: right;\">\n",
       "      <th></th>\n",
       "      <th>numVotes</th>\n",
       "      <th>qt_dias_diff_vote_max</th>\n",
       "      <th>qt_dias_diff_vote_median</th>\n",
       "      <th>qt_dias_diff_comment_min</th>\n",
       "    </tr>\n",
       "  </thead>\n",
       "  <tbody>\n",
       "    <tr>\n",
       "      <th>count</th>\n",
       "      <td>4064.000000</td>\n",
       "      <td>4064.000000</td>\n",
       "      <td>4064.000000</td>\n",
       "      <td>4064.000000</td>\n",
       "    </tr>\n",
       "    <tr>\n",
       "      <th>mean</th>\n",
       "      <td>45.640994</td>\n",
       "      <td>148.462106</td>\n",
       "      <td>83.165108</td>\n",
       "      <td>33.290108</td>\n",
       "    </tr>\n",
       "    <tr>\n",
       "      <th>std</th>\n",
       "      <td>57.645434</td>\n",
       "      <td>125.680774</td>\n",
       "      <td>70.916590</td>\n",
       "      <td>46.409744</td>\n",
       "    </tr>\n",
       "    <tr>\n",
       "      <th>min</th>\n",
       "      <td>0.000000</td>\n",
       "      <td>1.000000</td>\n",
       "      <td>1.000000</td>\n",
       "      <td>1.000000</td>\n",
       "    </tr>\n",
       "    <tr>\n",
       "      <th>25%</th>\n",
       "      <td>6.000000</td>\n",
       "      <td>45.000000</td>\n",
       "      <td>26.000000</td>\n",
       "      <td>10.000000</td>\n",
       "    </tr>\n",
       "    <tr>\n",
       "      <th>50%</th>\n",
       "      <td>20.000000</td>\n",
       "      <td>130.000000</td>\n",
       "      <td>72.500000</td>\n",
       "      <td>17.000000</td>\n",
       "    </tr>\n",
       "    <tr>\n",
       "      <th>75%</th>\n",
       "      <td>65.000000</td>\n",
       "      <td>207.000000</td>\n",
       "      <td>117.125000</td>\n",
       "      <td>28.000000</td>\n",
       "    </tr>\n",
       "    <tr>\n",
       "      <th>max</th>\n",
       "      <td>273.000000</td>\n",
       "      <td>563.000000</td>\n",
       "      <td>336.000000</td>\n",
       "      <td>215.000000</td>\n",
       "    </tr>\n",
       "  </tbody>\n",
       "</table>\n",
       "</div>\n",
       "      <button class=\"colab-df-convert\" onclick=\"convertToInteractive('df-440b3c5d-b7ba-49b0-ae55-387dce01658b')\"\n",
       "              title=\"Convert this dataframe to an interactive table.\"\n",
       "              style=\"display:none;\">\n",
       "        \n",
       "  <svg xmlns=\"http://www.w3.org/2000/svg\" height=\"24px\"viewBox=\"0 0 24 24\"\n",
       "       width=\"24px\">\n",
       "    <path d=\"M0 0h24v24H0V0z\" fill=\"none\"/>\n",
       "    <path d=\"M18.56 5.44l.94 2.06.94-2.06 2.06-.94-2.06-.94-.94-2.06-.94 2.06-2.06.94zm-11 1L8.5 8.5l.94-2.06 2.06-.94-2.06-.94L8.5 2.5l-.94 2.06-2.06.94zm10 10l.94 2.06.94-2.06 2.06-.94-2.06-.94-.94-2.06-.94 2.06-2.06.94z\"/><path d=\"M17.41 7.96l-1.37-1.37c-.4-.4-.92-.59-1.43-.59-.52 0-1.04.2-1.43.59L10.3 9.45l-7.72 7.72c-.78.78-.78 2.05 0 2.83L4 21.41c.39.39.9.59 1.41.59.51 0 1.02-.2 1.41-.59l7.78-7.78 2.81-2.81c.8-.78.8-2.07 0-2.86zM5.41 20L4 18.59l7.72-7.72 1.47 1.35L5.41 20z\"/>\n",
       "  </svg>\n",
       "      </button>\n",
       "      \n",
       "  <style>\n",
       "    .colab-df-container {\n",
       "      display:flex;\n",
       "      flex-wrap:wrap;\n",
       "      gap: 12px;\n",
       "    }\n",
       "\n",
       "    .colab-df-convert {\n",
       "      background-color: #E8F0FE;\n",
       "      border: none;\n",
       "      border-radius: 50%;\n",
       "      cursor: pointer;\n",
       "      display: none;\n",
       "      fill: #1967D2;\n",
       "      height: 32px;\n",
       "      padding: 0 0 0 0;\n",
       "      width: 32px;\n",
       "    }\n",
       "\n",
       "    .colab-df-convert:hover {\n",
       "      background-color: #E2EBFA;\n",
       "      box-shadow: 0px 1px 2px rgba(60, 64, 67, 0.3), 0px 1px 3px 1px rgba(60, 64, 67, 0.15);\n",
       "      fill: #174EA6;\n",
       "    }\n",
       "\n",
       "    [theme=dark] .colab-df-convert {\n",
       "      background-color: #3B4455;\n",
       "      fill: #D2E3FC;\n",
       "    }\n",
       "\n",
       "    [theme=dark] .colab-df-convert:hover {\n",
       "      background-color: #434B5C;\n",
       "      box-shadow: 0px 1px 3px 1px rgba(0, 0, 0, 0.15);\n",
       "      filter: drop-shadow(0px 1px 2px rgba(0, 0, 0, 0.3));\n",
       "      fill: #FFFFFF;\n",
       "    }\n",
       "  </style>\n",
       "\n",
       "      <script>\n",
       "        const buttonEl =\n",
       "          document.querySelector('#df-440b3c5d-b7ba-49b0-ae55-387dce01658b button.colab-df-convert');\n",
       "        buttonEl.style.display =\n",
       "          google.colab.kernel.accessAllowed ? 'block' : 'none';\n",
       "\n",
       "        async function convertToInteractive(key) {\n",
       "          const element = document.querySelector('#df-440b3c5d-b7ba-49b0-ae55-387dce01658b');\n",
       "          const dataTable =\n",
       "            await google.colab.kernel.invokeFunction('convertToInteractive',\n",
       "                                                     [key], {});\n",
       "          if (!dataTable) return;\n",
       "\n",
       "          const docLinkHtml = 'Like what you see? Visit the ' +\n",
       "            '<a target=\"_blank\" href=https://colab.research.google.com/notebooks/data_table.ipynb>data table notebook</a>'\n",
       "            + ' to learn more about interactive tables.';\n",
       "          element.innerHTML = '';\n",
       "          dataTable['output_type'] = 'display_data';\n",
       "          await google.colab.output.renderOutput(dataTable, element);\n",
       "          const docLink = document.createElement('div');\n",
       "          docLink.innerHTML = docLinkHtml;\n",
       "          element.appendChild(docLink);\n",
       "        }\n",
       "      </script>\n",
       "    </div>\n",
       "  </div>\n",
       "  "
      ],
      "text/plain": [
       "          numVotes  ...  qt_dias_diff_comment_min\n",
       "count  4064.000000  ...               4064.000000\n",
       "mean     45.640994  ...                 33.290108\n",
       "std      57.645434  ...                 46.409744\n",
       "min       0.000000  ...                  1.000000\n",
       "25%       6.000000  ...                 10.000000\n",
       "50%      20.000000  ...                 17.000000\n",
       "75%      65.000000  ...                 28.000000\n",
       "max     273.000000  ...                215.000000\n",
       "\n",
       "[8 rows x 4 columns]"
      ]
     },
     "execution_count": 41,
     "metadata": {},
     "output_type": "execute_result"
    }
   ],
   "source": [
    "bx_columns=['numVotes','qt_dias_diff_vote_max',\n",
    "       'qt_dias_diff_vote_median', 'qt_dias_diff_comment_min']\n",
    "churn_enriq[bx_columns].describe()"
   ]
  },
  {
   "cell_type": "code",
   "execution_count": null,
   "metadata": {
    "colab": {
     "base_uri": "https://localhost:8080/",
     "height": 542
    },
    "executionInfo": {
     "elapsed": 5,
     "status": "ok",
     "timestamp": 1643332644827,
     "user": {
      "displayName": "Matheus Scheffer",
      "photoUrl": "https://lh3.googleusercontent.com/a-/AOh14GglPDI7gdLFED26W1SJncCIZFA5A-5rjTBcxfjH=s64",
      "userId": "18314476337770992076"
     },
     "user_tz": 180
    },
    "id": "_7bW2fjBXkqc",
    "outputId": "a956f548-5d5e-40e5-d02b-c7492bad4e70"
   },
   "outputs": [
    {
     "data": {
      "text/html": [
       "<html>\n",
       "<head><meta charset=\"utf-8\" /></head>\n",
       "<body>\n",
       "    <div>            <script src=\"https://cdnjs.cloudflare.com/ajax/libs/mathjax/2.7.5/MathJax.js?config=TeX-AMS-MML_SVG\"></script><script type=\"text/javascript\">if (window.MathJax) {MathJax.Hub.Config({SVG: {font: \"STIX-Web\"}});}</script>                <script type=\"text/javascript\">window.PlotlyConfig = {MathJaxConfig: 'local'};</script>\n",
       "        <script src=\"https://cdn.plot.ly/plotly-2.8.3.min.js\"></script>                <div id=\"84627a9c-fa55-470f-8ba0-8c54bf260be8\" class=\"plotly-graph-div\" style=\"height:525px; width:100%;\"></div>            <script type=\"text/javascript\">                                    window.PLOTLYENV=window.PLOTLYENV || {};                                    if (document.getElementById(\"84627a9c-fa55-470f-8ba0-8c54bf260be8\")) {                    Plotly.newPlot(                        \"84627a9c-fa55-470f-8ba0-8c54bf260be8\",                        [{\"alignmentgroup\":\"True\",\"bingroup\":\"x\",\"hovertemplate\":\"qt_dias_diff_vote_median=%{x}<br>count=%{y}<extra></extra>\",\"legendgroup\":\"\",\"marker\":{\"color\":\"#636efa\",\"pattern\":{\"shape\":\"\"}},\"name\":\"\",\"offsetgroup\":\"\",\"orientation\":\"v\",\"showlegend\":false,\"x\":[31.0,256.0,26.5,336.0,105.5,39.0,44.0,169.0,34.0,117.5,32.0,110.5,150.5,30.0,140.0,71.0,30.0,137.5,152.0,275.0,161.0,32.5,259.0,264.0,10.5,179.0,222.0,94.5,330.0,50.0,194.0,8.0,299.0,5.0,144.5,133.5,81.0,290.0,281.0,176.5,138.0,98.0,1.0,69.0,124.0,59.0,60.5,178.0,154.5,142.0,136.5,192.5,77.5,42.0,193.0,267.5,293.0,244.0,117.0,72.5,264.5,133.0,60.0,247.5,132.0,181.0,2.0,71.5,109.0,284.0,277.0,118.0,150.5,227.0,166.5,97.0,135.0,126.0,336.0,106.5,166.0,109.0,110.0,96.0,101.5,137.5,131.5,111.0,336.0,259.5,237.0,72.5,31.0,181.0,81.0,258.0,288.0,141.0,162.5,32.5,199.5,247.0,208.5,250.0,100.5,72.5,109.5,1.0,147.0,198.0,52.5,217.0,185.0,145.0,241.5,162.5,4.0,123.5,19.5,64.5,27.0,97.0,42.0,240.0,69.0,109.5,150.0,125.5,211.0,122.0,66.5,244.0,41.0,21.0,73.0,112.5,72.5,336.0,143.0,116.5,131.0,113.0,27.0,25.0,27.0,118.0,206.0,208.0,252.0,22.5,243.5,75.0,72.5,321.0,282.0,68.0,178.0,136.0,131.5,72.5,181.5,166.5,133.0,111.0,214.0,163.0,4.0,115.5,147.5,101.5,72.5,123.0,105.0,98.0,11.0,111.0,93.5,63.0,79.0,123.5,151.0,14.0,127.0,205.5,72.5,85.0,137.0,120.0,177.0,145.5,53.5,76.5,13.5,64.0,39.0,20.5,101.0,121.0,138.5,97.0,80.0,133.5,102.0,114.5,106.0,108.0,108.5,1.0,108.0,113.5,63.0,44.5,160.5,131.5,125.5,133.0,83.0,31.5,83.0,92.5,154.0,72.5,80.0,113.0,127.0,135.0,115.5,116.0,116.5,54.0,152.0,72.5,19.0,34.5,59.5,34.0,47.0,109.0,135.0,153.0,79.0,50.0,188.5,107.0,8.0,113.0,124.5,72.5,128.0,1.0,87.0,19.5,48.0,120.0,70.0,52.5,83.0,118.0,1.0,66.5,1.0,41.0,5.0,72.5,41.5,15.5,1.5,129.5,92.5,103.0,72.5,124.0,25.0,14.5,4.0,78.5,5.0,31.0,103.5,51.0,39.5,72.5,63.0,237.0,59.5,47.0,104.0,127.0,90.0,153.0,83.0,3.0,126.0,72.5,20.0,135.5,138.5,149.5,106.5,32.0,77.0,65.0,19.5,118.0,63.0,66.0,69.5,72.5,97.0,38.0,34.5,149.5,44.0,31.5,114.5,72.5,72.5,19.5,38.0,26.5,72.5,48.5,69.5,55.0,49.0,21.5,27.0,29.0,35.0,7.0,207.5,149.0,185.0,85.5,336.0,72.5,38.0,96.5,147.5,7.0,7.0,146.0,94.5,110.0,73.5,72.5,25.0,282.5,248.0,202.0,56.0,25.0,157.0,97.0,291.0,81.5,336.0,278.0,152.0,63.0,246.0,252.0,171.5,146.0,72.5,27.0,204.0,170.0,78.5,131.0,284.5,296.5,133.0,46.5,34.5,237.5,189.0,274.5,272.0,65.5,151.5,264.5,313.0,108.0,138.5,218.0,164.5,128.0,55.5,14.0,92.0,30.0,84.5,121.0,110.5,83.0,44.5,33.0,12.5,59.5,79.0,30.0,84.0,40.5,89.5,90.5,4.0,95.5,81.0,77.0,47.5,60.5,63.0,59.0,26.5,52.0,81.5,69.0,1.5,48.0,28.0,73.0,59.0,4.0,61.5,56.5,72.5,5.0,25.5,7.0,72.5,97.0,72.0,83.0,58.0,72.5,35.5,81.0,88.0,51.0,72.5,84.0,42.0,69.0,14.0,59.0,13.0,56.5,71.0,4.0,33.0,60.0,72.5,20.0,43.5,31.0,45.5,3.0,13.5,72.5,55.5,8.5,63.0,70.5,57.0,55.0,57.5,12.5,103.0,58.0,34.0,43.0,59.0,28.0,57.0,6.5,11.0,55.0,75.0,38.0,6.5,69.0,3.5,42.0,54.0,72.5,43.5,69.0,47.0,30.5,36.0,72.5,2.5,40.0,69.5,5.5,88.0,77.0,26.5,34.0,53.5,30.0,41.0,77.0,18.0,86.0,17.5,61.5,61.0,1.0,14.0,7.0,35.0,41.0,19.0,28.0,68.5,72.5,10.0,70.0,55.0,38.5,62.5,14.0,11.0,47.0,71.5,72.5,4.5,75.0,57.5,75.0,39.0,72.5,25.0,100.0,39.0,88.5,10.0,67.0,25.0,27.0,9.0,45.0,7.0,49.0,48.5,21.0,15.0,66.0,20.5,17.0,2.0,1.5,3.5,34.5,21.0,8.0,7.5,72.5,91.0,86.5,60.0,103.0,101.0,67.5,147.0,107.0,79.5,71.5,99.5,111.0,5.0,88.0,50.0,99.5,88.0,18.0,63.0,79.5,84.0,83.5,119.0,77.5,86.0,77.0,51.0,58.0,92.0,84.5,133.5,71.0,91.5,75.0,89.5,134.0,89.5,72.5,53.0,103.5,60.5,72.5,72.5,127.0,121.5,127.0,50.0,70.0,77.0,117.0,17.5,65.0,93.0,44.0,67.0,39.0,72.5,125.0,9.0,66.5,105.0,97.5,97.5,74.5,91.5,53.5,63.5,25.0,72.5,98.5,109.0,115.5,36.0,70.0,8.0,89.5,137.0,67.0,53.5,62.0,88.5,51.0,78.5,40.0,146.0,100.0,142.0,53.5,90.0,36.0,67.0,56.0,47.0,62.5,101.0,31.5,62.5,92.0,104.5,98.0,84.5,46.0,77.0,88.0,81.0,10.0,46.0,66.5,66.5,82.0,23.0,66.5,94.0,84.0,72.5,117.0,34.0,24.5,124.0,116.5,72.0,124.5,78.0,43.0,44.0,51.0,35.5,72.5,29.0,23.0,40.0,32.0,20.0,18.0,29.0,72.5,199.0,7.0,1.0,37.0,149.5,235.5,67.0,1.0,132.5,129.0,97.5,72.5,226.0,244.0,126.0,64.0,121.0,104.0,27.0,4.5,16.0,127.0,178.0,87.5,56.5,50.0,67.0,90.5,159.0,72.5,72.5,220.5,201.5,72.5,116.5,72.5,51.5,146.0,128.0,72.5,141.0,89.5,120.0,72.5,72.5,178.5,46.0,80.5,9.0,109.0,113.0,122.5,120.0,159.0,143.5,245.0,113.5,68.0,140.0,20.0,75.0,126.0,233.5,15.0,100.5,103.0,22.0,121.5,150.0,71.5,103.0,37.0,222.0,36.0,198.0,119.0,141.0,110.5,51.0,125.0,80.0,79.0,129.5,69.0,7.0,137.0,127.0,139.5,93.0,72.5,1.0,72.5,179.0,13.5,72.5,72.5,3.0,141.5,72.5,34.5,72.5,25.0,143.5,100.0,165.0,17.0,72.5,72.5,72.5,14.0,72.5,63.5,3.0,125.0,91.5,127.0,143.0,73.5,72.5,82.0,108.5,117.0,140.5,85.0,92.0,85.5,178.0,6.5,80.0,72.5,56.5,80.5,81.5,65.0,9.5,33.0,36.0,37.0,27.0,20.5,6.0,28.0,26.5,8.0,12.0,15.0,72.5,59.5,83.0,17.5,104.0,21.0,29.0,43.0,50.0,53.0,72.5,52.5,72.5,81.0,82.0,28.0,56.0,72.5,21.0,72.5,33.0,6.0,75.5,33.0,57.0,58.0,16.0,63.0,39.5,36.5,30.0,79.5,57.0,63.5,26.5,70.5,72.5,23.0,6.0,36.0,25.5,6.0,20.5,27.5,50.0,71.0,33.0,27.5,49.0,72.5,31.5,119.5,96.0,17.5,72.5,17.0,20.0,71.0,50.0,49.0,50.0,75.5,72.5,26.0,72.5,65.0,37.0,2.5,23.0,26.0,5.0,224.5,111.0,199.5,129.5,68.0,201.5,110.0,18.5,215.5,45.0,75.0,57.5,76.5,18.0,56.0,33.5,33.5,46.5,72.5,72.5,54.0,75.0,41.0,8.5,48.5,44.5,72.5,20.0,18.0,34.0,36.0,48.5,72.5,46.5,63.0,44.0,45.0,46.0,36.0,72.5,48.0,42.0,72.5,1.0,51.0,10.0,63.0,14.0,2.0,2.5,72.5,4.0,61.0,72.5,54.5,27.0,36.0,43.5,15.0,34.0,33.0,72.5,30.0,11.0,45.5,42.0,6.5,30.0,25.5,54.5,35.5,7.5,36.0,25.5,59.5,40.0,55.0,8.5,48.5,72.5,59.0,43.0,36.5,45.5,29.5,26.0,9.0,70.0,41.0,33.5,40.5,25.5,34.5,29.5,38.0,43.0,30.5,7.5,45.0,35.5,58.5,49.0,48.0,15.5,22.5,38.0,51.0,67.5,21.5,72.5,44.0,16.0,26.0,28.0,72.5,27.0,11.0,22.0,47.0,12.5,44.5,52.5,53.0,77.0,13.0,22.0,40.5,26.0,37.5,5.0,41.0,32.0,41.5,41.0,43.0,49.0,48.5,42.0,27.0,38.0,37.0,72.5,3.0,72.5,44.0,35.0,37.5,43.0,43.5,27.0,49.0,40.0,72.5,72.5,159.0,149.5,110.5,139.0,169.5,115.0,123.5,143.5,174.0,47.5,22.0,9.5,29.0,29.0,113.5,151.0,22.5,72.5,4.5,136.5,47.5,29.0,69.5,97.0,142.0,142.5,137.5,45.5,70.0,48.5,125.0,118.5,129.0,157.0,138.0,72.5,126.0,72.5,124.5,6.0,72.5,181.0,108.0,178.0,34.0,44.0,69.0,89.0,113.0,35.0,129.0,108.0,145.0,72.5,120.0,141.5,14.0,147.5,23.0,97.5,41.0,154.0,72.5,141.5,130.0,40.5,17.5,72.5,26.5,98.0,102.0,119.5,145.5,95.0,107.0,70.0,106.0,130.0,7.5,132.0,72.5,93.0,135.0,160.5,97.5,161.5,78.0,26.0,41.5,147.0,29.5,72.5,83.0,154.0,142.0,132.5,28.0,105.0,33.0,72.5,125.0,149.0,62.5,136.5,111.5,121.0,12.0,130.0,7.0,171.0,117.0,71.5,72.5,5.5,3.0,72.5,72.5,13.0,72.5,109.5,25.0,72.5,10.5,50.5,35.0,37.0,30.5,4.0,29.5,21.0,19.5,5.5,5.5,3.5,3.0,6.0,2.5,4.5,72.5,123.5,72.5,160.5,72.5,166.5,25.0,1.0,9.0,72.5,110.0,108.0,56.5,7.0,39.0,80.0,22.0,72.5,25.0,97.0,52.0,65.0,1.0,72.5,42.0,19.5,31.0,23.0,19.0,1.0,12.5,5.0,72.5,28.0,19.5,17.5,8.5,9.0,9.0,7.0,1.0,72.5,10.5,72.5,6.0,8.0,72.5,72.5,36.5,230.0,203.0,336.0,10.5,138.0,336.0,204.0,336.0,141.0,89.0,199.5,336.0,119.0,336.0,336.0,165.0,254.5,134.5,336.0,200.5,89.0,89.0,336.0,89.0,138.5,41.0,106.0,21.0,48.0,45.5,47.0,77.0,77.0,81.0,89.0,72.5,92.5,336.0,74.0,332.5,336.0,156.5,78.0,176.0,42.0,336.0,257.5,138.5,102.0,336.0,20.0,106.0,336.0,60.0,336.0,89.0,67.0,336.0,34.0,336.0,89.0,336.0,158.0,336.0,120.0,89.0,84.0,336.0,128.0,107.0,336.0,20.5,110.0,336.0,336.0,336.0,217.0,54.0,336.0,64.0,336.0,60.0,72.5,323.0,47.0,59.0,336.0,94.5,173.0,85.5,89.0,72.5,120.0,69.5,336.0,106.0,11.0,233.5,274.0,55.0,41.0,336.0,105.5,198.5,243.5,296.0,282.0,72.5,315.0,336.0,119.5,336.0,277.0,38.0,265.0,336.0,47.0,336.0,68.5,336.0,336.0,336.0,336.0,336.0,336.0,72.5,268.0,112.0,247.0,336.0,72.5,140.0,336.0,336.0,154.0,336.0,336.0,252.5,336.0,129.0,14.0,276.0,336.0,2.5,6.0,336.0,297.0,336.0,336.0,72.5,185.0,163.5,336.0,163.0,336.0,23.0,336.0,285.5,336.0,336.0,111.0,207.5,336.0,336.0,336.0,66.5,336.0,27.0,336.0,336.0,222.0,336.0,236.0,336.0,261.0,35.5,119.0,72.5,336.0,287.5,43.0,254.5,336.0,336.0,336.0,336.0,103.0,171.5,261.0,95.5,1.5,336.0,144.0,92.0,173.0,315.5,72.5,138.0,286.0,336.0,108.0,106.0,167.0,240.0,232.0,179.5,257.0,336.0,241.0,120.0,185.0,139.5,150.0,222.0,52.5,153.0,24.5,247.0,154.0,39.0,331.5,31.0,283.0,72.0,207.0,115.5,59.5,245.5,124.0,160.0,186.5,77.0,84.5,294.5,81.0,29.0,83.0,79.5,109.0,126.5,70.0,6.5,134.5,42.0,99.0,169.0,114.0,53.0,164.5,2.5,72.5,72.5,138.0,227.0,84.0,90.5,167.5,72.5,124.0,14.0,72.5,28.0,72.5,105.5,39.0,2.0,59.0,134.5,65.0,15.5,63.0,44.0,4.0,130.5,63.0,42.0,63.5,72.5,122.5,72.5,159.0,76.0,40.0,72.5,124.0,139.0,91.0,42.0,37.0,16.0,8.0,9.5,5.0,142.5,168.0,123.0,72.5,124.5,11.5,14.0,165.5,63.5,72.5,1.5,62.0,72.5,72.5,11.0,13.0,72.5,121.0,168.0,255.0,131.0,79.5,72.5,254.0,20.0,74.0,191.5,1.0,33.5,68.5,130.0,72.5,72.5,23.0,31.5,81.0,59.0,31.5,152.0,146.0,7.5,58.5,55.0,1.0,152.5,102.5,124.5,101.5,53.0,86.5,134.0,44.5,147.0,51.0,3.5,1.0,58.0,54.0,26.0,3.5,73.0,72.5,44.0,78.5,34.5,75.0,44.5,21.5,63.0,90.5,85.0,63.5,72.5,72.5,72.5,72.5,21.5,31.5,8.0,3.5,72.5,74.0,89.5,72.5,127.5,22.5,120.5,89.5,72.5,72.5,20.5,49.5,48.5,6.5,149.0,84.0,121.5,72.5,118.5,62.0,33.0,126.0,16.0,7.0,1.0,72.5,56.0,31.0,72.5,18.0,93.0,72.5,113.0,139.0,121.0,99.0,141.0,74.0,14.0,125.0,72.5,96.5,121.5,71.0,90.5,94.0,3.0,91.0,142.0,56.5,94.0,91.5,91.0,93.0,72.5,137.5,157.0,93.0,72.5,92.0,159.0,92.0,15.0,94.0,110.5,88.0,68.0,102.0,14.0,88.5,11.0,63.0,26.5,74.5,72.5,97.0,97.0,92.0,86.5,23.5,88.0,91.5,92.5,62.0,1.0,81.0,100.0,77.5,69.0,11.0,4.0,72.5,42.0,17.0,44.5,82.5,93.0,79.5,61.5,48.0,115.0,103.0,81.5,102.5,1.5,84.5,72.5,119.5,61.0,28.0,131.0,112.5,61.5,63.5,22.0,126.5,148.5,72.5,93.5,92.5,123.0,147.5,113.5,70.5,8.5,69.0,92.5,15.5,102.0,91.5,22.0,11.0,43.5,19.0,1.5,6.0,2.0,43.5,100.5,4.0,5.0,66.5,72.5,100.0,81.0,6.5,94.5,16.5,10.5,85.0,123.0,102.0,80.5,77.0,5.5,153.5,16.0,109.5,66.0,104.0,17.5,10.5,73.0,89.0,38.0,105.0,74.5,72.5,130.0,14.0,1.5,9.0,34.5,120.0,1.5,95.0,100.0,15.0,84.0,25.0,4.0,72.5,10.0,124.5,91.0,105.0,15.5,120.5,28.0,72.5,100.0,24.0,92.0,17.5,39.0,39.5,72.5,101.5,72.5,44.0,153.0,24.0,45.5,51.5,47.5,94.0,82.5,72.5,97.0,93.5,139.0,27.5,67.5,101.0,126.0,149.0,108.0,90.0,32.5,86.5,1.5,90.0,71.5,26.0,74.0,42.5,59.0,44.0,72.5,66.0,79.5,122.0,90.0,89.5,112.0,113.0,91.0,81.0,27.0,53.5,88.5,8.5,79.5,146.0,133.5,109.5,70.0,4.5,159.0,103.0,5.0,46.5,13.0,24.5,123.0,148.5,58.0,106.5,121.0,72.5,72.5,72.5,2.5,35.0,31.0,72.5,58.0,95.0,48.5,72.5,13.0,2.0,147.5,45.5,57.0,21.5,118.0,2.0,141.0,59.0,167.5,111.0,175.0,116.5,174.5,149.5,88.5,149.0,167.0,86.0,121.0,45.5,80.5,151.0,72.5,180.5,157.0,101.0,104.0,107.5,142.0,131.0,87.5,69.5,133.0,168.0,102.0,180.5,119.0,3.0,135.0,169.5,99.5,178.0,90.0,61.5,136.0,159.5,159.0,87.5,110.0,29.0,60.0,79.0,37.5,25.5,278.5,99.0,46.0,90.5,104.5,290.0,179.5,52.0,125.5,104.5,133.0,112.0,79.5,14.5,42.0,153.0,98.0,63.5,67.0,157.5,217.0,105.0,66.5,111.0,100.5,51.0,100.0,159.5,146.5,72.5,96.0,118.5,190.0,69.0,64.0,107.0,42.5,52.0,131.0,185.5,16.5,134.0,97.5,63.5,39.5,152.5,118.0,72.5,197.0,57.0,147.5,126.5,180.0,133.5,153.5,89.0,155.5,48.0,53.5,169.0,8.0,118.0,23.0,86.0,42.5,8.5,45.5,101.0,32.0,180.0,164.5,113.5,109.5,196.0,182.0,58.5,15.0,68.0,70.5,139.5,123.0,56.0,156.0,14.0,133.0,120.0,115.0,75.5,190.0,29.0,50.5,82.0,50.5,112.5,71.0,62.5,86.0,158.5,67.0,65.0,142.5,168.5,70.0,68.5,57.0,137.0,142.0,56.0,36.5,155.0,98.5,126.0,57.0,45.0,164.0,55.5,66.0,138.0,93.5,53.0,162.5,151.0,85.0,42.0,72.5,45.0,17.0,28.0,94.0,72.5,98.0,69.0,72.5,42.5,110.0,27.5,52.5,34.0,49.0,72.5,5.0,46.5,127.0,13.0,38.0,108.5,97.0,102.0,2.0,2.5,21.5,90.5,37.5,67.5,45.5,9.0,72.5,2.0,1.0,7.0,11.0,12.0,12.0,9.0,8.0,8.5,8.5,8.5,5.5,7.0,7.0,72.5,72.5,157.0,230.0,82.0,238.0,72.5,149.0,131.0,208.5,50.0,216.0,15.0,72.5,35.0,138.5,51.5,199.0,94.0,138.5,122.0,276.5,55.0,93.0,175.0,119.0,118.5,218.0,142.5,161.0,220.0,241.0,156.5,175.0,45.0,212.0,163.5,129.0,218.0,234.0,72.5,172.0,78.0,72.5,72.5,131.0,72.5,50.5,144.0,34.0,72.5,239.0,46.0,75.0,122.0,87.0,1.5,35.0,154.0,15.0,28.5,105.0,77.0,30.5,14.0,71.0,72.5,54.5,43.0,14.0,82.0,3.0,72.5,72.5,15.0,7.0,1.0,72.5,1.5,72.5,74.0,72.5,88.0,124.0,102.0,100.0,122.0,127.0,92.5,100.0,91.5,108.0,60.5,93.0,111.0,102.0,109.0,1.5,131.0,109.0,84.5,116.5,108.0,111.0,88.5,96.5,116.0,106.0,110.5,113.5,94.5,104.5,104.5,153.5,118.5,98.0,87.0,86.5,107.0,91.5,133.0,91.0,105.0,63.0,88.5,88.0,105.5,87.0,45.0,76.5,155.5,179.0,213.0,147.0,162.0,193.0,144.0,225.5,273.0,315.5,313.0,264.0,248.5,32.0,211.0,90.0,175.0,54.0,122.0,143.0,84.0,21.0,127.5,60.0,131.0,124.5,127.0,258.5,172.0,35.0,312.0,87.0,154.0,221.0,8.5,131.0,288.0,27.0,79.0,174.5,284.0,72.5,19.0,158.0,121.0,143.0,93.0,166.0,130.5,176.5,118.0,41.5,29.5,27.5,48.0,33.0,30.0,54.0,8.0,45.5,20.0,17.5,17.0,60.0,72.5,131.0,72.5,4.0,1.0,72.5,23.5,1.0,72.5,72.5,6.0,40.0,41.5,56.0,2.0,72.5,72.0,97.0,95.0,100.5,4.0,74.0,14.0,114.0,59.0,72.5,5.0,10.0,61.5,53.0,76.0,5.0,72.5,9.0,3.0,5.5,70.0,6.0,81.0,72.5,6.5,10.0,5.5,8.0,2.5,3.0,2.5,72.5,72.5,7.5,72.5,8.0,72.5,1.5,3.5,4.0,2.5,88.5,105.0,105.0,80.0,43.0,111.0,94.5,65.0,114.5,86.5,119.5,79.0,41.0,87.5,52.0,92.0,94.5,108.5,80.0,114.0,72.5,128.0,99.0,132.5,111.5,168.5,77.0,143.0,134.5,148.0,113.0,135.0,95.0,96.0,140.5,102.0,155.0,148.0,94.5,60.5,117.0,101.5,59.0,76.0,66.0,41.0,39.0,71.0,3.5,7.0,141.5,82.0,133.5,72.5,185.0,156.5,233.0,99.0,174.5,50.0,173.0,171.0,105.0,177.0,160.5,54.5,137.5,130.0,231.0,218.5,175.0,67.5,199.0,204.5,220.5,210.5,210.5,203.0,72.5,83.0,105.0,119.0,215.0,110.5,175.0,159.5,142.0,78.0,195.0,146.0,31.5,161.0,187.5,247.0,121.5,225.0,153.0,226.0,150.0,173.5,174.0,46.5,72.5,105.0,182.0,41.5,91.0,100.5,185.0,136.0,72.5,144.0,199.5,182.0,9.0,72.5,221.0,3.0,114.5,28.0,2.0,138.0,170.0,14.0,58.0,212.0,167.0,129.0,72.5,200.0,168.0,79.0,72.5,147.0,247.0,145.5,198.0,161.0,127.5,70.0,130.0,147.5,72.5,105.5,72.5,136.5,113.0,67.0,88.5,105.5,49.0,158.5,112.0,151.5,46.0,146.5,108.5,147.5,213.5,72.5,150.0,38.5,212.0,206.0,183.0,203.0,72.5,4.0,181.0,64.0,133.5,130.0,174.5,211.5,20.0,230.5,189.0,116.5,3.5,139.0,218.0,238.5,178.0,218.0,243.5,234.0,61.5,186.0,81.0,157.0,239.0,113.0,111.0,159.0,175.5,28.0,75.0,167.5,169.0,26.0,161.0,153.0,141.0,219.5,179.0,112.0,207.5,178.0,73.5,136.5,14.5,19.0,140.0,121.0,101.5,222.0,129.0,167.0,176.5,12.5,50.5,49.0,144.5,34.5,17.0,72.5,192.0,191.5,52.0,130.0,166.0,22.0,18.0,13.0,224.5,72.5,1.0,128.0,177.5,97.0,44.5,210.5,50.0,141.0,168.0,72.5,109.0,122.0,141.0,16.0,210.0,239.0,99.0,72.5,126.5,220.5,70.0,178.0,2.0,61.0,62.0,148.0,154.0,8.5,146.0,181.0,249.0,184.5,118.5,167.0,72.5,152.5,76.5,201.5,92.0,72.5,2.0,206.0,72.5,28.5,93.0,176.0,37.0,10.0,223.5,68.0,156.5,157.0,158.0,117.5,72.5,243.0,92.5,37.5,123.0,170.5,72.5,211.0,72.5,185.0,209.0,183.5,232.5,148.5,124.0,165.0,238.0,163.0,147.0,49.0,187.5,188.0,31.0,75.0,105.0,24.5,153.5,63.0,108.5,31.0,72.5,83.0,3.0,188.0,233.0,128.0,147.0,12.5,181.0,205.0,110.0,233.5,33.5,173.0,143.0,65.5,166.0,51.5,30.5,1.0,24.0,24.5,33.5,72.5,72.5,72.5,72.5,72.5,72.5,72.5,72.5,72.5,72.5,72.5,72.5,72.5,72.5,72.5,72.5,72.5,72.5,72.5,72.5,72.5,72.5,72.5,72.5,72.5,72.5,72.5,72.5,72.5,1.0,1.0,72.5,72.5,72.5,72.5,72.5,72.5,72.5,72.5,72.5,72.5,72.5,72.5,72.5,72.5,72.5,72.5,72.5,72.5,72.5,72.5,72.5,72.5,72.5,72.5,72.5,72.5,6.0,72.5,72.5,116.0,72.5,7.5,27.5,91.0,51.0,83.5,9.5,171.5,72.5,19.5,72.5,172.0,62.0,114.5,158.0,11.5,162.0,55.0,101.0,16.0,59.0,72.5,83.0,121.0,174.0,25.0,46.0,72.5,190.0,11.0,64.0,20.5,82.0,199.0,154.0,1.0,175.0,42.0,25.0,117.5,21.0,99.0,104.0,214.0,5.0,26.0,168.0,155.0,35.0,22.0,69.0,20.0,104.5,132.5,123.5,146.0,158.0,18.0,79.5,177.5,34.5,26.0,18.5,41.0,22.0,33.0,141.5,71.0,12.0,146.5,126.0,156.0,156.0,31.0,32.0,33.5,72.5,154.5,53.5,43.0,41.5,148.5,86.5,79.0,83.5,72.5,138.0,16.5,131.5,93.5,181.5,36.0,7.0,25.5,145.0,224.0,174.0,119.0,11.0,154.0,77.5,20.0,7.5,53.5,109.0,70.0,49.0,7.0,137.5,1.0,27.5,103.5,79.5,49.0,72.5,47.0,16.5,9.0,29.5,13.0,117.0,72.5,63.5,37.5,10.0,10.0,10.5,11.5,10.0,2.5,11.5,11.0,9.5,4.5,13.0,10.5,4.5,10.5,8.0,11.0,13.5,1.0,12.0,10.5,7.0,11.0,13.0,11.5,11.5,10.0,12.5,9.0,10.0,1.0,10.0,11.0,11.5,5.0,10.0,12.0,11.0,3.0,13.5,2.0,13.5,10.5,100.0,12.0,8.5,10.0,9.5,13.0,10.5,10.0,9.5,9.5,8.0,2.0,10.0,9.0,10.0,10.0,2.5,4.0,10.0,11.5,9.0,9.0,11.0,4.0,72.5,10.0,9.5,8.0,4.0,7.0,3.0,3.5,10.0,8.0,7.0,8.0,12.0,72.5,11.0,8.0,10.0,10.0,8.5,8.5,3.0,6.0,129.0,224.0,140.5,29.0,39.5,3.0,126.0,128.0,114.0,113.5,113.5,114.5,115.0,130.0,227.0,130.5,117.5,104.0,93.0,90.5,50.0,56.0,75.5,70.0,72.5,1.0,72.5,1.5,14.5,24.5,27.0,82.0,81.5,95.0,48.0,143.0,14.0,110.0,83.0,88.0,162.0,25.0,72.5,38.0,19.0,90.5,43.0,18.5,60.0,116.0,27.0,82.5,72.5,73.0,85.0,106.5,9.0,22.0,101.0,11.0,136.5,25.0,88.5,86.0,107.0,101.0,59.5,126.0,53.5,83.5,63.5,108.0,72.5,97.0,114.0,15.0,72.5,51.0,59.0,72.5,2.0,130.0,122.5,56.0,31.0,135.5,117.0,54.0,64.0,86.0,141.0,84.5,63.5,72.5,19.0,19.0,78.5,9.0,2.5,127.0,91.0,9.5,55.0,1.0,72.5,5.0,72.5,74.5,1.0,82.0,15.5,66.5,77.0,50.5,82.0,14.0,116.0,45.0,91.5,86.5,90.0,72.5,104.0,107.0,33.0,98.0,119.0,74.5,144.5,32.0,82.5,68.5,93.5,91.0,22.0,5.0,71.5,114.0,95.0,72.5,101.0,151.0,39.0,43.0,38.0,4.5,100.0,78.0,115.0,100.0,70.5,131.0,64.5,14.5,47.5,97.0,72.5,144.0,122.5,87.0,65.0,19.0,87.0,84.5,72.5,65.0,3.5,72.5,66.5,79.0,55.5,98.0,118.0,44.0,123.0,74.5,89.0,110.5,35.5,42.0,72.5,78.5,93.0,89.5,33.5,117.0,105.0,51.0,108.0,88.0,116.0,56.0,87.0,80.0,33.5,92.0,90.0,63.5,58.5,61.0,48.5,85.0,65.0,56.0,72.5,117.0,50.0,100.5,107.5,97.0,73.5,45.0,72.5,101.0,91.0,93.0,24.5,78.0,48.5,114.0,92.5,59.0,97.0,94.5,87.0,87.0,92.5,4.0,76.5,77.0,108.0,85.0,119.5,9.0,58.0,19.0,95.0,18.0,69.0,34.0,72.5,12.0,5.0,26.5,93.0,72.5,18.0,52.5,60.0,22.0,73.0,20.0,72.5,72.5,24.0,63.0,64.5,72.5,9.0,77.0,53.5,82.5,59.0,33.0,15.5,72.5,13.5,6.0,15.0,9.0,72.5,16.0,5.0,72.5,4.5,3.0,118.0,160.5,133.0,225.0,35.0,171.0,36.0,158.5,158.0,195.0,123.5,135.5,207.0,204.0,207.0,149.0,132.5,144.0,172.0,103.0,172.0,174.0,165.5,106.0,163.0,167.0,211.5,148.0,176.0,139.0,140.5,102.0,72.0,122.5,129.0,122.0,132.0,199.0,149.0,140.0,33.0,128.0,133.5,71.0,182.0,72.5,70.0,150.5,85.0,154.0,161.0,226.0,193.5,155.0,159.0,135.5,141.0,11.0,175.0,98.0,133.0,120.5,5.0,154.0,64.0,123.0,248.0,98.5,111.5,140.0,119.0,105.0,145.0,148.0,190.5,144.0,157.5,186.5,192.5,120.5,148.5,53.0,184.5,210.0,185.0,113.0,120.5,151.0,153.5,188.5,121.0,147.0,186.0,158.5,135.0,82.0,108.5,40.0,117.5,78.0,98.0,172.0,130.5,202.0,210.0,62.0,72.5,136.5,158.5,74.5,186.5,63.5,41.5,138.0,15.5,88.0,89.5,115.0,134.0,148.5,124.0,151.0,140.5,153.0,128.0,165.0,180.0,109.0,139.0,170.0,143.0,132.5,75.0,35.0,133.0,139.5,175.0,47.5,36.0,71.5,60.0,113.5,95.0,32.0,179.0,72.5,112.0,158.0,151.5,114.0,95.5,79.0,118.0,164.0,131.5,134.5,113.0,115.5,123.5,151.0,104.5,102.5,105.0,95.0,92.5,126.5,85.5,103.0,87.0,79.0,71.5,6.5,4.5,29.5,56.5,36.5,38.5,17.0,16.0,17.0,4.5,10.5,2.0,85.0,8.0,42.0,88.5,19.0,83.5,6.5,102.0,97.5,46.0,36.5,9.0,24.5,85.5,68.5,19.5,72.5,39.0,59.0,44.0,90.0,17.0,19.5,72.5,108.0,17.0,24.0,135.5,5.0,53.5,6.0,4.0,30.5,2.5,11.5,63.0,40.5,137.5,85.0,16.5,104.0,54.0,72.5,160.0,24.5,95.0,3.0,102.5,86.5,63.0,86.5,17.0,2.0,1.5,72.5,68.0,54.5,34.5,72.5,63.5,94.0,16.0,81.0,11.0,102.0,91.0,103.5,39.0,87.5,72.5,43.5,96.0,41.0,3.5,38.0,72.5,2.5,95.0,22.0,72.5,3.5,15.0,85.0,25.5,121.0,1.5,92.0,119.0,79.5,72.5,10.0,72.5,75.5,90.0,8.0,6.5,23.5,92.0,78.0,54.5,109.0,72.0,108.5,126.0,62.0,96.0,49.0,30.0,3.0,22.0,45.5,13.0,96.0,10.0,12.0,43.0,72.5,75.5,93.5,33.0,32.5,101.0,46.0,100.0,20.0,82.0,23.5,13.0,65.0,32.5,64.0,111.0,55.5,2.0,93.5,86.0,105.0,38.0,82.5,72.5,99.0,48.5,23.0,94.5,74.0,136.5,106.0,83.5,103.0,8.5,14.0,72.5,118.0,73.0,99.0,25.0,8.5,85.0,90.5,20.5,47.0,102.0,110.5,52.5,124.0,12.5,26.5,31.0,103.0,100.0,10.5,11.5,11.0,2.0,72.5,6.0,2.0,9.0,5.0,1.0,48.5,72.5,68.0,25.0,64.5,65.0,59.0,3.0,66.0,59.0,65.0,46.5,53.0,72.5,89.5,44.0,38.0,64.5,86.0,60.0,56.0,57.0,67.0,22.5,56.0,61.0,59.0,43.0,79.0,40.0,49.5,63.0,44.5,50.0,56.0,58.0,84.5,110.0,63.0,62.5,55.0,48.0,57.0,72.5,72.5,72.5,8.0,72.5,3.5,72.5,72.5,72.5,1.0,17.0,13.5,15.0,7.0,11.0,2.0,21.5,16.0,14.5,72.5,13.0,14.0,10.5,13.5,23.0,2.0,4.0,1.0,8.5,13.0,3.0,11.0,11.0,12.5,5.0,14.0,15.0,72.5,4.0,15.5,10.0,12.5,1.0,72.5,3.0,2.0,11.0,3.0,14.0,3.0,1.0,20.0,5.5,12.0,11.5,4.0,10.0,11.0,15.0,18.0,10.5,72.5,4.0,3.5,8.0,3.0,5.5,72.5,72.5,4.0,1.0,14.0,72.5,8.0,1.0,5.0,14.0,2.5,9.0,16.0,11.5,12.5,12.0,15.0,5.5,12.0,2.0,72.5,11.0,13.5,6.0,7.0,14.5,14.5,8.5,4.0,15.0,10.5,13.0,7.0,5.0,4.5,15.5,15.5,8.0,9.5,4.5,72.5,11.5,6.0,12.5,10.0,6.0,13.5,12.5,10.0,16.0,12.0,17.0,1.0,72.5,6.5,9.5,1.0,11.5,11.0,14.0,14.0,11.0,11.0,15.5,12.5,14.0,13.0,13.5,13.0,9.0,11.0,13.0,11.0,12.0,8.5,10.0,7.5,13.0,13.0,6.0,3.5,12.0,4.0,13.5,12.5,12.5,4.0,6.5,1.0,16.0,10.0,72.5,15.5,17.5,12.0,13.0,11.5,8.5,5.5,2.0,5.5,13.0,13.5,7.0,10.0,14.0,6.0,5.0,15.0,6.0,5.0,6.0,4.0,13.5,9.0,2.5,1.0,15.5,14.0,4.5,13.5,14.0,5.0,10.5,1.0,5.0,14.0,4.0,11.0,12.0,14.0,7.5,11.0,72.5,72.5,18.0,1.0,20.5,5.5,8.5,12.5,9.0,5.0,72.5,6.0,2.0,1.0,72.5,8.5,8.5,12.5,5.0,16.0,5.5,14.0,13.5,9.0,5.0,5.0,72.5,12.0,72.5,10.0,12.5,19.0,13.5,13.0,72.5,13.5,10.5,7.0,13.5,9.0,7.5,10.0,12.0,10.5,13.0,11.0,10.5,9.0,12.0,12.5,7.5,11.0,12.0,12.5,4.5,14.0,9.0,13.5,18.0,2.0,11.0,12.0,12.5,13.5,9.0,14.0,4.5,12.5,15.0,13.0,9.0,17.0,18.0,17.5,2.5,8.0,14.0,7.0,14.0,12.5,21.0,72.5,13.5,13.0,10.5,72.5,12.0,12.5,10.0,13.5,11.0,15.0,72.5,9.5,72.5,13.0,12.5,2.0,10.0,10.0,6.5,10.0,5.5,10.0,11.5,4.0,8.5,10.5,4.5,11.0,3.5,1.0,4.5,72.5,7.0,72.5,7.5,7.5,5.0,9.0,2.0,4.5,3.5,10.0,12.0,7.0,7.5,72.5,7.5,9.0,5.0,1.5,10.0,10.5,7.0,6.5,7.5,6.5,10.0,5.5,8.0,7.0,6.0,5.5,5.5,6.5,7.0,7.5,9.0,8.5,7.0,4.0,9.5,6.0,7.0,7.0,8.0,72.5,72.5,1.5,5.0,1.5,4.0,6.5,72.5,7.0,6.0,1.0,7.0,7.0,5.0,10.0,6.5,72.5,4.0,5.0,5.5,4.0,2.0,2.0,1.5,2.5,2.0,2.5,72.5,72.5,72.5,72.5,72.5,29.5,72.5],\"xaxis\":\"x\",\"yaxis\":\"y\",\"type\":\"histogram\"}],                        {\"template\":{\"data\":{\"bar\":[{\"error_x\":{\"color\":\"#2a3f5f\"},\"error_y\":{\"color\":\"#2a3f5f\"},\"marker\":{\"line\":{\"color\":\"#E5ECF6\",\"width\":0.5},\"pattern\":{\"fillmode\":\"overlay\",\"size\":10,\"solidity\":0.2}},\"type\":\"bar\"}],\"barpolar\":[{\"marker\":{\"line\":{\"color\":\"#E5ECF6\",\"width\":0.5},\"pattern\":{\"fillmode\":\"overlay\",\"size\":10,\"solidity\":0.2}},\"type\":\"barpolar\"}],\"carpet\":[{\"aaxis\":{\"endlinecolor\":\"#2a3f5f\",\"gridcolor\":\"white\",\"linecolor\":\"white\",\"minorgridcolor\":\"white\",\"startlinecolor\":\"#2a3f5f\"},\"baxis\":{\"endlinecolor\":\"#2a3f5f\",\"gridcolor\":\"white\",\"linecolor\":\"white\",\"minorgridcolor\":\"white\",\"startlinecolor\":\"#2a3f5f\"},\"type\":\"carpet\"}],\"choropleth\":[{\"colorbar\":{\"outlinewidth\":0,\"ticks\":\"\"},\"type\":\"choropleth\"}],\"contour\":[{\"colorbar\":{\"outlinewidth\":0,\"ticks\":\"\"},\"colorscale\":[[0.0,\"#0d0887\"],[0.1111111111111111,\"#46039f\"],[0.2222222222222222,\"#7201a8\"],[0.3333333333333333,\"#9c179e\"],[0.4444444444444444,\"#bd3786\"],[0.5555555555555556,\"#d8576b\"],[0.6666666666666666,\"#ed7953\"],[0.7777777777777778,\"#fb9f3a\"],[0.8888888888888888,\"#fdca26\"],[1.0,\"#f0f921\"]],\"type\":\"contour\"}],\"contourcarpet\":[{\"colorbar\":{\"outlinewidth\":0,\"ticks\":\"\"},\"type\":\"contourcarpet\"}],\"heatmap\":[{\"colorbar\":{\"outlinewidth\":0,\"ticks\":\"\"},\"colorscale\":[[0.0,\"#0d0887\"],[0.1111111111111111,\"#46039f\"],[0.2222222222222222,\"#7201a8\"],[0.3333333333333333,\"#9c179e\"],[0.4444444444444444,\"#bd3786\"],[0.5555555555555556,\"#d8576b\"],[0.6666666666666666,\"#ed7953\"],[0.7777777777777778,\"#fb9f3a\"],[0.8888888888888888,\"#fdca26\"],[1.0,\"#f0f921\"]],\"type\":\"heatmap\"}],\"heatmapgl\":[{\"colorbar\":{\"outlinewidth\":0,\"ticks\":\"\"},\"colorscale\":[[0.0,\"#0d0887\"],[0.1111111111111111,\"#46039f\"],[0.2222222222222222,\"#7201a8\"],[0.3333333333333333,\"#9c179e\"],[0.4444444444444444,\"#bd3786\"],[0.5555555555555556,\"#d8576b\"],[0.6666666666666666,\"#ed7953\"],[0.7777777777777778,\"#fb9f3a\"],[0.8888888888888888,\"#fdca26\"],[1.0,\"#f0f921\"]],\"type\":\"heatmapgl\"}],\"histogram\":[{\"marker\":{\"pattern\":{\"fillmode\":\"overlay\",\"size\":10,\"solidity\":0.2}},\"type\":\"histogram\"}],\"histogram2d\":[{\"colorbar\":{\"outlinewidth\":0,\"ticks\":\"\"},\"colorscale\":[[0.0,\"#0d0887\"],[0.1111111111111111,\"#46039f\"],[0.2222222222222222,\"#7201a8\"],[0.3333333333333333,\"#9c179e\"],[0.4444444444444444,\"#bd3786\"],[0.5555555555555556,\"#d8576b\"],[0.6666666666666666,\"#ed7953\"],[0.7777777777777778,\"#fb9f3a\"],[0.8888888888888888,\"#fdca26\"],[1.0,\"#f0f921\"]],\"type\":\"histogram2d\"}],\"histogram2dcontour\":[{\"colorbar\":{\"outlinewidth\":0,\"ticks\":\"\"},\"colorscale\":[[0.0,\"#0d0887\"],[0.1111111111111111,\"#46039f\"],[0.2222222222222222,\"#7201a8\"],[0.3333333333333333,\"#9c179e\"],[0.4444444444444444,\"#bd3786\"],[0.5555555555555556,\"#d8576b\"],[0.6666666666666666,\"#ed7953\"],[0.7777777777777778,\"#fb9f3a\"],[0.8888888888888888,\"#fdca26\"],[1.0,\"#f0f921\"]],\"type\":\"histogram2dcontour\"}],\"mesh3d\":[{\"colorbar\":{\"outlinewidth\":0,\"ticks\":\"\"},\"type\":\"mesh3d\"}],\"parcoords\":[{\"line\":{\"colorbar\":{\"outlinewidth\":0,\"ticks\":\"\"}},\"type\":\"parcoords\"}],\"pie\":[{\"automargin\":true,\"type\":\"pie\"}],\"scatter\":[{\"marker\":{\"colorbar\":{\"outlinewidth\":0,\"ticks\":\"\"}},\"type\":\"scatter\"}],\"scatter3d\":[{\"line\":{\"colorbar\":{\"outlinewidth\":0,\"ticks\":\"\"}},\"marker\":{\"colorbar\":{\"outlinewidth\":0,\"ticks\":\"\"}},\"type\":\"scatter3d\"}],\"scattercarpet\":[{\"marker\":{\"colorbar\":{\"outlinewidth\":0,\"ticks\":\"\"}},\"type\":\"scattercarpet\"}],\"scattergeo\":[{\"marker\":{\"colorbar\":{\"outlinewidth\":0,\"ticks\":\"\"}},\"type\":\"scattergeo\"}],\"scattergl\":[{\"marker\":{\"colorbar\":{\"outlinewidth\":0,\"ticks\":\"\"}},\"type\":\"scattergl\"}],\"scattermapbox\":[{\"marker\":{\"colorbar\":{\"outlinewidth\":0,\"ticks\":\"\"}},\"type\":\"scattermapbox\"}],\"scatterpolar\":[{\"marker\":{\"colorbar\":{\"outlinewidth\":0,\"ticks\":\"\"}},\"type\":\"scatterpolar\"}],\"scatterpolargl\":[{\"marker\":{\"colorbar\":{\"outlinewidth\":0,\"ticks\":\"\"}},\"type\":\"scatterpolargl\"}],\"scatterternary\":[{\"marker\":{\"colorbar\":{\"outlinewidth\":0,\"ticks\":\"\"}},\"type\":\"scatterternary\"}],\"surface\":[{\"colorbar\":{\"outlinewidth\":0,\"ticks\":\"\"},\"colorscale\":[[0.0,\"#0d0887\"],[0.1111111111111111,\"#46039f\"],[0.2222222222222222,\"#7201a8\"],[0.3333333333333333,\"#9c179e\"],[0.4444444444444444,\"#bd3786\"],[0.5555555555555556,\"#d8576b\"],[0.6666666666666666,\"#ed7953\"],[0.7777777777777778,\"#fb9f3a\"],[0.8888888888888888,\"#fdca26\"],[1.0,\"#f0f921\"]],\"type\":\"surface\"}],\"table\":[{\"cells\":{\"fill\":{\"color\":\"#EBF0F8\"},\"line\":{\"color\":\"white\"}},\"header\":{\"fill\":{\"color\":\"#C8D4E3\"},\"line\":{\"color\":\"white\"}},\"type\":\"table\"}]},\"layout\":{\"annotationdefaults\":{\"arrowcolor\":\"#2a3f5f\",\"arrowhead\":0,\"arrowwidth\":1},\"autotypenumbers\":\"strict\",\"coloraxis\":{\"colorbar\":{\"outlinewidth\":0,\"ticks\":\"\"}},\"colorscale\":{\"diverging\":[[0,\"#8e0152\"],[0.1,\"#c51b7d\"],[0.2,\"#de77ae\"],[0.3,\"#f1b6da\"],[0.4,\"#fde0ef\"],[0.5,\"#f7f7f7\"],[0.6,\"#e6f5d0\"],[0.7,\"#b8e186\"],[0.8,\"#7fbc41\"],[0.9,\"#4d9221\"],[1,\"#276419\"]],\"sequential\":[[0.0,\"#0d0887\"],[0.1111111111111111,\"#46039f\"],[0.2222222222222222,\"#7201a8\"],[0.3333333333333333,\"#9c179e\"],[0.4444444444444444,\"#bd3786\"],[0.5555555555555556,\"#d8576b\"],[0.6666666666666666,\"#ed7953\"],[0.7777777777777778,\"#fb9f3a\"],[0.8888888888888888,\"#fdca26\"],[1.0,\"#f0f921\"]],\"sequentialminus\":[[0.0,\"#0d0887\"],[0.1111111111111111,\"#46039f\"],[0.2222222222222222,\"#7201a8\"],[0.3333333333333333,\"#9c179e\"],[0.4444444444444444,\"#bd3786\"],[0.5555555555555556,\"#d8576b\"],[0.6666666666666666,\"#ed7953\"],[0.7777777777777778,\"#fb9f3a\"],[0.8888888888888888,\"#fdca26\"],[1.0,\"#f0f921\"]]},\"colorway\":[\"#636efa\",\"#EF553B\",\"#00cc96\",\"#ab63fa\",\"#FFA15A\",\"#19d3f3\",\"#FF6692\",\"#B6E880\",\"#FF97FF\",\"#FECB52\"],\"font\":{\"color\":\"#2a3f5f\"},\"geo\":{\"bgcolor\":\"white\",\"lakecolor\":\"white\",\"landcolor\":\"#E5ECF6\",\"showlakes\":true,\"showland\":true,\"subunitcolor\":\"white\"},\"hoverlabel\":{\"align\":\"left\"},\"hovermode\":\"closest\",\"mapbox\":{\"style\":\"light\"},\"paper_bgcolor\":\"white\",\"plot_bgcolor\":\"#E5ECF6\",\"polar\":{\"angularaxis\":{\"gridcolor\":\"white\",\"linecolor\":\"white\",\"ticks\":\"\"},\"bgcolor\":\"#E5ECF6\",\"radialaxis\":{\"gridcolor\":\"white\",\"linecolor\":\"white\",\"ticks\":\"\"}},\"scene\":{\"xaxis\":{\"backgroundcolor\":\"#E5ECF6\",\"gridcolor\":\"white\",\"gridwidth\":2,\"linecolor\":\"white\",\"showbackground\":true,\"ticks\":\"\",\"zerolinecolor\":\"white\"},\"yaxis\":{\"backgroundcolor\":\"#E5ECF6\",\"gridcolor\":\"white\",\"gridwidth\":2,\"linecolor\":\"white\",\"showbackground\":true,\"ticks\":\"\",\"zerolinecolor\":\"white\"},\"zaxis\":{\"backgroundcolor\":\"#E5ECF6\",\"gridcolor\":\"white\",\"gridwidth\":2,\"linecolor\":\"white\",\"showbackground\":true,\"ticks\":\"\",\"zerolinecolor\":\"white\"}},\"shapedefaults\":{\"line\":{\"color\":\"#2a3f5f\"}},\"ternary\":{\"aaxis\":{\"gridcolor\":\"white\",\"linecolor\":\"white\",\"ticks\":\"\"},\"baxis\":{\"gridcolor\":\"white\",\"linecolor\":\"white\",\"ticks\":\"\"},\"bgcolor\":\"#E5ECF6\",\"caxis\":{\"gridcolor\":\"white\",\"linecolor\":\"white\",\"ticks\":\"\"}},\"title\":{\"x\":0.05},\"xaxis\":{\"automargin\":true,\"gridcolor\":\"white\",\"linecolor\":\"white\",\"ticks\":\"\",\"title\":{\"standoff\":15},\"zerolinecolor\":\"white\",\"zerolinewidth\":2},\"yaxis\":{\"automargin\":true,\"gridcolor\":\"white\",\"linecolor\":\"white\",\"ticks\":\"\",\"title\":{\"standoff\":15},\"zerolinecolor\":\"white\",\"zerolinewidth\":2}}},\"xaxis\":{\"anchor\":\"y\",\"domain\":[0.0,1.0],\"title\":{\"text\":\"qt_dias_diff_vote_median\"}},\"yaxis\":{\"anchor\":\"x\",\"domain\":[0.0,1.0],\"title\":{\"text\":\"count\"}},\"legend\":{\"tracegroupgap\":0},\"margin\":{\"t\":60},\"barmode\":\"relative\"},                        {\"responsive\": true}                    ).then(function(){\n",
       "                            \n",
       "var gd = document.getElementById('84627a9c-fa55-470f-8ba0-8c54bf260be8');\n",
       "var x = new MutationObserver(function (mutations, observer) {{\n",
       "        var display = window.getComputedStyle(gd).display;\n",
       "        if (!display || display === 'none') {{\n",
       "            console.log([gd, 'removed!']);\n",
       "            Plotly.purge(gd);\n",
       "            observer.disconnect();\n",
       "        }}\n",
       "}});\n",
       "\n",
       "// Listen for the removal of the full notebook cells\n",
       "var notebookContainer = gd.closest('#notebook-container');\n",
       "if (notebookContainer) {{\n",
       "    x.observe(notebookContainer, {childList: true});\n",
       "}}\n",
       "\n",
       "// Listen for the clearing of the current output cell\n",
       "var outputEl = gd.closest('.output');\n",
       "if (outputEl) {{\n",
       "    x.observe(outputEl, {childList: true});\n",
       "}}\n",
       "\n",
       "                        })                };                            </script>        </div>\n",
       "</body>\n",
       "</html>"
      ]
     },
     "metadata": {},
     "output_type": "display_data"
    }
   ],
   "source": [
    "fig = px.histogram(churn_enriq, x=\"qt_dias_diff_vote_median\")\n",
    "fig.show()"
   ]
  },
  {
   "cell_type": "code",
   "execution_count": null,
   "metadata": {
    "colab": {
     "base_uri": "https://localhost:8080/",
     "height": 366
    },
    "executionInfo": {
     "elapsed": 1320,
     "status": "ok",
     "timestamp": 1643332649261,
     "user": {
      "displayName": "Matheus Scheffer",
      "photoUrl": "https://lh3.googleusercontent.com/a-/AOh14GglPDI7gdLFED26W1SJncCIZFA5A-5rjTBcxfjH=s64",
      "userId": "18314476337770992076"
     },
     "user_tz": 180
    },
    "id": "DJQfiHL7_xGV",
    "outputId": "92eeae0d-45af-4a6d-a19a-c5fba8bc1d74"
   },
   "outputs": [
    {
     "name": "stdout",
     "output_type": "stream",
     "text": [
      "numVotes\n",
      "qt_dias_diff_vote_max\n",
      "qt_dias_diff_vote_median\n",
      "qt_dias_diff_comment_min\n"
     ]
    },
    {
     "data": {
      "image/png": "[encoded data removed]",
      "text/plain": [
       "<Figure size 432x288 with 4 Axes>"
      ]
     },
     "metadata": {
      "needs_background": "light"
     },
     "output_type": "display_data"
    }
   ],
   "source": [
    "cols = len(bx_columns)\n",
    "\n",
    "plt.figure(1)\n",
    "for i in range(cols):\n",
    "  col = bx_columns[i]\n",
    "  print(col)\n",
    "  sns.histplot(churn_enriq[col]).set_title(col)\n",
    "  plt.subplot(2,2,i + 1);\n",
    "plt.tight_layout()"
   ]
  },
  {
   "cell_type": "code",
   "execution_count": null,
   "metadata": {
    "colab": {
     "base_uri": "https://localhost:8080/",
     "height": 296
    },
    "executionInfo": {
     "elapsed": 578,
     "status": "ok",
     "timestamp": 1643332649833,
     "user": {
      "displayName": "Matheus Scheffer",
      "photoUrl": "https://lh3.googleusercontent.com/a-/AOh14GglPDI7gdLFED26W1SJncCIZFA5A-5rjTBcxfjH=s64",
      "userId": "18314476337770992076"
     },
     "user_tz": 180
    },
    "id": "p7t6Ks1IKCkt",
    "outputId": "45ba7368-d639-432b-e2ac-4215cd3dc9c4"
   },
   "outputs": [
    {
     "data": {
      "text/plain": [
       "<matplotlib.axes._subplots.AxesSubplot at 0x7f57b4befb50>"
      ]
     },
     "execution_count": 44,
     "metadata": {},
     "output_type": "execute_result"
    },
    {
     "data": {
      "image/png": "[encoded data removed]",
      "text/plain": [
       "<Figure size 432x288 with 1 Axes>"
      ]
     },
     "metadata": {
      "needs_background": "light"
     },
     "output_type": "display_data"
    }
   ],
   "source": [
    "sns.histplot(churn_enriq['numVotes'])"
   ]
  },
  {
   "cell_type": "markdown",
   "metadata": {
    "id": "tOHN8tAHkwfS"
   },
   "source": [
    "b) Muitas variáveis do dataset estão com uma cauda muito longa na distribuição, vamos melhorar isso?\n",
    "\n",
    "Aplique o Box-Cox Transformation para as variáveis de bx_columns.\n",
    "\n",
    "**Observação**: Valores negativos ou zeros não são aceitos pelo algoritmo!"
   ]
  },
  {
   "cell_type": "code",
   "execution_count": null,
   "metadata": {
    "id": "0tVmwyoP3SQo"
   },
   "outputs": [],
   "source": [
    "data = churn_enriq.copy()"
   ]
  },
  {
   "cell_type": "code",
   "execution_count": null,
   "metadata": {
    "colab": {
     "base_uri": "https://localhost:8080/"
    },
    "executionInfo": {
     "elapsed": 274,
     "status": "ok",
     "timestamp": 1643332660785,
     "user": {
      "displayName": "Matheus Scheffer",
      "photoUrl": "https://lh3.googleusercontent.com/a-/AOh14GglPDI7gdLFED26W1SJncCIZFA5A-5rjTBcxfjH=s64",
      "userId": "18314476337770992076"
     },
     "user_tz": 180
    },
    "id": "oted2R6SC4VU",
    "outputId": "08531413-3671-4057-a706-a9f6273f74d2"
   },
   "outputs": [
    {
     "name": "stdout",
     "output_type": "stream",
     "text": [
      "Negativos ou zerados de numVotes\n",
      "      employee  ... razao_likes_deslikes_discfreq\n",
      "346        266  ...                           2.0\n",
      "697        157  ...                           0.0\n",
      "699        135  ...                           2.0\n",
      "1207        59  ...                           1.0\n",
      "1209        35  ...                           1.0\n",
      "1211        27  ...                           0.0\n",
      "1261        66  ...                           2.0\n",
      "1900       425  ...                           0.0\n",
      "1902       421  ...                           0.0\n",
      "2122         3  ...                           2.0\n",
      "2376         2  ...                           2.0\n",
      "3271       161  ...                           2.0\n",
      "\n",
      "[12 rows x 27 columns]\n",
      "Negativos ou zerados de qt_dias_diff_vote_max\n",
      "Empty DataFrame\n",
      "Columns: [employee, companyAlias, numVotes, lastParticipationDate, stillExists, vote_mean, vote_mode, vote_min, vote_max, vote_count, qt_dias_diff_vote_min, qt_dias_diff_vote_max, qt_dias_diff_vote_median, likes_mean, likes_min, likes_max, dislikes_mean, dislikes_min, dislikes_max, qt_dias_diff_comment_min, qt_dias_diff_comment_max, qt_dias_diff_comment_median, commentId_count, companyType, gender, razao_likes_deslikes, razao_likes_deslikes_discfreq]\n",
      "Index: []\n",
      "Negativos ou zerados de qt_dias_diff_vote_median\n",
      "Empty DataFrame\n",
      "Columns: [employee, companyAlias, numVotes, lastParticipationDate, stillExists, vote_mean, vote_mode, vote_min, vote_max, vote_count, qt_dias_diff_vote_min, qt_dias_diff_vote_max, qt_dias_diff_vote_median, likes_mean, likes_min, likes_max, dislikes_mean, dislikes_min, dislikes_max, qt_dias_diff_comment_min, qt_dias_diff_comment_max, qt_dias_diff_comment_median, commentId_count, companyType, gender, razao_likes_deslikes, razao_likes_deslikes_discfreq]\n",
      "Index: []\n",
      "Negativos ou zerados de qt_dias_diff_comment_min\n",
      "Empty DataFrame\n",
      "Columns: [employee, companyAlias, numVotes, lastParticipationDate, stillExists, vote_mean, vote_mode, vote_min, vote_max, vote_count, qt_dias_diff_vote_min, qt_dias_diff_vote_max, qt_dias_diff_vote_median, likes_mean, likes_min, likes_max, dislikes_mean, dislikes_min, dislikes_max, qt_dias_diff_comment_min, qt_dias_diff_comment_max, qt_dias_diff_comment_median, commentId_count, companyType, gender, razao_likes_deslikes, razao_likes_deslikes_discfreq]\n",
      "Index: []\n"
     ]
    }
   ],
   "source": [
    "for col in bx_columns:\n",
    "  print(f\"Negativos ou zerados de {col}\")\n",
    "  print(data[data[col] <= 0])"
   ]
  },
  {
   "cell_type": "code",
   "execution_count": null,
   "metadata": {
    "id": "Jlu5UmA-DHiH"
   },
   "outputs": [],
   "source": [
    "churn_enriq['numVotes_pos'] = churn_enriq['numVotes'] + 1"
   ]
  },
  {
   "cell_type": "code",
   "execution_count": null,
   "metadata": {
    "colab": {
     "base_uri": "https://localhost:8080/"
    },
    "executionInfo": {
     "elapsed": 12,
     "status": "ok",
     "timestamp": 1643332665485,
     "user": {
      "displayName": "Matheus Scheffer",
      "photoUrl": "https://lh3.googleusercontent.com/a-/AOh14GglPDI7gdLFED26W1SJncCIZFA5A-5rjTBcxfjH=s64",
      "userId": "18314476337770992076"
     },
     "user_tz": 180
    },
    "id": "nxzMqLmZDlEW",
    "outputId": "3180c5ce-9af2-40e1-9b9e-49f5994afc98"
   },
   "outputs": [
    {
     "name": "stdout",
     "output_type": "stream",
     "text": [
      "numVotes_pos\n",
      "qt_dias_diff_vote_max\n",
      "qt_dias_diff_vote_median\n",
      "qt_dias_diff_comment_min\n"
     ]
    }
   ],
   "source": [
    "for col in bx_columns:\n",
    "  print('numVotes_pos' if col == 'numVotes' else col)"
   ]
  },
  {
   "cell_type": "code",
   "execution_count": null,
   "metadata": {
    "colab": {
     "base_uri": "https://localhost:8080/"
    },
    "executionInfo": {
     "elapsed": 11,
     "status": "ok",
     "timestamp": 1643332665486,
     "user": {
      "displayName": "Matheus Scheffer",
      "photoUrl": "https://lh3.googleusercontent.com/a-/AOh14GglPDI7gdLFED26W1SJncCIZFA5A-5rjTBcxfjH=s64",
      "userId": "18314476337770992076"
     },
     "user_tz": 180
    },
    "id": "ZbbRD-HM1wWj",
    "outputId": "8fb4cde4-1724-4552-a67f-2e46eeb52774"
   },
   "outputs": [
    {
     "data": {
      "text/plain": [
       "array([0.04846765])"
      ]
     },
     "execution_count": 49,
     "metadata": {},
     "output_type": "execute_result"
    }
   ],
   "source": [
    "for col in bx_columns:\n",
    "  boxcox_trans = PowerTransformer(method=\"box-cox\",standardize=False)\n",
    "  churn_enriq['{}_box-cox'.format(col)] = boxcox_trans.fit_transform(churn_enriq[['numVotes_pos' if col == 'numVotes' else col]])\n",
    "\n",
    "boxcox_trans.lambdas_"
   ]
  },
  {
   "cell_type": "markdown",
   "metadata": {
    "id": "Yvkehs3mkwfT"
   },
   "source": [
    "d) Visualize novamente após a transformação"
   ]
  },
  {
   "cell_type": "code",
   "execution_count": null,
   "metadata": {
    "colab": {
     "base_uri": "https://localhost:8080/",
     "height": 542
    },
    "executionInfo": {
     "elapsed": 7,
     "status": "ok",
     "timestamp": 1643332669350,
     "user": {
      "displayName": "Matheus Scheffer",
      "photoUrl": "https://lh3.googleusercontent.com/a-/AOh14GglPDI7gdLFED26W1SJncCIZFA5A-5rjTBcxfjH=s64",
      "userId": "18314476337770992076"
     },
     "user_tz": 180
    },
    "id": "aeEjjtdrVOM8",
    "outputId": "2130a4a0-9940-4726-8d0e-3edc8f8e0dd8"
   },
   "outputs": [
    {
     "data": {
      "text/html": [
       "<html>\n",
       "<head><meta charset=\"utf-8\" /></head>\n",
       "<body>\n",
       "    <div>            <script src=\"https://cdnjs.cloudflare.com/ajax/libs/mathjax/2.7.5/MathJax.js?config=TeX-AMS-MML_SVG\"></script><script type=\"text/javascript\">if (window.MathJax) {MathJax.Hub.Config({SVG: {font: \"STIX-Web\"}});}</script>                <script type=\"text/javascript\">window.PlotlyConfig = {MathJaxConfig: 'local'};</script>\n",
       "        <script src=\"https://cdn.plot.ly/plotly-2.8.3.min.js\"></script>                <div id=\"8448f3bf-3fe3-463d-a528-5d7fabc327f9\" class=\"plotly-graph-div\" style=\"height:525px; width:100%;\"></div>            <script type=\"text/javascript\">                                    window.PLOTLYENV=window.PLOTLYENV || {};                                    if (document.getElementById(\"8448f3bf-3fe3-463d-a528-5d7fabc327f9\")) {                    Plotly.newPlot(                        \"8448f3bf-3fe3-463d-a528-5d7fabc327f9\",                        [{\"alignmentgroup\":\"True\",\"bingroup\":\"x\",\"hovertemplate\":\"qt_dias_diff_vote_median_box-cox=%{x}<br>count=%{y}<extra></extra>\",\"legendgroup\":\"\",\"marker\":{\"color\":\"#636efa\",\"pattern\":{\"shape\":\"\"}},\"name\":\"\",\"offsetgroup\":\"\",\"orientation\":\"v\",\"showlegend\":false,\"x\":[6.833475073824773,17.893925287332813,6.30238176533729,20.03860019823179,12.207507566604765,7.667529170290946,8.134474306083861,15.001660179268256,7.160728068787697,12.804810705874258,6.944714942203737,12.461383994020412,14.269153769810327,6.719926852189878,13.827603743638052,10.202167659055762,6.719926852189878,13.71938688570153,14.330614115013093,18.43817403302219,14.69150312715248,6.999506157198901,17.98153034168429,18.126114545551804,3.715615475877144,15.376484079732812,16.85190112018486,11.62068188934956,19.889842166140788,8.65217062943817,15.914504926362666,3.1070270291444952,19.09245419532694,2.1870887936748797,14.019335077037585,13.54360354012921,10.837621194024448,18.851158752863327,18.60504804839334,15.284053858954502,13.741129847900057,11.811908085408687,0.0,10.068342673391365,13.112229419810715,9.359211316179943,9.470221962774882,15.33961121918249,14.432195771873587,13.91329480515246,13.67574949616992,15.861921441105602,10.621207125663359,7.951968501390284,15.879478157896909,18.226289318833484,18.932113599176212,17.536815583818317,12.780719185938656,10.300969486583732,18.140476778179714,13.521395989577249,9.433415082541504,17.64210602194821,13.47682093555908,15.449838305345345,0.7882737174762975,10.235247975537467,12.386002786847145,18.687635286445303,18.4940539467767,12.828837055978447,14.269153769810327,17.01123148281096,14.905759436113192,11.757721820927259,13.609910185452138,13.204749121924374,20.03860019823179,12.258886032181847,14.88646948722197,12.386002786847145,12.436329704363914,11.703178785035568,11.998834770724256,13.71938688570153,13.454452770819039,12.486366222216217,20.03860019823179,17.996068285120455,17.323314058659346,10.300969486583732,6.833475073824773,15.449838305345345,10.837621194024448,17.952400769363,18.796892269974354,13.870545990117462,14.750392896326025,6.999506157198901,16.10512660483894,17.627122811734917,16.40996546349165,17.716734503588558,11.945851458619778,10.300969486583732,12.41120281640942,0.0,14.12421385020278,16.05347412293025,8.856188884965068,16.69026975098564,15.595013441175071,14.040402701546855,17.461018125019596,14.750392896326025,1.8023826314337892,13.08895128606474,5.347291789495695,9.757934696407593,6.364098808008324,11.757721820927259,7.951968501390284,17.41529964980123,10.068342673391365,12.41120281640942,14.248580375449288,13.1817073461374,16.4931513076259,13.018754867036138,9.897542059205271,17.536815583818317,7.85863603039383,5.5683884052893164,10.333613983296692,12.56088581153332,10.300969486583732,20.03860019823179,13.9558524130961,12.756562039761697,13.432030401214218,12.585585036469569,6.364098808008324,6.112660255052646,6.364098808008324,12.828837055978447,16.326142248514813,16.393252211031886,17.77609596022223,5.779646461372295,17.52169577766653,10.462787400462672,10.300969486583732,19.66344156390597,18.63263921918214,10.000502926680616,15.33961121918249,13.653854463303643,13.454452770819039,10.300969486583732,15.46809616170549,14.905759436113192,13.521395989577249,12.486366222216217,16.592150300947434,14.769945890894933,1.8023826314337892,12.708049017104289,14.145053080115213,11.998834770724256,10.300969486583732,13.065613083497276,12.181702031549685,11.811908085408687,3.8258865423679467,12.486366222216217,11.565219853063923,9.65141030742144,10.714702346987295,13.08895128606474,14.289683701345199,4.428402641251108,13.25065865713222,16.309300009824483,10.300969486583732,11.077782568120107,13.697593535561454,12.92429970968381,15.302606258507307,14.061424132781793,8.936063468264267,10.558235306678721,4.33412655348726,9.722603470763246,7.667529170290946,5.495840444354319,11.972384856005611,12.971651517199525,13.762822720591913,11.757721820927259,10.776406292380566,13.54360354012921,12.025201874751954,12.659267881715945,12.233235367087307,12.335381096646607,12.360729065786696,0.0,12.335381096646607,12.610214790674208,9.65141030742144,8.179272085110576,14.671795624230029,13.454452770819039,13.1817073461374,13.521395989577249,10.95862292123769,6.889376014842037,10.95862292123769,11.509378928694876,14.411963605107708,10.300969486583732,10.776406292380566,12.585585036469569,13.25065865713222,13.609910185452138,12.708049017104289,12.732338805761742,12.756562039761697,8.975644661632572,14.330614115013093,10.300969486583732,5.27119424096898,7.213460362722128,9.396412433543562,7.160728068787697,8.398585119145432,12.386002786847145,13.609910185452138,14.371373474301006,10.714702346987295,8.65217062943817,15.720411310043932,12.284460153667077,3.1070270291444952,12.585585036469569,13.135447880624179,10.300969486583732,13.296338654794887,0.0,11.195170552496707,5.347291789495695,8.484229529084363,12.92429970968381,10.13555941739181,8.856188884965068,10.95862292123769,12.828837055978447,0.0,9.897542059205271,0.0,7.85863603039383,2.1870887936748797,10.300969486583732,7.905481220547817,4.698975899408485,0.4368637812614721,13.36443465603588,11.509378928694876,12.077690295436167,10.300969486583732,13.112229419810715,6.112660255052646,4.520559034848813,1.8023826314337892,10.68366381729469,2.1870887936748797,6.833475073824773,12.103812913299178,8.734540254638816,7.715880108490763,10.300969486583732,9.65141030742144,17.323314058659346,9.396412433543562,8.398585119145432,12.12985532318115,13.25065865713222,11.368074356788828,14.371373474301006,10.95862292123769,1.350296077147012,13.204749121924374,10.300969486583732,5.422157182714063,13.631908129786948,13.762822720591913,14.22796328091166,12.258886032181847,6.944714942203737,10.589786289875375,9.79309200577498,5.347291789495695,12.828837055978447,9.65141030742144,9.862893568245374,10.102028001563793,10.300969486583732,11.757721820927259,7.569630178379453,7.213460362722128,14.22796328091166,8.134474306083861,6.889376014842037,12.659267881715945,10.300969486583732,10.300969486583732,5.347291789495695,7.569630178379453,6.30238176533729,10.300969486583732,8.526626199770353,10.102028001563793,9.054112697150414,8.56874554962622,5.639844977992261,6.364098808008324,6.603942959866207,7.2657083924363235,2.8294968314983584,16.376513364634324,14.207302246751828,15.595013441175071,11.107293002774572,20.03860019823179,10.300969486583732,7.569630178379453,11.730495276904552,14.145053080115213,2.8294968314983584,2.8294968314983584,14.082399630246012,11.62068188934956,12.436329704363914,10.366116459268493,10.300969486583732,6.112660255052646,18.64641145282911,17.6570699765442,16.190667498504585,9.131677733663654,6.112660255052646,14.532736422043689,11.757721820927259,18.878202684846435,10.868048341736195,20.03860019823179,18.521897624210627,14.330614115013093,9.65141030742144,17.597098368784845,17.77609596022223,15.096662067720308,14.082399630246012,10.300969486583732,6.364098808008324,16.258616243124422,15.039767583312708,10.68366381729469,13.432030401214218,18.701345757231344,19.025896815858644,13.521395989577249,8.355327491486666,7.213460362722128,17.33869625598722,15.738203962496966,18.424163659861428,18.353867005864554,9.828077582970199,14.31017040533435,18.140476778179714,19.458779297603126,12.335381096646607,13.762822720591913,16.722784225651033,14.82837678086288,13.296338654794887,9.09300642088575,4.428402641251108,11.481314288844796,6.719926852189878,11.048161425227018,12.971651517199525,12.461383994020412,10.95862292123769,8.179272085110576,7.053763383791526,4.138681665736731,9.396412433543562,10.714702346987295,6.719926852189878,11.018428499988836,7.811425759621819,11.339514578080326,11.396533313760832,1.8023826314337892,11.675771577349945,10.837621194024448,10.589786289875375,8.441550794073052,9.470221962774882,9.65141030742144,9.359211316179943,6.30238176533729,8.81588808789872,10.868048341736195,10.068342673391365,0.4368637812614721,8.484229529084363,6.485384370186455,10.333613983296692,9.359211316179943,1.8023826314337892,9.543258923742304,9.170129876245062,10.300969486583732,2.1870887936748797,6.1766867218062576,2.8294968314983584,10.300969486583732,11.757721820927259,10.268181362650257,10.95862292123769,9.284202573646132,10.300969486583732,7.317483429168922,10.837621194024448,11.253221008333899,8.734540254638816,10.300969486583732,11.018428499988836,7.951968501390284,10.068342673391365,4.428402641251108,9.359211316179943,4.237600704382758,9.170129876245062,10.202167659055762,1.8023826314337892,7.053763383791526,9.433415082541504,10.300969486583732,5.422157182714063,8.08935129415273,6.833475073824773,8.267915608017335,1.350296077147012,4.33412655348726,10.300969486583732,9.09300642088575,3.237543414003701,9.65141030742144,10.168938716008766,9.208366013986263,9.054112697150414,9.246389239237663,4.138681665736731,12.077690295436167,9.284202573646132,7.160728068787697,8.04389690865839,9.359211316179943,6.485384370186455,9.208366013986263,2.6811851955322066,3.8258865423679467,9.054112697150414,10.462787400462672,7.569630178379453,2.6811851955322066,10.068342673391365,1.5866565318014356,7.951968501390284,8.975644661632572,10.300969486583732,8.08935129415273,10.068342673391365,8.398585119145432,6.77699720649606,7.368796327439131,10.300969486583732,1.0873084192445688,7.763843002563251,10.102028001563793,2.361156992878367,11.253221008333899,10.589786289875375,6.30238176533729,7.160728068787697,8.936063468264267,6.719926852189878,7.85863603039383,10.589786289875375,5.11508473034649,11.13669378676634,5.034953781260857,9.543258923742304,9.506835715173915,0.0,4.428402641251108,2.8294968314983584,7.2657083924363235,7.85863603039383,5.27119424096898,6.485384370186455,10.034501603364244,10.300969486583732,3.601948957573243,10.13555941739181,9.054112697150414,7.618782012460989,9.615543770779324,4.428402641251108,3.8258865423679467,8.398585119145432,10.235247975537467,10.300969486583732,2.0015538356532967,10.462787400462672,9.246389239237663,10.462787400462672,7.667529170290946,10.300969486583732,6.112660255052646,11.919233897762005,7.667529170290946,11.282088847988657,3.601948957573243,9.932025111970589,6.112660255052646,6.364098808008324,3.363259463544699,8.223750590618092,2.8294968314983584,8.56874554962622,8.526626199770353,5.5683884052893164,4.610714098778349,9.862893568245374,5.495840444354319,4.953351865682152,0.7882737174762975,0.4368637812614721,1.5866565318014356,7.213460362722128,5.5683884052893164,3.1070270291444952,2.9712087604495556,10.300969486583732,11.424892359008979,11.165985961489678,9.433415082541504,12.077690295436167,11.972384856005611,9.966344742301153,14.12421385020278,12.284460153667077,10.7456160780235,10.235247975537467,11.89253148363824,12.486366222216217,2.1870887936748797,11.253221008333899,8.65217062943817,11.89253148363824,11.253221008333899,5.11508473034649,9.65141030742144,10.7456160780235,11.018428499988836,10.98858270141007,12.876696046949768,10.621207125663359,11.13669378676634,10.589786289875375,8.734540254638816,9.284202573646132,11.481314288844796,11.048161425227018,13.54360354012921,10.202167659055762,11.453152389385812,10.462787400462672,11.339514578080326,13.565758208454378,11.339514578080326,10.300969486583732,8.896246095210532,12.103812913299178,9.470221962774882,10.300969486583732,10.300969486583732,13.25065865713222,12.995234039867992,13.25065865713222,8.65217062943817,10.13555941739181,10.589786289875375,12.780719185938656,5.034953781260857,9.79309200577498,11.537347167848566,8.134474306083861,9.932025111970589,7.667529170290946,10.300969486583732,13.158607060207533,3.363259463544699,9.897542059205271,12.181702031549685,11.784859174653926,11.784859174653926,10.43070163185244,11.453152389385812,8.936063468264267,9.687096099635486,6.112660255052646,10.300969486583732,11.838869290478995,12.386002786847145,12.708049017104289,7.368796327439131,10.13555941739181,3.1070270291444952,11.339514578080326,13.697593535561454,9.932025111970589,8.936063468264267,9.579494117235983,11.282088847988657,8.734540254638816,10.68366381729469,7.763843002563251,14.082399630246012,11.919233897762005,13.91329480515246,8.936063468264267,11.368074356788828,7.368796327439131,9.932025111970589,9.131677733663654,8.398585119145432,9.615543770779324,11.972384856005611,6.889376014842037,9.615543770779324,11.481314288844796,12.155818155203269,11.811908085408687,11.048161425227018,8.311772755673495,10.589786289875375,11.253221008333899,10.837621194024448,3.601948957573243,8.311772755673495,9.897542059205271,9.897542059205271,10.898356894528991,5.848066685584467,9.897542059205271,11.59299781918051,11.018428499988836,10.300969486583732,12.780719185938656,7.160728068787697,6.047813376291378,13.112229419810715,12.756562039761697,10.268181362650257,13.135447880624179,10.652499185395627,8.04389690865839,8.134474306083861,8.734540254638816,7.317483429168922,10.300969486583732,6.603942959866207,5.848066685584467,7.763843002563251,6.944714942203737,5.422157182714063,5.11508473034649,6.603942959866207,10.300969486583732,16.087936664110437,2.8294968314983584,0.0,7.470077167489102,14.22796328091166,17.277043151932833,9.932025111970589,0.0,13.499135231051245,13.341792042460389,11.784859174653926,10.300969486583732,16.979545467238257,17.536815583818317,13.204749121924374,9.722603470763246,12.971651517199525,12.12985532318115,6.364098808008324,2.0015538356532967,4.785443401440851,13.25065865713222,15.33961121918249,11.224248569827916,9.170129876245062,8.65217062943817,9.932025111970589,11.396533313760832,14.612437594938372,10.300969486583732,10.300969486583732,16.803657191644337,16.173613458008614,10.300969486583732,12.756562039761697,10.300969486583732,8.775339859028191,14.082399630246012,13.296338654794887,10.300969486583732,13.870545990117462,11.339514578080326,12.92429970968381,10.300969486583732,10.300969486583732,15.358064086204083,8.311772755673495,10.807074250952319,3.363259463544699,12.386002786847145,12.585585036469569,13.042214411970818,12.92429970968381,14.612437594938372,13.977060198301187,17.56699613291973,12.610214790674208,10.000502926680616,13.827603743638052,5.422157182714063,10.462787400462672,13.204749121924374,17.215055843637842,4.610714098778349,11.945851458619778,12.077690295436167,5.710251401607326,12.995234039867992,14.248580375449288,10.235247975537467,12.077690295436167,7.470077167489102,16.85190112018486,7.368796327439131,16.05347412293025,12.876696046949768,13.870545990117462,12.461383994020412,8.734540254638816,13.158607060207533,10.776406292380566,10.714702346987295,13.36443465603588,10.068342673391365,2.8294968314983584,13.697593535561454,13.25065865713222,13.806059377045528,11.537347167848566,10.300969486583732,0.0,10.300969486583732,15.376484079732812,4.33412655348726,10.300969486583732,10.300969486583732,1.350296077147012,13.89194443657204,10.300969486583732,7.213460362722128,10.300969486583732,6.112660255052646,13.977060198301187,11.919233897762005,14.847778343547683,4.953351865682152,10.300969486583732,10.300969486583732,10.300969486583732,4.428402641251108,10.300969486583732,9.687096099635486,1.350296077147012,13.158607060207533,11.453152389385812,13.25065865713222,13.9558524130961,10.366116459268493,10.300969486583732,10.898356894528991,12.360729065786696,12.780719185938656,13.84909918645775,11.077782568120107,11.481314288844796,11.107293002774572,15.33961121918249,2.6811851955322066,10.776406292380566,10.300969486583732,9.170129876245062,10.807074250952319,10.868048341736195,9.79309200577498,3.4846044419569036,7.053763383791526,7.368796327439131,7.470077167489102,6.364098808008324,5.495840444354319,2.5254206728519764,6.485384370186455,6.30238176533729,3.1070270291444952,4.037210678144054,4.610714098778349,10.300969486583732,9.396412433543562,10.95862292123769,5.034953781260857,12.12985532318115,5.5683884052893164,6.603942959866207,8.04389690865839,8.65217062943817,8.896246095210532,10.300969486583732,8.856188884965068,10.300969486583732,10.837621194024448,10.898356894528991,6.485384370186455,9.131677733663654,10.300969486583732,5.5683884052893164,10.300969486583732,7.053763383791526,2.5254206728519764,10.49473729367302,7.053763383791526,9.208366013986263,9.284202573646132,4.785443401440851,9.65141030742144,7.715880108490763,7.419657546003811,6.719926852189878,10.7456160780235,9.208366013986263,9.687096099635486,6.30238176533729,10.168938716008766,10.300969486583732,5.848066685584467,2.5254206728519764,7.368796327439131,6.1766867218062576,2.5254206728519764,5.495840444354319,6.425092542714127,8.65217062943817,10.202167659055762,7.053763383791526,6.425092542714127,8.56874554962622,10.300969486583732,6.889376014842037,12.900529575486814,11.703178785035568,5.034953781260857,10.300969486583732,4.953351865682152,5.422157182714063,10.202167659055762,8.65217062943817,8.56874554962622,8.65217062943817,10.49473729367302,10.300969486583732,6.239918942773714,10.300969486583732,9.79309200577498,7.470077167489102,1.0873084192445688,5.848066685584467,6.239918942773714,2.1870887936748797,16.9318486651755,12.486366222216217,16.10512660483894,13.36443465603588,10.000502926680616,16.173613458008614,12.436329704363914,5.193811012303482,16.641318713469087,8.223750590618092,10.462787400462672,9.246389239237663,10.558235306678721,5.11508473034649,9.131677733663654,7.107499800282026,7.107499800282026,8.355327491486666,10.300969486583732,10.300969486583732,8.975644661632572,10.462787400462672,7.85863603039383,3.237543414003701,8.526626199770353,8.179272085110576,10.300969486583732,5.422157182714063,5.11508473034649,7.160728068787697,7.368796327439131,8.526626199770353,10.300969486583732,8.355327491486666,9.65141030742144,8.134474306083861,8.223750590618092,8.311772755673495,7.368796327439131,10.300969486583732,8.484229529084363,7.951968501390284,10.300969486583732,0.0,8.734540254638816,3.601948957573243,9.65141030742144,4.428402641251108,0.7882737174762975,1.0873084192445688,10.300969486583732,1.8023826314337892,9.506835715173915,10.300969486583732,9.01499324379185,6.364098808008324,7.368796327439131,8.08935129415273,4.610714098778349,7.160728068787697,7.053763383791526,10.300969486583732,6.719926852189878,3.8258865423679467,8.267915608017335,7.951968501390284,2.6811851955322066,6.719926852189878,6.1766867218062576,9.01499324379185,7.317483429168922,2.9712087604495556,7.368796327439131,6.1766867218062576,9.396412433543562,7.763843002563251,9.054112697150414,3.237543414003701,8.526626199770353,10.300969486583732,9.359211316179943,8.04389690865839,7.419657546003811,8.267915608017335,6.662247762739506,6.239918942773714,3.363259463544699,10.13555941739181,7.85863603039383,7.107499800282026,7.811425759621819,6.1766867218062576,7.213460362722128,6.662247762739506,7.569630178379453,8.04389690865839,6.77699720649606,2.9712087604495556,8.223750590618092,7.317483429168922,9.321808970365538,8.56874554962622,8.484229529084363,4.698975899408485,5.779646461372295,7.569630178379453,8.734540254638816,9.966344742301153,5.639844977992261,10.300969486583732,8.134474306083861,4.785443401440851,6.239918942773714,6.485384370186455,10.300969486583732,6.364098808008324,3.8258865423679467,5.710251401607326,8.398585119145432,4.138681665736731,8.179272085110576,8.856188884965068,8.896246095210532,10.589786289875375,4.237600704382758,5.710251401607326,7.811425759621819,6.239918942773714,7.520064916797131,2.1870887936748797,7.85863603039383,6.944714942203737,7.905481220547817,7.85863603039383,8.04389690865839,8.56874554962622,8.526626199770353,7.951968501390284,6.364098808008324,7.569630178379453,7.470077167489102,10.300969486583732,1.350296077147012,10.300969486583732,8.134474306083861,7.2657083924363235,7.520064916797131,8.04389690865839,8.08935129415273,6.364098808008324,8.56874554962622,7.763843002563251,10.300969486583732,10.300969486583732,14.612437594938372,14.22796328091166,12.461383994020412,13.78446579937464,15.020731770328052,12.683692201619143,13.08895128606474,13.977060198301187,15.190786447329815,8.441550794073052,5.710251401607326,3.4846044419569036,6.603942959866207,6.603942959866207,12.610214790674208,14.289683701345199,5.779646461372295,10.300969486583732,2.0015538356532967,13.67574949616992,8.441550794073052,6.603942959866207,10.102028001563793,11.757721820927259,13.91329480515246,13.934597372599368,13.71938688570153,8.267915608017335,10.13555941739181,8.526626199770353,13.158607060207533,12.852798687569031,13.341792042460389,14.532736422043689,13.741129847900057,10.300969486583732,13.204749121924374,10.300969486583732,13.135447880624179,2.5254206728519764,10.300969486583732,15.449838305345345,12.335381096646607,15.33961121918249,7.160728068787697,8.134474306083861,10.068342673391365,11.310853054194732,12.585585036469569,7.2657083924363235,13.341792042460389,12.335381096646607,14.040402701546855,10.300969486583732,12.92429970968381,13.89194443657204,4.428402641251108,14.145053080115213,5.848066685584467,11.784859174653926,7.85863603039383,14.411963605107708,10.300969486583732,13.89194443657204,13.387021687988057,7.811425759621819,5.034953781260857,10.300969486583732,6.30238176533729,11.811908085408687,12.025201874751954,12.900529575486814,14.061424132781793,11.648272875258488,12.284460153667077,10.13555941739181,12.233235367087307,13.387021687988057,2.9712087604495556,13.47682093555908,10.300969486583732,11.537347167848566,13.609910185452138,14.671795624230029,11.784859174653926,14.711171709070275,10.652499185395627,6.239918942773714,7.905481220547817,14.12421385020278,6.662247762739506,10.300969486583732,10.95862292123769,14.411963605107708,13.91329480515246,13.499135231051245,6.485384370186455,12.181702031549685,7.053763383791526,10.300969486583732,13.158607060207533,14.207302246751828,9.615543770779324,13.67574949616992,12.51127691942203,12.971651517199525,4.037210678144054,13.387021687988057,2.8294968314983584,15.077732561941788,12.780719185938656,10.235247975537467,10.300969486583732,2.361156992878367,1.350296077147012,10.300969486583732,10.300969486583732,4.237600704382758,10.300969486583732,12.41120281640942,6.112660255052646,10.300969486583732,3.715615475877144,8.69348522875336,7.2657083924363235,7.470077167489102,6.77699720649606,1.8023826314337892,6.662247762739506,5.5683884052893164,5.347291789495695,2.361156992878367,2.361156992878367,1.5866565318014356,1.350296077147012,2.5254206728519764,1.0873084192445688,2.0015538356532967,10.300969486583732,13.08895128606474,10.300969486583732,14.671795624230029,10.300969486583732,14.905759436113192,6.112660255052646,0.0,3.363259463544699,10.300969486583732,12.436329704363914,12.335381096646607,9.170129876245062,2.8294968314983584,7.667529170290946,10.776406292380566,5.710251401607326,10.300969486583732,6.112660255052646,11.757721820927259,8.81588808789872,9.79309200577498,0.0,10.300969486583732,7.951968501390284,5.347291789495695,6.833475073824773,5.848066685584467,5.27119424096898,0.0,4.138681665736731,2.1870887936748797,10.300969486583732,6.485384370186455,5.347291789495695,5.034953781260857,3.237543414003701,3.363259463544699,3.363259463544699,2.8294968314983584,0.0,10.300969486583732,3.715615475877144,10.300969486583732,2.5254206728519764,3.1070270291444952,10.300969486583732,10.300969486583732,7.419657546003811,17.1057596850861,16.224695138517077,20.03860019823179,3.715615475877144,13.741129847900057,20.03860019823179,16.258616243124422,20.03860019823179,13.870545990117462,11.310853054194732,16.10512660483894,20.03860019823179,12.876696046949768,20.03860019823179,20.03860019823179,14.847778343547683,17.849877562399787,13.58786031709912,20.03860019823179,16.13942439042276,11.310853054194732,11.310853054194732,20.03860019823179,11.310853054194732,13.762822720591913,7.85863603039383,12.233235367087307,5.5683884052893164,8.484229529084363,8.267915608017335,8.398585119145432,10.589786289875375,10.589786289875375,10.837621194024448,11.310853054194732,10.300969486583732,11.509378928694876,20.03860019823179,10.398478492226788,19.952032200530493,20.03860019823179,14.512710260453776,10.652499185395627,15.26546797408712,7.951968501390284,20.03860019823179,17.937809026944358,13.762822720591913,12.025201874751954,20.03860019823179,5.422157182714063,12.233235367087307,20.03860019823179,9.433415082541504,20.03860019823179,11.310853054194732,9.932025111970589,20.03860019823179,7.160728068787697,20.03860019823179,11.310853054194732,20.03860019823179,14.572667284813265,20.03860019823179,12.92429970968381,11.310853054194732,11.018428499988836,20.03860019823179,13.296338654794887,12.284460153667077,20.03860019823179,5.495840444354319,12.436329704363914,20.03860019823179,20.03860019823179,20.03860019823179,16.69026975098564,8.975644661632572,20.03860019823179,9.722603470763246,20.03860019823179,9.433415082541504,10.300969486583732,19.71409863612332,8.398585119145432,9.359211316179943,20.03860019823179,11.62068188934956,15.153240664393925,11.107293002774572,11.310853054194732,10.300969486583732,12.92429970968381,10.102028001563793,20.03860019823179,12.233235367087307,3.8258865423679467,17.215055843637842,18.410137032482822,9.054112697150414,7.85863603039383,20.03860019823179,12.207507566604765,16.070719207980265,17.52169577766653,19.012542514770086,18.63263921918214,10.300969486583732,19.510254169690672,20.03860019823179,12.900529575486814,20.03860019823179,18.4940539467767,7.569630178379453,18.154821738834528,20.03860019823179,8.398585119145432,20.03860019823179,10.034501603364244,20.03860019823179,20.03860019823179,20.03860019823179,20.03860019823179,20.03860019823179,20.03860019823179,10.300969486583732,18.240531757779742,12.536116609845607,17.627122811734917,20.03860019823179,10.300969486583732,13.827603743638052,20.03860019823179,20.03860019823179,14.411963605107708,20.03860019823179,20.03860019823179,17.790889431581892,20.03860019823179,13.341792042460389,4.428402641251108,18.46614620980864,20.03860019823179,1.0873084192445688,2.5254206728519764,20.03860019823179,19.03923678945225,20.03860019823179,20.03860019823179,10.300969486583732,15.595013441175071,14.789460742956667,20.03860019823179,14.769945890894933,20.03860019823179,5.848066685584467,20.03860019823179,18.72872075364705,20.03860019823179,20.03860019823179,12.486366222216217,16.376513364634324,20.03860019823179,20.03860019823179,20.03860019823179,9.897542059205271,20.03860019823179,6.364098808008324,20.03860019823179,20.03860019823179,16.85190112018486,20.03860019823179,17.292487578402238,20.03860019823179,18.039575419695165,7.317483429168922,12.876696046949768,10.300969486583732,20.03860019823179,18.78328819047797,8.04389690865839,17.849877562399787,20.03860019823179,20.03860019823179,20.03860019823179,20.03860019823179,12.077690295436167,15.096662067720308,18.039575419695165,11.675771577349945,0.4368637812614721,20.03860019823179,13.998220997380272,11.481314288844796,15.153240664393925,19.52309036225716,10.300969486583732,13.741129847900057,18.74238536705249,20.03860019823179,12.335381096646607,12.233235367087307,14.925012545882213,17.41529964980123,17.168343218953897,15.394871349912938,17.923199237513494,20.03860019823179,17.445798768930132,12.92429970968381,15.595013441175071,13.806059377045528,14.248580375449288,16.85190112018486,8.856188884965068,14.371373474301006,6.047813376291378,17.627122811734917,14.411963605107708,7.667529170290946,19.927192024889756,6.833475073824773,18.66016817874698,10.268181362650257,16.359748823291397,12.708049017104289,9.396412433543562,17.582057007355772,13.112229419810715,14.652049001674255,15.648938706632835,10.589786289875375,11.048161425227018,18.972393249358994,10.837621194024448,6.603942959866207,10.95862292123769,10.7456160780235,12.386002786847145,13.22773276707158,10.13555941739181,2.6811851955322066,13.58786031709912,7.951968501390284,11.865743517300611,15.001660179268256,12.634775574297974,8.896246095210532,14.82837678086288,1.0873084192445688,10.300969486583732,10.300969486583732,13.741129847900057,17.01123148281096,11.018428499988836,11.396533313760832,14.944228996864496,10.300969486583732,13.112229419810715,4.428402641251108,10.300969486583732,6.485384370186455,10.300969486583732,12.207507566604765,7.667529170290946,0.7882737174762975,9.359211316179943,13.58786031709912,9.79309200577498,4.698975899408485,9.65141030742144,8.134474306083861,1.8023826314337892,13.409553487746253,9.65141030742144,7.951968501390284,9.687096099635486,10.300969486583732,13.042214411970818,10.300969486583732,14.612437594938372,10.526552781039092,7.763843002563251,10.300969486583732,13.112229419810715,13.78446579937464,11.424892359008979,7.951968501390284,7.470077167489102,4.785443401440851,3.1070270291444952,3.4846044419569036,2.1870887936748797,13.934597372599368,14.963408967977584,13.065613083497276,10.300969486583732,13.135447880624179,3.9330112946805653,4.428402641251108,14.867142517439545,9.687096099635486,10.300969486583732,0.4368637812614721,9.579494117235983,10.300969486583732,10.300969486583732,3.8258865423679467,4.237600704382758,10.300969486583732,12.971651517199525,14.963408967977584,17.864578455286892,13.432030401214218,10.7456160780235,10.300969486583732,17.835158273042936,5.422157182714063,10.398478492226788,15.826720727029523,0.0,7.107499800282026,10.034501603364244,13.387021687988057,10.300969486583732,10.300969486583732,5.848066685584467,6.889376014842037,10.837621194024448,9.359211316179943,6.889376014842037,14.330614115013093,14.082399630246012,2.9712087604495556,9.321808970365538,9.054112697150414,0.0,14.351015061596,12.051486831393568,13.135447880624179,11.998834770724256,8.896246095210532,11.165985961489678,13.565758208454378,8.179272085110576,14.12421385020278,8.734540254638816,1.5866565318014356,0.0,9.284202573646132,8.975644661632572,6.239918942773714,1.5866565318014356,10.333613983296692,10.300969486583732,8.134474306083861,10.68366381729469,7.213460362722128,10.462787400462672,8.179272085110576,5.639844977992261,9.65141030742144,11.396533313760832,11.077782568120107,9.687096099635486,10.300969486583732,10.300969486583732,10.300969486583732,10.300969486583732,5.639844977992261,6.889376014842037,3.1070270291444952,1.5866565318014356,10.300969486583732,10.398478492226788,11.339514578080326,10.300969486583732,13.27352716376607,5.779646461372295,12.948006881255422,11.339514578080326,10.300969486583732,10.300969486583732,5.495840444354319,8.610592194937505,8.526626199770353,2.6811851955322066,14.207302246751828,11.018428499988836,12.995234039867992,10.300969486583732,12.852798687569031,9.579494117235983,7.053763383791526,13.204749121924374,4.785443401440851,2.8294968314983584,0.0,10.300969486583732,9.131677733663654,6.833475073824773,10.300969486583732,5.11508473034649,11.537347167848566,10.300969486583732,12.585585036469569,13.78446579937464,12.971651517199525,11.865743517300611,13.870545990117462,10.398478492226788,4.428402641251108,13.158607060207533,10.300969486583732,11.730495276904552,12.995234039867992,10.202167659055762,11.396533313760832,11.59299781918051,1.350296077147012,11.424892359008979,13.91329480515246,9.170129876245062,11.59299781918051,11.453152389385812,11.424892359008979,11.537347167848566,10.300969486583732,13.71938688570153,14.532736422043689,11.537347167848566,10.300969486583732,11.481314288844796,14.612437594938372,11.481314288844796,4.610714098778349,11.59299781918051,12.461383994020412,11.253221008333899,10.000502926680616,12.025201874751954,4.428402641251108,11.282088847988657,3.8258865423679467,9.65141030742144,6.30238176533729,10.43070163185244,10.300969486583732,11.757721820927259,11.757721820927259,11.481314288844796,11.165985961489678,5.915546522843642,11.253221008333899,11.453152389385812,11.509378928694876,9.579494117235983,0.0,10.837621194024448,11.919233897762005,10.621207125663359,10.068342673391365,3.8258865423679467,1.8023826314337892,10.300969486583732,7.951968501390284,4.953351865682152,8.179272085110576,10.928548033582363,11.537347167848566,10.7456160780235,9.543258923742304,8.484229529084363,12.683692201619143,12.077690295436167,10.868048341736195,12.051486831393568,0.4368637812614721,11.048161425227018,10.300969486583732,12.900529575486814,9.506835715173915,6.485384370186455,13.432030401214218,12.56088581153332,9.543258923742304,9.687096099635486,5.710251401607326,13.22773276707158,14.186597031403432,10.300969486583732,11.565219853063923,11.509378928694876,13.065613083497276,14.145053080115213,12.610214790674208,10.168938716008766,3.237543414003701,10.068342673391365,11.509378928694876,4.698975899408485,12.025201874751954,11.453152389385812,5.710251401607326,3.8258865423679467,8.08935129415273,5.27119424096898,0.4368637812614721,2.5254206728519764,0.7882737174762975,8.08935129415273,11.945851458619778,1.8023826314337892,2.1870887936748797,9.897542059205271,10.300969486583732,11.919233897762005,10.837621194024448,2.6811851955322066,11.62068188934956,4.870207492607302,3.715615475877144,11.077782568120107,13.065613083497276,12.025201874751954,10.807074250952319,10.589786289875375,2.361156992878367,14.391689580373107,4.785443401440851,12.41120281640942,9.862893568245374,12.12985532318115,5.034953781260857,3.715615475877144,10.333613983296692,11.310853054194732,7.569630178379453,12.181702031549685,10.43070163185244,10.300969486583732,13.387021687988057,4.428402641251108,0.4368637812614721,3.363259463544699,7.213460362722128,12.92429970968381,0.4368637812614721,11.648272875258488,11.919233897762005,4.610714098778349,11.018428499988836,6.112660255052646,1.8023826314337892,10.300969486583732,3.601948957573243,13.135447880624179,11.424892359008979,12.181702031549685,4.698975899408485,12.948006881255422,6.485384370186455,10.300969486583732,11.919233897762005,5.982118501922462,11.481314288844796,5.034953781260857,7.667529170290946,7.715880108490763,10.300969486583732,11.998834770724256,10.300969486583732,8.134474306083861,14.371373474301006,5.982118501922462,8.267915608017335,8.775339859028191,8.441550794073052,11.59299781918051,10.928548033582363,10.300969486583732,11.757721820927259,11.565219853063923,13.78446579937464,6.425092542714127,9.966344742301153,11.972384856005611,13.204749121924374,14.207302246751828,12.335381096646607,11.368074356788828,6.999506157198901,11.165985961489678,0.4368637812614721,11.368074356788828,10.235247975537467,6.239918942773714,10.398478492226788,7.998104819974245,9.359211316179943,8.134474306083861,10.300969486583732,9.862893568245374,10.7456160780235,13.018754867036138,11.368074356788828,11.339514578080326,12.536116609845607,12.585585036469569,11.424892359008979,10.837621194024448,6.364098808008324,8.936063468264267,11.282088847988657,3.237543414003701,10.7456160780235,14.082399630246012,13.54360354012921,12.41120281640942,10.13555941739181,2.0015538356532967,14.612437594938372,12.077690295436167,2.1870887936748797,8.355327491486666,4.237600704382758,6.047813376291378,13.065613083497276,14.186597031403432,9.284202573646132,12.258886032181847,12.971651517199525,10.300969486583732,10.300969486583732,10.300969486583732,1.0873084192445688,7.2657083924363235,6.833475073824773,10.300969486583732,9.284202573646132,11.648272875258488,8.526626199770353,10.300969486583732,4.237600704382758,0.7882737174762975,14.145053080115213,8.267915608017335,9.208366013986263,5.639844977992261,12.828837055978447,0.7882737174762975,13.870545990117462,9.359211316179943,14.944228996864496,12.486366222216217,15.228195123937985,12.756562039761697,15.20950784347984,14.22796328091166,11.282088847988657,14.207302246751828,14.925012545882213,11.13669378676634,12.971651517199525,8.267915608017335,10.807074250952319,14.289683701345199,10.300969486583732,15.431548315307044,14.532736422043689,11.972384856005611,12.12985532318115,12.309958316041548,13.91329480515246,13.432030401214218,11.224248569827916,10.102028001563793,13.521395989577249,14.963408967977584,12.025201874751954,15.431548315307044,12.876696046949768,1.350296077147012,13.609910185452138,15.020731770328052,11.89253148363824,15.33961121918249,11.368074356788828,9.543258923742304,13.653854463303643,14.632263059218282,14.612437594938372,11.224248569827916,12.436329704363914,6.603942959866207,9.433415082541504,10.714702346987295,7.520064916797131,6.1766867218062576,18.53579555845478,11.865743517300611,8.311772755673495,11.396533313760832,12.155818155203269,18.851158752863327,15.394871349912938,8.81588808789872,13.1817073461374,12.155818155203269,13.521395989577249,12.536116609845607,10.7456160780235,4.520559034848813,7.951968501390284,14.371373474301006,11.811908085408687,9.687096099635486,9.932025111970589,14.552722026664096,16.69026975098564,12.181702031549685,9.897542059205271,12.486366222216217,11.945851458619778,8.734540254638816,11.919233897762005,14.632263059218282,14.10332945110253,10.300969486583732,11.703178785035568,12.852798687569031,15.77369958303433,10.068342673391365,9.722603470763246,12.284460153667077,7.998104819974245,8.81588808789872,13.432030401214218,15.61301935225345,4.870207492607302,13.565758208454378,11.784859174653926,9.687096099635486,7.715880108490763,14.351015061596,12.828837055978447,10.300969486583732,16.01890060820903,9.208366013986263,14.145053080115213,13.22773276707158,15.413226045787026,13.54360354012921,14.391689580373107,11.310853054194732,14.472535415476932,8.484229529084363,8.936063468264267,15.001660179268256,3.1070270291444952,12.828837055978447,5.848066685584467,11.13669378676634,7.998104819974245,3.237543414003701,8.267915608017335,11.972384856005611,6.944714942203737,15.413226045787026,14.82837678086288,12.610214790674208,12.41120281640942,15.98421519654724,15.486322029132998,9.321808970365538,4.610714098778349,10.000502926680616,10.168938716008766,13.806059377045528,13.065613083497276,9.131677733663654,14.49264332962115,4.428402641251108,13.521395989577249,12.92429970968381,12.683692201619143,10.49473729367302,15.77369958303433,6.603942959866207,8.69348522875336,10.898356894528991,8.69348522875336,12.56088581153332,10.202167659055762,9.615543770779324,11.13669378676634,14.59257240523492,9.932025111970589,9.79309200577498,13.934597372599368,14.982552636736367,10.13555941739181,10.034501603364244,9.208366013986263,13.697593535561454,13.91329480515246,9.131677733663654,7.419657546003811,14.452386302135595,11.838869290478995,13.204749121924374,9.208366013986263,8.223750590618092,14.808937643220167,9.09300642088575,9.862893568245374,13.741129847900057,11.565219853063923,8.896246095210532,14.750392896326025,14.289683701345199,11.077782568120107,7.951968501390284,10.300969486583732,8.223750590618092,4.953351865682152,6.485384370186455,11.59299781918051,10.300969486583732,11.811908085408687,10.068342673391365,10.300969486583732,7.998104819974245,12.436329704363914,6.425092542714127,8.856188884965068,7.160728068787697,8.56874554962622,10.300969486583732,2.1870887936748797,8.355327491486666,13.25065865713222,4.237600704382758,7.569630178379453,12.360729065786696,11.757721820927259,12.025201874751954,0.7882737174762975,1.0873084192445688,5.639844977992261,11.396533313760832,7.520064916797131,9.966344742301153,8.267915608017335,3.363259463544699,10.300969486583732,0.7882737174762975,0.0,2.8294968314983584,3.8258865423679467,4.037210678144054,4.037210678144054,3.363259463544699,3.1070270291444952,3.237543414003701,3.237543414003701,3.237543414003701,2.361156992878367,2.8294968314983584,2.8294968314983584,10.300969486583732,10.300969486583732,14.532736422043689,17.1057596850861,10.898356894528991,17.354057853144386,10.300969486583732,14.207302246751828,13.432030401214218,16.40996546349165,8.65217062943817,16.657659756657807,4.610714098778349,10.300969486583732,7.2657083924363235,13.762822720591913,8.775339859028191,16.087936664110437,11.59299781918051,13.762822720591913,13.018754867036138,18.480108109417216,9.054112697150414,11.537347167848566,15.228195123937985,12.876696046949768,12.852798687569031,16.722784225651033,13.934597372599368,14.69150312715248,16.787529471539933,17.445798768930132,14.512710260453776,15.228195123937985,8.223750590618092,16.526249952458812,14.789460742956667,13.341792042460389,16.722784225651033,17.230584257453994,10.300969486583732,15.115556475719913,10.652499185395627,10.300969486583732,10.300969486583732,13.432030401214218,10.300969486583732,8.69348522875336,13.998220997380272,7.160728068787697,10.300969486583732,17.384719529672005,8.311772755673495,10.462787400462672,13.018754867036138,11.195170552496707,0.4368637812614721,7.2657083924363235,14.411963605107708,4.610714098778349,6.544994689142096,12.181702031549685,10.589786289875375,6.77699720649606,4.428402641251108,10.202167659055762,10.300969486583732,9.01499324379185,8.04389690865839,4.428402641251108,10.898356894528991,1.350296077147012,10.300969486583732,10.300969486583732,4.610714098778349,2.8294968314983584,0.0,10.300969486583732,0.4368637812614721,10.300969486583732,10.398478492226788,10.300969486583732,11.253221008333899,13.112229419810715,12.025201874751954,11.919233897762005,13.018754867036138,13.25065865713222,11.509378928694876,11.919233897762005,11.453152389385812,12.335381096646607,9.470221962774882,11.537347167848566,12.486366222216217,12.025201874751954,12.386002786847145,0.4368637812614721,13.432030401214218,12.386002786847145,11.048161425227018,12.756562039761697,12.335381096646607,12.486366222216217,11.282088847988657,11.730495276904552,12.732338805761742,12.233235367087307,12.461383994020412,12.610214790674208,11.62068188934956,12.155818155203269,12.155818155203269,14.391689580373107,12.852798687569031,11.811908085408687,11.195170552496707,11.165985961489678,12.284460153667077,11.453152389385812,13.521395989577249,11.424892359008979,12.181702031549685,9.65141030742144,11.282088847988657,11.253221008333899,12.207507566604765,11.195170552496707,8.223750590618092,10.558235306678721,14.472535415476932,15.376484079732812,16.559249363126195,14.12421385020278,14.730801566992348,15.879478157896909,13.998220997380272,16.96366898484701,18.382034820557358,19.52309036225716,19.458779297603126,18.126114545551804,17.672014739016284,6.944714942203737,16.4931513076259,11.368074356788828,15.228195123937985,8.975644661632572,13.018754867036138,13.9558524130961,11.018428499988836,5.5683884052893164,13.27352716376607,9.433415082541504,13.432030401214218,13.135447880624179,13.25065865713222,17.966974521972475,15.115556475719913,7.2657083924363235,19.4329633240625,11.195170552496707,14.411963605107708,16.81976164915822,3.237543414003701,13.432030401214218,18.796892269974354,6.364098808008324,10.714702346987295,15.20950784347984,18.687635286445303,10.300969486583732,5.27119424096898,14.572667284813265,12.971651517199525,13.9558524130961,11.537347167848566,14.88646948722197,13.409553487746253,15.284053858954502,12.828837055978447,7.905481220547817,6.662247762739506,6.425092542714127,8.484229529084363,7.053763383791526,6.719926852189878,8.975644661632572,3.1070270291444952,8.267915608017335,5.422157182714063,5.034953781260857,4.953351865682152,9.433415082541504,10.300969486583732,13.432030401214218,10.300969486583732,1.8023826314337892,0.0,10.300969486583732,5.915546522843642,0.0,10.300969486583732,10.300969486583732,2.5254206728519764,7.763843002563251,7.905481220547817,9.131677733663654,0.7882737174762975,10.300969486583732,10.268181362650257,11.757721820927259,11.648272875258488,11.945851458619778,1.8023826314337892,10.398478492226788,4.428402641251108,12.634775574297974,9.359211316179943,10.300969486583732,2.1870887936748797,3.601948957573243,9.543258923742304,8.896246095210532,10.526552781039092,2.1870887936748797,10.300969486583732,3.363259463544699,1.350296077147012,2.361156992878367,10.13555941739181,2.5254206728519764,10.837621194024448,10.300969486583732,2.6811851955322066,3.601948957573243,2.361156992878367,3.1070270291444952,1.0873084192445688,1.350296077147012,1.0873084192445688,10.300969486583732,10.300969486583732,2.9712087604495556,10.300969486583732,3.1070270291444952,10.300969486583732,0.4368637812614721,1.5866565318014356,1.8023826314337892,1.0873084192445688,11.282088847988657,12.181702031549685,12.181702031549685,10.776406292380566,8.04389690865839,12.486366222216217,11.62068188934956,9.79309200577498,12.659267881715945,11.165985961489678,12.900529575486814,10.714702346987295,7.85863603039383,11.224248569827916,8.81588808789872,11.481314288844796,11.62068188934956,12.360729065786696,10.776406292380566,12.634775574297974,10.300969486583732,13.296338654794887,11.865743517300611,13.499135231051245,12.51127691942203,14.982552636736367,10.589786289875375,13.9558524130961,13.58786031709912,14.165847391153326,12.585585036469569,13.609910185452138,11.648272875258488,11.703178785035568,13.84909918645775,12.025201874751954,14.452386302135595,14.165847391153326,11.62068188934956,9.470221962774882,12.780719185938656,11.998834770724256,9.359211316179943,10.526552781039092,9.862893568245374,7.85863603039383,7.667529170290946,10.202167659055762,1.5866565318014356,2.8294968314983584,13.89194443657204,10.898356894528991,13.54360354012921,10.300969486583732,15.595013441175071,14.512710260453776,17.199506248977112,11.865743517300611,15.20950784347984,8.65217062943817,15.153240664393925,15.077732561941788,12.181702031549685,15.302606258507307,14.671795624230029,9.01499324379185,13.71938688570153,13.387021687988057,17.13709456680483,16.739005867210235,15.228195123937985,9.966344742301153,16.087936664110437,16.275537111749408,16.803657191644337,16.476564531884367,16.476564531884367,16.224695138517077,10.300969486583732,10.95862292123769,12.181702031549685,12.876696046949768,16.624953517876037,12.461383994020412,15.228195123937985,14.632263059218282,13.91329480515246,10.652499185395627,15.94941695210359,14.082399630246012,6.889376014842037,14.69150312715248,15.68473567040948,17.627122811734917,12.995234039867992,16.947770078029688,14.371373474301006,16.979545467238257,14.248580375449288,15.172030774903178,15.190786447329815,8.355327491486666,10.300969486583732,12.181702031549685,15.486322029132998,7.905481220547817,11.424892359008979,11.945851458619778,15.595013441175071,13.653854463303643,10.300969486583732,13.998220997380272,16.10512660483894,15.486322029132998,3.363259463544699,10.300969486583732,16.81976164915822,1.350296077147012,12.659267881715945,6.485384370186455,0.7882737174762975,13.741129847900057,15.039767583312708,4.428402641251108,9.284202573646132,16.526249952458812,14.925012545882213,13.341792042460389,10.300969486583732,16.122289142934395,14.963408967977584,10.714702346987295,10.300969486583732,14.12421385020278,17.627122811734917,14.061424132781793,16.05347412293025,14.69150312715248,13.27352716376607,10.13555941739181,13.387021687988057,14.145053080115213,10.300969486583732,12.207507566604765,10.300969486583732,13.67574949616992,12.585585036469569,9.932025111970589,11.282088847988657,12.207507566604765,8.56874554962622,14.59257240523492,12.536116609845607,14.31017040533435,8.311772755673495,14.10332945110253,12.360729065786696,14.145053080115213,16.575712093927848,10.300969486583732,14.248580375449288,7.618782012460989,16.526249952458812,16.326142248514813,15.522678370944828,16.224695138517077,10.300969486583732,1.8023826314337892,15.449838305345345,9.722603470763246,13.54360354012921,13.387021687988057,15.20950784347984,16.509713082265762,5.422157182714063,17.121437942878007,15.738203962496966,12.756562039761697,1.5866565318014356,13.78446579937464,16.722784225651033,17.369398920909934,15.33961121918249,16.722784225651033,17.52169577766653,17.230584257453994,9.543258923742304,15.630994395511927,10.837621194024448,14.532736422043689,17.384719529672005,12.585585036469569,12.486366222216217,14.612437594938372,15.24684844808039,6.485384370186455,10.462787400462672,14.944228996864496,15.001660179268256,6.239918942773714,14.69150312715248,14.371373474301006,13.870545990117462,16.771378402258303,15.376484079732812,12.536116609845607,16.376513364634324,15.33961121918249,10.366116459268493,13.67574949616992,4.520559034848813,5.27119424096898,13.827603743638052,12.971651517199525,11.998834770724256,16.85190112018486,13.341792042460389,14.925012545882213,15.284053858954502,4.138681665736731,8.69348522875336,8.56874554962622,14.019335077037585,7.213460362722128,4.953351865682152,10.300969486583732,15.844335672122964,15.826720727029523,8.81588808789872,13.387021687988057,14.88646948722197,5.710251401607326,5.11508473034649,4.237600704382758,16.9318486651755,10.300969486583732,0.0,13.296338654794887,15.321125327410778,11.757721820927259,8.179272085110576,16.476564531884367,8.65217062943817,13.870545990117462,14.963408967977584,10.300969486583732,12.386002786847145,13.018754867036138,13.870545990117462,4.785443401440851,16.459952657780534,17.384719529672005,11.865743517300611,10.300969486583732,13.22773276707158,16.803657191644337,10.13555941739181,15.33961121918249,0.7882737174762975,9.506835715173915,9.579494117235983,14.165847391153326,14.411963605107708,3.237543414003701,14.082399630246012,15.449838305345345,17.686940372521235,15.576976525626725,12.852798687569031,14.925012545882213,10.300969486583732,14.351015061596,10.558235306678721,16.173613458008614,11.481314288844796,10.300969486583732,0.7882737174762975,16.326142248514813,10.300969486583732,6.544994689142096,11.537347167848566,15.26546797408712,7.470077167489102,3.601948957573243,16.89993799251161,10.000502926680616,14.512710260453776,14.532736422043689,14.572667284813265,12.804810705874258,10.300969486583732,17.506556195529644,11.509378928694876,7.520064916797131,13.065613083497276,15.058767790275779,10.300969486583732,16.4931513076259,10.300969486583732,15.595013441175071,16.426653222383003,15.540809129624115,17.183935399035395,14.186597031403432,13.112229419810715,14.847778343547683,17.354057853144386,14.769945890894933,14.12421385020278,8.56874554962622,15.68473567040948,15.70258858967578,6.833475073824773,10.462787400462672,12.181702031549685,6.047813376291378,14.391689580373107,9.65141030742144,12.360729065786696,6.833475073824773,10.300969486583732,10.95862292123769,1.350296077147012,15.70258858967578,17.199506248977112,13.296338654794887,14.12421385020278,4.138681665736731,15.449838305345345,16.292431665663926,12.436329704363914,17.215055843637842,7.107499800282026,15.153240664393925,13.9558524130961,9.828077582970199,14.88646948722197,8.775339859028191,6.77699720649606,0.0,5.982118501922462,6.047813376291378,7.107499800282026,10.300969486583732,10.300969486583732,10.300969486583732,10.300969486583732,10.300969486583732,10.300969486583732,10.300969486583732,10.300969486583732,10.300969486583732,10.300969486583732,10.300969486583732,10.300969486583732,10.300969486583732,10.300969486583732,10.300969486583732,10.300969486583732,10.300969486583732,10.300969486583732,10.300969486583732,10.300969486583732,10.300969486583732,10.300969486583732,10.300969486583732,10.300969486583732,10.300969486583732,10.300969486583732,10.300969486583732,10.300969486583732,10.300969486583732,0.0,0.0,10.300969486583732,10.300969486583732,10.300969486583732,10.300969486583732,10.300969486583732,10.300969486583732,10.300969486583732,10.300969486583732,10.300969486583732,10.300969486583732,10.300969486583732,10.300969486583732,10.300969486583732,10.300969486583732,10.300969486583732,10.300969486583732,10.300969486583732,10.300969486583732,10.300969486583732,10.300969486583732,10.300969486583732,10.300969486583732,10.300969486583732,10.300969486583732,10.300969486583732,10.300969486583732,2.5254206728519764,10.300969486583732,10.300969486583732,12.732338805761742,10.300969486583732,2.9712087604495556,6.425092542714127,11.424892359008979,8.734540254638816,10.98858270141007,3.4846044419569036,15.096662067720308,10.300969486583732,5.347291789495695,10.300969486583732,15.115556475719913,9.579494117235983,12.659267881715945,14.572667284813265,3.9330112946805653,14.730801566992348,9.054112697150414,11.972384856005611,4.785443401440851,9.359211316179943,10.300969486583732,10.95862292123769,12.971651517199525,15.190786447329815,6.112660255052646,8.311772755673495,10.300969486583732,15.77369958303433,3.8258865423679467,9.722603470763246,5.495840444354319,10.898356894528991,16.087936664110437,14.411963605107708,0.0,15.228195123937985,7.951968501390284,6.112660255052646,12.804810705874258,5.5683884052893164,11.865743517300611,12.12985532318115,16.592150300947434,2.1870887936748797,6.239918942773714,14.963408967977584,14.452386302135595,7.2657083924363235,5.710251401607326,10.068342673391365,5.422157182714063,12.155818155203269,13.499135231051245,13.08895128606474,14.082399630246012,14.572667284813265,5.11508473034649,10.7456160780235,15.321125327410778,7.213460362722128,6.239918942773714,5.193811012303482,7.85863603039383,5.710251401607326,7.053763383791526,13.89194443657204,10.202167659055762,4.037210678144054,14.10332945110253,13.204749121924374,14.49264332962115,14.49264332962115,6.833475073824773,6.944714942203737,7.107499800282026,10.300969486583732,14.432195771873587,8.936063468264267,8.04389690865839,7.905481220547817,14.186597031403432,11.165985961489678,10.714702346987295,10.98858270141007,10.300969486583732,13.741129847900057,4.870207492607302,13.454452770819039,11.565219853063923,15.46809616170549,7.368796327439131,2.8294968314983584,6.1766867218062576,14.040402701546855,16.915904664194077,15.190786447329815,12.876696046949768,3.8258865423679467,14.411963605107708,10.621207125663359,5.422157182714063,2.9712087604495556,8.936063468264267,12.386002786847145,10.13555941739181,8.56874554962622,2.8294968314983584,13.71938688570153,0.0,6.425092542714127,12.103812913299178,10.7456160780235,8.56874554962622,10.300969486583732,8.398585119145432,4.870207492607302,3.363259463544699,6.662247762739506,4.237600704382758,12.780719185938656,10.300969486583732,9.687096099635486,7.520064916797131,3.601948957573243,3.601948957573243,3.715615475877144,3.9330112946805653,3.601948957573243,1.0873084192445688,3.9330112946805653,3.8258865423679467,3.4846044419569036,2.0015538356532967,4.237600704382758,3.715615475877144,2.0015538356532967,3.715615475877144,3.1070270291444952,3.8258865423679467,4.33412655348726,0.0,4.037210678144054,3.715615475877144,2.8294968314983584,3.8258865423679467,4.237600704382758,3.9330112946805653,3.9330112946805653,3.601948957573243,4.138681665736731,3.363259463544699,3.601948957573243,0.0,3.601948957573243,3.8258865423679467,3.9330112946805653,2.1870887936748797,3.601948957573243,4.037210678144054,3.8258865423679467,1.350296077147012,4.33412655348726,0.7882737174762975,4.33412655348726,3.715615475877144,11.919233897762005,4.037210678144054,3.237543414003701,3.601948957573243,3.4846044419569036,4.237600704382758,3.715615475877144,3.601948957573243,3.4846044419569036,3.4846044419569036,3.1070270291444952,0.7882737174762975,3.601948957573243,3.363259463544699,3.601948957573243,3.601948957573243,1.0873084192445688,1.8023826314337892,3.601948957573243,3.9330112946805653,3.363259463544699,3.363259463544699,3.8258865423679467,1.8023826314337892,10.300969486583732,3.601948957573243,3.4846044419569036,3.1070270291444952,1.8023826314337892,2.8294968314983584,1.350296077147012,1.5866565318014356,3.601948957573243,3.1070270291444952,2.8294968314983584,3.1070270291444952,4.037210678144054,10.300969486583732,3.8258865423679467,3.1070270291444952,3.601948957573243,3.601948957573243,3.237543414003701,3.237543414003701,1.350296077147012,2.5254206728519764,13.341792042460389,16.915904664194077,13.84909918645775,6.603942959866207,7.715880108490763,1.350296077147012,13.204749121924374,13.296338654794887,12.634775574297974,12.610214790674208,12.610214790674208,12.659267881715945,12.683692201619143,13.387021687988057,17.01123148281096,13.409553487746253,12.804810705874258,12.12985532318115,11.537347167848566,11.396533313760832,8.65217062943817,9.131677733663654,10.49473729367302,10.13555941739181,10.300969486583732,0.0,10.300969486583732,0.4368637812614721,4.520559034848813,6.047813376291378,6.364098808008324,10.898356894528991,10.868048341736195,11.648272875258488,8.484229529084363,13.9558524130961,4.428402641251108,12.436329704363914,10.95862292123769,11.253221008333899,14.730801566992348,6.112660255052646,10.300969486583732,7.569630178379453,5.27119424096898,11.396533313760832,8.04389690865839,5.193811012303482,9.433415082541504,12.732338805761742,6.364098808008324,10.928548033582363,10.300969486583732,10.333613983296692,11.077782568120107,12.258886032181847,3.363259463544699,5.710251401607326,11.972384856005611,3.8258865423679467,13.67574949616992,6.112660255052646,11.282088847988657,11.13669378676634,12.284460153667077,11.972384856005611,9.396412433543562,13.204749121924374,8.936063468264267,10.98858270141007,9.687096099635486,12.335381096646607,10.300969486583732,11.757721820927259,12.634775574297974,4.610714098778349,10.300969486583732,8.734540254638816,9.359211316179943,10.300969486583732,0.7882737174762975,13.387021687988057,13.042214411970818,9.131677733663654,6.833475073824773,13.631908129786948,12.780719185938656,8.975644661632572,9.722603470763246,11.13669378676634,13.870545990117462,11.048161425227018,9.687096099635486,10.300969486583732,5.27119424096898,5.27119424096898,10.68366381729469,3.363259463544699,1.0873084192445688,13.25065865713222,11.424892359008979,3.4846044419569036,9.054112697150414,0.0,10.300969486583732,2.1870887936748797,10.300969486583732,10.43070163185244,0.0,10.898356894528991,4.698975899408485,9.897542059205271,10.589786289875375,8.69348522875336,10.898356894528991,4.428402641251108,12.732338805761742,8.223750590618092,11.453152389385812,11.165985961489678,11.368074356788828,10.300969486583732,12.12985532318115,12.284460153667077,7.053763383791526,11.811908085408687,12.876696046949768,10.43070163185244,14.019335077037585,6.944714942203737,10.928548033582363,10.034501603364244,11.565219853063923,11.424892359008979,5.710251401607326,2.1870887936748797,10.235247975537467,12.634775574297974,11.648272875258488,10.300969486583732,11.972384856005611,14.289683701345199,7.667529170290946,8.04389690865839,7.569630178379453,2.0015538356532967,11.919233897762005,10.652499185395627,12.683692201619143,11.919233897762005,10.168938716008766,13.432030401214218,9.757934696407593,4.520559034848813,8.441550794073052,11.757721820927259,10.300969486583732,13.998220997380272,13.042214411970818,11.195170552496707,9.79309200577498,5.27119424096898,11.195170552496707,11.048161425227018,10.300969486583732,9.79309200577498,1.5866565318014356,10.300969486583732,9.897542059205271,10.714702346987295,9.09300642088575,11.811908085408687,12.828837055978447,8.134474306083861,13.065613083497276,10.43070163185244,11.310853054194732,12.461383994020412,7.317483429168922,7.951968501390284,10.300969486583732,10.68366381729469,11.537347167848566,11.339514578080326,7.107499800282026,12.780719185938656,12.181702031549685,8.734540254638816,12.335381096646607,11.253221008333899,12.732338805761742,9.131677733663654,11.195170552496707,10.776406292380566,7.107499800282026,11.481314288844796,11.368074356788828,9.687096099635486,9.321808970365538,9.506835715173915,8.526626199770353,11.077782568120107,9.79309200577498,9.131677733663654,10.300969486583732,12.780719185938656,8.65217062943817,11.945851458619778,12.309958316041548,11.757721820927259,10.366116459268493,8.223750590618092,10.300969486583732,11.972384856005611,11.424892359008979,11.537347167848566,6.047813376291378,10.652499185395627,8.526626199770353,12.634775574297974,11.509378928694876,9.359211316179943,11.757721820927259,11.62068188934956,11.195170552496707,11.195170552496707,11.509378928694876,1.8023826314337892,10.558235306678721,10.589786289875375,12.335381096646607,11.077782568120107,12.900529575486814,3.363259463544699,9.284202573646132,5.27119424096898,11.648272875258488,5.11508473034649,10.068342673391365,7.160728068787697,10.300969486583732,4.037210678144054,2.1870887936748797,6.30238176533729,11.537347167848566,10.300969486583732,5.11508473034649,8.856188884965068,9.433415082541504,5.710251401607326,10.333613983296692,5.422157182714063,10.300969486583732,10.300969486583732,5.982118501922462,9.65141030742144,9.757934696407593,10.300969486583732,3.363259463544699,10.589786289875375,8.936063468264267,10.928548033582363,9.359211316179943,7.053763383791526,4.698975899408485,10.300969486583732,4.33412655348726,2.5254206728519764,4.610714098778349,3.363259463544699,10.300969486583732,4.785443401440851,2.1870887936748797,10.300969486583732,2.0015538356532967,1.350296077147012,12.828837055978447,14.671795624230029,13.521395989577249,16.947770078029688,7.2657083924363235,15.077732561941788,7.368796327439131,14.59257240523492,14.572667284813265,15.94941695210359,13.08895128606474,13.631908129786948,16.359748823291397,16.258616243124422,16.359748823291397,14.207302246751828,13.499135231051245,13.998220997380272,15.115556475719913,12.077690295436167,15.115556475719913,15.190786447329815,14.867142517439545,12.233235367087307,14.769945890894933,14.925012545882213,16.509713082265762,14.165847391153326,15.26546797408712,13.78446579937464,13.84909918645775,12.025201874751954,10.268181362650257,13.042214411970818,13.341792042460389,13.018754867036138,13.47682093555908,16.087936664110437,14.207302246751828,13.827603743638052,7.053763383791526,13.296338654794887,13.54360354012921,10.202167659055762,15.486322029132998,10.300969486583732,10.13555941739181,14.269153769810327,11.077782568120107,14.411963605107708,14.69150312715248,16.979545467238257,15.897005945570614,14.452386302135595,14.612437594938372,13.631908129786948,13.870545990117462,3.8258865423679467,15.228195123937985,11.811908085408687,13.521395989577249,12.948006881255422,2.1870887936748797,14.411963605107708,9.722603470763246,13.065613083497276,17.6570699765442,11.838869290478995,12.51127691942203,13.827603743638052,12.876696046949768,12.181702031549685,14.040402701546855,14.165847391153326,15.791402808555413,13.998220997380272,14.552722026664096,15.648938706632835,15.861921441105602,12.948006881255422,14.186597031403432,8.896246095210532,15.576976525626725,16.459952657780534,15.595013441175071,12.585585036469569,12.948006881255422,14.289683701345199,14.391689580373107,15.720411310043932,12.971651517199525,14.12421385020278,15.630994395511927,14.59257240523492,13.609910185452138,10.898356894528991,12.360729065786696,7.763843002563251,12.804810705874258,10.652499185395627,11.811908085408687,15.115556475719913,13.409553487746253,16.190667498504585,16.459952657780534,9.579494117235983,10.300969486583732,13.67574949616992,14.59257240523492,10.43070163185244,15.648938706632835,9.687096099635486,7.905481220547817,13.741129847900057,4.698975899408485,11.253221008333899,11.339514578080326,12.683692201619143,13.565758208454378,14.186597031403432,13.112229419810715,14.289683701345199,13.84909918645775,14.371373474301006,13.296338654794887,14.847778343547683,15.413226045787026,12.386002786847145,13.78446579937464,15.039767583312708,13.9558524130961,13.499135231051245,10.462787400462672,7.2657083924363235,13.521395989577249,13.806059377045528,15.228195123937985,8.441550794073052,7.368796327439131,10.235247975537467,9.433415082541504,12.610214790674208,11.648272875258488,6.944714942203737,15.376484079732812,10.300969486583732,12.536116609845607,14.572667284813265,14.31017040533435,12.634775574297974,11.675771577349945,10.714702346987295,12.828837055978447,14.808937643220167,13.454452770819039,13.58786031709912,12.585585036469569,12.708049017104289,13.08895128606474,14.289683701345199,12.155818155203269,12.051486831393568,12.181702031549685,11.648272875258488,11.509378928694876,13.22773276707158,11.107293002774572,12.077690295436167,11.195170552496707,10.714702346987295,10.235247975537467,2.6811851955322066,2.0015538356532967,6.662247762739506,9.170129876245062,7.419657546003811,7.618782012460989,4.953351865682152,4.785443401440851,4.953351865682152,2.0015538356532967,3.715615475877144,0.7882737174762975,11.077782568120107,3.1070270291444952,7.951968501390284,11.282088847988657,5.27119424096898,10.98858270141007,2.6811851955322066,12.025201874751954,11.784859174653926,8.311772755673495,7.419657546003811,3.363259463544699,6.047813376291378,11.107293002774572,10.034501603364244,5.347291789495695,10.300969486583732,7.667529170290946,9.359211316179943,8.134474306083861,11.368074356788828,4.953351865682152,5.347291789495695,10.300969486583732,12.335381096646607,4.953351865682152,5.982118501922462,13.631908129786948,2.1870887936748797,8.936063468264267,2.5254206728519764,1.8023826314337892,6.77699720649606,1.0873084192445688,3.9330112946805653,9.65141030742144,7.811425759621819,13.71938688570153,11.077782568120107,4.870207492607302,12.12985532318115,8.975644661632572,10.300969486583732,14.652049001674255,6.047813376291378,11.648272875258488,1.350296077147012,12.051486831393568,11.165985961489678,9.65141030742144,11.165985961489678,4.953351865682152,0.7882737174762975,0.4368637812614721,10.300969486583732,10.000502926680616,9.01499324379185,7.213460362722128,10.300969486583732,9.687096099635486,11.59299781918051,4.785443401440851,10.837621194024448,3.8258865423679467,12.025201874751954,11.424892359008979,12.103812913299178,7.667529170290946,11.224248569827916,10.300969486583732,8.08935129415273,11.703178785035568,7.85863603039383,1.5866565318014356,7.569630178379453,10.300969486583732,1.0873084192445688,11.648272875258488,5.710251401607326,10.300969486583732,1.5866565318014356,4.610714098778349,11.077782568120107,6.1766867218062576,12.971651517199525,0.4368637812614721,11.481314288844796,12.876696046949768,10.7456160780235,10.300969486583732,3.601948957573243,10.300969486583732,10.49473729367302,11.368074356788828,3.1070270291444952,2.6811851955322066,5.915546522843642,11.481314288844796,10.652499185395627,9.01499324379185,12.386002786847145,10.268181362650257,12.360729065786696,13.204749121924374,9.579494117235983,11.703178785035568,8.56874554962622,6.719926852189878,1.350296077147012,5.710251401607326,8.267915608017335,4.237600704382758,11.703178785035568,3.601948957573243,4.037210678144054,8.04389690865839,10.300969486583732,10.49473729367302,11.565219853063923,7.053763383791526,6.999506157198901,11.972384856005611,8.311772755673495,11.919233897762005,5.422157182714063,10.898356894528991,5.915546522843642,4.237600704382758,9.79309200577498,6.999506157198901,9.722603470763246,12.486366222216217,9.09300642088575,0.7882737174762975,11.565219853063923,11.13669378676634,12.181702031549685,7.569630178379453,10.928548033582363,10.300969486583732,11.865743517300611,8.526626199770353,5.848066685584467,11.62068188934956,10.398478492226788,13.67574949616992,12.233235367087307,10.98858270141007,12.077690295436167,3.237543414003701,4.428402641251108,10.300969486583732,12.828837055978447,10.333613983296692,11.865743517300611,6.112660255052646,3.237543414003701,11.077782568120107,11.396533313760832,5.495840444354319,8.398585119145432,12.025201874751954,12.461383994020412,8.856188884965068,13.112229419810715,4.138681665736731,6.30238176533729,6.833475073824773,12.077690295436167,11.919233897762005,3.715615475877144,3.9330112946805653,3.8258865423679467,0.7882737174762975,10.300969486583732,2.5254206728519764,0.7882737174762975,3.363259463544699,2.1870887936748797,0.0,8.526626199770353,10.300969486583732,10.000502926680616,6.112660255052646,9.757934696407593,9.79309200577498,9.359211316179943,1.350296077147012,9.862893568245374,9.359211316179943,9.79309200577498,8.355327491486666,8.896246095210532,10.300969486583732,11.339514578080326,8.134474306083861,7.569630178379453,9.757934696407593,11.13669378676634,9.433415082541504,9.131677733663654,9.208366013986263,9.932025111970589,5.779646461372295,9.131677733663654,9.506835715173915,9.359211316179943,8.04389690865839,10.714702346987295,7.763843002563251,8.610592194937505,9.65141030742144,8.179272085110576,8.65217062943817,9.131677733663654,9.284202573646132,11.048161425227018,12.436329704363914,9.65141030742144,9.615543770779324,9.054112697150414,8.484229529084363,9.208366013986263,10.300969486583732,10.300969486583732,10.300969486583732,3.1070270291444952,10.300969486583732,1.5866565318014356,10.300969486583732,10.300969486583732,10.300969486583732,0.0,4.953351865682152,4.33412655348726,4.610714098778349,2.8294968314983584,3.8258865423679467,0.7882737174762975,5.639844977992261,4.785443401440851,4.520559034848813,10.300969486583732,4.237600704382758,4.428402641251108,3.715615475877144,4.33412655348726,5.848066685584467,0.7882737174762975,1.8023826314337892,0.0,3.237543414003701,4.237600704382758,1.350296077147012,3.8258865423679467,3.8258865423679467,4.138681665736731,2.1870887936748797,4.428402641251108,4.610714098778349,10.300969486583732,1.8023826314337892,4.698975899408485,3.601948957573243,4.138681665736731,0.0,10.300969486583732,1.350296077147012,0.7882737174762975,3.8258865423679467,1.350296077147012,4.428402641251108,1.350296077147012,0.0,5.422157182714063,2.361156992878367,4.037210678144054,3.9330112946805653,1.8023826314337892,3.601948957573243,3.8258865423679467,4.610714098778349,5.11508473034649,3.715615475877144,10.300969486583732,1.8023826314337892,1.5866565318014356,3.1070270291444952,1.350296077147012,2.361156992878367,10.300969486583732,10.300969486583732,1.8023826314337892,0.0,4.428402641251108,10.300969486583732,3.1070270291444952,0.0,2.1870887936748797,4.428402641251108,1.0873084192445688,3.363259463544699,4.785443401440851,3.9330112946805653,4.138681665736731,4.037210678144054,4.610714098778349,2.361156992878367,4.037210678144054,0.7882737174762975,10.300969486583732,3.8258865423679467,4.33412655348726,2.5254206728519764,2.8294968314983584,4.520559034848813,4.520559034848813,3.237543414003701,1.8023826314337892,4.610714098778349,3.715615475877144,4.237600704382758,2.8294968314983584,2.1870887936748797,2.0015538356532967,4.698975899408485,4.698975899408485,3.1070270291444952,3.4846044419569036,2.0015538356532967,10.300969486583732,3.9330112946805653,2.5254206728519764,4.138681665736731,3.601948957573243,2.5254206728519764,4.33412655348726,4.138681665736731,3.601948957573243,4.785443401440851,4.037210678144054,4.953351865682152,0.0,10.300969486583732,2.6811851955322066,3.4846044419569036,0.0,3.9330112946805653,3.8258865423679467,4.428402641251108,4.428402641251108,3.8258865423679467,3.8258865423679467,4.698975899408485,4.138681665736731,4.428402641251108,4.237600704382758,4.33412655348726,4.237600704382758,3.363259463544699,3.8258865423679467,4.237600704382758,3.8258865423679467,4.037210678144054,3.237543414003701,3.601948957573243,2.9712087604495556,4.237600704382758,4.237600704382758,2.5254206728519764,1.5866565318014356,4.037210678144054,1.8023826314337892,4.33412655348726,4.138681665736731,4.138681665736731,1.8023826314337892,2.6811851955322066,0.0,4.785443401440851,3.601948957573243,10.300969486583732,4.698975899408485,5.034953781260857,4.037210678144054,4.237600704382758,3.9330112946805653,3.237543414003701,2.361156992878367,0.7882737174762975,2.361156992878367,4.237600704382758,4.33412655348726,2.8294968314983584,3.601948957573243,4.428402641251108,2.5254206728519764,2.1870887936748797,4.610714098778349,2.5254206728519764,2.1870887936748797,2.5254206728519764,1.8023826314337892,4.33412655348726,3.363259463544699,1.0873084192445688,0.0,4.698975899408485,4.428402641251108,2.0015538356532967,4.33412655348726,4.428402641251108,2.1870887936748797,3.715615475877144,0.0,2.1870887936748797,4.428402641251108,1.8023826314337892,3.8258865423679467,4.037210678144054,4.428402641251108,2.9712087604495556,3.8258865423679467,10.300969486583732,10.300969486583732,5.11508473034649,0.0,5.495840444354319,2.361156992878367,3.237543414003701,4.138681665736731,3.363259463544699,2.1870887936748797,10.300969486583732,2.5254206728519764,0.7882737174762975,0.0,10.300969486583732,3.237543414003701,3.237543414003701,4.138681665736731,2.1870887936748797,4.785443401440851,2.361156992878367,4.428402641251108,4.33412655348726,3.363259463544699,2.1870887936748797,2.1870887936748797,10.300969486583732,4.037210678144054,10.300969486583732,3.601948957573243,4.138681665736731,5.27119424096898,4.33412655348726,4.237600704382758,10.300969486583732,4.33412655348726,3.715615475877144,2.8294968314983584,4.33412655348726,3.363259463544699,2.9712087604495556,3.601948957573243,4.037210678144054,3.715615475877144,4.237600704382758,3.8258865423679467,3.715615475877144,3.363259463544699,4.037210678144054,4.138681665736731,2.9712087604495556,3.8258865423679467,4.037210678144054,4.138681665736731,2.0015538356532967,4.428402641251108,3.363259463544699,4.33412655348726,5.11508473034649,0.7882737174762975,3.8258865423679467,4.037210678144054,4.138681665736731,4.33412655348726,3.363259463544699,4.428402641251108,2.0015538356532967,4.138681665736731,4.610714098778349,4.237600704382758,3.363259463544699,4.953351865682152,5.11508473034649,5.034953781260857,1.0873084192445688,3.1070270291444952,4.428402641251108,2.8294968314983584,4.428402641251108,4.138681665736731,5.5683884052893164,10.300969486583732,4.33412655348726,4.237600704382758,3.715615475877144,10.300969486583732,4.037210678144054,4.138681665736731,3.601948957573243,4.33412655348726,3.8258865423679467,4.610714098778349,10.300969486583732,3.4846044419569036,10.300969486583732,4.237600704382758,4.138681665736731,0.7882737174762975,3.601948957573243,3.601948957573243,2.6811851955322066,3.601948957573243,2.361156992878367,3.601948957573243,3.9330112946805653,1.8023826314337892,3.237543414003701,3.715615475877144,2.0015538356532967,3.8258865423679467,1.5866565318014356,0.0,2.0015538356532967,10.300969486583732,2.8294968314983584,10.300969486583732,2.9712087604495556,2.9712087604495556,2.1870887936748797,3.363259463544699,0.7882737174762975,2.0015538356532967,1.5866565318014356,3.601948957573243,4.037210678144054,2.8294968314983584,2.9712087604495556,10.300969486583732,2.9712087604495556,3.363259463544699,2.1870887936748797,0.4368637812614721,3.601948957573243,3.715615475877144,2.8294968314983584,2.6811851955322066,2.9712087604495556,2.6811851955322066,3.601948957573243,2.361156992878367,3.1070270291444952,2.8294968314983584,2.5254206728519764,2.361156992878367,2.361156992878367,2.6811851955322066,2.8294968314983584,2.9712087604495556,3.363259463544699,3.237543414003701,2.8294968314983584,1.8023826314337892,3.4846044419569036,2.5254206728519764,2.8294968314983584,2.8294968314983584,3.1070270291444952,10.300969486583732,10.300969486583732,0.4368637812614721,2.1870887936748797,0.4368637812614721,1.8023826314337892,2.6811851955322066,10.300969486583732,2.8294968314983584,2.5254206728519764,0.0,2.8294968314983584,2.8294968314983584,2.1870887936748797,3.601948957573243,2.6811851955322066,10.300969486583732,1.8023826314337892,2.1870887936748797,2.361156992878367,1.8023826314337892,0.7882737174762975,0.7882737174762975,0.4368637812614721,1.0873084192445688,0.7882737174762975,1.0873084192445688,10.300969486583732,10.300969486583732,10.300969486583732,10.300969486583732,10.300969486583732,6.662247762739506,10.300969486583732],\"xaxis\":\"x\",\"yaxis\":\"y\",\"type\":\"histogram\"}],                        {\"template\":{\"data\":{\"bar\":[{\"error_x\":{\"color\":\"#2a3f5f\"},\"error_y\":{\"color\":\"#2a3f5f\"},\"marker\":{\"line\":{\"color\":\"#E5ECF6\",\"width\":0.5},\"pattern\":{\"fillmode\":\"overlay\",\"size\":10,\"solidity\":0.2}},\"type\":\"bar\"}],\"barpolar\":[{\"marker\":{\"line\":{\"color\":\"#E5ECF6\",\"width\":0.5},\"pattern\":{\"fillmode\":\"overlay\",\"size\":10,\"solidity\":0.2}},\"type\":\"barpolar\"}],\"carpet\":[{\"aaxis\":{\"endlinecolor\":\"#2a3f5f\",\"gridcolor\":\"white\",\"linecolor\":\"white\",\"minorgridcolor\":\"white\",\"startlinecolor\":\"#2a3f5f\"},\"baxis\":{\"endlinecolor\":\"#2a3f5f\",\"gridcolor\":\"white\",\"linecolor\":\"white\",\"minorgridcolor\":\"white\",\"startlinecolor\":\"#2a3f5f\"},\"type\":\"carpet\"}],\"choropleth\":[{\"colorbar\":{\"outlinewidth\":0,\"ticks\":\"\"},\"type\":\"choropleth\"}],\"contour\":[{\"colorbar\":{\"outlinewidth\":0,\"ticks\":\"\"},\"colorscale\":[[0.0,\"#0d0887\"],[0.1111111111111111,\"#46039f\"],[0.2222222222222222,\"#7201a8\"],[0.3333333333333333,\"#9c179e\"],[0.4444444444444444,\"#bd3786\"],[0.5555555555555556,\"#d8576b\"],[0.6666666666666666,\"#ed7953\"],[0.7777777777777778,\"#fb9f3a\"],[0.8888888888888888,\"#fdca26\"],[1.0,\"#f0f921\"]],\"type\":\"contour\"}],\"contourcarpet\":[{\"colorbar\":{\"outlinewidth\":0,\"ticks\":\"\"},\"type\":\"contourcarpet\"}],\"heatmap\":[{\"colorbar\":{\"outlinewidth\":0,\"ticks\":\"\"},\"colorscale\":[[0.0,\"#0d0887\"],[0.1111111111111111,\"#46039f\"],[0.2222222222222222,\"#7201a8\"],[0.3333333333333333,\"#9c179e\"],[0.4444444444444444,\"#bd3786\"],[0.5555555555555556,\"#d8576b\"],[0.6666666666666666,\"#ed7953\"],[0.7777777777777778,\"#fb9f3a\"],[0.8888888888888888,\"#fdca26\"],[1.0,\"#f0f921\"]],\"type\":\"heatmap\"}],\"heatmapgl\":[{\"colorbar\":{\"outlinewidth\":0,\"ticks\":\"\"},\"colorscale\":[[0.0,\"#0d0887\"],[0.1111111111111111,\"#46039f\"],[0.2222222222222222,\"#7201a8\"],[0.3333333333333333,\"#9c179e\"],[0.4444444444444444,\"#bd3786\"],[0.5555555555555556,\"#d8576b\"],[0.6666666666666666,\"#ed7953\"],[0.7777777777777778,\"#fb9f3a\"],[0.8888888888888888,\"#fdca26\"],[1.0,\"#f0f921\"]],\"type\":\"heatmapgl\"}],\"histogram\":[{\"marker\":{\"pattern\":{\"fillmode\":\"overlay\",\"size\":10,\"solidity\":0.2}},\"type\":\"histogram\"}],\"histogram2d\":[{\"colorbar\":{\"outlinewidth\":0,\"ticks\":\"\"},\"colorscale\":[[0.0,\"#0d0887\"],[0.1111111111111111,\"#46039f\"],[0.2222222222222222,\"#7201a8\"],[0.3333333333333333,\"#9c179e\"],[0.4444444444444444,\"#bd3786\"],[0.5555555555555556,\"#d8576b\"],[0.6666666666666666,\"#ed7953\"],[0.7777777777777778,\"#fb9f3a\"],[0.8888888888888888,\"#fdca26\"],[1.0,\"#f0f921\"]],\"type\":\"histogram2d\"}],\"histogram2dcontour\":[{\"colorbar\":{\"outlinewidth\":0,\"ticks\":\"\"},\"colorscale\":[[0.0,\"#0d0887\"],[0.1111111111111111,\"#46039f\"],[0.2222222222222222,\"#7201a8\"],[0.3333333333333333,\"#9c179e\"],[0.4444444444444444,\"#bd3786\"],[0.5555555555555556,\"#d8576b\"],[0.6666666666666666,\"#ed7953\"],[0.7777777777777778,\"#fb9f3a\"],[0.8888888888888888,\"#fdca26\"],[1.0,\"#f0f921\"]],\"type\":\"histogram2dcontour\"}],\"mesh3d\":[{\"colorbar\":{\"outlinewidth\":0,\"ticks\":\"\"},\"type\":\"mesh3d\"}],\"parcoords\":[{\"line\":{\"colorbar\":{\"outlinewidth\":0,\"ticks\":\"\"}},\"type\":\"parcoords\"}],\"pie\":[{\"automargin\":true,\"type\":\"pie\"}],\"scatter\":[{\"marker\":{\"colorbar\":{\"outlinewidth\":0,\"ticks\":\"\"}},\"type\":\"scatter\"}],\"scatter3d\":[{\"line\":{\"colorbar\":{\"outlinewidth\":0,\"ticks\":\"\"}},\"marker\":{\"colorbar\":{\"outlinewidth\":0,\"ticks\":\"\"}},\"type\":\"scatter3d\"}],\"scattercarpet\":[{\"marker\":{\"colorbar\":{\"outlinewidth\":0,\"ticks\":\"\"}},\"type\":\"scattercarpet\"}],\"scattergeo\":[{\"marker\":{\"colorbar\":{\"outlinewidth\":0,\"ticks\":\"\"}},\"type\":\"scattergeo\"}],\"scattergl\":[{\"marker\":{\"colorbar\":{\"outlinewidth\":0,\"ticks\":\"\"}},\"type\":\"scattergl\"}],\"scattermapbox\":[{\"marker\":{\"colorbar\":{\"outlinewidth\":0,\"ticks\":\"\"}},\"type\":\"scattermapbox\"}],\"scatterpolar\":[{\"marker\":{\"colorbar\":{\"outlinewidth\":0,\"ticks\":\"\"}},\"type\":\"scatterpolar\"}],\"scatterpolargl\":[{\"marker\":{\"colorbar\":{\"outlinewidth\":0,\"ticks\":\"\"}},\"type\":\"scatterpolargl\"}],\"scatterternary\":[{\"marker\":{\"colorbar\":{\"outlinewidth\":0,\"ticks\":\"\"}},\"type\":\"scatterternary\"}],\"surface\":[{\"colorbar\":{\"outlinewidth\":0,\"ticks\":\"\"},\"colorscale\":[[0.0,\"#0d0887\"],[0.1111111111111111,\"#46039f\"],[0.2222222222222222,\"#7201a8\"],[0.3333333333333333,\"#9c179e\"],[0.4444444444444444,\"#bd3786\"],[0.5555555555555556,\"#d8576b\"],[0.6666666666666666,\"#ed7953\"],[0.7777777777777778,\"#fb9f3a\"],[0.8888888888888888,\"#fdca26\"],[1.0,\"#f0f921\"]],\"type\":\"surface\"}],\"table\":[{\"cells\":{\"fill\":{\"color\":\"#EBF0F8\"},\"line\":{\"color\":\"white\"}},\"header\":{\"fill\":{\"color\":\"#C8D4E3\"},\"line\":{\"color\":\"white\"}},\"type\":\"table\"}]},\"layout\":{\"annotationdefaults\":{\"arrowcolor\":\"#2a3f5f\",\"arrowhead\":0,\"arrowwidth\":1},\"autotypenumbers\":\"strict\",\"coloraxis\":{\"colorbar\":{\"outlinewidth\":0,\"ticks\":\"\"}},\"colorscale\":{\"diverging\":[[0,\"#8e0152\"],[0.1,\"#c51b7d\"],[0.2,\"#de77ae\"],[0.3,\"#f1b6da\"],[0.4,\"#fde0ef\"],[0.5,\"#f7f7f7\"],[0.6,\"#e6f5d0\"],[0.7,\"#b8e186\"],[0.8,\"#7fbc41\"],[0.9,\"#4d9221\"],[1,\"#276419\"]],\"sequential\":[[0.0,\"#0d0887\"],[0.1111111111111111,\"#46039f\"],[0.2222222222222222,\"#7201a8\"],[0.3333333333333333,\"#9c179e\"],[0.4444444444444444,\"#bd3786\"],[0.5555555555555556,\"#d8576b\"],[0.6666666666666666,\"#ed7953\"],[0.7777777777777778,\"#fb9f3a\"],[0.8888888888888888,\"#fdca26\"],[1.0,\"#f0f921\"]],\"sequentialminus\":[[0.0,\"#0d0887\"],[0.1111111111111111,\"#46039f\"],[0.2222222222222222,\"#7201a8\"],[0.3333333333333333,\"#9c179e\"],[0.4444444444444444,\"#bd3786\"],[0.5555555555555556,\"#d8576b\"],[0.6666666666666666,\"#ed7953\"],[0.7777777777777778,\"#fb9f3a\"],[0.8888888888888888,\"#fdca26\"],[1.0,\"#f0f921\"]]},\"colorway\":[\"#636efa\",\"#EF553B\",\"#00cc96\",\"#ab63fa\",\"#FFA15A\",\"#19d3f3\",\"#FF6692\",\"#B6E880\",\"#FF97FF\",\"#FECB52\"],\"font\":{\"color\":\"#2a3f5f\"},\"geo\":{\"bgcolor\":\"white\",\"lakecolor\":\"white\",\"landcolor\":\"#E5ECF6\",\"showlakes\":true,\"showland\":true,\"subunitcolor\":\"white\"},\"hoverlabel\":{\"align\":\"left\"},\"hovermode\":\"closest\",\"mapbox\":{\"style\":\"light\"},\"paper_bgcolor\":\"white\",\"plot_bgcolor\":\"#E5ECF6\",\"polar\":{\"angularaxis\":{\"gridcolor\":\"white\",\"linecolor\":\"white\",\"ticks\":\"\"},\"bgcolor\":\"#E5ECF6\",\"radialaxis\":{\"gridcolor\":\"white\",\"linecolor\":\"white\",\"ticks\":\"\"}},\"scene\":{\"xaxis\":{\"backgroundcolor\":\"#E5ECF6\",\"gridcolor\":\"white\",\"gridwidth\":2,\"linecolor\":\"white\",\"showbackground\":true,\"ticks\":\"\",\"zerolinecolor\":\"white\"},\"yaxis\":{\"backgroundcolor\":\"#E5ECF6\",\"gridcolor\":\"white\",\"gridwidth\":2,\"linecolor\":\"white\",\"showbackground\":true,\"ticks\":\"\",\"zerolinecolor\":\"white\"},\"zaxis\":{\"backgroundcolor\":\"#E5ECF6\",\"gridcolor\":\"white\",\"gridwidth\":2,\"linecolor\":\"white\",\"showbackground\":true,\"ticks\":\"\",\"zerolinecolor\":\"white\"}},\"shapedefaults\":{\"line\":{\"color\":\"#2a3f5f\"}},\"ternary\":{\"aaxis\":{\"gridcolor\":\"white\",\"linecolor\":\"white\",\"ticks\":\"\"},\"baxis\":{\"gridcolor\":\"white\",\"linecolor\":\"white\",\"ticks\":\"\"},\"bgcolor\":\"#E5ECF6\",\"caxis\":{\"gridcolor\":\"white\",\"linecolor\":\"white\",\"ticks\":\"\"}},\"title\":{\"x\":0.05},\"xaxis\":{\"automargin\":true,\"gridcolor\":\"white\",\"linecolor\":\"white\",\"ticks\":\"\",\"title\":{\"standoff\":15},\"zerolinecolor\":\"white\",\"zerolinewidth\":2},\"yaxis\":{\"automargin\":true,\"gridcolor\":\"white\",\"linecolor\":\"white\",\"ticks\":\"\",\"title\":{\"standoff\":15},\"zerolinecolor\":\"white\",\"zerolinewidth\":2}}},\"xaxis\":{\"anchor\":\"y\",\"domain\":[0.0,1.0],\"title\":{\"text\":\"qt_dias_diff_vote_median_box-cox\"}},\"yaxis\":{\"anchor\":\"x\",\"domain\":[0.0,1.0],\"title\":{\"text\":\"count\"}},\"legend\":{\"tracegroupgap\":0},\"margin\":{\"t\":60},\"barmode\":\"relative\"},                        {\"responsive\": true}                    ).then(function(){\n",
       "                            \n",
       "var gd = document.getElementById('8448f3bf-3fe3-463d-a528-5d7fabc327f9');\n",
       "var x = new MutationObserver(function (mutations, observer) {{\n",
       "        var display = window.getComputedStyle(gd).display;\n",
       "        if (!display || display === 'none') {{\n",
       "            console.log([gd, 'removed!']);\n",
       "            Plotly.purge(gd);\n",
       "            observer.disconnect();\n",
       "        }}\n",
       "}});\n",
       "\n",
       "// Listen for the removal of the full notebook cells\n",
       "var notebookContainer = gd.closest('#notebook-container');\n",
       "if (notebookContainer) {{\n",
       "    x.observe(notebookContainer, {childList: true});\n",
       "}}\n",
       "\n",
       "// Listen for the clearing of the current output cell\n",
       "var outputEl = gd.closest('.output');\n",
       "if (outputEl) {{\n",
       "    x.observe(outputEl, {childList: true});\n",
       "}}\n",
       "\n",
       "                        })                };                            </script>        </div>\n",
       "</body>\n",
       "</html>"
      ]
     },
     "metadata": {},
     "output_type": "display_data"
    }
   ],
   "source": [
    "fig = px.histogram(churn_enriq, x=\"qt_dias_diff_vote_median_box-cox\")\n",
    "fig.show()"
   ]
  },
  {
   "cell_type": "code",
   "execution_count": null,
   "metadata": {
    "colab": {
     "base_uri": "https://localhost:8080/",
     "height": 366
    },
    "executionInfo": {
     "elapsed": 1591,
     "status": "ok",
     "timestamp": 1643332688796,
     "user": {
      "displayName": "Matheus Scheffer",
      "photoUrl": "https://lh3.googleusercontent.com/a-/AOh14GglPDI7gdLFED26W1SJncCIZFA5A-5rjTBcxfjH=s64",
      "userId": "18314476337770992076"
     },
     "user_tz": 180
    },
    "id": "NmIebgJ-EJkK",
    "outputId": "c9510f09-88ad-4d0d-9abd-48705f124f91"
   },
   "outputs": [
    {
     "name": "stdout",
     "output_type": "stream",
     "text": [
      "numVotes\n",
      "qt_dias_diff_vote_max\n",
      "qt_dias_diff_vote_median\n",
      "qt_dias_diff_comment_min\n"
     ]
    },
    {
     "data": {
      "image/png": "[encoded data removed]",
      "text/plain": [
       "<Figure size 432x288 with 4 Axes>"
      ]
     },
     "metadata": {
      "needs_background": "light"
     },
     "output_type": "display_data"
    }
   ],
   "source": [
    "cols = len(bx_columns)\n",
    "\n",
    "plt.figure(1)\n",
    "for i in range(cols):\n",
    "  col = bx_columns[i]\n",
    "  print(col)\n",
    "  sns.histplot(churn_enriq[col+\"_box-cox\"]).set_title(col)\n",
    "  plt.subplot(2,2,i + 1);\n",
    "plt.tight_layout()"
   ]
  },
  {
   "cell_type": "code",
   "execution_count": null,
   "metadata": {
    "colab": {
     "base_uri": "https://localhost:8080/",
     "height": 542
    },
    "executionInfo": {
     "elapsed": 11,
     "status": "ok",
     "timestamp": 1643332688798,
     "user": {
      "displayName": "Matheus Scheffer",
      "photoUrl": "https://lh3.googleusercontent.com/a-/AOh14GglPDI7gdLFED26W1SJncCIZFA5A-5rjTBcxfjH=s64",
      "userId": "18314476337770992076"
     },
     "user_tz": 180
    },
    "id": "ogjVv3GkVmRp",
    "outputId": "607288f2-377e-4962-f9f2-c1c201d732cb"
   },
   "outputs": [
    {
     "data": {
      "text/html": [
       "<html>\n",
       "<head><meta charset=\"utf-8\" /></head>\n",
       "<body>\n",
       "    <div>            <script src=\"https://cdnjs.cloudflare.com/ajax/libs/mathjax/2.7.5/MathJax.js?config=TeX-AMS-MML_SVG\"></script><script type=\"text/javascript\">if (window.MathJax) {MathJax.Hub.Config({SVG: {font: \"STIX-Web\"}});}</script>                <script type=\"text/javascript\">window.PlotlyConfig = {MathJaxConfig: 'local'};</script>\n",
       "        <script src=\"https://cdn.plot.ly/plotly-2.8.3.min.js\"></script>                <div id=\"73e7f57a-83f6-47ce-afce-7f3605c292a3\" class=\"plotly-graph-div\" style=\"height:525px; width:100%;\"></div>            <script type=\"text/javascript\">                                    window.PLOTLYENV=window.PLOTLYENV || {};                                    if (document.getElementById(\"73e7f57a-83f6-47ce-afce-7f3605c292a3\")) {                    Plotly.newPlot(                        \"73e7f57a-83f6-47ce-afce-7f3605c292a3\",                        [{\"alignmentgroup\":\"True\",\"bingroup\":\"x\",\"hovertemplate\":\"numVotes=%{x}<br>count=%{y}<extra></extra>\",\"legendgroup\":\"\",\"marker\":{\"color\":\"#636efa\",\"pattern\":{\"shape\":\"\"}},\"name\":\"\",\"offsetgroup\":\"\",\"orientation\":\"v\",\"showlegend\":false,\"x\":[4,72,14,22,195,29,15,42,16,63,56,53,29,22,56,11,18,69,76,90,6,27,170,100,19,74,191,67,56,100,262,14,124,3,137,45,43,53,182,253,212,64,2,46,20,16,79,142,13,150,151,33,93,20,36,107,93,233,80,1,139,258,70,75,14,194,4,23,5,20,55,12,9,85,155,120,54,74,100,95,85,17,20,37,187,245,201,35,77,205,82,1,34,180,2,118,87,64,57,11,235,28,265,46,27,1,103,2,146,50,103,18,216,150,63,41,2,77,29,87,17,52,4,124,14,103,188,21,236,8,77,28,56,18,24,19,1,7,126,133,3,120,18,44,36,160,21,20,98,45,69,124,1,9,70,20,240,256,249,1,5,99,13,194,90,24,2,21,3,89,1,94,92,17,6,34,159,9,44,235,121,14,30,43,1,54,57,98,57,127,9,71,15,56,64,21,124,76,95,142,58,135,168,147,212,26,217,2,146,143,16,85,163,257,45,70,70,41,126,93,136,1,136,54,242,78,205,80,189,12,154,1,5,5,7,6,70,106,184,50,43,33,65,65,2,16,245,1,12,2,82,19,54,106,136,53,38,68,2,113,2,10,10,1,9,31,3,205,83,148,1,236,48,11,8,129,4,52,69,100,5,1,76,44,5,64,164,74,26,110,82,2,204,1,9,103,57,19,79,46,50,45,33,2,10,100,69,1,48,7,3,9,15,3,39,1,1,11,74,14,1,51,81,95,4,43,6,20,16,3,61,48,116,7,5,1,22,49,21,10,3,22,29,10,11,1,0,203,51,72,20,38,34,66,145,11,70,15,24,5,244,40,77,42,1,12,62,96,17,105,21,21,64,11,51,43,202,73,73,17,257,47,86,28,3,29,175,52,53,2,40,8,43,12,13,34,57,7,15,107,64,6,29,7,39,27,2,39,21,74,77,11,25,62,7,36,29,40,3,8,13,27,8,2,61,9,1,2,29,10,1,6,30,7,6,1,9,9,22,30,1,10,3,38,9,14,7,15,18,2,11,26,1,2,11,4,19,2,5,1,75,3,38,27,21,55,71,5,4,100,13,6,32,18,9,9,2,52,27,12,3,6,3,22,62,1,11,36,10,5,20,1,5,12,7,5,8,4,17,10,25,6,6,24,7,6,3,55,7,2,2,2,40,6,32,44,45,1,2,16,60,41,13,4,3,12,21,1,3,78,15,17,4,1,11,5,37,17,4,26,38,12,2,7,3,38,45,8,20,2,25,6,2,3,3,3,6,8,3,1,94,107,24,88,88,117,31,14,159,3,57,19,6,18,42,69,86,14,28,155,11,151,64,15,158,146,67,28,16,153,3,106,143,37,97,27,145,1,26,87,113,1,1,6,23,44,64,6,9,60,27,35,78,8,8,4,1,30,8,25,30,73,75,131,23,11,71,23,1,43,7,43,8,66,6,123,20,12,5,94,51,96,143,30,2,56,24,31,39,68,116,38,8,59,65,39,17,24,41,8,13,18,72,12,104,4,7,7,125,126,6,45,40,168,1,40,21,9,24,17,65,47,150,65,10,12,41,1,26,7,15,10,29,32,10,1,36,0,2,0,21,67,28,2,15,80,3,1,18,21,66,10,23,14,7,5,4,28,93,5,63,7,7,7,42,1,1,41,71,1,7,1,11,82,6,1,26,141,8,1,1,11,4,95,2,5,17,125,6,57,11,8,157,27,20,22,18,56,55,2,25,12,5,169,12,69,26,9,14,5,4,96,87,35,6,3,8,68,57,8,2,19,122,33,76,1,2,1,21,15,1,1,4,9,1,47,1,6,7,8,30,3,1,1,1,4,1,21,2,19,77,62,64,81,1,17,43,3,7,5,8,21,2,3,39,1,7,25,13,19,13,10,9,8,10,17,8,8,41,11,7,7,1,49,4,9,23,8,50,28,56,24,1,25,1,30,2,34,2,1,4,1,23,4,53,54,10,12,8,71,23,11,33,13,80,13,51,53,1,2,2,25,31,4,7,13,8,4,15,49,72,1,13,7,16,9,1,8,12,6,50,58,8,29,1,40,1,8,10,5,28,6,8,11,12,13,11,6,55,13,7,47,9,52,3,5,8,56,53,55,63,1,1,9,5,16,5,57,43,1,8,4,42,45,45,1,71,8,79,59,46,56,1,82,14,1,2,13,2,14,6,3,3,1,4,26,1,33,12,38,63,14,64,66,1,54,8,55,40,7,48,5,53,53,5,64,15,37,46,20,13,69,1,45,39,65,61,25,5,3,14,3,53,63,25,49,19,17,56,27,5,29,69,25,44,56,29,13,41,15,39,23,1,66,3,36,38,1,10,2,35,80,5,77,7,19,12,16,16,23,8,21,5,54,40,11,52,78,40,73,70,46,72,22,1,2,1,34,56,73,29,61,22,28,18,1,1,123,95,49,96,111,144,199,181,138,31,22,15,2,10,15,124,27,1,5,105,31,30,109,56,32,51,105,53,40,23,134,91,32,32,76,1,34,1,185,2,1,82,10,33,18,6,3,46,78,22,116,114,27,1,14,119,8,83,14,99,8,28,1,67,166,37,15,1,7,60,128,141,79,112,78,18,65,61,3,106,1,57,36,89,27,51,88,5,65,18,11,1,156,22,130,25,6,116,4,1,120,75,55,21,99,8,10,4,4,26,120,29,1,5,4,1,1,8,1,9,16,1,3,23,46,16,47,6,15,18,19,9,9,5,6,8,5,9,1,113,0,33,0,45,0,2,8,1,110,86,21,2,10,61,5,1,4,14,9,2,2,1,12,5,36,10,7,2,3,2,1,3,13,25,3,2,2,2,2,1,7,1,2,4,1,1,45,135,188,41,3,31,209,39,0,12,3,185,77,104,13,8,247,177,27,34,185,3,195,85,3,39,50,91,26,54,29,5,124,126,106,124,1,89,183,105,169,153,64,117,53,94,14,23,179,160,99,4,22,162,102,41,3,65,87,22,88,3,130,262,6,235,218,34,208,108,138,34,19,69,55,43,183,174,12,169,88,72,88,1,138,16,52,17,117,155,7,3,1,100,91,75,163,18,111,252,5,2,116,9,5,195,178,3,1,158,159,74,116,134,7,131,26,5,69,109,249,254,106,4,2,29,1,220,17,216,22,1,246,24,114,30,114,80,166,56,22,4,273,83,3,12,152,132,33,55,1,10,167,140,70,141,2,6,85,107,189,18,91,60,156,45,71,244,30,22,29,192,6,75,37,24,25,22,1,28,47,28,201,26,66,135,203,123,239,91,7,3,157,16,80,155,221,51,246,185,36,130,163,162,212,180,195,4,151,211,100,6,123,142,150,87,230,31,22,36,66,19,36,136,80,236,27,57,93,154,4,209,102,131,31,34,8,14,159,5,217,44,5,73,25,9,164,190,10,253,3,19,1,114,98,162,67,17,1,36,2,1,4,1,115,8,2,13,127,69,5,70,11,2,9,18,48,93,1,19,1,232,12,2,1,24,44,18,36,8,31,6,9,3,29,40,6,1,245,15,14,233,79,1,3,48,1,1,8,20,1,18,251,3,187,143,1,4,2,18,141,2,19,5,116,1,1,13,47,2,92,7,85,34,5,7,8,2,193,87,193,171,64,5,8,83,6,62,3,2,21,12,4,5,8,1,30,17,39,48,55,3,4,17,6,5,1,1,1,1,13,49,4,3,1,2,55,1,19,9,241,17,1,1,19,89,3,5,42,30,231,45,101,27,18,36,4,4,2,1,5,2,1,6,20,1,20,34,2,134,22,12,6,27,1,37,33,3,181,134,2,18,2,47,40,115,76,152,1,43,16,84,1,82,15,176,2,39,95,10,90,57,8,147,4,42,7,41,1,116,16,172,141,33,128,183,133,40,2,158,8,137,25,8,2,1,44,8,49,7,176,13,103,2,47,60,111,159,3,43,1,45,30,10,46,87,85,19,10,89,5,1,163,7,28,51,7,115,7,115,61,27,92,35,35,16,85,2,3,12,2,5,95,3,6,111,1,164,156,3,117,3,19,168,122,43,47,7,11,25,32,17,14,144,5,17,10,138,10,118,109,1,43,16,3,4,3,94,3,152,116,18,28,37,2,1,6,93,62,18,5,89,50,1,124,20,132,13,6,23,1,81,1,54,18,16,15,95,89,137,131,1,122,165,22,17,7,120,70,18,44,74,53,165,3,176,75,4,80,47,12,19,1,39,75,64,112,163,76,77,140,128,45,51,17,13,33,11,69,105,43,3,19,89,2,33,16,37,25,35,8,11,32,1,1,1,5,6,8,1,32,16,3,1,3,2,257,0,66,0,47,5,260,16,259,206,142,111,155,269,161,228,196,155,168,87,127,262,1,63,22,183,174,17,84,26,153,57,80,148,124,185,205,4,222,13,73,24,88,85,150,125,76,3,210,2,120,130,71,51,57,134,62,45,107,12,45,102,237,165,63,56,153,3,6,44,36,3,72,25,24,14,17,222,73,22,168,151,225,1,96,111,160,29,66,73,77,10,68,87,7,246,157,125,57,15,51,13,41,14,119,81,170,83,35,178,205,72,37,222,8,208,28,39,61,17,5,122,64,44,151,133,181,108,28,11,30,17,111,273,218,23,121,28,32,238,15,151,73,12,3,150,95,59,92,71,32,203,22,4,123,27,6,73,30,272,152,40,39,130,47,68,16,5,36,111,102,32,169,102,201,264,12,28,1,4,22,26,174,1,56,76,1,37,210,35,25,18,4,1,2,11,218,20,40,207,136,196,5,3,41,179,5,133,91,11,1,4,2,8,10,10,8,2,8,5,7,11,5,0,9,1,1,164,114,80,20,1,218,138,51,2,27,2,1,8,23,43,62,8,59,232,11,23,30,172,32,21,104,87,48,84,72,157,19,6,52,45,36,10,70,1,41,22,1,1,10,1,11,86,68,1,36,15,6,54,40,3,14,90,12,19,6,10,3,24,126,1,105,9,6,24,3,1,1,3,3,2,1,3,1,7,1,98,34,50,80,101,40,79,96,183,130,19,57,82,38,46,3,16,19,161,29,140,74,69,107,54,104,85,89,133,95,95,39,19,114,92,27,64,21,60,83,18,63,127,98,31,35,64,59,181,112,250,192,18,163,190,159,14,33,20,47,19,46,135,20,12,30,79,52,4,11,149,42,70,15,79,163,202,14,18,17,117,176,7,130,28,5,28,59,22,1,6,44,26,13,16,145,93,55,20,11,3,7,12,6,6,38,10,23,4,11,5,22,1,204,1,2,2,1,3,2,1,1,6,16,23,17,4,1,86,8,40,13,4,129,2,58,24,1,2,4,13,102,4,4,1,5,2,3,7,8,2,1,7,8,9,5,3,4,3,1,1,5,1,6,1,3,5,4,3,157,0,140,84,6,68,101,9,65,11,11,62,31,115,28,94,99,133,84,68,1,40,24,21,27,17,106,22,23,18,30,54,122,76,23,108,17,33,83,13,38,119,66,32,14,5,4,6,3,10,161,18,223,1,44,133,14,30,147,4,22,76,116,58,77,11,133,45,16,71,106,7,20,51,29,53,55,40,1,142,104,66,62,151,137,5,92,102,18,82,63,28,69,28,143,13,162,29,104,71,92,93,1,6,23,37,104,101,70,47,1,9,61,42,4,1,35,4,151,19,3,28,65,10,70,44,72,10,1,60,66,78,1,244,28,101,34,85,157,6,144,149,1,75,1,261,62,21,113,127,67,67,112,63,27,75,27,201,13,1,196,39,34,28,70,4,1,2,43,6,141,146,35,61,16,33,7,121,3,86,60,57,17,28,57,58,13,18,142,82,40,6,9,110,91,12,18,23,78,4,44,27,84,11,11,190,59,65,47,263,3,30,268,22,93,52,56,110,127,7,41,38,3,27,34,1,49,25,24,7,40,30,19,12,49,1,2,82,113,66,3,53,5,218,140,1,172,156,9,24,35,36,62,1,119,27,38,112,2,22,43,141,184,5,42,170,32,109,101,80,1,73,25,25,70,1,4,17,1,35,40,48,22,2,45,82,81,92,92,71,1,42,11,7,204,43,1,23,1,98,16,123,47,25,91,30,15,87,6,37,89,25,12,114,18,25,187,32,93,6,1,10,6,90,32,218,120,17,106,80,60,51,45,60,56,3,4,9,59,2,36,9,3,1,1,1,1,1,1,1,1,1,1,1,1,1,1,1,1,1,1,1,1,1,1,1,1,1,1,1,1,1,2,2,1,1,1,1,1,1,1,1,1,1,1,1,1,1,1,1,1,1,1,1,1,1,1,1,1,1,2,1,1,100,1,7,49,16,40,31,9,15,1,3,1,89,52,21,22,7,98,16,10,22,8,1,16,16,5,6,23,1,4,6,11,3,10,38,118,2,54,32,38,27,2,74,30,52,8,40,39,84,22,4,12,7,109,83,247,188,70,20,127,13,21,22,23,14,12,19,79,64,6,89,2,44,172,30,10,15,1,109,21,2,13,143,21,134,57,85,22,5,33,31,53,6,10,27,96,12,14,16,3,12,23,6,5,29,218,80,21,2,99,2,9,165,13,14,1,33,9,10,17,6,22,1,39,5,20,16,19,15,20,5,15,18,15,3,9,17,5,13,7,12,3,2,12,19,10,12,12,9,5,5,11,12,12,2,18,16,11,6,12,12,14,4,9,2,7,19,4,12,13,20,13,10,19,20,11,19,14,2,20,14,20,9,5,3,20,7,12,10,16,5,1,10,17,14,2,6,6,5,10,9,6,12,8,1,10,10,6,10,3,7,4,6,5,16,21,2,19,2,10,8,6,9,5,5,4,4,4,3,3,113,30,13,3,62,31,4,1,2,1,3,5,47,2,18,19,56,86,16,10,70,14,7,13,4,1,5,23,11,43,7,37,8,37,115,1,2,8,35,9,23,96,5,5,5,45,8,42,54,11,27,27,5,91,60,1,36,18,9,1,24,2,1,4,11,33,16,12,7,22,9,35,16,24,33,41,1,2,7,49,2,3,8,3,5,33,2,1,2,1,59,2,27,9,79,6,3,14,6,6,50,55,115,31,1,84,36,15,12,54,33,31,31,19,13,33,36,8,6,35,22,16,1,96,10,45,12,38,3,10,6,64,29,7,24,7,3,21,7,1,30,69,86,10,3,42,101,1,14,7,1,27,82,33,104,6,25,5,11,15,29,3,6,39,37,20,85,33,15,67,16,19,68,16,6,22,39,5,63,57,35,9,21,13,42,32,47,1,10,5,7,13,86,3,3,1,12,16,50,15,10,3,8,83,34,2,43,16,32,47,2,11,84,17,12,5,2,5,4,18,2,19,16,1,16,2,19,10,1,18,9,5,4,10,6,1,1,2,3,41,1,2,32,43,19,8,21,23,1,7,2,16,13,1,4,3,1,3,4,84,115,232,112,0,85,2,265,168,72,207,49,126,98,45,258,165,208,174,70,86,14,209,92,232,204,75,264,234,118,189,6,74,223,184,55,176,120,246,156,22,118,227,120,238,1,8,259,130,240,148,142,27,270,220,31,66,10,138,26,231,25,10,155,20,174,14,29,155,73,110,140,234,264,167,244,261,167,95,93,163,90,51,113,136,90,207,240,197,133,220,160,38,179,252,92,83,60,89,30,192,58,259,40,28,20,1,261,43,147,147,101,65,260,25,108,45,204,264,143,7,164,21,186,192,162,130,135,152,138,62,255,58,58,266,171,60,77,2,139,38,123,60,30,108,1,58,46,133,159,191,38,84,103,171,35,214,209,165,106,89,205,188,104,175,85,115,150,107,123,67,11,5,57,5,69,21,4,32,30,5,5,3,44,8,50,57,6,47,9,64,69,8,17,7,13,17,31,21,1,18,18,22,61,24,33,1,14,30,6,49,8,49,12,8,29,5,21,2,55,21,32,13,76,14,1,2,45,70,6,71,53,20,155,28,2,3,1,66,3,15,1,33,73,4,55,10,20,5,43,66,55,1,63,14,24,7,20,1,5,10,10,1,3,6,90,5,54,3,22,22,39,1,2,1,29,30,4,9,47,76,72,15,60,34,23,48,15,50,24,16,3,14,27,8,109,8,6,64,1,25,87,60,11,97,49,80,15,62,25,12,68,15,5,90,29,3,143,102,126,23,13,1,52,17,30,13,18,31,100,15,88,5,3,1,32,4,19,40,3,68,45,31,60,100,23,43,50,11,23,58,112,50,19,7,10,3,1,10,4,10,6,2,13,1,23,8,3,21,32,2,16,38,60,29,8,1,35,31,6,31,46,77,46,70,31,3,62,70,16,10,36,12,23,56,5,38,40,48,31,8,10,5,2,48,48,1,1,1,2,1,5,1,1,1,2,22,19,14,5,18,4,11,6,17,1,17,22,11,19,6,2,8,2,3,20,6,18,18,19,7,12,12,1,4,17,14,17,2,1,6,4,12,6,3,6,2,10,5,10,11,2,11,18,17,14,17,1,6,7,4,4,7,1,1,6,2,20,1,8,2,4,6,5,16,16,19,19,10,17,7,9,2,1,12,21,6,5,21,11,13,8,24,17,14,9,6,9,23,11,2,13,3,1,15,4,17,14,4,21,17,12,10,9,20,2,1,5,11,2,7,12,5,22,6,20,17,9,20,22,19,20,12,6,16,20,22,13,14,3,22,18,4,5,17,8,19,7,17,3,3,2,12,16,1,15,5,16,24,11,13,7,4,5,18,19,6,13,20,6,9,12,6,10,4,4,27,6,5,2,5,14,3,19,10,9,11,2,2,12,5,4,18,14,11,18,1,1,8,2,5,7,7,23,4,10,1,5,4,2,1,7,9,17,2,11,5,9,15,15,6,6,1,24,1,14,17,6,19,18,1,9,17,4,19,12,11,12,14,17,18,12,13,9,22,15,9,18,18,17,7,16,16,19,16,2,14,22,11,27,12,14,7,15,19,24,6,16,2,11,3,14,16,4,18,19,2,1,17,20,13,1,24,17,20,19,14,8,1,19,1,14,9,4,7,11,11,4,9,14,7,4,7,5,3,4,5,2,3,1,6,1,3,11,8,9,2,7,7,6,4,12,9,1,7,12,10,3,10,7,14,5,15,13,10,7,12,12,8,5,5,11,8,13,10,5,6,3,7,8,14,12,6,1,1,3,5,3,4,7,1,10,8,2,6,4,8,2,5,1,4,4,5,8,4,3,3,5,2,3,1,1,1,1,1,7,1],\"xaxis\":\"x\",\"yaxis\":\"y\",\"type\":\"histogram\"}],                        {\"template\":{\"data\":{\"bar\":[{\"error_x\":{\"color\":\"#2a3f5f\"},\"error_y\":{\"color\":\"#2a3f5f\"},\"marker\":{\"line\":{\"color\":\"#E5ECF6\",\"width\":0.5},\"pattern\":{\"fillmode\":\"overlay\",\"size\":10,\"solidity\":0.2}},\"type\":\"bar\"}],\"barpolar\":[{\"marker\":{\"line\":{\"color\":\"#E5ECF6\",\"width\":0.5},\"pattern\":{\"fillmode\":\"overlay\",\"size\":10,\"solidity\":0.2}},\"type\":\"barpolar\"}],\"carpet\":[{\"aaxis\":{\"endlinecolor\":\"#2a3f5f\",\"gridcolor\":\"white\",\"linecolor\":\"white\",\"minorgridcolor\":\"white\",\"startlinecolor\":\"#2a3f5f\"},\"baxis\":{\"endlinecolor\":\"#2a3f5f\",\"gridcolor\":\"white\",\"linecolor\":\"white\",\"minorgridcolor\":\"white\",\"startlinecolor\":\"#2a3f5f\"},\"type\":\"carpet\"}],\"choropleth\":[{\"colorbar\":{\"outlinewidth\":0,\"ticks\":\"\"},\"type\":\"choropleth\"}],\"contour\":[{\"colorbar\":{\"outlinewidth\":0,\"ticks\":\"\"},\"colorscale\":[[0.0,\"#0d0887\"],[0.1111111111111111,\"#46039f\"],[0.2222222222222222,\"#7201a8\"],[0.3333333333333333,\"#9c179e\"],[0.4444444444444444,\"#bd3786\"],[0.5555555555555556,\"#d8576b\"],[0.6666666666666666,\"#ed7953\"],[0.7777777777777778,\"#fb9f3a\"],[0.8888888888888888,\"#fdca26\"],[1.0,\"#f0f921\"]],\"type\":\"contour\"}],\"contourcarpet\":[{\"colorbar\":{\"outlinewidth\":0,\"ticks\":\"\"},\"type\":\"contourcarpet\"}],\"heatmap\":[{\"colorbar\":{\"outlinewidth\":0,\"ticks\":\"\"},\"colorscale\":[[0.0,\"#0d0887\"],[0.1111111111111111,\"#46039f\"],[0.2222222222222222,\"#7201a8\"],[0.3333333333333333,\"#9c179e\"],[0.4444444444444444,\"#bd3786\"],[0.5555555555555556,\"#d8576b\"],[0.6666666666666666,\"#ed7953\"],[0.7777777777777778,\"#fb9f3a\"],[0.8888888888888888,\"#fdca26\"],[1.0,\"#f0f921\"]],\"type\":\"heatmap\"}],\"heatmapgl\":[{\"colorbar\":{\"outlinewidth\":0,\"ticks\":\"\"},\"colorscale\":[[0.0,\"#0d0887\"],[0.1111111111111111,\"#46039f\"],[0.2222222222222222,\"#7201a8\"],[0.3333333333333333,\"#9c179e\"],[0.4444444444444444,\"#bd3786\"],[0.5555555555555556,\"#d8576b\"],[0.6666666666666666,\"#ed7953\"],[0.7777777777777778,\"#fb9f3a\"],[0.8888888888888888,\"#fdca26\"],[1.0,\"#f0f921\"]],\"type\":\"heatmapgl\"}],\"histogram\":[{\"marker\":{\"pattern\":{\"fillmode\":\"overlay\",\"size\":10,\"solidity\":0.2}},\"type\":\"histogram\"}],\"histogram2d\":[{\"colorbar\":{\"outlinewidth\":0,\"ticks\":\"\"},\"colorscale\":[[0.0,\"#0d0887\"],[0.1111111111111111,\"#46039f\"],[0.2222222222222222,\"#7201a8\"],[0.3333333333333333,\"#9c179e\"],[0.4444444444444444,\"#bd3786\"],[0.5555555555555556,\"#d8576b\"],[0.6666666666666666,\"#ed7953\"],[0.7777777777777778,\"#fb9f3a\"],[0.8888888888888888,\"#fdca26\"],[1.0,\"#f0f921\"]],\"type\":\"histogram2d\"}],\"histogram2dcontour\":[{\"colorbar\":{\"outlinewidth\":0,\"ticks\":\"\"},\"colorscale\":[[0.0,\"#0d0887\"],[0.1111111111111111,\"#46039f\"],[0.2222222222222222,\"#7201a8\"],[0.3333333333333333,\"#9c179e\"],[0.4444444444444444,\"#bd3786\"],[0.5555555555555556,\"#d8576b\"],[0.6666666666666666,\"#ed7953\"],[0.7777777777777778,\"#fb9f3a\"],[0.8888888888888888,\"#fdca26\"],[1.0,\"#f0f921\"]],\"type\":\"histogram2dcontour\"}],\"mesh3d\":[{\"colorbar\":{\"outlinewidth\":0,\"ticks\":\"\"},\"type\":\"mesh3d\"}],\"parcoords\":[{\"line\":{\"colorbar\":{\"outlinewidth\":0,\"ticks\":\"\"}},\"type\":\"parcoords\"}],\"pie\":[{\"automargin\":true,\"type\":\"pie\"}],\"scatter\":[{\"marker\":{\"colorbar\":{\"outlinewidth\":0,\"ticks\":\"\"}},\"type\":\"scatter\"}],\"scatter3d\":[{\"line\":{\"colorbar\":{\"outlinewidth\":0,\"ticks\":\"\"}},\"marker\":{\"colorbar\":{\"outlinewidth\":0,\"ticks\":\"\"}},\"type\":\"scatter3d\"}],\"scattercarpet\":[{\"marker\":{\"colorbar\":{\"outlinewidth\":0,\"ticks\":\"\"}},\"type\":\"scattercarpet\"}],\"scattergeo\":[{\"marker\":{\"colorbar\":{\"outlinewidth\":0,\"ticks\":\"\"}},\"type\":\"scattergeo\"}],\"scattergl\":[{\"marker\":{\"colorbar\":{\"outlinewidth\":0,\"ticks\":\"\"}},\"type\":\"scattergl\"}],\"scattermapbox\":[{\"marker\":{\"colorbar\":{\"outlinewidth\":0,\"ticks\":\"\"}},\"type\":\"scattermapbox\"}],\"scatterpolar\":[{\"marker\":{\"colorbar\":{\"outlinewidth\":0,\"ticks\":\"\"}},\"type\":\"scatterpolar\"}],\"scatterpolargl\":[{\"marker\":{\"colorbar\":{\"outlinewidth\":0,\"ticks\":\"\"}},\"type\":\"scatterpolargl\"}],\"scatterternary\":[{\"marker\":{\"colorbar\":{\"outlinewidth\":0,\"ticks\":\"\"}},\"type\":\"scatterternary\"}],\"surface\":[{\"colorbar\":{\"outlinewidth\":0,\"ticks\":\"\"},\"colorscale\":[[0.0,\"#0d0887\"],[0.1111111111111111,\"#46039f\"],[0.2222222222222222,\"#7201a8\"],[0.3333333333333333,\"#9c179e\"],[0.4444444444444444,\"#bd3786\"],[0.5555555555555556,\"#d8576b\"],[0.6666666666666666,\"#ed7953\"],[0.7777777777777778,\"#fb9f3a\"],[0.8888888888888888,\"#fdca26\"],[1.0,\"#f0f921\"]],\"type\":\"surface\"}],\"table\":[{\"cells\":{\"fill\":{\"color\":\"#EBF0F8\"},\"line\":{\"color\":\"white\"}},\"header\":{\"fill\":{\"color\":\"#C8D4E3\"},\"line\":{\"color\":\"white\"}},\"type\":\"table\"}]},\"layout\":{\"annotationdefaults\":{\"arrowcolor\":\"#2a3f5f\",\"arrowhead\":0,\"arrowwidth\":1},\"autotypenumbers\":\"strict\",\"coloraxis\":{\"colorbar\":{\"outlinewidth\":0,\"ticks\":\"\"}},\"colorscale\":{\"diverging\":[[0,\"#8e0152\"],[0.1,\"#c51b7d\"],[0.2,\"#de77ae\"],[0.3,\"#f1b6da\"],[0.4,\"#fde0ef\"],[0.5,\"#f7f7f7\"],[0.6,\"#e6f5d0\"],[0.7,\"#b8e186\"],[0.8,\"#7fbc41\"],[0.9,\"#4d9221\"],[1,\"#276419\"]],\"sequential\":[[0.0,\"#0d0887\"],[0.1111111111111111,\"#46039f\"],[0.2222222222222222,\"#7201a8\"],[0.3333333333333333,\"#9c179e\"],[0.4444444444444444,\"#bd3786\"],[0.5555555555555556,\"#d8576b\"],[0.6666666666666666,\"#ed7953\"],[0.7777777777777778,\"#fb9f3a\"],[0.8888888888888888,\"#fdca26\"],[1.0,\"#f0f921\"]],\"sequentialminus\":[[0.0,\"#0d0887\"],[0.1111111111111111,\"#46039f\"],[0.2222222222222222,\"#7201a8\"],[0.3333333333333333,\"#9c179e\"],[0.4444444444444444,\"#bd3786\"],[0.5555555555555556,\"#d8576b\"],[0.6666666666666666,\"#ed7953\"],[0.7777777777777778,\"#fb9f3a\"],[0.8888888888888888,\"#fdca26\"],[1.0,\"#f0f921\"]]},\"colorway\":[\"#636efa\",\"#EF553B\",\"#00cc96\",\"#ab63fa\",\"#FFA15A\",\"#19d3f3\",\"#FF6692\",\"#B6E880\",\"#FF97FF\",\"#FECB52\"],\"font\":{\"color\":\"#2a3f5f\"},\"geo\":{\"bgcolor\":\"white\",\"lakecolor\":\"white\",\"landcolor\":\"#E5ECF6\",\"showlakes\":true,\"showland\":true,\"subunitcolor\":\"white\"},\"hoverlabel\":{\"align\":\"left\"},\"hovermode\":\"closest\",\"mapbox\":{\"style\":\"light\"},\"paper_bgcolor\":\"white\",\"plot_bgcolor\":\"#E5ECF6\",\"polar\":{\"angularaxis\":{\"gridcolor\":\"white\",\"linecolor\":\"white\",\"ticks\":\"\"},\"bgcolor\":\"#E5ECF6\",\"radialaxis\":{\"gridcolor\":\"white\",\"linecolor\":\"white\",\"ticks\":\"\"}},\"scene\":{\"xaxis\":{\"backgroundcolor\":\"#E5ECF6\",\"gridcolor\":\"white\",\"gridwidth\":2,\"linecolor\":\"white\",\"showbackground\":true,\"ticks\":\"\",\"zerolinecolor\":\"white\"},\"yaxis\":{\"backgroundcolor\":\"#E5ECF6\",\"gridcolor\":\"white\",\"gridwidth\":2,\"linecolor\":\"white\",\"showbackground\":true,\"ticks\":\"\",\"zerolinecolor\":\"white\"},\"zaxis\":{\"backgroundcolor\":\"#E5ECF6\",\"gridcolor\":\"white\",\"gridwidth\":2,\"linecolor\":\"white\",\"showbackground\":true,\"ticks\":\"\",\"zerolinecolor\":\"white\"}},\"shapedefaults\":{\"line\":{\"color\":\"#2a3f5f\"}},\"ternary\":{\"aaxis\":{\"gridcolor\":\"white\",\"linecolor\":\"white\",\"ticks\":\"\"},\"baxis\":{\"gridcolor\":\"white\",\"linecolor\":\"white\",\"ticks\":\"\"},\"bgcolor\":\"#E5ECF6\",\"caxis\":{\"gridcolor\":\"white\",\"linecolor\":\"white\",\"ticks\":\"\"}},\"title\":{\"x\":0.05},\"xaxis\":{\"automargin\":true,\"gridcolor\":\"white\",\"linecolor\":\"white\",\"ticks\":\"\",\"title\":{\"standoff\":15},\"zerolinecolor\":\"white\",\"zerolinewidth\":2},\"yaxis\":{\"automargin\":true,\"gridcolor\":\"white\",\"linecolor\":\"white\",\"ticks\":\"\",\"title\":{\"standoff\":15},\"zerolinecolor\":\"white\",\"zerolinewidth\":2}}},\"xaxis\":{\"anchor\":\"y\",\"domain\":[0.0,1.0],\"title\":{\"text\":\"numVotes\"}},\"yaxis\":{\"anchor\":\"x\",\"domain\":[0.0,1.0],\"title\":{\"text\":\"count\"}},\"legend\":{\"tracegroupgap\":0},\"margin\":{\"t\":60},\"barmode\":\"relative\"},                        {\"responsive\": true}                    ).then(function(){\n",
       "                            \n",
       "var gd = document.getElementById('73e7f57a-83f6-47ce-afce-7f3605c292a3');\n",
       "var x = new MutationObserver(function (mutations, observer) {{\n",
       "        var display = window.getComputedStyle(gd).display;\n",
       "        if (!display || display === 'none') {{\n",
       "            console.log([gd, 'removed!']);\n",
       "            Plotly.purge(gd);\n",
       "            observer.disconnect();\n",
       "        }}\n",
       "}});\n",
       "\n",
       "// Listen for the removal of the full notebook cells\n",
       "var notebookContainer = gd.closest('#notebook-container');\n",
       "if (notebookContainer) {{\n",
       "    x.observe(notebookContainer, {childList: true});\n",
       "}}\n",
       "\n",
       "// Listen for the clearing of the current output cell\n",
       "var outputEl = gd.closest('.output');\n",
       "if (outputEl) {{\n",
       "    x.observe(outputEl, {childList: true});\n",
       "}}\n",
       "\n",
       "                        })                };                            </script>        </div>\n",
       "</body>\n",
       "</html>"
      ]
     },
     "metadata": {},
     "output_type": "display_data"
    }
   ],
   "source": [
    "\n",
    "fig = px.histogram(churn_enriq, x=\"numVotes\")\n",
    "fig.show()"
   ]
  },
  {
   "cell_type": "code",
   "execution_count": null,
   "metadata": {
    "colab": {
     "base_uri": "https://localhost:8080/",
     "height": 542
    },
    "executionInfo": {
     "elapsed": 9,
     "status": "ok",
     "timestamp": 1643332688798,
     "user": {
      "displayName": "Matheus Scheffer",
      "photoUrl": "https://lh3.googleusercontent.com/a-/AOh14GglPDI7gdLFED26W1SJncCIZFA5A-5rjTBcxfjH=s64",
      "userId": "18314476337770992076"
     },
     "user_tz": 180
    },
    "id": "ANWvQrQzNHyJ",
    "outputId": "ec07e04f-e3eb-4d30-d2de-665798f9e252"
   },
   "outputs": [
    {
     "data": {
      "text/html": [
       "<html>\n",
       "<head><meta charset=\"utf-8\" /></head>\n",
       "<body>\n",
       "    <div>            <script src=\"https://cdnjs.cloudflare.com/ajax/libs/mathjax/2.7.5/MathJax.js?config=TeX-AMS-MML_SVG\"></script><script type=\"text/javascript\">if (window.MathJax) {MathJax.Hub.Config({SVG: {font: \"STIX-Web\"}});}</script>                <script type=\"text/javascript\">window.PlotlyConfig = {MathJaxConfig: 'local'};</script>\n",
       "        <script src=\"https://cdn.plot.ly/plotly-2.8.3.min.js\"></script>                <div id=\"ecbda0cc-aa41-4a46-a81d-6f811a916812\" class=\"plotly-graph-div\" style=\"height:525px; width:100%;\"></div>            <script type=\"text/javascript\">                                    window.PLOTLYENV=window.PLOTLYENV || {};                                    if (document.getElementById(\"ecbda0cc-aa41-4a46-a81d-6f811a916812\")) {                    Plotly.newPlot(                        \"ecbda0cc-aa41-4a46-a81d-6f811a916812\",                        [{\"alignmentgroup\":\"True\",\"bingroup\":\"x\",\"hovertemplate\":\"numVotes_box-cox=%{x}<br>count=%{y}<extra></extra>\",\"legendgroup\":\"\",\"marker\":{\"color\":\"#636efa\",\"pattern\":{\"shape\":\"\"}},\"name\":\"\",\"offsetgroup\":\"\",\"orientation\":\"v\",\"showlegend\":false,\"x\":[1.6557301330071357,4.630097429643682,2.8408268910805474,3.3144015119585197,5.798257743591832,3.612378346708319,2.9118762698030434,4.020564562669128,2.9787635541340487,4.477506253870261,4.343755867139952,4.281510500607993,3.612378346708319,3.3144015119585197,4.343755867139952,2.5964075261838406,3.1018494924095155,4.581354385530364,4.69216451199997,4.8872818564091745,2.0138510590549012,3.5347381374498585,5.634449518393335,5.009638257511512,3.1587743149871175,4.661530286771687,5.773454179709262,4.547726107730136,4.343755867139952,5.009638257511512,6.153925355306907,2.8408268910805474,5.261230179883386,1.4205496414334668,5.378631080689032,4.097607179378114,4.046806533373599,4.281510500607993,5.715771896751212,6.111615940603214,5.898496808930284,4.495450125133908,1.1200527535574272,4.1222134810747475,3.213016304901022,2.9787635541340487,4.736705664109701,5.420962583431871,2.7650514420781525,5.4858095593361025,5.493681169685853,3.753709497165099,4.925298617032154,3.213016304901022,3.849541388533134,5.088515781610343,4.925298617032154,6.012165893985217,4.751195129659512,0.7016414630036356,5.395738533527084,6.135296438224245,4.597822363112636,4.676944638342572,2.8408268910805474,5.792102961284222,1.6557301330071357,3.3619440584627895,1.8492576277585893,3.213016304901022,4.323366075375021,2.6838620347627686,2.3981175076147205,4.8211482173999585,5.524675799287261,5.22272745392529,4.302621878064351,4.661530286771687,5.009638257511512,4.949998068462807,4.8211482173999585,3.0419569552312287,3.213016304901022,3.8798244609204313,5.74814689875096,6.0727750401271665,5.8345620559266544,3.818458026530907,4.707194839844359,5.858191301399426,4.779663376681749,0.7016414630036356,3.7865300919809473,5.702582303910932,1.1200527535574272,5.2030131037580745,4.848035977534314,4.495450125133908,4.3638033689794105,2.5964075261838406,6.02247275198776,3.574204209329111,6.167718489622225,4.1222134810747475,3.5347381374498585,0.7016414630036356,5.044069280624282,1.1200527535574272,5.453811788526636,4.215834598416943,5.044069280624282,3.1018494924095155,5.920958384315573,5.4858095593361025,4.477506253870261,3.993726980774374,1.1200527535574272,4.707194839844359,3.612378346708319,4.848035977534314,3.0419569552312287,4.260018460597762,1.6557301330071357,5.261230179883386,2.8408268910805474,5.044069280624282,5.754522083405963,3.264820994371438,6.02759461620206,2.284105863760061,4.707194839844359,3.574204209329111,4.343755867139952,3.1018494924095155,3.407612271271626,3.1587743149871175,0.7016414630036356,2.157149452397917,5.280037870157282,5.343686368719786,1.4205496414334668,5.22272745392529,3.1018494924095155,4.072479206335252,3.849541388533134,5.562358119366963,3.264820994371438,3.213016304901022,4.986131607473646,4.097607179378114,4.581354385530364,5.261230179883386,0.7016414630036356,2.3981175076147205,4.597822363112636,3.213016304901022,6.047875667592682,6.125877622041092,6.0923454113254865,0.7016414630036356,1.8492576277585893,4.9979416389269415,2.7650514420781525,5.792102961284222,4.8872818564091745,3.407612271271626,1.1200527535574272,3.264820994371438,1.4205496414334668,4.874340430060934,0.7016414630036356,4.937711062754209,4.912758095560638,3.0419569552312287,2.0138510590549012,3.7865300919809473,5.554912856296033,2.3981175076147205,4.072479206335252,6.02247275198776,5.232467016560096,2.8408268910805474,3.6493438525353694,4.046806533373599,0.7016414630036356,4.302621878064351,4.3638033689794105,4.986131607473646,4.3638033689794105,5.28933480013666,2.3981175076147205,4.614068035561931,2.9118762698030434,4.343755867139952,4.495450125133908,3.264820994371438,5.261230179883386,4.69216451199997,4.949998068462807,5.420962583431871,4.383520082216515,5.361282696448128,5.620362616258515,5.4618892836983655,5.898496808930284,3.493887848643107,5.9265113420342805,1.1200527535574272,5.453811788526636,5.4292572347356876,2.9787635541340487,4.8211482173999585,5.584429117443326,6.130595836807448,4.097607179378114,4.597822363112636,4.597822363112636,3.993726980774374,5.280037870157282,4.925298617032154,5.369987436135488,0.7016414630036356,5.369987436135488,4.302621878064351,6.057894699210207,4.72204036763977,5.858191301399426,4.751195129659512,5.760864802715331,2.6838620347627686,5.5169996624990425,0.7016414630036356,1.8492576277585893,1.8492576277585893,2.157149452397917,2.0138510590549012,4.597822363112636,5.077554959447895,5.728823123609859,4.215834598416943,4.046806533373599,3.753709497165099,4.513129571307577,4.513129571307577,1.1200527535574272,2.9787635541340487,6.0727750401271665,0.7016414630036356,2.6838620347627686,1.1200527535574272,4.779663376681749,3.1587743149871175,4.302621878064351,5.077554959447895,5.369987436135488,4.281510500607993,3.9093481139747426,4.564657818990012,1.1200527535574272,5.152292946200395,1.1200527535574272,2.501617160981308,2.501617160981308,0.7016414630036356,2.3981175076147205,3.6851761816841813,1.4205496414334668,5.858191301399426,4.793650188661996,5.469914286144682,0.7016414630036356,6.02759461620206,4.169946111416401,2.5964075261838406,2.284105863760061,5.307720252656676,1.6557301330071357,4.260018460597762,4.581354385530364,5.009638257511512,1.8492576277585893,0.7016414630036356,4.69216451199997,4.072479206335252,1.8492576277585893,4.495450125133908,5.5916996141889,4.661530286771687,3.493887848643107,5.120820228074428,4.779663376681749,1.1200527535574272,5.852325769286159,0.7016414630036356,2.3981175076147205,5.044069280624282,4.3638033689794105,3.1587743149871175,4.736705664109701,4.1222134810747475,4.215834598416943,4.097607179378114,3.753709497165099,1.1200527535574272,2.501617160981308,5.009638257511512,4.581354385530364,0.7016414630036356,4.169946111416401,2.157149452397917,1.4205496414334668,2.3981175076147205,2.9118762698030434,1.4205496414334668,3.9381501481332664,0.7016414630036356,0.7016414630036356,2.5964075261838406,4.661530286771687,2.8408268910805474,0.7016414630036356,4.2381315143717195,4.7655130045673095,4.949998068462807,1.6557301330071357,4.046806533373599,2.0138510590549012,3.213016304901022,2.9787635541340487,1.4205496414334668,4.4407921258781755,4.169946111416401,5.182976411825797,2.157149452397917,1.8492576277585893,0.7016414630036356,3.3144015119585197,4.193111765012185,3.264820994371438,2.501617160981308,1.4205496414334668,3.3144015119585197,3.612378346708319,2.501617160981308,2.5964075261838406,0.7016414630036356,0.0,5.846432563114815,4.2381315143717195,4.630097429643682,3.213016304901022,3.9093481139747426,3.7865300919809473,4.530552408082192,5.445681096648457,2.5964075261838406,4.597822363112636,2.9118762698030434,3.407612271271626,1.8492576277585893,6.067834475668377,3.9662655947373997,4.707194839844359,4.020564562669128,0.7016414630036356,2.6838620347627686,4.4592897769679025,4.962162188894207,3.0419569552312287,5.066494843354565,3.264820994371438,3.264820994371438,4.495450125133908,2.5964075261838406,4.2381315143717195,4.046806533373599,5.840511415695534,4.645916328935069,4.645916328935069,3.0419569552312287,6.130595836807448,4.146319701809421,4.834666652906748,3.574204209329111,1.4205496414334668,3.612378346708319,5.668982900682354,4.260018460597762,4.281510500607993,1.1200527535574272,3.9662655947373997,2.284105863760061,4.046806533373599,2.6838620347627686,2.7650514420781525,3.7865300919809473,4.3638033689794105,2.157149452397917,2.9118762698030434,5.088515781610343,4.495450125133908,2.0138510590549012,3.612378346708319,2.157149452397917,3.9381501481332664,3.5347381374498585,1.1200527535574272,3.9381501481332664,3.264820994371438,4.661530286771687,4.707194839844359,2.5964075261838406,3.451550737618847,4.4592897769679025,2.157149452397917,3.849541388533134,3.612378346708319,3.9662655947373997,1.4205496414334668,2.284105863760061,2.7650514420781525,3.5347381374498585,2.284105863760061,1.1200527535574272,4.4407921258781755,2.3981175076147205,0.7016414630036356,1.1200527535574272,3.612378346708319,2.501617160981308,0.7016414630036356,2.0138510590549012,3.6493438525353694,2.157149452397917,2.0138510590549012,0.7016414630036356,2.3981175076147205,2.3981175076147205,3.3144015119585197,3.6493438525353694,0.7016414630036356,2.501617160981308,1.4205496414334668,3.9093481139747426,2.3981175076147205,2.8408268910805474,2.157149452397917,2.9118762698030434,3.1018494924095155,1.1200527535574272,2.5964075261838406,3.493887848643107,0.7016414630036356,1.1200527535574272,2.5964075261838406,1.6557301330071357,3.1587743149871175,1.1200527535574272,1.8492576277585893,0.7016414630036356,4.676944638342572,1.4205496414334668,3.9093481139747426,3.5347381374498585,3.264820994371438,4.323366075375021,4.614068035561931,1.8492576277585893,1.6557301330071357,5.009638257511512,2.7650514420781525,2.0138510590549012,3.7199438993339546,3.1018494924095155,2.3981175076147205,2.3981175076147205,1.1200527535574272,4.260018460597762,3.5347381374498585,2.6838620347627686,1.4205496414334668,2.0138510590549012,1.4205496414334668,3.3144015119585197,4.4592897769679025,0.7016414630036356,2.5964075261838406,3.849541388533134,2.501617160981308,1.8492576277585893,3.213016304901022,0.7016414630036356,1.8492576277585893,2.6838620347627686,2.157149452397917,1.8492576277585893,2.284105863760061,1.6557301330071357,3.0419569552312287,2.501617160981308,3.451550737618847,2.0138510590549012,2.0138510590549012,3.407612271271626,2.157149452397917,2.0138510590549012,1.4205496414334668,4.323366075375021,2.157149452397917,1.1200527535574272,1.1200527535574272,1.1200527535574272,3.9662655947373997,2.0138510590549012,3.7199438993339546,4.072479206335252,4.097607179378114,0.7016414630036356,1.1200527535574272,2.9787635541340487,4.422004319042392,3.993726980774374,2.7650514420781525,1.6557301330071357,1.4205496414334668,2.6838620347627686,3.264820994371438,0.7016414630036356,1.4205496414334668,4.72204036763977,2.9118762698030434,3.0419569552312287,1.6557301330071357,0.7016414630036356,2.5964075261838406,1.8492576277585893,3.8798244609204313,3.0419569552312287,1.6557301330071357,3.493887848643107,3.9093481139747426,2.6838620347627686,1.1200527535574272,2.157149452397917,1.4205496414334668,3.9093481139747426,4.097607179378114,2.284105863760061,3.213016304901022,1.1200527535574272,3.451550737618847,2.0138510590549012,1.1200527535574272,1.4205496414334668,1.4205496414334668,1.4205496414334668,2.0138510590549012,2.284105863760061,1.4205496414334668,0.7016414630036356,4.937711062754209,5.088515781610343,3.407612271271626,4.861259502691326,4.861259502691326,5.193035720016823,3.6851761816841813,2.8408268910805474,5.554912856296033,1.4205496414334668,4.3638033689794105,3.1587743149871175,2.0138510590549012,3.1018494924095155,4.020564562669128,4.581354385530364,4.834666652906748,2.8408268910805474,3.574204209329111,5.524675799287261,2.5964075261838406,5.493681169685853,4.495450125133908,2.9118762698030434,5.547422556300571,5.453811788526636,4.547726107730136,3.574204209329111,2.9787635541340487,5.509275589662308,1.4205496414334668,5.077554959447895,5.4292572347356876,3.8798244609204313,4.974205901079596,3.5347381374498585,5.445681096648457,0.7016414630036356,3.493887848643107,4.848035977534314,5.152292946200395,0.7016414630036356,0.7016414630036356,2.0138510590549012,3.3619440584627895,4.072479206335252,4.495450125133908,2.0138510590549012,2.3981175076147205,4.422004319042392,3.5347381374498585,3.818458026530907,4.72204036763977,2.284105863760061,2.284105863760061,1.6557301330071357,0.7016414630036356,3.6493438525353694,2.284105863760061,3.451550737618847,3.6493438525353694,4.645916328935069,4.676944638342572,5.325834772841887,3.3619440584627895,2.5964075261838406,4.614068035561931,3.3619440584627895,0.7016414630036356,4.046806533373599,2.157149452397917,4.046806533373599,2.284105863760061,4.530552408082192,2.0138510590549012,5.251717173087598,3.213016304901022,2.6838620347627686,1.8492576277585893,4.937711062754209,4.2381315143717195,4.962162188894207,5.4292572347356876,3.6493438525353694,1.1200527535574272,4.343755867139952,3.407612271271626,3.6851761816841813,3.9381501481332664,4.564657818990012,5.182976411825797,3.9093481139747426,2.284105863760061,4.402916934829602,4.513129571307577,3.9381501481332664,3.0419569552312287,3.407612271271626,3.993726980774374,2.284105863760061,2.7650514420781525,3.1018494924095155,4.630097429643682,2.6838620347627686,5.055333584256527,1.6557301330071357,2.157149452397917,2.157149452397917,5.270670033417742,5.280037870157282,2.0138510590549012,4.097607179378114,3.9662655947373997,5.620362616258515,0.7016414630036356,3.9662655947373997,3.264820994371438,2.3981175076147205,3.407612271271626,3.0419569552312287,4.513129571307577,4.146319701809421,5.4858095593361025,4.513129571307577,2.501617160981308,2.6838620347627686,3.993726980774374,0.7016414630036356,3.493887848643107,2.157149452397917,2.9118762698030434,2.501617160981308,3.612378346708319,3.7199438993339546,2.501617160981308,0.7016414630036356,3.849541388533134,0.0,1.1200527535574272,0.0,3.264820994371438,4.547726107730136,3.574204209329111,1.1200527535574272,2.9118762698030434,4.751195129659512,1.4205496414334668,0.7016414630036356,3.1018494924095155,3.264820994371438,4.530552408082192,2.501617160981308,3.3619440584627895,2.8408268910805474,2.157149452397917,1.8492576277585893,1.6557301330071357,3.574204209329111,4.925298617032154,1.8492576277585893,4.477506253870261,2.157149452397917,2.157149452397917,2.157149452397917,4.020564562669128,0.7016414630036356,0.7016414630036356,3.993726980774374,4.614068035561931,0.7016414630036356,2.157149452397917,0.7016414630036356,2.5964075261838406,4.779663376681749,2.0138510590549012,0.7016414630036356,3.493887848643107,5.412611772054656,2.284105863760061,0.7016414630036356,0.7016414630036356,2.5964075261838406,1.6557301330071357,4.949998068462807,1.1200527535574272,1.8492576277585893,3.0419569552312287,5.270670033417742,2.0138510590549012,4.3638033689794105,2.5964075261838406,2.284105863760061,5.539886661113385,3.5347381374498585,3.213016304901022,3.3144015119585197,3.1018494924095155,4.343755867139952,4.323366075375021,1.1200527535574272,3.451550737618847,2.6838620347627686,1.8492576277585893,5.627426056891716,2.6838620347627686,4.581354385530364,3.493887848643107,2.3981175076147205,2.8408268910805474,1.8492576277585893,1.6557301330071357,4.962162188894207,4.848035977534314,3.818458026530907,2.0138510590549012,1.4205496414334668,2.284105863760061,4.564657818990012,4.3638033689794105,2.284105863760061,1.1200527535574272,3.1587743149871175,5.2421298492833035,3.753709497165099,4.69216451199997,0.7016414630036356,1.1200527535574272,0.7016414630036356,3.264820994371438,2.9118762698030434,0.7016414630036356,0.7016414630036356,1.6557301330071357,2.3981175076147205,0.7016414630036356,4.146319701809421,0.7016414630036356,2.0138510590549012,2.157149452397917,2.284105863760061,3.6493438525353694,1.4205496414334668,0.7016414630036356,0.7016414630036356,0.7016414630036356,1.6557301330071357,0.7016414630036356,3.264820994371438,1.1200527535574272,3.1587743149871175,4.707194839844359,4.4592897769679025,4.495450125133908,4.7655130045673095,0.7016414630036356,3.0419569552312287,4.046806533373599,1.4205496414334668,2.157149452397917,1.8492576277585893,2.284105863760061,3.264820994371438,1.1200527535574272,1.4205496414334668,3.9381501481332664,0.7016414630036356,2.157149452397917,3.451550737618847,2.7650514420781525,3.1587743149871175,2.7650514420781525,2.501617160981308,2.3981175076147205,2.284105863760061,2.501617160981308,3.0419569552312287,2.284105863760061,2.284105863760061,3.993726980774374,2.5964075261838406,2.157149452397917,2.157149452397917,0.7016414630036356,4.193111765012185,1.6557301330071357,2.3981175076147205,3.3619440584627895,2.284105863760061,4.215834598416943,3.574204209329111,4.343755867139952,3.407612271271626,0.7016414630036356,3.451550737618847,0.7016414630036356,3.6493438525353694,1.1200527535574272,3.7865300919809473,1.1200527535574272,0.7016414630036356,1.6557301330071357,0.7016414630036356,3.3619440584627895,1.6557301330071357,4.281510500607993,4.302621878064351,2.501617160981308,2.6838620347627686,2.284105863760061,4.614068035561931,3.3619440584627895,2.5964075261838406,3.753709497165099,2.7650514420781525,4.751195129659512,2.7650514420781525,4.2381315143717195,4.281510500607993,0.7016414630036356,1.1200527535574272,1.1200527535574272,3.451550737618847,3.6851761816841813,1.6557301330071357,2.157149452397917,2.7650514420781525,2.284105863760061,1.6557301330071357,2.9118762698030434,4.193111765012185,4.630097429643682,0.7016414630036356,2.7650514420781525,2.157149452397917,2.9787635541340487,2.3981175076147205,0.7016414630036356,2.284105863760061,2.6838620347627686,2.0138510590549012,4.215834598416943,4.383520082216515,2.284105863760061,3.612378346708319,0.7016414630036356,3.9662655947373997,0.7016414630036356,2.284105863760061,2.501617160981308,1.8492576277585893,3.574204209329111,2.0138510590549012,2.284105863760061,2.5964075261838406,2.6838620347627686,2.7650514420781525,2.5964075261838406,2.0138510590549012,4.323366075375021,2.7650514420781525,2.157149452397917,4.146319701809421,2.3981175076147205,4.260018460597762,1.4205496414334668,1.8492576277585893,2.284105863760061,4.343755867139952,4.281510500607993,4.323366075375021,4.477506253870261,0.7016414630036356,0.7016414630036356,2.3981175076147205,1.8492576277585893,2.9787635541340487,1.8492576277585893,4.3638033689794105,4.046806533373599,0.7016414630036356,2.284105863760061,1.6557301330071357,4.020564562669128,4.097607179378114,4.097607179378114,0.7016414630036356,4.614068035561931,2.284105863760061,4.736705664109701,4.402916934829602,4.1222134810747475,4.343755867139952,0.7016414630036356,4.779663376681749,2.8408268910805474,0.7016414630036356,1.1200527535574272,2.7650514420781525,1.1200527535574272,2.8408268910805474,2.0138510590549012,1.4205496414334668,1.4205496414334668,0.7016414630036356,1.6557301330071357,3.493887848643107,0.7016414630036356,3.753709497165099,2.6838620347627686,3.9093481139747426,4.477506253870261,2.8408268910805474,4.495450125133908,4.530552408082192,0.7016414630036356,4.302621878064351,2.284105863760061,4.323366075375021,3.9662655947373997,2.157149452397917,4.169946111416401,1.8492576277585893,4.281510500607993,4.281510500607993,1.8492576277585893,4.495450125133908,2.9118762698030434,3.8798244609204313,4.1222134810747475,3.213016304901022,2.7650514420781525,4.581354385530364,0.7016414630036356,4.097607179378114,3.9381501481332664,4.513129571307577,4.4407921258781755,3.451550737618847,1.8492576277585893,1.4205496414334668,2.8408268910805474,1.4205496414334668,4.281510500607993,4.477506253870261,3.451550737618847,4.193111765012185,3.1587743149871175,3.0419569552312287,4.343755867139952,3.5347381374498585,1.8492576277585893,3.612378346708319,4.581354385530364,3.451550737618847,4.072479206335252,4.343755867139952,3.612378346708319,2.7650514420781525,3.993726980774374,2.9118762698030434,3.9381501481332664,3.3619440584627895,0.7016414630036356,4.530552408082192,1.4205496414334668,3.849541388533134,3.9093481139747426,0.7016414630036356,2.501617160981308,1.1200527535574272,3.818458026530907,4.751195129659512,1.8492576277585893,4.707194839844359,2.157149452397917,3.1587743149871175,2.6838620347627686,2.9787635541340487,2.9787635541340487,3.3619440584627895,2.284105863760061,3.264820994371438,1.8492576277585893,4.302621878064351,3.9662655947373997,2.5964075261838406,4.260018460597762,4.72204036763977,3.9662655947373997,4.645916328935069,4.597822363112636,4.1222134810747475,4.630097429643682,3.3144015119585197,0.7016414630036356,1.1200527535574272,0.7016414630036356,3.7865300919809473,4.343755867139952,4.645916328935069,3.612378346708319,4.4407921258781755,3.3144015119585197,3.574204209329111,3.1018494924095155,0.7016414630036356,0.7016414630036356,5.251717173087598,4.949998068462807,4.193111765012185,4.962162188894207,5.131401381449446,5.437496489738915,5.822577594910873,5.709194582546227,5.387214496998732,3.6851761816841813,3.3144015119585197,2.9118762698030434,1.1200527535574272,2.501617160981308,2.9118762698030434,5.261230179883386,3.5347381374498585,0.7016414630036356,1.8492576277585893,5.066494843354565,3.6851761816841813,3.6493438525353694,5.11014668957625,4.343755867139952,3.7199438993339546,4.2381315143717195,5.066494843354565,4.281510500607993,3.9662655947373997,3.3619440584627895,5.352515975770331,4.900086778132418,3.7199438993339546,3.7199438993339546,4.69216451199997,0.7016414630036356,3.7865300919809473,0.7016414630036356,5.735297767217237,1.1200527535574272,0.7016414630036356,4.779663376681749,2.501617160981308,3.753709497165099,3.1018494924095155,2.0138510590549012,1.4205496414334668,4.1222134810747475,4.72204036763977,3.3144015119585197,5.182976411825797,5.16260646030529,3.5347381374498585,0.7016414630036356,2.8408268910805474,5.212909910347096,2.284105863760061,4.793650188661996,2.8408268910805474,4.9979416389269415,2.284105863760061,3.574204209329111,0.7016414630036356,4.547726107730136,5.60611392469175,3.8798244609204313,2.9118762698030434,0.7016414630036356,2.157149452397917,4.422004319042392,5.298561907774272,5.412611772054656,4.736705664109701,5.141891763585568,4.72204036763977,3.1018494924095155,4.513129571307577,4.4407921258781755,1.4205496414334668,5.077554959447895,0.7016414630036356,4.3638033689794105,3.849541388533134,4.874340430060934,3.5347381374498585,4.2381315143717195,4.861259502691326,1.8492576277585893,4.513129571307577,3.1018494924095155,2.5964075261838406,0.7016414630036356,5.532304601958957,3.3144015119585197,5.316810870293175,3.451550737618847,2.0138510590549012,5.182976411825797,1.6557301330071357,0.7016414630036356,5.22272745392529,4.676944638342572,4.323366075375021,3.264820994371438,4.9979416389269415,2.284105863760061,2.501617160981308,1.6557301330071357,1.6557301330071357,3.493887848643107,5.22272745392529,3.612378346708319,0.7016414630036356,1.8492576277585893,1.6557301330071357,0.7016414630036356,0.7016414630036356,2.284105863760061,0.7016414630036356,2.3981175076147205,2.9787635541340487,0.7016414630036356,1.4205496414334668,3.3619440584627895,4.1222134810747475,2.9787635541340487,4.146319701809421,2.0138510590549012,2.9118762698030434,3.1018494924095155,3.1587743149871175,2.3981175076147205,2.3981175076147205,1.8492576277585893,2.0138510590549012,2.284105863760061,1.8492576277585893,2.3981175076147205,0.7016414630036356,5.152292946200395,0.0,3.753709497165099,0.0,4.097607179378114,0.0,1.1200527535574272,2.284105863760061,0.7016414630036356,5.120820228074428,4.834666652906748,3.264820994371438,1.1200527535574272,2.501617160981308,4.4407921258781755,1.8492576277585893,0.7016414630036356,1.6557301330071357,2.8408268910805474,2.3981175076147205,1.1200527535574272,1.1200527535574272,0.7016414630036356,2.6838620347627686,1.8492576277585893,3.849541388533134,2.501617160981308,2.157149452397917,1.1200527535574272,1.4205496414334668,1.1200527535574272,0.7016414630036356,1.4205496414334668,2.7650514420781525,3.451550737618847,1.4205496414334668,1.1200527535574272,1.1200527535574272,1.1200527535574272,1.1200527535574272,0.7016414630036356,2.157149452397917,0.7016414630036356,1.1200527535574272,1.6557301330071357,0.7016414630036356,0.7016414630036356,4.097607179378114,5.361282696448128,5.754522083405963,3.993726980774374,1.4205496414334668,3.6851761816841813,5.881381900313251,3.9381501481332664,0.0,2.6838620347627686,1.4205496414334668,5.735297767217237,4.707194839844359,5.055333584256527,2.7650514420781525,2.284105863760061,6.082598298665306,5.682531843959386,3.5347381374498585,3.7865300919809473,5.735297767217237,1.4205496414334668,5.798257743591832,4.8211482173999585,1.4205496414334668,3.9381501481332664,4.215834598416943,4.900086778132418,3.493887848643107,4.302621878064351,3.612378346708319,1.8492576277585893,5.261230179883386,5.280037870157282,5.077554959447895,5.261230179883386,0.7016414630036356,4.874340430060934,5.7223146209652604,5.066494843354565,5.627426056891716,5.509275589662308,4.495450125133908,5.193035720016823,4.281510500607993,4.937711062754209,2.8408268910805474,3.3619440584627895,5.69593468025586,5.562358119366963,4.9979416389269415,1.6557301330071357,3.3144015119585197,5.577115716802684,5.0326999764634355,3.993726980774374,1.4205496414334668,4.513129571307577,4.848035977534314,3.3144015119585197,4.861259502691326,1.4205496414334668,5.316810870293175,6.153925355306907,2.0138510590549012,6.02247275198776,5.9320397750612415,3.7865300919809473,5.875624468177611,5.09937910837734,5.387214496998732,3.7865300919809473,3.1587743149871175,4.581354385530364,4.323366075375021,4.046806533373599,5.7223146209652604,5.662152618110164,2.6838620347627686,5.627426056891716,4.861259502691326,4.630097429643682,4.861259502691326,0.7016414630036356,5.387214496998732,2.9787635541340487,4.260018460597762,3.0419569552312287,5.193035720016823,5.524675799287261,2.157149452397917,1.4205496414334668,0.7016414630036356,5.009638257511512,4.900086778132418,4.676944638342572,5.584429117443326,3.1018494924095155,5.131401381449446,6.106825907471362,1.8492576277585893,1.1200527535574272,5.182976411825797,2.3981175076147205,1.8492576277585893,5.798257743591832,5.689251324705646,1.4205496414334668,0.7016414630036356,5.547422556300571,5.554912856296033,4.661530286771687,5.182976411825797,5.352515975770331,2.157149452397917,5.325834772841887,3.493887848643107,1.8492576277585893,4.581354385530364,5.11014668957625,6.0923454113254865,6.11638781121843,5.077554959447895,1.6557301330071357,1.1200527535574272,3.612378346708319,0.7016414630036356,5.943023942325629,3.0419569552312287,5.920958384315573,3.3144015119585197,0.7016414630036356,6.077696263271446,3.407612271271626,5.16260646030529,3.6493438525353694,5.16260646030529,4.751195129659512,5.60611392469175,4.343755867139952,3.3144015119585197,1.6557301330071357,6.203779078099568,4.793650188661996,1.4205496414334668,2.6838620347627686,5.501502967219617,5.334792949808633,3.753709497165099,4.323366075375021,0.7016414630036356,2.501617160981308,5.613258730330033,5.404204020829196,4.597822363112636,5.412611772054656,1.1200527535574272,2.0138510590549012,4.8211482173999585,5.088515781610343,5.760864802715331,3.1018494924095155,4.900086778132418,4.422004319042392,5.532304601958957,4.097607179378114,4.614068035561931,6.067834475668377,3.6493438525353694,3.3144015119585197,3.612378346708319,5.779701491742558,2.0138510590549012,4.676944638342572,3.8798244609204313,3.407612271271626,3.451550737618847,3.3144015119585197,0.7016414630036356,3.574204209329111,4.146319701809421,3.574204209329111,5.8345620559266544,3.493887848643107,4.530552408082192,5.361282696448128,5.846432563114815,5.251717173087598,6.042836026853161,4.900086778132418,2.157149452397917,1.4205496414334668,5.539886661113385,2.9787635541340487,4.751195129659512,5.524675799287261,5.9484801068774305,4.2381315143717195,6.077696263271446,5.735297767217237,3.849541388533134,5.316810870293175,5.584429117443326,5.577115716802684,5.898496808930284,5.702582303910932,5.798257743591832,1.6557301330071357,5.493681169685853,5.892817827165131,5.009638257511512,2.0138510590549012,5.251717173087598,5.420962583431871,5.4858095593361025,4.848035977534314,5.9965451120005655,3.6851761816841813,3.3144015119585197,3.849541388533134,4.530552408082192,3.1587743149871175,3.849541388533134,5.369987436135488,4.751195129659512,6.02759461620206,3.5347381374498585,4.3638033689794105,4.925298617032154,5.5169996624990425,1.6557301330071357,5.881381900313251,5.0326999764634355,5.325834772841887,3.6851761816841813,3.7865300919809473,2.284105863760061,2.8408268910805474,5.554912856296033,1.8492576277585893,5.9265113420342805,4.072479206335252,1.8492576277585893,4.645916328935069,3.451550737618847,2.3981175076147205,5.5916996141889,5.767175391578503,2.501617160981308,6.111615940603214,1.4205496414334668,3.1587743149871175,0.7016414630036356,5.16260646030529,4.986131607473646,5.577115716802684,4.547726107730136,3.0419569552312287,0.7016414630036356,3.849541388533134,1.1200527535574272,0.7016414630036356,1.6557301330071357,0.7016414630036356,5.172833797603015,2.284105863760061,1.1200527535574272,2.7650514420781525,5.28933480013666,4.581354385530364,1.8492576277585893,4.597822363112636,2.5964075261838406,1.1200527535574272,2.3981175076147205,3.1018494924095155,4.169946111416401,4.925298617032154,0.7016414630036356,3.1587743149871175,0.7016414630036356,6.006980546320462,2.6838620347627686,1.1200527535574272,0.7016414630036356,3.407612271271626,4.072479206335252,3.1018494924095155,3.849541388533134,2.284105863760061,3.6851761816841813,2.0138510590549012,2.3981175076147205,1.4205496414334668,3.612378346708319,3.9662655947373997,2.0138510590549012,0.7016414630036356,6.0727750401271665,2.9118762698030434,2.8408268910805474,6.012165893985217,4.736705664109701,0.7016414630036356,1.4205496414334668,4.169946111416401,0.7016414630036356,0.7016414630036356,2.284105863760061,3.213016304901022,0.7016414630036356,3.1018494924095155,6.102017570493469,1.4205496414334668,5.74814689875096,5.4292572347356876,0.7016414630036356,1.6557301330071357,1.1200527535574272,3.1018494924095155,5.412611772054656,1.1200527535574272,3.1587743149871175,1.8492576277585893,5.182976411825797,0.7016414630036356,0.7016414630036356,2.7650514420781525,4.146319701809421,1.1200527535574272,4.912758095560638,2.157149452397917,4.8211482173999585,3.7865300919809473,1.8492576277585893,2.157149452397917,2.284105863760061,1.1200527535574272,5.78591764733859,4.848035977534314,5.78591764733859,5.641433458867018,4.495450125133908,1.8492576277585893,2.284105863760061,4.793650188661996,2.0138510590549012,4.4592897769679025,1.4205496414334668,1.1200527535574272,3.264820994371438,2.6838620347627686,1.6557301330071357,1.8492576277585893,2.284105863760061,0.7016414630036356,3.6493438525353694,3.0419569552312287,3.9381501481332664,4.169946111416401,4.323366075375021,1.4205496414334668,1.6557301330071357,3.0419569552312287,2.0138510590549012,1.8492576277585893,0.7016414630036356,0.7016414630036356,0.7016414630036356,0.7016414630036356,2.7650514420781525,4.193111765012185,1.6557301330071357,1.4205496414334668,0.7016414630036356,1.1200527535574272,4.323366075375021,0.7016414630036356,3.1587743149871175,2.3981175076147205,6.052895170650394,3.0419569552312287,0.7016414630036356,0.7016414630036356,3.1587743149871175,4.874340430060934,1.4205496414334668,1.8492576277585893,4.020564562669128,3.6493438525353694,6.00177367987033,4.097607179378114,5.021223659208136,3.5347381374498585,3.1018494924095155,3.849541388533134,1.6557301330071357,1.6557301330071357,1.1200527535574272,0.7016414630036356,1.8492576277585893,1.1200527535574272,0.7016414630036356,2.0138510590549012,3.213016304901022,0.7016414630036356,3.213016304901022,3.7865300919809473,1.1200527535574272,5.352515975770331,3.3144015119585197,2.6838620347627686,2.0138510590549012,3.5347381374498585,0.7016414630036356,3.8798244609204313,3.753709497165099,1.4205496414334668,5.709194582546227,5.352515975770331,1.1200527535574272,3.1018494924095155,1.1200527535574272,4.146319701809421,3.9662655947373997,5.172833797603015,4.69216451199997,5.501502967219617,0.7016414630036356,4.046806533373599,2.9787635541340487,4.807477244792168,0.7016414630036356,4.779663376681749,2.9118762698030434,5.675775838147137,1.1200527535574272,3.9381501481332664,4.949998068462807,2.501617160981308,4.8872818564091745,4.3638033689794105,2.284105863760061,5.4618892836983655,1.6557301330071357,4.020564562669128,2.157149452397917,3.993726980774374,0.7016414630036356,5.182976411825797,2.9787635541340487,5.648378328541646,5.412611772054656,3.753709497165099,5.298561907774272,5.7223146209652604,5.343686368719786,3.9662655947373997,1.1200527535574272,5.547422556300571,2.284105863760061,5.378631080689032,3.451550737618847,2.284105863760061,1.1200527535574272,0.7016414630036356,4.072479206335252,2.284105863760061,4.193111765012185,2.157149452397917,5.675775838147137,2.7650514420781525,5.044069280624282,1.1200527535574272,4.146319701809421,4.422004319042392,5.131401381449446,5.554912856296033,1.4205496414334668,4.046806533373599,0.7016414630036356,4.097607179378114,3.6493438525353694,2.501617160981308,4.1222134810747475,4.848035977534314,4.8211482173999585,3.1587743149871175,2.501617160981308,4.874340430060934,1.8492576277585893,0.7016414630036356,5.584429117443326,2.157149452397917,3.574204209329111,4.2381315143717195,2.157149452397917,5.172833797603015,2.157149452397917,5.172833797603015,4.4407921258781755,3.5347381374498585,4.912758095560638,3.818458026530907,3.818458026530907,2.9787635541340487,4.8211482173999585,1.1200527535574272,1.4205496414334668,2.6838620347627686,1.1200527535574272,1.8492576277585893,4.949998068462807,1.4205496414334668,2.0138510590549012,5.131401381449446,0.7016414630036356,5.5916996141889,5.532304601958957,1.4205496414334668,5.193035720016823,1.4205496414334668,3.1587743149871175,5.620362616258515,5.2421298492833035,4.046806533373599,4.146319701809421,2.157149452397917,2.5964075261838406,3.451550737618847,3.7199438993339546,3.0419569552312287,2.8408268910805474,5.437496489738915,1.8492576277585893,3.0419569552312287,2.501617160981308,5.387214496998732,2.501617160981308,5.2030131037580745,5.11014668957625,0.7016414630036356,4.046806533373599,2.9787635541340487,1.4205496414334668,1.6557301330071357,1.4205496414334668,4.937711062754209,1.4205496414334668,5.501502967219617,5.182976411825797,3.1018494924095155,3.574204209329111,3.8798244609204313,1.1200527535574272,0.7016414630036356,2.0138510590549012,4.925298617032154,4.4592897769679025,3.1018494924095155,1.8492576277585893,4.874340430060934,4.215834598416943,0.7016414630036356,5.261230179883386,3.213016304901022,5.334792949808633,2.7650514420781525,2.0138510590549012,3.3619440584627895,0.7016414630036356,4.7655130045673095,0.7016414630036356,4.302621878064351,3.1018494924095155,2.9787635541340487,2.9118762698030434,4.949998068462807,4.874340430060934,5.378631080689032,5.325834772841887,0.7016414630036356,5.2421298492833035,5.598927716481857,3.3144015119585197,3.0419569552312287,2.157149452397917,5.22272745392529,4.597822363112636,3.1018494924095155,4.072479206335252,4.661530286771687,4.281510500607993,5.598927716481857,1.4205496414334668,5.675775838147137,4.676944638342572,1.6557301330071357,4.751195129659512,4.146319701809421,2.6838620347627686,3.1587743149871175,0.7016414630036356,3.9381501481332664,4.676944638342572,4.495450125133908,5.141891763585568,5.584429117443326,4.69216451199997,4.707194839844359,5.404204020829196,5.298561907774272,4.097607179378114,4.2381315143717195,3.0419569552312287,2.7650514420781525,3.753709497165099,2.5964075261838406,4.581354385530364,5.066494843354565,4.046806533373599,1.4205496414334668,3.1587743149871175,4.874340430060934,1.1200527535574272,3.753709497165099,2.9787635541340487,3.8798244609204313,3.451550737618847,3.818458026530907,2.284105863760061,2.5964075261838406,3.7199438993339546,0.7016414630036356,0.7016414630036356,0.7016414630036356,1.8492576277585893,2.0138510590549012,2.284105863760061,0.7016414630036356,3.7199438993339546,2.9787635541340487,1.4205496414334668,0.7016414630036356,1.4205496414334668,1.1200527535574272,6.130595836807448,0.0,4.530552408082192,0.0,4.146319701809421,1.8492576277585893,6.1446453330001685,2.9787635541340487,6.139979559668773,5.86402942280782,5.420962583431871,5.131401381449446,5.524675799287261,6.185877662051754,5.569758893530267,5.986022129679228,5.804382299595663,5.524675799287261,5.620362616258515,4.848035977534314,5.28933480013666,6.153925355306907,0.7016414630036356,4.477506253870261,3.3144015119585197,5.7223146209652604,5.662152618110164,3.0419569552312287,4.807477244792168,3.493887848643107,5.509275589662308,4.3638033689794105,4.751195129659512,5.469914286144682,5.261230179883386,5.735297767217237,5.858191301399426,1.6557301330071357,5.953912607470754,2.7650514420781525,4.645916328935069,3.407612271271626,4.861259502691326,4.8211482173999585,5.4858095593361025,5.270670033417742,4.69216451199997,1.4205496414334668,5.887112938230608,1.1200527535574272,5.22272745392529,5.316810870293175,4.614068035561931,4.2381315143717195,4.3638033689794105,5.352515975770331,4.4592897769679025,4.097607179378114,5.088515781610343,2.6838620347627686,4.097607179378114,5.0326999764634355,6.032695669459333,5.598927716481857,4.477506253870261,4.343755867139952,5.509275589662308,1.4205496414334668,2.0138510590549012,4.072479206335252,3.849541388533134,1.4205496414334668,4.630097429643682,3.451550737618847,3.407612271271626,2.8408268910805474,3.0419569552312287,5.953912607470754,4.645916328935069,3.3144015119585197,5.620362616258515,5.493681169685853,5.970070192426514,0.7016414630036356,4.962162188894207,5.131401381449446,5.562358119366963,3.612378346708319,4.530552408082192,4.645916328935069,4.707194839844359,2.501617160981308,4.564657818990012,4.848035977534314,2.157149452397917,6.077696263271446,5.539886661113385,5.270670033417742,4.3638033689794105,2.9118762698030434,4.2381315143717195,2.7650514420781525,3.993726980774374,2.8408268910805474,5.212909910347096,4.7655130045673095,5.634449518393335,4.793650188661996,3.818458026530907,5.689251324705646,5.858191301399426,4.630097429643682,3.8798244609204313,5.953912607470754,2.284105863760061,5.875624468177611,3.574204209329111,3.9381501481332664,4.4407921258781755,3.0419569552312287,1.8492576277585893,5.2421298492833035,4.495450125133908,4.072479206335252,5.493681169685853,5.343686368719786,5.709194582546227,5.09937910837734,3.574204209329111,2.5964075261838406,3.6493438525353694,3.0419569552312287,5.131401381449446,6.203779078099568,5.9320397750612415,3.3619440584627895,5.232467016560096,3.574204209329111,3.7199438993339546,6.03777608322789,2.9118762698030434,5.493681169685853,4.645916328935069,2.6838620347627686,1.4205496414334668,5.4858095593361025,4.949998068462807,4.402916934829602,4.912758095560638,4.614068035561931,3.7199438993339546,5.846432563114815,3.3144015119585197,1.6557301330071357,5.251717173087598,3.5347381374498585,2.0138510590549012,4.645916328935069,3.6493438525353694,6.199327481752911,5.501502967219617,3.9662655947373997,3.9381501481332664,5.316810870293175,4.146319701809421,4.564657818990012,2.9787635541340487,1.8492576277585893,3.849541388533134,5.131401381449446,5.0326999764634355,3.7199438993339546,5.627426056891716,5.0326999764634355,5.8345620559266544,6.163137530518118,2.6838620347627686,3.574204209329111,0.7016414630036356,1.6557301330071357,3.3144015119585197,3.493887848643107,5.662152618110164,0.7016414630036356,4.343755867139952,4.69216451199997,0.7016414630036356,3.8798244609204313,5.887112938230608,3.818458026530907,3.451550737618847,3.1018494924095155,1.6557301330071357,0.7016414630036356,1.1200527535574272,2.5964075261838406,5.9320397750612415,3.213016304901022,3.9662655947373997,5.869840393101191,5.369987436135488,5.804382299595663,1.8492576277585893,1.4205496414334668,3.993726980774374,5.69593468025586,1.8492576277585893,5.343686368719786,4.900086778132418,2.5964075261838406,0.7016414630036356,1.6557301330071357,1.1200527535574272,2.284105863760061,2.501617160981308,2.501617160981308,2.284105863760061,1.1200527535574272,2.284105863760061,1.8492576277585893,2.157149452397917,2.5964075261838406,1.8492576277585893,0.0,2.3981175076147205,0.7016414630036356,0.7016414630036356,5.5916996141889,5.16260646030529,4.751195129659512,3.213016304901022,0.7016414630036356,5.9320397750612415,5.387214496998732,4.2381315143717195,1.1200527535574272,3.5347381374498585,1.1200527535574272,0.7016414630036356,2.284105863760061,3.3619440584627895,4.046806533373599,4.4592897769679025,2.284105863760061,4.402916934829602,6.006980546320462,2.5964075261838406,3.3619440584627895,3.6493438525353694,5.648378328541646,3.7199438993339546,3.264820994371438,5.055333584256527,4.848035977534314,4.169946111416401,4.807477244792168,4.630097429643682,5.539886661113385,3.1587743149871175,2.0138510590549012,4.260018460597762,4.097607179378114,3.849541388533134,2.501617160981308,4.597822363112636,0.7016414630036356,3.993726980774374,3.3144015119585197,0.7016414630036356,0.7016414630036356,2.501617160981308,0.7016414630036356,2.5964075261838406,4.834666652906748,4.564657818990012,0.7016414630036356,3.849541388533134,2.9118762698030434,2.0138510590549012,4.302621878064351,3.9662655947373997,1.4205496414334668,2.8408268910805474,4.8872818564091745,2.6838620347627686,3.1587743149871175,2.0138510590549012,2.501617160981308,1.4205496414334668,3.407612271271626,5.280037870157282,0.7016414630036356,5.066494843354565,2.3981175076147205,2.0138510590549012,3.407612271271626,1.4205496414334668,0.7016414630036356,0.7016414630036356,1.4205496414334668,1.4205496414334668,1.1200527535574272,0.7016414630036356,1.4205496414334668,0.7016414630036356,2.157149452397917,0.7016414630036356,4.986131607473646,3.7865300919809473,4.215834598416943,4.751195129659512,5.021223659208136,3.9662655947373997,4.736705664109701,4.962162188894207,5.7223146209652604,5.316810870293175,3.1587743149871175,4.3638033689794105,4.779663376681749,3.9093481139747426,4.1222134810747475,1.4205496414334668,2.9787635541340487,3.1587743149871175,5.569758893530267,3.612378346708319,5.404204020829196,4.661530286771687,4.581354385530364,5.088515781610343,4.302621878064351,5.055333584256527,4.8211482173999585,4.874340430060934,5.343686368719786,4.949998068462807,4.949998068462807,3.9381501481332664,3.1587743149871175,5.16260646030529,4.912758095560638,3.5347381374498585,4.495450125133908,3.264820994371438,4.422004319042392,4.793650188661996,3.1018494924095155,4.477506253870261,5.28933480013666,4.986131607473646,3.6851761816841813,3.818458026530907,4.495450125133908,4.402916934829602,5.709194582546227,5.141891763585568,6.097190786674116,5.779701491742558,3.1018494924095155,5.584429117443326,5.767175391578503,5.554912856296033,2.8408268910805474,3.753709497165099,3.213016304901022,4.146319701809421,3.1587743149871175,4.1222134810747475,5.361282696448128,3.213016304901022,2.6838620347627686,3.6493438525353694,4.736705664109701,4.260018460597762,1.6557301330071357,2.5964075261838406,5.477887485883214,4.020564562669128,4.597822363112636,2.9118762698030434,4.736705664109701,5.584429117443326,5.840511415695534,2.8408268910805474,3.1018494924095155,3.0419569552312287,5.193035720016823,5.675775838147137,2.157149452397917,5.316810870293175,3.574204209329111,1.8492576277585893,3.574204209329111,4.402916934829602,3.3144015119585197,0.7016414630036356,2.0138510590549012,4.072479206335252,3.493887848643107,2.7650514420781525,2.9787635541340487,5.445681096648457,4.925298617032154,4.323366075375021,3.213016304901022,2.5964075261838406,1.4205496414334668,2.157149452397917,2.6838620347627686,2.0138510590549012,2.0138510590549012,3.9093481139747426,2.501617160981308,3.3619440584627895,1.6557301330071357,2.5964075261838406,1.8492576277585893,3.3144015119585197,0.7016414630036356,5.852325769286159,0.7016414630036356,1.1200527535574272,1.1200527535574272,0.7016414630036356,1.4205496414334668,1.1200527535574272,0.7016414630036356,0.7016414630036356,2.0138510590549012,2.9787635541340487,3.3619440584627895,3.0419569552312287,1.6557301330071357,0.7016414630036356,4.834666652906748,2.284105863760061,3.9662655947373997,2.7650514420781525,1.6557301330071357,5.307720252656676,1.1200527535574272,4.383520082216515,3.407612271271626,0.7016414630036356,1.1200527535574272,1.6557301330071357,2.7650514420781525,5.0326999764634355,1.6557301330071357,1.6557301330071357,0.7016414630036356,1.8492576277585893,1.1200527535574272,1.4205496414334668,2.157149452397917,2.284105863760061,1.1200527535574272,0.7016414630036356,2.157149452397917,2.284105863760061,2.3981175076147205,1.8492576277585893,1.4205496414334668,1.6557301330071357,1.4205496414334668,0.7016414630036356,0.7016414630036356,1.8492576277585893,0.7016414630036356,2.0138510590549012,0.7016414630036356,1.4205496414334668,1.8492576277585893,1.6557301330071357,1.4205496414334668,5.539886661113385,0.0,5.404204020829196,4.807477244792168,2.0138510590549012,4.564657818990012,5.021223659208136,2.3981175076147205,4.513129571307577,2.5964075261838406,2.5964075261838406,4.4592897769679025,3.6851761816841813,5.172833797603015,3.574204209329111,4.937711062754209,4.9979416389269415,5.343686368719786,4.807477244792168,4.564657818990012,0.7016414630036356,3.9662655947373997,3.407612271271626,3.264820994371438,3.5347381374498585,3.0419569552312287,5.077554959447895,3.3144015119585197,3.3619440584627895,3.1018494924095155,3.6493438525353694,4.302621878064351,5.2421298492833035,4.69216451199997,3.3619440584627895,5.09937910837734,3.0419569552312287,3.753709497165099,4.793650188661996,2.7650514420781525,3.9093481139747426,5.212909910347096,4.530552408082192,3.7199438993339546,2.8408268910805474,1.8492576277585893,1.6557301330071357,2.0138510590549012,1.4205496414334668,2.501617160981308,5.569758893530267,3.1018494924095155,5.959321652167465,0.7016414630036356,4.072479206335252,5.343686368719786,2.8408268910805474,3.6493438525353694,5.4618892836983655,1.6557301330071357,3.3144015119585197,4.69216451199997,5.182976411825797,4.383520082216515,4.707194839844359,2.5964075261838406,5.343686368719786,4.097607179378114,2.9787635541340487,4.614068035561931,5.077554959447895,2.157149452397917,3.213016304901022,4.2381315143717195,3.612378346708319,4.281510500607993,4.323366075375021,3.9662655947373997,0.7016414630036356,5.420962583431871,5.055333584256527,4.530552408082192,4.4592897769679025,5.493681169685853,5.378631080689032,1.8492576277585893,4.912758095560638,5.0326999764634355,3.1018494924095155,4.779663376681749,4.477506253870261,3.574204209329111,4.581354385530364,3.574204209329111,5.4292572347356876,2.7650514420781525,5.577115716802684,3.612378346708319,5.055333584256527,4.614068035561931,4.912758095560638,4.925298617032154,0.7016414630036356,2.0138510590549012,3.3619440584627895,3.8798244609204313,5.055333584256527,5.021223659208136,4.597822363112636,4.146319701809421,0.7016414630036356,2.3981175076147205,4.4407921258781755,4.020564562669128,1.6557301330071357,0.7016414630036356,3.818458026530907,1.6557301330071357,5.493681169685853,3.1587743149871175,1.4205496414334668,3.574204209329111,4.513129571307577,2.501617160981308,4.597822363112636,4.072479206335252,4.630097429643682,2.501617160981308,0.7016414630036356,4.422004319042392,4.530552408082192,4.72204036763977,0.7016414630036356,6.067834475668377,3.574204209329111,5.021223659208136,3.7865300919809473,4.8211482173999585,5.539886661113385,2.0138510590549012,5.437496489738915,5.477887485883214,0.7016414630036356,4.676944638342572,0.7016414630036356,6.149293888582406,4.4592897769679025,3.264820994371438,5.152292946200395,5.28933480013666,4.547726107730136,4.547726107730136,5.141891763585568,4.477506253870261,3.5347381374498585,4.676944638342572,3.5347381374498585,5.8345620559266544,2.7650514420781525,0.7016414630036356,5.804382299595663,3.9381501481332664,3.7865300919809473,3.574204209329111,4.597822363112636,1.6557301330071357,0.7016414630036356,1.1200527535574272,4.046806533373599,2.0138510590549012,5.412611772054656,5.453811788526636,3.818458026530907,4.4407921258781755,2.9787635541340487,3.753709497165099,2.157149452397917,5.232467016560096,1.4205496414334668,4.834666652906748,4.422004319042392,4.3638033689794105,3.0419569552312287,3.574204209329111,4.3638033689794105,4.383520082216515,2.7650514420781525,3.1018494924095155,5.420962583431871,4.779663376681749,3.9662655947373997,2.0138510590549012,2.3981175076147205,5.120820228074428,4.900086778132418,2.6838620347627686,3.1018494924095155,3.3619440584627895,4.72204036763977,1.6557301330071357,4.072479206335252,3.5347381374498585,4.807477244792168,2.5964075261838406,2.5964075261838406,5.767175391578503,4.402916934829602,4.513129571307577,4.146319701809421,6.158539860614691,1.4205496414334668,3.6493438525353694,6.181362327516202,3.3144015119585197,4.925298617032154,4.260018460597762,4.343755867139952,5.120820228074428,5.28933480013666,2.157149452397917,3.993726980774374,3.9093481139747426,1.4205496414334668,3.5347381374498585,3.7865300919809473,0.7016414630036356,4.193111765012185,3.451550737618847,3.407612271271626,2.157149452397917,3.9662655947373997,3.6493438525353694,3.1587743149871175,2.6838620347627686,4.193111765012185,0.7016414630036356,1.1200527535574272,4.779663376681749,5.152292946200395,4.530552408082192,1.4205496414334668,4.281510500607993,1.8492576277585893,5.9320397750612415,5.404204020829196,0.7016414630036356,5.648378328541646,5.532304601958957,2.3981175076147205,3.407612271271626,3.818458026530907,3.849541388533134,4.4592897769679025,0.7016414630036356,5.212909910347096,3.5347381374498585,3.9093481139747426,5.141891763585568,1.1200527535574272,3.3144015119585197,4.046806533373599,5.412611772054656,5.728823123609859,1.8492576277585893,4.020564562669128,5.634449518393335,3.7199438993339546,5.11014668957625,5.021223659208136,4.751195129659512,0.7016414630036356,4.645916328935069,3.451550737618847,3.451550737618847,4.597822363112636,0.7016414630036356,1.6557301330071357,3.0419569552312287,0.7016414630036356,3.818458026530907,3.9662655947373997,4.169946111416401,3.3144015119585197,1.1200527535574272,4.097607179378114,4.779663376681749,4.7655130045673095,4.912758095560638,4.912758095560638,4.614068035561931,0.7016414630036356,4.020564562669128,2.5964075261838406,2.157149452397917,5.852325769286159,4.046806533373599,0.7016414630036356,3.3619440584627895,0.7016414630036356,4.986131607473646,2.9787635541340487,5.251717173087598,4.146319701809421,3.451550737618847,4.900086778132418,3.6493438525353694,2.9118762698030434,4.848035977534314,2.0138510590549012,3.8798244609204313,4.874340430060934,3.451550737618847,2.6838620347627686,5.16260646030529,3.1018494924095155,3.451550737618847,5.74814689875096,3.7199438993339546,4.925298617032154,2.0138510590549012,0.7016414630036356,2.501617160981308,2.0138510590549012,4.8872818564091745,3.7199438993339546,5.9320397750612415,5.22272745392529,3.0419569552312287,5.077554959447895,4.751195129659512,4.422004319042392,4.2381315143717195,4.097607179378114,4.422004319042392,4.343755867139952,1.4205496414334668,1.6557301330071357,2.3981175076147205,4.402916934829602,1.1200527535574272,3.849541388533134,2.3981175076147205,1.4205496414334668,0.7016414630036356,0.7016414630036356,0.7016414630036356,0.7016414630036356,0.7016414630036356,0.7016414630036356,0.7016414630036356,0.7016414630036356,0.7016414630036356,0.7016414630036356,0.7016414630036356,0.7016414630036356,0.7016414630036356,0.7016414630036356,0.7016414630036356,0.7016414630036356,0.7016414630036356,0.7016414630036356,0.7016414630036356,0.7016414630036356,0.7016414630036356,0.7016414630036356,0.7016414630036356,0.7016414630036356,0.7016414630036356,0.7016414630036356,0.7016414630036356,0.7016414630036356,0.7016414630036356,1.1200527535574272,1.1200527535574272,0.7016414630036356,0.7016414630036356,0.7016414630036356,0.7016414630036356,0.7016414630036356,0.7016414630036356,0.7016414630036356,0.7016414630036356,0.7016414630036356,0.7016414630036356,0.7016414630036356,0.7016414630036356,0.7016414630036356,0.7016414630036356,0.7016414630036356,0.7016414630036356,0.7016414630036356,0.7016414630036356,0.7016414630036356,0.7016414630036356,0.7016414630036356,0.7016414630036356,0.7016414630036356,0.7016414630036356,0.7016414630036356,0.7016414630036356,1.1200527535574272,0.7016414630036356,0.7016414630036356,5.009638257511512,0.7016414630036356,2.157149452397917,4.193111765012185,2.9787635541340487,3.9662655947373997,3.6851761816841813,2.3981175076147205,2.9118762698030434,0.7016414630036356,1.4205496414334668,0.7016414630036356,4.874340430060934,4.260018460597762,3.264820994371438,3.3144015119585197,2.157149452397917,4.986131607473646,2.9787635541340487,2.501617160981308,3.3144015119585197,2.284105863760061,0.7016414630036356,2.9787635541340487,2.9787635541340487,1.8492576277585893,2.0138510590549012,3.3619440584627895,0.7016414630036356,1.6557301330071357,2.0138510590549012,2.5964075261838406,1.4205496414334668,2.501617160981308,3.9093481139747426,5.2030131037580745,1.1200527535574272,4.302621878064351,3.7199438993339546,3.9093481139747426,3.5347381374498585,1.1200527535574272,4.661530286771687,3.6493438525353694,4.260018460597762,2.284105863760061,3.9662655947373997,3.9381501481332664,4.807477244792168,3.3144015119585197,1.6557301330071357,2.6838620347627686,2.157149452397917,5.11014668957625,4.793650188661996,6.082598298665306,5.754522083405963,4.597822363112636,3.213016304901022,5.28933480013666,2.7650514420781525,3.264820994371438,3.3144015119585197,3.3619440584627895,2.8408268910805474,2.6838620347627686,3.1587743149871175,4.736705664109701,4.495450125133908,2.0138510590549012,4.874340430060934,1.1200527535574272,4.072479206335252,5.648378328541646,3.6493438525353694,2.501617160981308,2.9118762698030434,0.7016414630036356,5.11014668957625,3.264820994371438,1.1200527535574272,2.7650514420781525,5.4292572347356876,3.264820994371438,5.352515975770331,4.3638033689794105,4.8211482173999585,3.3144015119585197,1.8492576277585893,3.753709497165099,3.6851761816841813,4.281510500607993,2.0138510590549012,2.501617160981308,3.5347381374498585,4.962162188894207,2.6838620347627686,2.8408268910805474,2.9787635541340487,1.4205496414334668,2.6838620347627686,3.3619440584627895,2.0138510590549012,1.8492576277585893,3.612378346708319,5.9320397750612415,4.751195129659512,3.264820994371438,1.1200527535574272,4.9979416389269415,1.1200527535574272,2.3981175076147205,5.598927716481857,2.7650514420781525,2.8408268910805474,0.7016414630036356,3.753709497165099,2.3981175076147205,2.501617160981308,3.0419569552312287,2.0138510590549012,3.3144015119585197,0.7016414630036356,3.9381501481332664,1.8492576277585893,3.213016304901022,2.9787635541340487,3.1587743149871175,2.9118762698030434,3.213016304901022,1.8492576277585893,2.9118762698030434,3.1018494924095155,2.9118762698030434,1.4205496414334668,2.3981175076147205,3.0419569552312287,1.8492576277585893,2.7650514420781525,2.157149452397917,2.6838620347627686,1.4205496414334668,1.1200527535574272,2.6838620347627686,3.1587743149871175,2.501617160981308,2.6838620347627686,2.6838620347627686,2.3981175076147205,1.8492576277585893,1.8492576277585893,2.5964075261838406,2.6838620347627686,2.6838620347627686,1.1200527535574272,3.1018494924095155,2.9787635541340487,2.5964075261838406,2.0138510590549012,2.6838620347627686,2.6838620347627686,2.8408268910805474,1.6557301330071357,2.3981175076147205,1.1200527535574272,2.157149452397917,3.1587743149871175,1.6557301330071357,2.6838620347627686,2.7650514420781525,3.213016304901022,2.7650514420781525,2.501617160981308,3.1587743149871175,3.213016304901022,2.5964075261838406,3.1587743149871175,2.8408268910805474,1.1200527535574272,3.213016304901022,2.8408268910805474,3.213016304901022,2.3981175076147205,1.8492576277585893,1.4205496414334668,3.213016304901022,2.157149452397917,2.6838620347627686,2.501617160981308,2.9787635541340487,1.8492576277585893,0.7016414630036356,2.501617160981308,3.0419569552312287,2.8408268910805474,1.1200527535574272,2.0138510590549012,2.0138510590549012,1.8492576277585893,2.501617160981308,2.3981175076147205,2.0138510590549012,2.6838620347627686,2.284105863760061,0.7016414630036356,2.501617160981308,2.501617160981308,2.0138510590549012,2.501617160981308,1.4205496414334668,2.157149452397917,1.6557301330071357,2.0138510590549012,1.8492576277585893,2.9787635541340487,3.264820994371438,1.1200527535574272,3.1587743149871175,1.1200527535574272,2.501617160981308,2.284105863760061,2.0138510590549012,2.3981175076147205,1.8492576277585893,1.8492576277585893,1.6557301330071357,1.6557301330071357,1.6557301330071357,1.4205496414334668,1.4205496414334668,5.152292946200395,3.6493438525353694,2.7650514420781525,1.4205496414334668,4.4592897769679025,3.6851761816841813,1.6557301330071357,0.7016414630036356,1.1200527535574272,0.7016414630036356,1.4205496414334668,1.8492576277585893,4.146319701809421,1.1200527535574272,3.1018494924095155,3.1587743149871175,4.343755867139952,4.834666652906748,2.9787635541340487,2.501617160981308,4.597822363112636,2.8408268910805474,2.157149452397917,2.7650514420781525,1.6557301330071357,0.7016414630036356,1.8492576277585893,3.3619440584627895,2.5964075261838406,4.046806533373599,2.157149452397917,3.8798244609204313,2.284105863760061,3.8798244609204313,5.172833797603015,0.7016414630036356,1.1200527535574272,2.284105863760061,3.818458026530907,2.3981175076147205,3.3619440584627895,4.962162188894207,1.8492576277585893,1.8492576277585893,1.8492576277585893,4.097607179378114,2.284105863760061,4.020564562669128,4.302621878064351,2.5964075261838406,3.5347381374498585,3.5347381374498585,1.8492576277585893,4.900086778132418,4.422004319042392,0.7016414630036356,3.849541388533134,3.1018494924095155,2.3981175076147205,0.7016414630036356,3.407612271271626,1.1200527535574272,0.7016414630036356,1.6557301330071357,2.5964075261838406,3.753709497165099,2.9787635541340487,2.6838620347627686,2.157149452397917,3.3144015119585197,2.3981175076147205,3.818458026530907,2.9787635541340487,3.407612271271626,3.753709497165099,3.993726980774374,0.7016414630036356,1.1200527535574272,2.157149452397917,4.193111765012185,1.1200527535574272,1.4205496414334668,2.284105863760061,1.4205496414334668,1.8492576277585893,3.753709497165099,1.1200527535574272,0.7016414630036356,1.1200527535574272,0.7016414630036356,4.402916934829602,1.1200527535574272,3.5347381374498585,2.3981175076147205,4.736705664109701,2.0138510590549012,1.4205496414334668,2.8408268910805474,2.0138510590549012,2.0138510590549012,4.215834598416943,4.323366075375021,5.172833797603015,3.6851761816841813,0.7016414630036356,4.807477244792168,3.849541388533134,2.9118762698030434,2.6838620347627686,4.302621878064351,3.753709497165099,3.6851761816841813,3.6851761816841813,3.1587743149871175,2.7650514420781525,3.753709497165099,3.849541388533134,2.284105863760061,2.0138510590549012,3.818458026530907,3.3144015119585197,2.9787635541340487,0.7016414630036356,4.962162188894207,2.501617160981308,4.097607179378114,2.6838620347627686,3.9093481139747426,1.4205496414334668,2.501617160981308,2.0138510590549012,4.495450125133908,3.612378346708319,2.157149452397917,3.407612271271626,2.157149452397917,1.4205496414334668,3.264820994371438,2.157149452397917,0.7016414630036356,3.6493438525353694,4.581354385530364,4.834666652906748,2.501617160981308,1.4205496414334668,4.020564562669128,5.021223659208136,0.7016414630036356,2.8408268910805474,2.157149452397917,0.7016414630036356,3.5347381374498585,4.779663376681749,3.753709497165099,5.055333584256527,2.0138510590549012,3.451550737618847,1.8492576277585893,2.5964075261838406,2.9118762698030434,3.612378346708319,1.4205496414334668,2.0138510590549012,3.9381501481332664,3.8798244609204313,3.213016304901022,4.8211482173999585,3.753709497165099,2.9118762698030434,4.547726107730136,2.9787635541340487,3.1587743149871175,4.564657818990012,2.9787635541340487,2.0138510590549012,3.3144015119585197,3.9381501481332664,1.8492576277585893,4.477506253870261,4.3638033689794105,3.818458026530907,2.3981175076147205,3.264820994371438,2.7650514420781525,4.020564562669128,3.7199438993339546,4.146319701809421,0.7016414630036356,2.501617160981308,1.8492576277585893,2.157149452397917,2.7650514420781525,4.834666652906748,1.4205496414334668,1.4205496414334668,0.7016414630036356,2.6838620347627686,2.9787635541340487,4.215834598416943,2.9118762698030434,2.501617160981308,1.4205496414334668,2.284105863760061,4.793650188661996,3.7865300919809473,1.1200527535574272,4.046806533373599,2.9787635541340487,3.7199438993339546,4.146319701809421,1.1200527535574272,2.5964075261838406,4.807477244792168,3.0419569552312287,2.6838620347627686,1.8492576277585893,1.1200527535574272,1.8492576277585893,1.6557301330071357,3.1018494924095155,1.1200527535574272,3.1587743149871175,2.9787635541340487,0.7016414630036356,2.9787635541340487,1.1200527535574272,3.1587743149871175,2.501617160981308,0.7016414630036356,3.1018494924095155,2.3981175076147205,1.8492576277585893,1.6557301330071357,2.501617160981308,2.0138510590549012,0.7016414630036356,0.7016414630036356,1.1200527535574272,1.4205496414334668,3.993726980774374,0.7016414630036356,1.1200527535574272,3.7199438993339546,4.046806533373599,3.1587743149871175,2.284105863760061,3.264820994371438,3.3619440584627895,0.7016414630036356,2.157149452397917,1.1200527535574272,2.9787635541340487,2.7650514420781525,0.7016414630036356,1.6557301330071357,1.4205496414334668,0.7016414630036356,1.4205496414334668,1.6557301330071357,4.807477244792168,5.172833797603015,6.006980546320462,5.141891763585568,0.0,4.8211482173999585,1.1200527535574272,6.167718489622225,5.620362616258515,4.630097429643682,5.869840393101191,4.193111765012185,5.280037870157282,4.986131607473646,4.097607179378114,6.135296438224245,5.598927716481857,5.875624468177611,5.662152618110164,4.597822363112636,4.834666652906748,2.8408268910805474,5.881381900313251,4.912758095560638,6.006980546320462,5.852325769286159,4.676944638342572,6.163137530518118,6.0173299031894985,5.2030131037580745,5.760864802715331,2.0138510590549012,4.661530286771687,5.959321652167465,5.728823123609859,4.323366075375021,5.675775838147137,5.22272745392529,6.077696263271446,5.532304601958957,3.3144015119585197,5.2030131037580745,5.980727338050621,5.22272745392529,6.03777608322789,0.7016414630036356,2.284105863760061,6.139979559668773,5.316810870293175,6.047875667592682,5.469914286144682,5.420962583431871,3.5347381374498585,6.190376888422808,5.943023942325629,3.6851761816841813,4.530552408082192,2.501617160981308,5.387214496998732,3.493887848643107,6.00177367987033,3.451550737618847,2.501617160981308,5.524675799287261,3.213016304901022,5.662152618110164,2.8408268910805474,3.612378346708319,5.524675799287261,4.645916328935069,5.120820228074428,5.404204020829196,6.0173299031894985,6.163137530518118,5.613258730330033,6.067834475668377,6.149293888582406,5.613258730330033,4.949998068462807,4.925298617032154,5.584429117443326,4.8872818564091745,4.2381315143717195,5.152292946200395,5.369987436135488,4.8872818564091745,5.869840393101191,6.047875667592682,5.810476930045741,5.343686368719786,5.943023942325629,5.562358119366963,3.9093481139747426,5.69593468025586,6.106825907471362,4.912758095560638,4.793650188661996,4.422004319042392,4.874340430060934,3.6493438525353694,5.779701491742558,4.383520082216515,6.139979559668773,3.9662655947373997,3.574204209329111,3.213016304901022,0.7016414630036356,6.149293888582406,4.046806533373599,5.4618892836983655,5.4618892836983655,5.021223659208136,4.513129571307577,6.1446453330001685,3.451550737618847,5.09937910837734,4.097607179378114,5.852325769286159,6.163137530518118,5.4292572347356876,2.157149452397917,5.5916996141889,3.264820994371438,5.741738908555587,5.779701491742558,5.577115716802684,5.316810870293175,5.361282696448128,5.501502967219617,5.387214496998732,4.4592897769679025,6.1211416590062475,4.383520082216515,4.383520082216515,6.17228286114567,5.641433458867018,4.422004319042392,4.707194839844359,1.1200527535574272,5.395738533527084,3.9093481139747426,5.251717173087598,4.422004319042392,3.6493438525353694,5.09937910837734,0.7016414630036356,4.383520082216515,4.1222134810747475,5.343686368719786,5.554912856296033,5.773454179709262,3.9093481139747426,4.807477244792168,5.044069280624282,5.641433458867018,3.818458026530907,5.909778001476332,5.881381900313251,5.598927716481857,5.077554959447895,4.874340430060934,5.858191301399426,5.754522083405963,5.055333584256527,5.668982900682354,4.8211482173999585,5.172833797603015,5.4858095593361025,5.088515781610343,5.251717173087598,4.547726107730136,2.5964075261838406,1.8492576277585893,4.3638033689794105,1.8492576277585893,4.581354385530364,3.264820994371438,1.6557301330071357,3.7199438993339546,3.6493438525353694,1.8492576277585893,1.8492576277585893,1.4205496414334668,4.072479206335252,2.284105863760061,4.215834598416943,4.3638033689794105,2.0138510590549012,4.146319701809421,2.3981175076147205,4.495450125133908,4.581354385530364,2.284105863760061,3.0419569552312287,2.157149452397917,2.7650514420781525,3.0419569552312287,3.6851761816841813,3.264820994371438,0.7016414630036356,3.1018494924095155,3.1018494924095155,3.3144015119585197,4.4407921258781755,3.407612271271626,3.753709497165099,0.7016414630036356,2.8408268910805474,3.6493438525353694,2.0138510590549012,4.193111765012185,2.284105863760061,4.193111765012185,2.6838620347627686,2.284105863760061,3.612378346708319,1.8492576277585893,3.264820994371438,1.1200527535574272,4.323366075375021,3.264820994371438,3.7199438993339546,2.7650514420781525,4.69216451199997,2.8408268910805474,0.7016414630036356,1.1200527535574272,4.097607179378114,4.597822363112636,2.0138510590549012,4.614068035561931,4.281510500607993,3.213016304901022,5.524675799287261,3.574204209329111,1.1200527535574272,1.4205496414334668,0.7016414630036356,4.530552408082192,1.4205496414334668,2.9118762698030434,0.7016414630036356,3.753709497165099,4.645916328935069,1.6557301330071357,4.323366075375021,2.501617160981308,3.213016304901022,1.8492576277585893,4.046806533373599,4.530552408082192,4.323366075375021,0.7016414630036356,4.477506253870261,2.8408268910805474,3.407612271271626,2.157149452397917,3.213016304901022,0.7016414630036356,1.8492576277585893,2.501617160981308,2.501617160981308,0.7016414630036356,1.4205496414334668,2.0138510590549012,4.8872818564091745,1.8492576277585893,4.302621878064351,1.4205496414334668,3.3144015119585197,3.3144015119585197,3.9381501481332664,0.7016414630036356,1.1200527535574272,0.7016414630036356,3.612378346708319,3.6493438525353694,1.6557301330071357,2.3981175076147205,4.146319701809421,4.69216451199997,4.630097429643682,2.9118762698030434,4.422004319042392,3.7865300919809473,3.3619440584627895,4.169946111416401,2.9118762698030434,4.215834598416943,3.407612271271626,2.9787635541340487,1.4205496414334668,2.8408268910805474,3.5347381374498585,2.284105863760061,5.11014668957625,2.284105863760061,2.0138510590549012,4.495450125133908,0.7016414630036356,3.451550737618847,4.848035977534314,4.422004319042392,2.5964075261838406,4.974205901079596,4.193111765012185,4.751195129659512,2.9118762698030434,4.4592897769679025,3.451550737618847,2.6838620347627686,4.564657818990012,2.9118762698030434,1.8492576277585893,4.8872818564091745,3.612378346708319,1.4205496414334668,5.4292572347356876,5.0326999764634355,5.280037870157282,3.3619440584627895,2.7650514420781525,0.7016414630036356,4.260018460597762,3.0419569552312287,3.6493438525353694,2.7650514420781525,3.1018494924095155,3.6851761816841813,5.009638257511512,2.9118762698030434,4.861259502691326,1.8492576277585893,1.4205496414334668,0.7016414630036356,3.7199438993339546,1.6557301330071357,3.1587743149871175,3.9662655947373997,1.4205496414334668,4.564657818990012,4.097607179378114,3.6851761816841813,4.422004319042392,5.009638257511512,3.3619440584627895,4.046806533373599,4.215834598416943,2.5964075261838406,3.3619440584627895,4.383520082216515,5.141891763585568,4.215834598416943,3.1587743149871175,2.157149452397917,2.501617160981308,1.4205496414334668,0.7016414630036356,2.501617160981308,1.6557301330071357,2.501617160981308,2.0138510590549012,1.1200527535574272,2.7650514420781525,0.7016414630036356,3.3619440584627895,2.284105863760061,1.4205496414334668,3.264820994371438,3.7199438993339546,1.1200527535574272,2.9787635541340487,3.9093481139747426,4.422004319042392,3.612378346708319,2.284105863760061,0.7016414630036356,3.818458026530907,3.6851761816841813,2.0138510590549012,3.6851761816841813,4.1222134810747475,4.707194839844359,4.1222134810747475,4.597822363112636,3.6851761816841813,1.4205496414334668,4.4592897769679025,4.597822363112636,2.9787635541340487,2.501617160981308,3.849541388533134,2.6838620347627686,3.3619440584627895,4.343755867139952,1.8492576277585893,3.9093481139747426,3.9662655947373997,4.169946111416401,3.6851761816841813,2.284105863760061,2.501617160981308,1.8492576277585893,1.1200527535574272,4.169946111416401,4.169946111416401,0.7016414630036356,0.7016414630036356,0.7016414630036356,1.1200527535574272,0.7016414630036356,1.8492576277585893,0.7016414630036356,0.7016414630036356,0.7016414630036356,1.1200527535574272,3.3144015119585197,3.1587743149871175,2.8408268910805474,1.8492576277585893,3.1018494924095155,1.6557301330071357,2.5964075261838406,2.0138510590549012,3.0419569552312287,0.7016414630036356,3.0419569552312287,3.3144015119585197,2.5964075261838406,3.1587743149871175,2.0138510590549012,1.1200527535574272,2.284105863760061,1.1200527535574272,1.4205496414334668,3.213016304901022,2.0138510590549012,3.1018494924095155,3.1018494924095155,3.1587743149871175,2.157149452397917,2.6838620347627686,2.6838620347627686,0.7016414630036356,1.6557301330071357,3.0419569552312287,2.8408268910805474,3.0419569552312287,1.1200527535574272,0.7016414630036356,2.0138510590549012,1.6557301330071357,2.6838620347627686,2.0138510590549012,1.4205496414334668,2.0138510590549012,1.1200527535574272,2.501617160981308,1.8492576277585893,2.501617160981308,2.5964075261838406,1.1200527535574272,2.5964075261838406,3.1018494924095155,3.0419569552312287,2.8408268910805474,3.0419569552312287,0.7016414630036356,2.0138510590549012,2.157149452397917,1.6557301330071357,1.6557301330071357,2.157149452397917,0.7016414630036356,0.7016414630036356,2.0138510590549012,1.1200527535574272,3.213016304901022,0.7016414630036356,2.284105863760061,1.1200527535574272,1.6557301330071357,2.0138510590549012,1.8492576277585893,2.9787635541340487,2.9787635541340487,3.1587743149871175,3.1587743149871175,2.501617160981308,3.0419569552312287,2.157149452397917,2.3981175076147205,1.1200527535574272,0.7016414630036356,2.6838620347627686,3.264820994371438,2.0138510590549012,1.8492576277585893,3.264820994371438,2.5964075261838406,2.7650514420781525,2.284105863760061,3.407612271271626,3.0419569552312287,2.8408268910805474,2.3981175076147205,2.0138510590549012,2.3981175076147205,3.3619440584627895,2.5964075261838406,1.1200527535574272,2.7650514420781525,1.4205496414334668,0.7016414630036356,2.9118762698030434,1.6557301330071357,3.0419569552312287,2.8408268910805474,1.6557301330071357,3.264820994371438,3.0419569552312287,2.6838620347627686,2.501617160981308,2.3981175076147205,3.213016304901022,1.1200527535574272,0.7016414630036356,1.8492576277585893,2.5964075261838406,1.1200527535574272,2.157149452397917,2.6838620347627686,1.8492576277585893,3.3144015119585197,2.0138510590549012,3.213016304901022,3.0419569552312287,2.3981175076147205,3.213016304901022,3.3144015119585197,3.1587743149871175,3.213016304901022,2.6838620347627686,2.0138510590549012,2.9787635541340487,3.213016304901022,3.3144015119585197,2.7650514420781525,2.8408268910805474,1.4205496414334668,3.3144015119585197,3.1018494924095155,1.6557301330071357,1.8492576277585893,3.0419569552312287,2.284105863760061,3.1587743149871175,2.157149452397917,3.0419569552312287,1.4205496414334668,1.4205496414334668,1.1200527535574272,2.6838620347627686,2.9787635541340487,0.7016414630036356,2.9118762698030434,1.8492576277585893,2.9787635541340487,3.407612271271626,2.5964075261838406,2.7650514420781525,2.157149452397917,1.6557301330071357,1.8492576277585893,3.1018494924095155,3.1587743149871175,2.0138510590549012,2.7650514420781525,3.213016304901022,2.0138510590549012,2.3981175076147205,2.6838620347627686,2.0138510590549012,2.501617160981308,1.6557301330071357,1.6557301330071357,3.5347381374498585,2.0138510590549012,1.8492576277585893,1.1200527535574272,1.8492576277585893,2.8408268910805474,1.4205496414334668,3.1587743149871175,2.501617160981308,2.3981175076147205,2.5964075261838406,1.1200527535574272,1.1200527535574272,2.6838620347627686,1.8492576277585893,1.6557301330071357,3.1018494924095155,2.8408268910805474,2.5964075261838406,3.1018494924095155,0.7016414630036356,0.7016414630036356,2.284105863760061,1.1200527535574272,1.8492576277585893,2.157149452397917,2.157149452397917,3.3619440584627895,1.6557301330071357,2.501617160981308,0.7016414630036356,1.8492576277585893,1.6557301330071357,1.1200527535574272,0.7016414630036356,2.157149452397917,2.3981175076147205,3.0419569552312287,1.1200527535574272,2.5964075261838406,1.8492576277585893,2.3981175076147205,2.9118762698030434,2.9118762698030434,2.0138510590549012,2.0138510590549012,0.7016414630036356,3.407612271271626,0.7016414630036356,2.8408268910805474,3.0419569552312287,2.0138510590549012,3.1587743149871175,3.1018494924095155,0.7016414630036356,2.3981175076147205,3.0419569552312287,1.6557301330071357,3.1587743149871175,2.6838620347627686,2.5964075261838406,2.6838620347627686,2.8408268910805474,3.0419569552312287,3.1018494924095155,2.6838620347627686,2.7650514420781525,2.3981175076147205,3.3144015119585197,2.9118762698030434,2.3981175076147205,3.1018494924095155,3.1018494924095155,3.0419569552312287,2.157149452397917,2.9787635541340487,2.9787635541340487,3.1587743149871175,2.9787635541340487,1.1200527535574272,2.8408268910805474,3.3144015119585197,2.5964075261838406,3.5347381374498585,2.6838620347627686,2.8408268910805474,2.157149452397917,2.9118762698030434,3.1587743149871175,3.407612271271626,2.0138510590549012,2.9787635541340487,1.1200527535574272,2.5964075261838406,1.4205496414334668,2.8408268910805474,2.9787635541340487,1.6557301330071357,3.1018494924095155,3.1587743149871175,1.1200527535574272,0.7016414630036356,3.0419569552312287,3.213016304901022,2.7650514420781525,0.7016414630036356,3.407612271271626,3.0419569552312287,3.213016304901022,3.1587743149871175,2.8408268910805474,2.284105863760061,0.7016414630036356,3.1587743149871175,0.7016414630036356,2.8408268910805474,2.3981175076147205,1.6557301330071357,2.157149452397917,2.5964075261838406,2.5964075261838406,1.6557301330071357,2.3981175076147205,2.8408268910805474,2.157149452397917,1.6557301330071357,2.157149452397917,1.8492576277585893,1.4205496414334668,1.6557301330071357,1.8492576277585893,1.1200527535574272,1.4205496414334668,0.7016414630036356,2.0138510590549012,0.7016414630036356,1.4205496414334668,2.5964075261838406,2.284105863760061,2.3981175076147205,1.1200527535574272,2.157149452397917,2.157149452397917,2.0138510590549012,1.6557301330071357,2.6838620347627686,2.3981175076147205,0.7016414630036356,2.157149452397917,2.6838620347627686,2.501617160981308,1.4205496414334668,2.501617160981308,2.157149452397917,2.8408268910805474,1.8492576277585893,2.9118762698030434,2.7650514420781525,2.501617160981308,2.157149452397917,2.6838620347627686,2.6838620347627686,2.284105863760061,1.8492576277585893,1.8492576277585893,2.5964075261838406,2.284105863760061,2.7650514420781525,2.501617160981308,1.8492576277585893,2.0138510590549012,1.4205496414334668,2.157149452397917,2.284105863760061,2.8408268910805474,2.6838620347627686,2.0138510590549012,0.7016414630036356,0.7016414630036356,1.4205496414334668,1.8492576277585893,1.4205496414334668,1.6557301330071357,2.157149452397917,0.7016414630036356,2.501617160981308,2.284105863760061,1.1200527535574272,2.0138510590549012,1.6557301330071357,2.284105863760061,1.1200527535574272,1.8492576277585893,0.7016414630036356,1.6557301330071357,1.6557301330071357,1.8492576277585893,2.284105863760061,1.6557301330071357,1.4205496414334668,1.4205496414334668,1.8492576277585893,1.1200527535574272,1.4205496414334668,0.7016414630036356,0.7016414630036356,0.7016414630036356,0.7016414630036356,0.7016414630036356,2.157149452397917,0.7016414630036356],\"xaxis\":\"x\",\"yaxis\":\"y\",\"type\":\"histogram\"}],                        {\"template\":{\"data\":{\"bar\":[{\"error_x\":{\"color\":\"#2a3f5f\"},\"error_y\":{\"color\":\"#2a3f5f\"},\"marker\":{\"line\":{\"color\":\"#E5ECF6\",\"width\":0.5},\"pattern\":{\"fillmode\":\"overlay\",\"size\":10,\"solidity\":0.2}},\"type\":\"bar\"}],\"barpolar\":[{\"marker\":{\"line\":{\"color\":\"#E5ECF6\",\"width\":0.5},\"pattern\":{\"fillmode\":\"overlay\",\"size\":10,\"solidity\":0.2}},\"type\":\"barpolar\"}],\"carpet\":[{\"aaxis\":{\"endlinecolor\":\"#2a3f5f\",\"gridcolor\":\"white\",\"linecolor\":\"white\",\"minorgridcolor\":\"white\",\"startlinecolor\":\"#2a3f5f\"},\"baxis\":{\"endlinecolor\":\"#2a3f5f\",\"gridcolor\":\"white\",\"linecolor\":\"white\",\"minorgridcolor\":\"white\",\"startlinecolor\":\"#2a3f5f\"},\"type\":\"carpet\"}],\"choropleth\":[{\"colorbar\":{\"outlinewidth\":0,\"ticks\":\"\"},\"type\":\"choropleth\"}],\"contour\":[{\"colorbar\":{\"outlinewidth\":0,\"ticks\":\"\"},\"colorscale\":[[0.0,\"#0d0887\"],[0.1111111111111111,\"#46039f\"],[0.2222222222222222,\"#7201a8\"],[0.3333333333333333,\"#9c179e\"],[0.4444444444444444,\"#bd3786\"],[0.5555555555555556,\"#d8576b\"],[0.6666666666666666,\"#ed7953\"],[0.7777777777777778,\"#fb9f3a\"],[0.8888888888888888,\"#fdca26\"],[1.0,\"#f0f921\"]],\"type\":\"contour\"}],\"contourcarpet\":[{\"colorbar\":{\"outlinewidth\":0,\"ticks\":\"\"},\"type\":\"contourcarpet\"}],\"heatmap\":[{\"colorbar\":{\"outlinewidth\":0,\"ticks\":\"\"},\"colorscale\":[[0.0,\"#0d0887\"],[0.1111111111111111,\"#46039f\"],[0.2222222222222222,\"#7201a8\"],[0.3333333333333333,\"#9c179e\"],[0.4444444444444444,\"#bd3786\"],[0.5555555555555556,\"#d8576b\"],[0.6666666666666666,\"#ed7953\"],[0.7777777777777778,\"#fb9f3a\"],[0.8888888888888888,\"#fdca26\"],[1.0,\"#f0f921\"]],\"type\":\"heatmap\"}],\"heatmapgl\":[{\"colorbar\":{\"outlinewidth\":0,\"ticks\":\"\"},\"colorscale\":[[0.0,\"#0d0887\"],[0.1111111111111111,\"#46039f\"],[0.2222222222222222,\"#7201a8\"],[0.3333333333333333,\"#9c179e\"],[0.4444444444444444,\"#bd3786\"],[0.5555555555555556,\"#d8576b\"],[0.6666666666666666,\"#ed7953\"],[0.7777777777777778,\"#fb9f3a\"],[0.8888888888888888,\"#fdca26\"],[1.0,\"#f0f921\"]],\"type\":\"heatmapgl\"}],\"histogram\":[{\"marker\":{\"pattern\":{\"fillmode\":\"overlay\",\"size\":10,\"solidity\":0.2}},\"type\":\"histogram\"}],\"histogram2d\":[{\"colorbar\":{\"outlinewidth\":0,\"ticks\":\"\"},\"colorscale\":[[0.0,\"#0d0887\"],[0.1111111111111111,\"#46039f\"],[0.2222222222222222,\"#7201a8\"],[0.3333333333333333,\"#9c179e\"],[0.4444444444444444,\"#bd3786\"],[0.5555555555555556,\"#d8576b\"],[0.6666666666666666,\"#ed7953\"],[0.7777777777777778,\"#fb9f3a\"],[0.8888888888888888,\"#fdca26\"],[1.0,\"#f0f921\"]],\"type\":\"histogram2d\"}],\"histogram2dcontour\":[{\"colorbar\":{\"outlinewidth\":0,\"ticks\":\"\"},\"colorscale\":[[0.0,\"#0d0887\"],[0.1111111111111111,\"#46039f\"],[0.2222222222222222,\"#7201a8\"],[0.3333333333333333,\"#9c179e\"],[0.4444444444444444,\"#bd3786\"],[0.5555555555555556,\"#d8576b\"],[0.6666666666666666,\"#ed7953\"],[0.7777777777777778,\"#fb9f3a\"],[0.8888888888888888,\"#fdca26\"],[1.0,\"#f0f921\"]],\"type\":\"histogram2dcontour\"}],\"mesh3d\":[{\"colorbar\":{\"outlinewidth\":0,\"ticks\":\"\"},\"type\":\"mesh3d\"}],\"parcoords\":[{\"line\":{\"colorbar\":{\"outlinewidth\":0,\"ticks\":\"\"}},\"type\":\"parcoords\"}],\"pie\":[{\"automargin\":true,\"type\":\"pie\"}],\"scatter\":[{\"marker\":{\"colorbar\":{\"outlinewidth\":0,\"ticks\":\"\"}},\"type\":\"scatter\"}],\"scatter3d\":[{\"line\":{\"colorbar\":{\"outlinewidth\":0,\"ticks\":\"\"}},\"marker\":{\"colorbar\":{\"outlinewidth\":0,\"ticks\":\"\"}},\"type\":\"scatter3d\"}],\"scattercarpet\":[{\"marker\":{\"colorbar\":{\"outlinewidth\":0,\"ticks\":\"\"}},\"type\":\"scattercarpet\"}],\"scattergeo\":[{\"marker\":{\"colorbar\":{\"outlinewidth\":0,\"ticks\":\"\"}},\"type\":\"scattergeo\"}],\"scattergl\":[{\"marker\":{\"colorbar\":{\"outlinewidth\":0,\"ticks\":\"\"}},\"type\":\"scattergl\"}],\"scattermapbox\":[{\"marker\":{\"colorbar\":{\"outlinewidth\":0,\"ticks\":\"\"}},\"type\":\"scattermapbox\"}],\"scatterpolar\":[{\"marker\":{\"colorbar\":{\"outlinewidth\":0,\"ticks\":\"\"}},\"type\":\"scatterpolar\"}],\"scatterpolargl\":[{\"marker\":{\"colorbar\":{\"outlinewidth\":0,\"ticks\":\"\"}},\"type\":\"scatterpolargl\"}],\"scatterternary\":[{\"marker\":{\"colorbar\":{\"outlinewidth\":0,\"ticks\":\"\"}},\"type\":\"scatterternary\"}],\"surface\":[{\"colorbar\":{\"outlinewidth\":0,\"ticks\":\"\"},\"colorscale\":[[0.0,\"#0d0887\"],[0.1111111111111111,\"#46039f\"],[0.2222222222222222,\"#7201a8\"],[0.3333333333333333,\"#9c179e\"],[0.4444444444444444,\"#bd3786\"],[0.5555555555555556,\"#d8576b\"],[0.6666666666666666,\"#ed7953\"],[0.7777777777777778,\"#fb9f3a\"],[0.8888888888888888,\"#fdca26\"],[1.0,\"#f0f921\"]],\"type\":\"surface\"}],\"table\":[{\"cells\":{\"fill\":{\"color\":\"#EBF0F8\"},\"line\":{\"color\":\"white\"}},\"header\":{\"fill\":{\"color\":\"#C8D4E3\"},\"line\":{\"color\":\"white\"}},\"type\":\"table\"}]},\"layout\":{\"annotationdefaults\":{\"arrowcolor\":\"#2a3f5f\",\"arrowhead\":0,\"arrowwidth\":1},\"autotypenumbers\":\"strict\",\"coloraxis\":{\"colorbar\":{\"outlinewidth\":0,\"ticks\":\"\"}},\"colorscale\":{\"diverging\":[[0,\"#8e0152\"],[0.1,\"#c51b7d\"],[0.2,\"#de77ae\"],[0.3,\"#f1b6da\"],[0.4,\"#fde0ef\"],[0.5,\"#f7f7f7\"],[0.6,\"#e6f5d0\"],[0.7,\"#b8e186\"],[0.8,\"#7fbc41\"],[0.9,\"#4d9221\"],[1,\"#276419\"]],\"sequential\":[[0.0,\"#0d0887\"],[0.1111111111111111,\"#46039f\"],[0.2222222222222222,\"#7201a8\"],[0.3333333333333333,\"#9c179e\"],[0.4444444444444444,\"#bd3786\"],[0.5555555555555556,\"#d8576b\"],[0.6666666666666666,\"#ed7953\"],[0.7777777777777778,\"#fb9f3a\"],[0.8888888888888888,\"#fdca26\"],[1.0,\"#f0f921\"]],\"sequentialminus\":[[0.0,\"#0d0887\"],[0.1111111111111111,\"#46039f\"],[0.2222222222222222,\"#7201a8\"],[0.3333333333333333,\"#9c179e\"],[0.4444444444444444,\"#bd3786\"],[0.5555555555555556,\"#d8576b\"],[0.6666666666666666,\"#ed7953\"],[0.7777777777777778,\"#fb9f3a\"],[0.8888888888888888,\"#fdca26\"],[1.0,\"#f0f921\"]]},\"colorway\":[\"#636efa\",\"#EF553B\",\"#00cc96\",\"#ab63fa\",\"#FFA15A\",\"#19d3f3\",\"#FF6692\",\"#B6E880\",\"#FF97FF\",\"#FECB52\"],\"font\":{\"color\":\"#2a3f5f\"},\"geo\":{\"bgcolor\":\"white\",\"lakecolor\":\"white\",\"landcolor\":\"#E5ECF6\",\"showlakes\":true,\"showland\":true,\"subunitcolor\":\"white\"},\"hoverlabel\":{\"align\":\"left\"},\"hovermode\":\"closest\",\"mapbox\":{\"style\":\"light\"},\"paper_bgcolor\":\"white\",\"plot_bgcolor\":\"#E5ECF6\",\"polar\":{\"angularaxis\":{\"gridcolor\":\"white\",\"linecolor\":\"white\",\"ticks\":\"\"},\"bgcolor\":\"#E5ECF6\",\"radialaxis\":{\"gridcolor\":\"white\",\"linecolor\":\"white\",\"ticks\":\"\"}},\"scene\":{\"xaxis\":{\"backgroundcolor\":\"#E5ECF6\",\"gridcolor\":\"white\",\"gridwidth\":2,\"linecolor\":\"white\",\"showbackground\":true,\"ticks\":\"\",\"zerolinecolor\":\"white\"},\"yaxis\":{\"backgroundcolor\":\"#E5ECF6\",\"gridcolor\":\"white\",\"gridwidth\":2,\"linecolor\":\"white\",\"showbackground\":true,\"ticks\":\"\",\"zerolinecolor\":\"white\"},\"zaxis\":{\"backgroundcolor\":\"#E5ECF6\",\"gridcolor\":\"white\",\"gridwidth\":2,\"linecolor\":\"white\",\"showbackground\":true,\"ticks\":\"\",\"zerolinecolor\":\"white\"}},\"shapedefaults\":{\"line\":{\"color\":\"#2a3f5f\"}},\"ternary\":{\"aaxis\":{\"gridcolor\":\"white\",\"linecolor\":\"white\",\"ticks\":\"\"},\"baxis\":{\"gridcolor\":\"white\",\"linecolor\":\"white\",\"ticks\":\"\"},\"bgcolor\":\"#E5ECF6\",\"caxis\":{\"gridcolor\":\"white\",\"linecolor\":\"white\",\"ticks\":\"\"}},\"title\":{\"x\":0.05},\"xaxis\":{\"automargin\":true,\"gridcolor\":\"white\",\"linecolor\":\"white\",\"ticks\":\"\",\"title\":{\"standoff\":15},\"zerolinecolor\":\"white\",\"zerolinewidth\":2},\"yaxis\":{\"automargin\":true,\"gridcolor\":\"white\",\"linecolor\":\"white\",\"ticks\":\"\",\"title\":{\"standoff\":15},\"zerolinecolor\":\"white\",\"zerolinewidth\":2}}},\"xaxis\":{\"anchor\":\"y\",\"domain\":[0.0,1.0],\"title\":{\"text\":\"numVotes_box-cox\"}},\"yaxis\":{\"anchor\":\"x\",\"domain\":[0.0,1.0],\"title\":{\"text\":\"count\"}},\"legend\":{\"tracegroupgap\":0},\"margin\":{\"t\":60},\"barmode\":\"relative\"},                        {\"responsive\": true}                    ).then(function(){\n",
       "                            \n",
       "var gd = document.getElementById('ecbda0cc-aa41-4a46-a81d-6f811a916812');\n",
       "var x = new MutationObserver(function (mutations, observer) {{\n",
       "        var display = window.getComputedStyle(gd).display;\n",
       "        if (!display || display === 'none') {{\n",
       "            console.log([gd, 'removed!']);\n",
       "            Plotly.purge(gd);\n",
       "            observer.disconnect();\n",
       "        }}\n",
       "}});\n",
       "\n",
       "// Listen for the removal of the full notebook cells\n",
       "var notebookContainer = gd.closest('#notebook-container');\n",
       "if (notebookContainer) {{\n",
       "    x.observe(notebookContainer, {childList: true});\n",
       "}}\n",
       "\n",
       "// Listen for the clearing of the current output cell\n",
       "var outputEl = gd.closest('.output');\n",
       "if (outputEl) {{\n",
       "    x.observe(outputEl, {childList: true});\n",
       "}}\n",
       "\n",
       "                        })                };                            </script>        </div>\n",
       "</body>\n",
       "</html>"
      ]
     },
     "metadata": {},
     "output_type": "display_data"
    }
   ],
   "source": [
    "\n",
    "fig = px.histogram(churn_enriq, x=\"numVotes_box-cox\")\n",
    "fig.show()"
   ]
  },
  {
   "cell_type": "code",
   "execution_count": null,
   "metadata": {
    "colab": {
     "base_uri": "https://localhost:8080/",
     "height": 162
    },
    "executionInfo": {
     "elapsed": 298,
     "status": "ok",
     "timestamp": 1643332694636,
     "user": {
      "displayName": "Matheus Scheffer",
      "photoUrl": "https://lh3.googleusercontent.com/a-/AOh14GglPDI7gdLFED26W1SJncCIZFA5A-5rjTBcxfjH=s64",
      "userId": "18314476337770992076"
     },
     "user_tz": 180
    },
    "id": "f-L0qZ3GNOup",
    "outputId": "9edc58cc-67b4-4b11-f3e0-855e90938dd0"
   },
   "outputs": [
    {
     "data": {
      "text/html": [
       "\n",
       "  <div id=\"df-a23122d6-e0b2-42bf-8766-0511c38f6667\">\n",
       "    <div class=\"colab-df-container\">\n",
       "      <div>\n",
       "<style scoped>\n",
       "    .dataframe tbody tr th:only-of-type {\n",
       "        vertical-align: middle;\n",
       "    }\n",
       "\n",
       "    .dataframe tbody tr th {\n",
       "        vertical-align: top;\n",
       "    }\n",
       "\n",
       "    .dataframe thead th {\n",
       "        text-align: right;\n",
       "    }\n",
       "</style>\n",
       "<table border=\"1\" class=\"dataframe\">\n",
       "  <thead>\n",
       "    <tr style=\"text-align: right;\">\n",
       "      <th></th>\n",
       "      <th>employee</th>\n",
       "      <th>companyAlias</th>\n",
       "      <th>numVotes</th>\n",
       "      <th>lastParticipationDate</th>\n",
       "      <th>stillExists</th>\n",
       "      <th>vote_mean</th>\n",
       "      <th>vote_mode</th>\n",
       "      <th>vote_min</th>\n",
       "      <th>vote_max</th>\n",
       "      <th>vote_count</th>\n",
       "      <th>qt_dias_diff_vote_min</th>\n",
       "      <th>qt_dias_diff_vote_max</th>\n",
       "      <th>qt_dias_diff_vote_median</th>\n",
       "      <th>likes_mean</th>\n",
       "      <th>likes_min</th>\n",
       "      <th>likes_max</th>\n",
       "      <th>dislikes_mean</th>\n",
       "      <th>dislikes_min</th>\n",
       "      <th>dislikes_max</th>\n",
       "      <th>qt_dias_diff_comment_min</th>\n",
       "      <th>qt_dias_diff_comment_max</th>\n",
       "      <th>qt_dias_diff_comment_median</th>\n",
       "      <th>commentId_count</th>\n",
       "      <th>companyType</th>\n",
       "      <th>gender</th>\n",
       "      <th>razao_likes_deslikes</th>\n",
       "      <th>razao_likes_deslikes_discfreq</th>\n",
       "      <th>numVotes_pos</th>\n",
       "      <th>numVotes_box-cox</th>\n",
       "      <th>qt_dias_diff_vote_max_box-cox</th>\n",
       "      <th>qt_dias_diff_vote_median_box-cox</th>\n",
       "      <th>qt_dias_diff_comment_min_box-cox</th>\n",
       "    </tr>\n",
       "  </thead>\n",
       "  <tbody>\n",
       "    <tr>\n",
       "      <th>0</th>\n",
       "      <td>512</td>\n",
       "      <td>56aec740f1ef260003e307d6</td>\n",
       "      <td>4</td>\n",
       "      <td>2017-02-23 11:48:04</td>\n",
       "      <td>1</td>\n",
       "      <td>2.0</td>\n",
       "      <td>1.0</td>\n",
       "      <td>1.0</td>\n",
       "      <td>3.0</td>\n",
       "      <td>3.0</td>\n",
       "      <td>2.0</td>\n",
       "      <td>37.0</td>\n",
       "      <td>31.0</td>\n",
       "      <td>7.5</td>\n",
       "      <td>6.0</td>\n",
       "      <td>9.0</td>\n",
       "      <td>1.0</td>\n",
       "      <td>0.0</td>\n",
       "      <td>2.0</td>\n",
       "      <td>2.0</td>\n",
       "      <td>30.0</td>\n",
       "      <td>16.0</td>\n",
       "      <td>2.0</td>\n",
       "      <td>Product</td>\n",
       "      <td>Male</td>\n",
       "      <td>7.5</td>\n",
       "      <td>2.0</td>\n",
       "      <td>5</td>\n",
       "      <td>1.65573</td>\n",
       "      <td>7.822055</td>\n",
       "      <td>6.833475</td>\n",
       "      <td>0.704922</td>\n",
       "    </tr>\n",
       "  </tbody>\n",
       "</table>\n",
       "</div>\n",
       "      <button class=\"colab-df-convert\" onclick=\"convertToInteractive('df-a23122d6-e0b2-42bf-8766-0511c38f6667')\"\n",
       "              title=\"Convert this dataframe to an interactive table.\"\n",
       "              style=\"display:none;\">\n",
       "        \n",
       "  <svg xmlns=\"http://www.w3.org/2000/svg\" height=\"24px\"viewBox=\"0 0 24 24\"\n",
       "       width=\"24px\">\n",
       "    <path d=\"M0 0h24v24H0V0z\" fill=\"none\"/>\n",
       "    <path d=\"M18.56 5.44l.94 2.06.94-2.06 2.06-.94-2.06-.94-.94-2.06-.94 2.06-2.06.94zm-11 1L8.5 8.5l.94-2.06 2.06-.94-2.06-.94L8.5 2.5l-.94 2.06-2.06.94zm10 10l.94 2.06.94-2.06 2.06-.94-2.06-.94-.94-2.06-.94 2.06-2.06.94z\"/><path d=\"M17.41 7.96l-1.37-1.37c-.4-.4-.92-.59-1.43-.59-.52 0-1.04.2-1.43.59L10.3 9.45l-7.72 7.72c-.78.78-.78 2.05 0 2.83L4 21.41c.39.39.9.59 1.41.59.51 0 1.02-.2 1.41-.59l7.78-7.78 2.81-2.81c.8-.78.8-2.07 0-2.86zM5.41 20L4 18.59l7.72-7.72 1.47 1.35L5.41 20z\"/>\n",
       "  </svg>\n",
       "      </button>\n",
       "      \n",
       "  <style>\n",
       "    .colab-df-container {\n",
       "      display:flex;\n",
       "      flex-wrap:wrap;\n",
       "      gap: 12px;\n",
       "    }\n",
       "\n",
       "    .colab-df-convert {\n",
       "      background-color: #E8F0FE;\n",
       "      border: none;\n",
       "      border-radius: 50%;\n",
       "      cursor: pointer;\n",
       "      display: none;\n",
       "      fill: #1967D2;\n",
       "      height: 32px;\n",
       "      padding: 0 0 0 0;\n",
       "      width: 32px;\n",
       "    }\n",
       "\n",
       "    .colab-df-convert:hover {\n",
       "      background-color: #E2EBFA;\n",
       "      box-shadow: 0px 1px 2px rgba(60, 64, 67, 0.3), 0px 1px 3px 1px rgba(60, 64, 67, 0.15);\n",
       "      fill: #174EA6;\n",
       "    }\n",
       "\n",
       "    [theme=dark] .colab-df-convert {\n",
       "      background-color: #3B4455;\n",
       "      fill: #D2E3FC;\n",
       "    }\n",
       "\n",
       "    [theme=dark] .colab-df-convert:hover {\n",
       "      background-color: #434B5C;\n",
       "      box-shadow: 0px 1px 3px 1px rgba(0, 0, 0, 0.15);\n",
       "      filter: drop-shadow(0px 1px 2px rgba(0, 0, 0, 0.3));\n",
       "      fill: #FFFFFF;\n",
       "    }\n",
       "  </style>\n",
       "\n",
       "      <script>\n",
       "        const buttonEl =\n",
       "          document.querySelector('#df-a23122d6-e0b2-42bf-8766-0511c38f6667 button.colab-df-convert');\n",
       "        buttonEl.style.display =\n",
       "          google.colab.kernel.accessAllowed ? 'block' : 'none';\n",
       "\n",
       "        async function convertToInteractive(key) {\n",
       "          const element = document.querySelector('#df-a23122d6-e0b2-42bf-8766-0511c38f6667');\n",
       "          const dataTable =\n",
       "            await google.colab.kernel.invokeFunction('convertToInteractive',\n",
       "                                                     [key], {});\n",
       "          if (!dataTable) return;\n",
       "\n",
       "          const docLinkHtml = 'Like what you see? Visit the ' +\n",
       "            '<a target=\"_blank\" href=https://colab.research.google.com/notebooks/data_table.ipynb>data table notebook</a>'\n",
       "            + ' to learn more about interactive tables.';\n",
       "          element.innerHTML = '';\n",
       "          dataTable['output_type'] = 'display_data';\n",
       "          await google.colab.output.renderOutput(dataTable, element);\n",
       "          const docLink = document.createElement('div');\n",
       "          docLink.innerHTML = docLinkHtml;\n",
       "          element.appendChild(docLink);\n",
       "        }\n",
       "      </script>\n",
       "    </div>\n",
       "  </div>\n",
       "  "
      ],
      "text/plain": [
       "   employee  ... qt_dias_diff_comment_min_box-cox\n",
       "0       512  ...                         0.704922\n",
       "\n",
       "[1 rows x 32 columns]"
      ]
     },
     "execution_count": 54,
     "metadata": {},
     "output_type": "execute_result"
    }
   ],
   "source": [
    "churn_enriq.head(1)"
   ]
  },
  {
   "cell_type": "markdown",
   "metadata": {
    "id": "CcyS6pkvkwfT"
   },
   "source": [
    "### Variáveis Categóricas"
   ]
  },
  {
   "cell_type": "markdown",
   "metadata": {
    "id": "MA8bvo-bkwfT"
   },
   "source": [
    "a) Faça um value_counts() das variáveis categóricas"
   ]
  },
  {
   "cell_type": "code",
   "execution_count": null,
   "metadata": {
    "colab": {
     "base_uri": "https://localhost:8080/"
    },
    "executionInfo": {
     "elapsed": 4,
     "status": "ok",
     "timestamp": 1643332695030,
     "user": {
      "displayName": "Matheus Scheffer",
      "photoUrl": "https://lh3.googleusercontent.com/a-/AOh14GglPDI7gdLFED26W1SJncCIZFA5A-5rjTBcxfjH=s64",
      "userId": "18314476337770992076"
     },
     "user_tz": 180
    },
    "id": "y9StjoHQJVLL",
    "outputId": "5a0516dc-0c63-431a-fbcc-b56522b60a50"
   },
   "outputs": [
    {
     "data": {
      "text/plain": [
       "Index(['companyAlias', 'lastParticipationDate', 'companyType', 'gender'], dtype='object')"
      ]
     },
     "execution_count": 55,
     "metadata": {},
     "output_type": "execute_result"
    }
   ],
   "source": [
    "catColumns = churn_enriq.select_dtypes('object').head(2).columns\n",
    "catColumns"
   ]
  },
  {
   "cell_type": "code",
   "execution_count": null,
   "metadata": {
    "id": "PLAKp91CMR8T"
   },
   "outputs": [],
   "source": [
    "catColumns = ['companyType','gender']"
   ]
  },
  {
   "cell_type": "code",
   "execution_count": null,
   "metadata": {
    "colab": {
     "base_uri": "https://localhost:8080/"
    },
    "executionInfo": {
     "elapsed": 13,
     "status": "ok",
     "timestamp": 1643332695748,
     "user": {
      "displayName": "Matheus Scheffer",
      "photoUrl": "https://lh3.googleusercontent.com/a-/AOh14GglPDI7gdLFED26W1SJncCIZFA5A-5rjTBcxfjH=s64",
      "userId": "18314476337770992076"
     },
     "user_tz": 180
    },
    "id": "nOOgfQ4DKJLF",
    "outputId": "3c34ba24-b4ef-442c-9892-5ce8bde3c0dc"
   },
   "outputs": [
    {
     "name": "stdout",
     "output_type": "stream",
     "text": [
      "companyType:\n",
      "Service    3018\n",
      "Product    1046\n",
      "Name: companyType, dtype: int64\n",
      "------------------------------------\n",
      "gender:\n",
      "Female    2491\n",
      "Male      1573\n",
      "Name: gender, dtype: int64\n",
      "------------------------------------\n"
     ]
    }
   ],
   "source": [
    "for cat in catColumns:\n",
    "  print(f\"{cat}:\")\n",
    "  print(churn_enriq[cat].value_counts(dropna=False))\n",
    "  print(\"------------------------------------\")\n"
   ]
  },
  {
   "cell_type": "markdown",
   "metadata": {
    "id": "4tdQX-2XkwfU"
   },
   "source": [
    "b) Aplique o One-Hot Encoding para cada uma delas, aplicando o drop_first."
   ]
  },
  {
   "cell_type": "code",
   "execution_count": null,
   "metadata": {
    "colab": {
     "base_uri": "https://localhost:8080/",
     "height": 206
    },
    "executionInfo": {
     "elapsed": 6,
     "status": "ok",
     "timestamp": 1643332696358,
     "user": {
      "displayName": "Matheus Scheffer",
      "photoUrl": "https://lh3.googleusercontent.com/a-/AOh14GglPDI7gdLFED26W1SJncCIZFA5A-5rjTBcxfjH=s64",
      "userId": "18314476337770992076"
     },
     "user_tz": 180
    },
    "id": "GwengwMNLc8b",
    "outputId": "e880f3e2-b34b-48ae-f7e7-360bada385bb"
   },
   "outputs": [
    {
     "data": {
      "text/html": [
       "\n",
       "  <div id=\"df-efd49098-caf2-4c71-a485-bd6a97f980d3\">\n",
       "    <div class=\"colab-df-container\">\n",
       "      <div>\n",
       "<style scoped>\n",
       "    .dataframe tbody tr th:only-of-type {\n",
       "        vertical-align: middle;\n",
       "    }\n",
       "\n",
       "    .dataframe tbody tr th {\n",
       "        vertical-align: top;\n",
       "    }\n",
       "\n",
       "    .dataframe thead th {\n",
       "        text-align: right;\n",
       "    }\n",
       "</style>\n",
       "<table border=\"1\" class=\"dataframe\">\n",
       "  <thead>\n",
       "    <tr style=\"text-align: right;\">\n",
       "      <th></th>\n",
       "      <th>companyType_Product</th>\n",
       "      <th>companyType_Service</th>\n",
       "      <th>gender_Female</th>\n",
       "      <th>gender_Male</th>\n",
       "    </tr>\n",
       "  </thead>\n",
       "  <tbody>\n",
       "    <tr>\n",
       "      <th>0</th>\n",
       "      <td>1</td>\n",
       "      <td>0</td>\n",
       "      <td>0</td>\n",
       "      <td>1</td>\n",
       "    </tr>\n",
       "    <tr>\n",
       "      <th>1</th>\n",
       "      <td>1</td>\n",
       "      <td>0</td>\n",
       "      <td>0</td>\n",
       "      <td>1</td>\n",
       "    </tr>\n",
       "    <tr>\n",
       "      <th>2</th>\n",
       "      <td>1</td>\n",
       "      <td>0</td>\n",
       "      <td>1</td>\n",
       "      <td>0</td>\n",
       "    </tr>\n",
       "    <tr>\n",
       "      <th>3</th>\n",
       "      <td>1</td>\n",
       "      <td>0</td>\n",
       "      <td>1</td>\n",
       "      <td>0</td>\n",
       "    </tr>\n",
       "    <tr>\n",
       "      <th>4</th>\n",
       "      <td>1</td>\n",
       "      <td>0</td>\n",
       "      <td>1</td>\n",
       "      <td>0</td>\n",
       "    </tr>\n",
       "  </tbody>\n",
       "</table>\n",
       "</div>\n",
       "      <button class=\"colab-df-convert\" onclick=\"convertToInteractive('df-efd49098-caf2-4c71-a485-bd6a97f980d3')\"\n",
       "              title=\"Convert this dataframe to an interactive table.\"\n",
       "              style=\"display:none;\">\n",
       "        \n",
       "  <svg xmlns=\"http://www.w3.org/2000/svg\" height=\"24px\"viewBox=\"0 0 24 24\"\n",
       "       width=\"24px\">\n",
       "    <path d=\"M0 0h24v24H0V0z\" fill=\"none\"/>\n",
       "    <path d=\"M18.56 5.44l.94 2.06.94-2.06 2.06-.94-2.06-.94-.94-2.06-.94 2.06-2.06.94zm-11 1L8.5 8.5l.94-2.06 2.06-.94-2.06-.94L8.5 2.5l-.94 2.06-2.06.94zm10 10l.94 2.06.94-2.06 2.06-.94-2.06-.94-.94-2.06-.94 2.06-2.06.94z\"/><path d=\"M17.41 7.96l-1.37-1.37c-.4-.4-.92-.59-1.43-.59-.52 0-1.04.2-1.43.59L10.3 9.45l-7.72 7.72c-.78.78-.78 2.05 0 2.83L4 21.41c.39.39.9.59 1.41.59.51 0 1.02-.2 1.41-.59l7.78-7.78 2.81-2.81c.8-.78.8-2.07 0-2.86zM5.41 20L4 18.59l7.72-7.72 1.47 1.35L5.41 20z\"/>\n",
       "  </svg>\n",
       "      </button>\n",
       "      \n",
       "  <style>\n",
       "    .colab-df-container {\n",
       "      display:flex;\n",
       "      flex-wrap:wrap;\n",
       "      gap: 12px;\n",
       "    }\n",
       "\n",
       "    .colab-df-convert {\n",
       "      background-color: #E8F0FE;\n",
       "      border: none;\n",
       "      border-radius: 50%;\n",
       "      cursor: pointer;\n",
       "      display: none;\n",
       "      fill: #1967D2;\n",
       "      height: 32px;\n",
       "      padding: 0 0 0 0;\n",
       "      width: 32px;\n",
       "    }\n",
       "\n",
       "    .colab-df-convert:hover {\n",
       "      background-color: #E2EBFA;\n",
       "      box-shadow: 0px 1px 2px rgba(60, 64, 67, 0.3), 0px 1px 3px 1px rgba(60, 64, 67, 0.15);\n",
       "      fill: #174EA6;\n",
       "    }\n",
       "\n",
       "    [theme=dark] .colab-df-convert {\n",
       "      background-color: #3B4455;\n",
       "      fill: #D2E3FC;\n",
       "    }\n",
       "\n",
       "    [theme=dark] .colab-df-convert:hover {\n",
       "      background-color: #434B5C;\n",
       "      box-shadow: 0px 1px 3px 1px rgba(0, 0, 0, 0.15);\n",
       "      filter: drop-shadow(0px 1px 2px rgba(0, 0, 0, 0.3));\n",
       "      fill: #FFFFFF;\n",
       "    }\n",
       "  </style>\n",
       "\n",
       "      <script>\n",
       "        const buttonEl =\n",
       "          document.querySelector('#df-efd49098-caf2-4c71-a485-bd6a97f980d3 button.colab-df-convert');\n",
       "        buttonEl.style.display =\n",
       "          google.colab.kernel.accessAllowed ? 'block' : 'none';\n",
       "\n",
       "        async function convertToInteractive(key) {\n",
       "          const element = document.querySelector('#df-efd49098-caf2-4c71-a485-bd6a97f980d3');\n",
       "          const dataTable =\n",
       "            await google.colab.kernel.invokeFunction('convertToInteractive',\n",
       "                                                     [key], {});\n",
       "          if (!dataTable) return;\n",
       "\n",
       "          const docLinkHtml = 'Like what you see? Visit the ' +\n",
       "            '<a target=\"_blank\" href=https://colab.research.google.com/notebooks/data_table.ipynb>data table notebook</a>'\n",
       "            + ' to learn more about interactive tables.';\n",
       "          element.innerHTML = '';\n",
       "          dataTable['output_type'] = 'display_data';\n",
       "          await google.colab.output.renderOutput(dataTable, element);\n",
       "          const docLink = document.createElement('div');\n",
       "          docLink.innerHTML = docLinkHtml;\n",
       "          element.appendChild(docLink);\n",
       "        }\n",
       "      </script>\n",
       "    </div>\n",
       "  </div>\n",
       "  "
      ],
      "text/plain": [
       "   companyType_Product  companyType_Service  gender_Female  gender_Male\n",
       "0                    1                    0              0            1\n",
       "1                    1                    0              0            1\n",
       "2                    1                    0              1            0\n",
       "3                    1                    0              1            0\n",
       "4                    1                    0              1            0"
      ]
     },
     "execution_count": 58,
     "metadata": {},
     "output_type": "execute_result"
    }
   ],
   "source": [
    "pd.get_dummies(data=churn_enriq[catColumns],prefix=catColumns).head()"
   ]
  },
  {
   "cell_type": "code",
   "execution_count": null,
   "metadata": {
    "colab": {
     "base_uri": "https://localhost:8080/",
     "height": 206
    },
    "executionInfo": {
     "elapsed": 4,
     "status": "ok",
     "timestamp": 1643332698090,
     "user": {
      "displayName": "Matheus Scheffer",
      "photoUrl": "https://lh3.googleusercontent.com/a-/AOh14GglPDI7gdLFED26W1SJncCIZFA5A-5rjTBcxfjH=s64",
      "userId": "18314476337770992076"
     },
     "user_tz": 180
    },
    "id": "xmudEjwdOvzp",
    "outputId": "10eae6cf-eaf0-4dec-aefd-79222cc99ed1"
   },
   "outputs": [
    {
     "data": {
      "text/html": [
       "\n",
       "  <div id=\"df-8f2f2a1a-bebd-4266-ba8c-b3a33c53f32d\">\n",
       "    <div class=\"colab-df-container\">\n",
       "      <div>\n",
       "<style scoped>\n",
       "    .dataframe tbody tr th:only-of-type {\n",
       "        vertical-align: middle;\n",
       "    }\n",
       "\n",
       "    .dataframe tbody tr th {\n",
       "        vertical-align: top;\n",
       "    }\n",
       "\n",
       "    .dataframe thead th {\n",
       "        text-align: right;\n",
       "    }\n",
       "</style>\n",
       "<table border=\"1\" class=\"dataframe\">\n",
       "  <thead>\n",
       "    <tr style=\"text-align: right;\">\n",
       "      <th></th>\n",
       "      <th>companyType_Service</th>\n",
       "      <th>gender_Male</th>\n",
       "    </tr>\n",
       "  </thead>\n",
       "  <tbody>\n",
       "    <tr>\n",
       "      <th>0</th>\n",
       "      <td>0</td>\n",
       "      <td>1</td>\n",
       "    </tr>\n",
       "    <tr>\n",
       "      <th>1</th>\n",
       "      <td>0</td>\n",
       "      <td>1</td>\n",
       "    </tr>\n",
       "    <tr>\n",
       "      <th>2</th>\n",
       "      <td>0</td>\n",
       "      <td>0</td>\n",
       "    </tr>\n",
       "    <tr>\n",
       "      <th>3</th>\n",
       "      <td>0</td>\n",
       "      <td>0</td>\n",
       "    </tr>\n",
       "    <tr>\n",
       "      <th>4</th>\n",
       "      <td>0</td>\n",
       "      <td>0</td>\n",
       "    </tr>\n",
       "  </tbody>\n",
       "</table>\n",
       "</div>\n",
       "      <button class=\"colab-df-convert\" onclick=\"convertToInteractive('df-8f2f2a1a-bebd-4266-ba8c-b3a33c53f32d')\"\n",
       "              title=\"Convert this dataframe to an interactive table.\"\n",
       "              style=\"display:none;\">\n",
       "        \n",
       "  <svg xmlns=\"http://www.w3.org/2000/svg\" height=\"24px\"viewBox=\"0 0 24 24\"\n",
       "       width=\"24px\">\n",
       "    <path d=\"M0 0h24v24H0V0z\" fill=\"none\"/>\n",
       "    <path d=\"M18.56 5.44l.94 2.06.94-2.06 2.06-.94-2.06-.94-.94-2.06-.94 2.06-2.06.94zm-11 1L8.5 8.5l.94-2.06 2.06-.94-2.06-.94L8.5 2.5l-.94 2.06-2.06.94zm10 10l.94 2.06.94-2.06 2.06-.94-2.06-.94-.94-2.06-.94 2.06-2.06.94z\"/><path d=\"M17.41 7.96l-1.37-1.37c-.4-.4-.92-.59-1.43-.59-.52 0-1.04.2-1.43.59L10.3 9.45l-7.72 7.72c-.78.78-.78 2.05 0 2.83L4 21.41c.39.39.9.59 1.41.59.51 0 1.02-.2 1.41-.59l7.78-7.78 2.81-2.81c.8-.78.8-2.07 0-2.86zM5.41 20L4 18.59l7.72-7.72 1.47 1.35L5.41 20z\"/>\n",
       "  </svg>\n",
       "      </button>\n",
       "      \n",
       "  <style>\n",
       "    .colab-df-container {\n",
       "      display:flex;\n",
       "      flex-wrap:wrap;\n",
       "      gap: 12px;\n",
       "    }\n",
       "\n",
       "    .colab-df-convert {\n",
       "      background-color: #E8F0FE;\n",
       "      border: none;\n",
       "      border-radius: 50%;\n",
       "      cursor: pointer;\n",
       "      display: none;\n",
       "      fill: #1967D2;\n",
       "      height: 32px;\n",
       "      padding: 0 0 0 0;\n",
       "      width: 32px;\n",
       "    }\n",
       "\n",
       "    .colab-df-convert:hover {\n",
       "      background-color: #E2EBFA;\n",
       "      box-shadow: 0px 1px 2px rgba(60, 64, 67, 0.3), 0px 1px 3px 1px rgba(60, 64, 67, 0.15);\n",
       "      fill: #174EA6;\n",
       "    }\n",
       "\n",
       "    [theme=dark] .colab-df-convert {\n",
       "      background-color: #3B4455;\n",
       "      fill: #D2E3FC;\n",
       "    }\n",
       "\n",
       "    [theme=dark] .colab-df-convert:hover {\n",
       "      background-color: #434B5C;\n",
       "      box-shadow: 0px 1px 3px 1px rgba(0, 0, 0, 0.15);\n",
       "      filter: drop-shadow(0px 1px 2px rgba(0, 0, 0, 0.3));\n",
       "      fill: #FFFFFF;\n",
       "    }\n",
       "  </style>\n",
       "\n",
       "      <script>\n",
       "        const buttonEl =\n",
       "          document.querySelector('#df-8f2f2a1a-bebd-4266-ba8c-b3a33c53f32d button.colab-df-convert');\n",
       "        buttonEl.style.display =\n",
       "          google.colab.kernel.accessAllowed ? 'block' : 'none';\n",
       "\n",
       "        async function convertToInteractive(key) {\n",
       "          const element = document.querySelector('#df-8f2f2a1a-bebd-4266-ba8c-b3a33c53f32d');\n",
       "          const dataTable =\n",
       "            await google.colab.kernel.invokeFunction('convertToInteractive',\n",
       "                                                     [key], {});\n",
       "          if (!dataTable) return;\n",
       "\n",
       "          const docLinkHtml = 'Like what you see? Visit the ' +\n",
       "            '<a target=\"_blank\" href=https://colab.research.google.com/notebooks/data_table.ipynb>data table notebook</a>'\n",
       "            + ' to learn more about interactive tables.';\n",
       "          element.innerHTML = '';\n",
       "          dataTable['output_type'] = 'display_data';\n",
       "          await google.colab.output.renderOutput(dataTable, element);\n",
       "          const docLink = document.createElement('div');\n",
       "          docLink.innerHTML = docLinkHtml;\n",
       "          element.appendChild(docLink);\n",
       "        }\n",
       "      </script>\n",
       "    </div>\n",
       "  </div>\n",
       "  "
      ],
      "text/plain": [
       "   companyType_Service  gender_Male\n",
       "0                    0            1\n",
       "1                    0            1\n",
       "2                    0            0\n",
       "3                    0            0\n",
       "4                    0            0"
      ]
     },
     "execution_count": 59,
     "metadata": {},
     "output_type": "execute_result"
    }
   ],
   "source": [
    "pd.get_dummies(data=churn_enriq[catColumns],prefix=catColumns,drop_first=True).head()"
   ]
  },
  {
   "cell_type": "code",
   "execution_count": null,
   "metadata": {
    "colab": {
     "base_uri": "https://localhost:8080/",
     "height": 206
    },
    "executionInfo": {
     "elapsed": 4,
     "status": "ok",
     "timestamp": 1643332698485,
     "user": {
      "displayName": "Matheus Scheffer",
      "photoUrl": "https://lh3.googleusercontent.com/a-/AOh14GglPDI7gdLFED26W1SJncCIZFA5A-5rjTBcxfjH=s64",
      "userId": "18314476337770992076"
     },
     "user_tz": 180
    },
    "id": "EgoiVegUO2Wx",
    "outputId": "524a8d8f-2ae6-4d14-80f2-549ad66f02b2"
   },
   "outputs": [
    {
     "data": {
      "text/html": [
       "\n",
       "  <div id=\"df-6c9a5642-803f-43ab-8f66-4cd838c22c91\">\n",
       "    <div class=\"colab-df-container\">\n",
       "      <div>\n",
       "<style scoped>\n",
       "    .dataframe tbody tr th:only-of-type {\n",
       "        vertical-align: middle;\n",
       "    }\n",
       "\n",
       "    .dataframe tbody tr th {\n",
       "        vertical-align: top;\n",
       "    }\n",
       "\n",
       "    .dataframe thead th {\n",
       "        text-align: right;\n",
       "    }\n",
       "</style>\n",
       "<table border=\"1\" class=\"dataframe\">\n",
       "  <thead>\n",
       "    <tr style=\"text-align: right;\">\n",
       "      <th></th>\n",
       "      <th>companyType_Service</th>\n",
       "      <th>gender_Male</th>\n",
       "    </tr>\n",
       "  </thead>\n",
       "  <tbody>\n",
       "    <tr>\n",
       "      <th>0</th>\n",
       "      <td>0</td>\n",
       "      <td>1</td>\n",
       "    </tr>\n",
       "    <tr>\n",
       "      <th>1</th>\n",
       "      <td>0</td>\n",
       "      <td>1</td>\n",
       "    </tr>\n",
       "    <tr>\n",
       "      <th>2</th>\n",
       "      <td>0</td>\n",
       "      <td>0</td>\n",
       "    </tr>\n",
       "    <tr>\n",
       "      <th>3</th>\n",
       "      <td>0</td>\n",
       "      <td>0</td>\n",
       "    </tr>\n",
       "    <tr>\n",
       "      <th>4</th>\n",
       "      <td>0</td>\n",
       "      <td>0</td>\n",
       "    </tr>\n",
       "  </tbody>\n",
       "</table>\n",
       "</div>\n",
       "      <button class=\"colab-df-convert\" onclick=\"convertToInteractive('df-6c9a5642-803f-43ab-8f66-4cd838c22c91')\"\n",
       "              title=\"Convert this dataframe to an interactive table.\"\n",
       "              style=\"display:none;\">\n",
       "        \n",
       "  <svg xmlns=\"http://www.w3.org/2000/svg\" height=\"24px\"viewBox=\"0 0 24 24\"\n",
       "       width=\"24px\">\n",
       "    <path d=\"M0 0h24v24H0V0z\" fill=\"none\"/>\n",
       "    <path d=\"M18.56 5.44l.94 2.06.94-2.06 2.06-.94-2.06-.94-.94-2.06-.94 2.06-2.06.94zm-11 1L8.5 8.5l.94-2.06 2.06-.94-2.06-.94L8.5 2.5l-.94 2.06-2.06.94zm10 10l.94 2.06.94-2.06 2.06-.94-2.06-.94-.94-2.06-.94 2.06-2.06.94z\"/><path d=\"M17.41 7.96l-1.37-1.37c-.4-.4-.92-.59-1.43-.59-.52 0-1.04.2-1.43.59L10.3 9.45l-7.72 7.72c-.78.78-.78 2.05 0 2.83L4 21.41c.39.39.9.59 1.41.59.51 0 1.02-.2 1.41-.59l7.78-7.78 2.81-2.81c.8-.78.8-2.07 0-2.86zM5.41 20L4 18.59l7.72-7.72 1.47 1.35L5.41 20z\"/>\n",
       "  </svg>\n",
       "      </button>\n",
       "      \n",
       "  <style>\n",
       "    .colab-df-container {\n",
       "      display:flex;\n",
       "      flex-wrap:wrap;\n",
       "      gap: 12px;\n",
       "    }\n",
       "\n",
       "    .colab-df-convert {\n",
       "      background-color: #E8F0FE;\n",
       "      border: none;\n",
       "      border-radius: 50%;\n",
       "      cursor: pointer;\n",
       "      display: none;\n",
       "      fill: #1967D2;\n",
       "      height: 32px;\n",
       "      padding: 0 0 0 0;\n",
       "      width: 32px;\n",
       "    }\n",
       "\n",
       "    .colab-df-convert:hover {\n",
       "      background-color: #E2EBFA;\n",
       "      box-shadow: 0px 1px 2px rgba(60, 64, 67, 0.3), 0px 1px 3px 1px rgba(60, 64, 67, 0.15);\n",
       "      fill: #174EA6;\n",
       "    }\n",
       "\n",
       "    [theme=dark] .colab-df-convert {\n",
       "      background-color: #3B4455;\n",
       "      fill: #D2E3FC;\n",
       "    }\n",
       "\n",
       "    [theme=dark] .colab-df-convert:hover {\n",
       "      background-color: #434B5C;\n",
       "      box-shadow: 0px 1px 3px 1px rgba(0, 0, 0, 0.15);\n",
       "      filter: drop-shadow(0px 1px 2px rgba(0, 0, 0, 0.3));\n",
       "      fill: #FFFFFF;\n",
       "    }\n",
       "  </style>\n",
       "\n",
       "      <script>\n",
       "        const buttonEl =\n",
       "          document.querySelector('#df-6c9a5642-803f-43ab-8f66-4cd838c22c91 button.colab-df-convert');\n",
       "        buttonEl.style.display =\n",
       "          google.colab.kernel.accessAllowed ? 'block' : 'none';\n",
       "\n",
       "        async function convertToInteractive(key) {\n",
       "          const element = document.querySelector('#df-6c9a5642-803f-43ab-8f66-4cd838c22c91');\n",
       "          const dataTable =\n",
       "            await google.colab.kernel.invokeFunction('convertToInteractive',\n",
       "                                                     [key], {});\n",
       "          if (!dataTable) return;\n",
       "\n",
       "          const docLinkHtml = 'Like what you see? Visit the ' +\n",
       "            '<a target=\"_blank\" href=https://colab.research.google.com/notebooks/data_table.ipynb>data table notebook</a>'\n",
       "            + ' to learn more about interactive tables.';\n",
       "          element.innerHTML = '';\n",
       "          dataTable['output_type'] = 'display_data';\n",
       "          await google.colab.output.renderOutput(dataTable, element);\n",
       "          const docLink = document.createElement('div');\n",
       "          docLink.innerHTML = docLinkHtml;\n",
       "          element.appendChild(docLink);\n",
       "        }\n",
       "      </script>\n",
       "    </div>\n",
       "  </div>\n",
       "  "
      ],
      "text/plain": [
       "   companyType_Service  gender_Male\n",
       "0                    0            1\n",
       "1                    0            1\n",
       "2                    0            0\n",
       "3                    0            0\n",
       "4                    0            0"
      ]
     },
     "execution_count": 60,
     "metadata": {},
     "output_type": "execute_result"
    }
   ],
   "source": [
    "churn_enriq[['companyType_Service','gender_Male']] = pd.get_dummies(data=churn_enriq[catColumns],prefix=catColumns,drop_first=True)\n",
    "churn_enriq[['companyType_Service','gender_Male']].head()"
   ]
  },
  {
   "cell_type": "markdown",
   "metadata": {
    "id": "4pUQLPS1kwfU"
   },
   "source": [
    "# Validação & Limpeza Final"
   ]
  },
  {
   "cell_type": "markdown",
   "metadata": {
    "id": "RhFr8pLukwfU"
   },
   "source": [
    "a) Ver correlação entre variáveis e variável target"
   ]
  },
  {
   "cell_type": "code",
   "execution_count": null,
   "metadata": {
    "colab": {
     "base_uri": "https://localhost:8080/"
    },
    "executionInfo": {
     "elapsed": 5,
     "status": "ok",
     "timestamp": 1643332905029,
     "user": {
      "displayName": "Matheus Scheffer",
      "photoUrl": "https://lh3.googleusercontent.com/a-/AOh14GglPDI7gdLFED26W1SJncCIZFA5A-5rjTBcxfjH=s64",
      "userId": "18314476337770992076"
     },
     "user_tz": 180
    },
    "id": "McB0FA4yPedJ",
    "outputId": "d1b63b26-0cc8-43cf-fbc2-e159c5601c2e"
   },
   "outputs": [
    {
     "name": "stdout",
     "output_type": "stream",
     "text": [
      "employee -0.13061930593362\n",
      "numVotes 0.08261231402977397\n",
      "stillExists 1.0\n",
      "vote_mean 0.036602443752447804\n",
      "vote_mode 0.024327597708567218\n",
      "vote_min -0.019976048116231295\n",
      "vote_max 0.04955892091679806\n",
      "vote_count 0.05169395874536424\n",
      "qt_dias_diff_vote_min 0.01774534408085189\n",
      "qt_dias_diff_vote_max 0.04458513068028731\n",
      "qt_dias_diff_vote_median 0.07389656088690945\n",
      "likes_mean -0.00467164206035979\n",
      "likes_min 0.08659450789337489\n",
      "likes_max 0.023660705460176075\n",
      "dislikes_mean -0.04865795353413274\n",
      "dislikes_min 0.06342970972491727\n",
      "dislikes_max 0.03957882960319471\n",
      "qt_dias_diff_comment_min 0.07984348456655167\n",
      "qt_dias_diff_comment_max -0.014643999691361547\n",
      "qt_dias_diff_comment_median 0.011666737355124851\n",
      "commentId_count 0.038574974786206494\n",
      "razao_likes_deslikes 0.12166542350415364\n",
      "razao_likes_deslikes_discfreq 0.04631619592154073\n",
      "numVotes_pos 0.08261231402977397\n",
      "numVotes_box-cox 0.10911112163094176\n",
      "qt_dias_diff_vote_max_box-cox 0.08378458353986956\n",
      "qt_dias_diff_vote_median_box-cox 0.09927372374627454\n",
      "qt_dias_diff_comment_min_box-cox 0.009703193712488182\n",
      "companyType_Service -0.16062845393852557\n",
      "gender_Male -0.0016428327027638568\n"
     ]
    }
   ],
   "source": [
    "for col in churn_enriq.select_dtypes(include=np.number).columns:\n",
    "    print(col, churn_enriq[col].corr(churn_enriq['stillExists']))"
   ]
  },
  {
   "cell_type": "markdown",
   "metadata": {
    "id": "rHygCFIwkwfV"
   },
   "source": [
    "b) Verifique de novo as distribuições e os tipos das variáveis restantes"
   ]
  },
  {
   "cell_type": "code",
   "execution_count": null,
   "metadata": {
    "colab": {
     "base_uri": "https://localhost:8080/",
     "height": 381
    },
    "executionInfo": {
     "elapsed": 446,
     "status": "ok",
     "timestamp": 1643333170374,
     "user": {
      "displayName": "Matheus Scheffer",
      "photoUrl": "https://lh3.googleusercontent.com/a-/AOh14GglPDI7gdLFED26W1SJncCIZFA5A-5rjTBcxfjH=s64",
      "userId": "18314476337770992076"
     },
     "user_tz": 180
    },
    "id": "W-6-JlIHSb6U",
    "outputId": "42d14480-c9b4-4881-9b15-b2153f352755"
   },
   "outputs": [
    {
     "data": {
      "text/html": [
       "\n",
       "  <div id=\"df-fee2ad0c-651d-4eae-9fc5-14c27ec6ec21\">\n",
       "    <div class=\"colab-df-container\">\n",
       "      <div>\n",
       "<style scoped>\n",
       "    .dataframe tbody tr th:only-of-type {\n",
       "        vertical-align: middle;\n",
       "    }\n",
       "\n",
       "    .dataframe tbody tr th {\n",
       "        vertical-align: top;\n",
       "    }\n",
       "\n",
       "    .dataframe thead th {\n",
       "        text-align: right;\n",
       "    }\n",
       "</style>\n",
       "<table border=\"1\" class=\"dataframe\">\n",
       "  <thead>\n",
       "    <tr style=\"text-align: right;\">\n",
       "      <th></th>\n",
       "      <th>employee</th>\n",
       "      <th>numVotes</th>\n",
       "      <th>stillExists</th>\n",
       "      <th>vote_mean</th>\n",
       "      <th>vote_mode</th>\n",
       "      <th>vote_min</th>\n",
       "      <th>vote_max</th>\n",
       "      <th>vote_count</th>\n",
       "      <th>qt_dias_diff_vote_min</th>\n",
       "      <th>qt_dias_diff_vote_max</th>\n",
       "      <th>qt_dias_diff_vote_median</th>\n",
       "      <th>likes_mean</th>\n",
       "      <th>likes_min</th>\n",
       "      <th>likes_max</th>\n",
       "      <th>dislikes_mean</th>\n",
       "      <th>dislikes_min</th>\n",
       "      <th>dislikes_max</th>\n",
       "      <th>qt_dias_diff_comment_min</th>\n",
       "      <th>qt_dias_diff_comment_max</th>\n",
       "      <th>qt_dias_diff_comment_median</th>\n",
       "      <th>commentId_count</th>\n",
       "      <th>razao_likes_deslikes</th>\n",
       "      <th>razao_likes_deslikes_discfreq</th>\n",
       "      <th>numVotes_pos</th>\n",
       "      <th>numVotes_box-cox</th>\n",
       "      <th>qt_dias_diff_vote_max_box-cox</th>\n",
       "      <th>qt_dias_diff_vote_median_box-cox</th>\n",
       "      <th>qt_dias_diff_comment_min_box-cox</th>\n",
       "      <th>companyType_Service</th>\n",
       "      <th>gender_Male</th>\n",
       "    </tr>\n",
       "  </thead>\n",
       "  <tbody>\n",
       "    <tr>\n",
       "      <th>count</th>\n",
       "      <td>4064.000000</td>\n",
       "      <td>4064.000000</td>\n",
       "      <td>4064.000000</td>\n",
       "      <td>4064.000000</td>\n",
       "      <td>4064.000000</td>\n",
       "      <td>4064.000000</td>\n",
       "      <td>4064.000000</td>\n",
       "      <td>4064.000000</td>\n",
       "      <td>4064.000000</td>\n",
       "      <td>4064.000000</td>\n",
       "      <td>4064.000000</td>\n",
       "      <td>4064.000000</td>\n",
       "      <td>4064.000000</td>\n",
       "      <td>4064.000000</td>\n",
       "      <td>4064.000000</td>\n",
       "      <td>4064.000000</td>\n",
       "      <td>4064.000000</td>\n",
       "      <td>4064.000000</td>\n",
       "      <td>4064.000000</td>\n",
       "      <td>4064.000000</td>\n",
       "      <td>4064.000000</td>\n",
       "      <td>4064.000000</td>\n",
       "      <td>4064.000000</td>\n",
       "      <td>4064.000000</td>\n",
       "      <td>4064.000000</td>\n",
       "      <td>4064.000000</td>\n",
       "      <td>4064.000000</td>\n",
       "      <td>4064.000000</td>\n",
       "      <td>4064.000000</td>\n",
       "      <td>4064.000000</td>\n",
       "    </tr>\n",
       "    <tr>\n",
       "      <th>mean</th>\n",
       "      <td>192.518455</td>\n",
       "      <td>45.640994</td>\n",
       "      <td>0.852608</td>\n",
       "      <td>2.949092</td>\n",
       "      <td>2.981053</td>\n",
       "      <td>1.859744</td>\n",
       "      <td>3.765748</td>\n",
       "      <td>45.355315</td>\n",
       "      <td>9.157972</td>\n",
       "      <td>148.462106</td>\n",
       "      <td>83.165108</td>\n",
       "      <td>6.621822</td>\n",
       "      <td>1.675689</td>\n",
       "      <td>13.477362</td>\n",
       "      <td>1.135128</td>\n",
       "      <td>0.103346</td>\n",
       "      <td>3.330217</td>\n",
       "      <td>33.290108</td>\n",
       "      <td>145.930856</td>\n",
       "      <td>102.120325</td>\n",
       "      <td>8.565207</td>\n",
       "      <td>1330.557711</td>\n",
       "      <td>1.079970</td>\n",
       "      <td>46.640994</td>\n",
       "      <td>3.222967</td>\n",
       "      <td>13.403065</td>\n",
       "      <td>9.647534</td>\n",
       "      <td>3.038490</td>\n",
       "      <td>0.742618</td>\n",
       "      <td>0.387057</td>\n",
       "    </tr>\n",
       "    <tr>\n",
       "      <th>std</th>\n",
       "      <td>206.118146</td>\n",
       "      <td>57.645434</td>\n",
       "      <td>0.354540</td>\n",
       "      <td>0.596316</td>\n",
       "      <td>0.789037</td>\n",
       "      <td>0.869260</td>\n",
       "      <td>0.485830</td>\n",
       "      <td>58.683164</td>\n",
       "      <td>17.706919</td>\n",
       "      <td>125.680774</td>\n",
       "      <td>70.916590</td>\n",
       "      <td>4.231692</td>\n",
       "      <td>2.515155</td>\n",
       "      <td>9.533752</td>\n",
       "      <td>1.048029</td>\n",
       "      <td>0.458624</td>\n",
       "      <td>3.942949</td>\n",
       "      <td>46.409744</td>\n",
       "      <td>93.598221</td>\n",
       "      <td>70.456009</td>\n",
       "      <td>18.528229</td>\n",
       "      <td>3386.464224</td>\n",
       "      <td>0.762945</td>\n",
       "      <td>57.645434</td>\n",
       "      <td>1.549058</td>\n",
       "      <td>6.282314</td>\n",
       "      <td>4.563803</td>\n",
       "      <td>1.406228</td>\n",
       "      <td>0.437245</td>\n",
       "      <td>0.487137</td>\n",
       "    </tr>\n",
       "    <tr>\n",
       "      <th>min</th>\n",
       "      <td>1.000000</td>\n",
       "      <td>0.000000</td>\n",
       "      <td>0.000000</td>\n",
       "      <td>1.000000</td>\n",
       "      <td>1.000000</td>\n",
       "      <td>1.000000</td>\n",
       "      <td>1.000000</td>\n",
       "      <td>0.000000</td>\n",
       "      <td>1.000000</td>\n",
       "      <td>1.000000</td>\n",
       "      <td>1.000000</td>\n",
       "      <td>0.000000</td>\n",
       "      <td>0.000000</td>\n",
       "      <td>0.000000</td>\n",
       "      <td>0.000000</td>\n",
       "      <td>0.000000</td>\n",
       "      <td>0.000000</td>\n",
       "      <td>1.000000</td>\n",
       "      <td>1.000000</td>\n",
       "      <td>1.000000</td>\n",
       "      <td>0.000000</td>\n",
       "      <td>0.000000</td>\n",
       "      <td>0.000000</td>\n",
       "      <td>1.000000</td>\n",
       "      <td>0.000000</td>\n",
       "      <td>0.000000</td>\n",
       "      <td>0.000000</td>\n",
       "      <td>0.000000</td>\n",
       "      <td>0.000000</td>\n",
       "      <td>0.000000</td>\n",
       "    </tr>\n",
       "    <tr>\n",
       "      <th>25%</th>\n",
       "      <td>51.000000</td>\n",
       "      <td>6.000000</td>\n",
       "      <td>1.000000</td>\n",
       "      <td>2.705882</td>\n",
       "      <td>3.000000</td>\n",
       "      <td>1.000000</td>\n",
       "      <td>4.000000</td>\n",
       "      <td>5.000000</td>\n",
       "      <td>1.000000</td>\n",
       "      <td>45.000000</td>\n",
       "      <td>26.000000</td>\n",
       "      <td>4.000000</td>\n",
       "      <td>0.000000</td>\n",
       "      <td>8.000000</td>\n",
       "      <td>0.333333</td>\n",
       "      <td>0.000000</td>\n",
       "      <td>1.000000</td>\n",
       "      <td>10.000000</td>\n",
       "      <td>97.750000</td>\n",
       "      <td>64.000000</td>\n",
       "      <td>0.000000</td>\n",
       "      <td>5.466071</td>\n",
       "      <td>0.000000</td>\n",
       "      <td>7.000000</td>\n",
       "      <td>2.013851</td>\n",
       "      <td>8.636581</td>\n",
       "      <td>6.239919</td>\n",
       "      <td>2.435986</td>\n",
       "      <td>0.000000</td>\n",
       "      <td>0.000000</td>\n",
       "    </tr>\n",
       "    <tr>\n",
       "      <th>50%</th>\n",
       "      <td>131.000000</td>\n",
       "      <td>20.000000</td>\n",
       "      <td>1.000000</td>\n",
       "      <td>3.000000</td>\n",
       "      <td>3.000000</td>\n",
       "      <td>2.000000</td>\n",
       "      <td>4.000000</td>\n",
       "      <td>19.000000</td>\n",
       "      <td>3.000000</td>\n",
       "      <td>130.000000</td>\n",
       "      <td>72.500000</td>\n",
       "      <td>6.771111</td>\n",
       "      <td>1.000000</td>\n",
       "      <td>12.000000</td>\n",
       "      <td>1.206733</td>\n",
       "      <td>0.000000</td>\n",
       "      <td>2.000000</td>\n",
       "      <td>17.000000</td>\n",
       "      <td>139.000000</td>\n",
       "      <td>94.000000</td>\n",
       "      <td>2.000000</td>\n",
       "      <td>5.611109</td>\n",
       "      <td>1.000000</td>\n",
       "      <td>21.000000</td>\n",
       "      <td>3.213016</td>\n",
       "      <td>14.294602</td>\n",
       "      <td>10.300969</td>\n",
       "      <td>3.036959</td>\n",
       "      <td>1.000000</td>\n",
       "      <td>0.000000</td>\n",
       "    </tr>\n",
       "    <tr>\n",
       "      <th>75%</th>\n",
       "      <td>244.000000</td>\n",
       "      <td>65.000000</td>\n",
       "      <td>1.000000</td>\n",
       "      <td>3.266667</td>\n",
       "      <td>3.000000</td>\n",
       "      <td>2.000000</td>\n",
       "      <td>4.000000</td>\n",
       "      <td>65.000000</td>\n",
       "      <td>7.000000</td>\n",
       "      <td>207.000000</td>\n",
       "      <td>117.125000</td>\n",
       "      <td>6.771111</td>\n",
       "      <td>1.000000</td>\n",
       "      <td>15.000000</td>\n",
       "      <td>1.206733</td>\n",
       "      <td>0.000000</td>\n",
       "      <td>3.000000</td>\n",
       "      <td>28.000000</td>\n",
       "      <td>165.000000</td>\n",
       "      <td>116.125000</td>\n",
       "      <td>9.000000</td>\n",
       "      <td>11.167619</td>\n",
       "      <td>2.000000</td>\n",
       "      <td>66.000000</td>\n",
       "      <td>4.513130</td>\n",
       "      <td>17.602663</td>\n",
       "      <td>12.786742</td>\n",
       "      <td>3.616377</td>\n",
       "      <td>1.000000</td>\n",
       "      <td>1.000000</td>\n",
       "    </tr>\n",
       "    <tr>\n",
       "      <th>max</th>\n",
       "      <td>999.000000</td>\n",
       "      <td>273.000000</td>\n",
       "      <td>1.000000</td>\n",
       "      <td>4.000000</td>\n",
       "      <td>4.000000</td>\n",
       "      <td>4.000000</td>\n",
       "      <td>4.000000</td>\n",
       "      <td>323.000000</td>\n",
       "      <td>100.000000</td>\n",
       "      <td>563.000000</td>\n",
       "      <td>336.000000</td>\n",
       "      <td>20.500000</td>\n",
       "      <td>12.000000</td>\n",
       "      <td>44.000000</td>\n",
       "      <td>5.600000</td>\n",
       "      <td>3.000000</td>\n",
       "      <td>17.000000</td>\n",
       "      <td>215.000000</td>\n",
       "      <td>468.000000</td>\n",
       "      <td>351.000000</td>\n",
       "      <td>279.000000</td>\n",
       "      <td>9999.000000</td>\n",
       "      <td>2.000000</td>\n",
       "      <td>274.000000</td>\n",
       "      <td>6.203779</td>\n",
       "      <td>27.078685</td>\n",
       "      <td>20.038600</td>\n",
       "      <td>6.134444</td>\n",
       "      <td>1.000000</td>\n",
       "      <td>1.000000</td>\n",
       "    </tr>\n",
       "  </tbody>\n",
       "</table>\n",
       "</div>\n",
       "      <button class=\"colab-df-convert\" onclick=\"convertToInteractive('df-fee2ad0c-651d-4eae-9fc5-14c27ec6ec21')\"\n",
       "              title=\"Convert this dataframe to an interactive table.\"\n",
       "              style=\"display:none;\">\n",
       "        \n",
       "  <svg xmlns=\"http://www.w3.org/2000/svg\" height=\"24px\"viewBox=\"0 0 24 24\"\n",
       "       width=\"24px\">\n",
       "    <path d=\"M0 0h24v24H0V0z\" fill=\"none\"/>\n",
       "    <path d=\"M18.56 5.44l.94 2.06.94-2.06 2.06-.94-2.06-.94-.94-2.06-.94 2.06-2.06.94zm-11 1L8.5 8.5l.94-2.06 2.06-.94-2.06-.94L8.5 2.5l-.94 2.06-2.06.94zm10 10l.94 2.06.94-2.06 2.06-.94-2.06-.94-.94-2.06-.94 2.06-2.06.94z\"/><path d=\"M17.41 7.96l-1.37-1.37c-.4-.4-.92-.59-1.43-.59-.52 0-1.04.2-1.43.59L10.3 9.45l-7.72 7.72c-.78.78-.78 2.05 0 2.83L4 21.41c.39.39.9.59 1.41.59.51 0 1.02-.2 1.41-.59l7.78-7.78 2.81-2.81c.8-.78.8-2.07 0-2.86zM5.41 20L4 18.59l7.72-7.72 1.47 1.35L5.41 20z\"/>\n",
       "  </svg>\n",
       "      </button>\n",
       "      \n",
       "  <style>\n",
       "    .colab-df-container {\n",
       "      display:flex;\n",
       "      flex-wrap:wrap;\n",
       "      gap: 12px;\n",
       "    }\n",
       "\n",
       "    .colab-df-convert {\n",
       "      background-color: #E8F0FE;\n",
       "      border: none;\n",
       "      border-radius: 50%;\n",
       "      cursor: pointer;\n",
       "      display: none;\n",
       "      fill: #1967D2;\n",
       "      height: 32px;\n",
       "      padding: 0 0 0 0;\n",
       "      width: 32px;\n",
       "    }\n",
       "\n",
       "    .colab-df-convert:hover {\n",
       "      background-color: #E2EBFA;\n",
       "      box-shadow: 0px 1px 2px rgba(60, 64, 67, 0.3), 0px 1px 3px 1px rgba(60, 64, 67, 0.15);\n",
       "      fill: #174EA6;\n",
       "    }\n",
       "\n",
       "    [theme=dark] .colab-df-convert {\n",
       "      background-color: #3B4455;\n",
       "      fill: #D2E3FC;\n",
       "    }\n",
       "\n",
       "    [theme=dark] .colab-df-convert:hover {\n",
       "      background-color: #434B5C;\n",
       "      box-shadow: 0px 1px 3px 1px rgba(0, 0, 0, 0.15);\n",
       "      filter: drop-shadow(0px 1px 2px rgba(0, 0, 0, 0.3));\n",
       "      fill: #FFFFFF;\n",
       "    }\n",
       "  </style>\n",
       "\n",
       "      <script>\n",
       "        const buttonEl =\n",
       "          document.querySelector('#df-fee2ad0c-651d-4eae-9fc5-14c27ec6ec21 button.colab-df-convert');\n",
       "        buttonEl.style.display =\n",
       "          google.colab.kernel.accessAllowed ? 'block' : 'none';\n",
       "\n",
       "        async function convertToInteractive(key) {\n",
       "          const element = document.querySelector('#df-fee2ad0c-651d-4eae-9fc5-14c27ec6ec21');\n",
       "          const dataTable =\n",
       "            await google.colab.kernel.invokeFunction('convertToInteractive',\n",
       "                                                     [key], {});\n",
       "          if (!dataTable) return;\n",
       "\n",
       "          const docLinkHtml = 'Like what you see? Visit the ' +\n",
       "            '<a target=\"_blank\" href=https://colab.research.google.com/notebooks/data_table.ipynb>data table notebook</a>'\n",
       "            + ' to learn more about interactive tables.';\n",
       "          element.innerHTML = '';\n",
       "          dataTable['output_type'] = 'display_data';\n",
       "          await google.colab.output.renderOutput(dataTable, element);\n",
       "          const docLink = document.createElement('div');\n",
       "          docLink.innerHTML = docLinkHtml;\n",
       "          element.appendChild(docLink);\n",
       "        }\n",
       "      </script>\n",
       "    </div>\n",
       "  </div>\n",
       "  "
      ],
      "text/plain": [
       "          employee     numVotes  stillExists    vote_mean    vote_mode  \\\n",
       "count  4064.000000  4064.000000  4064.000000  4064.000000  4064.000000   \n",
       "mean    192.518455    45.640994     0.852608     2.949092     2.981053   \n",
       "std     206.118146    57.645434     0.354540     0.596316     0.789037   \n",
       "min       1.000000     0.000000     0.000000     1.000000     1.000000   \n",
       "25%      51.000000     6.000000     1.000000     2.705882     3.000000   \n",
       "50%     131.000000    20.000000     1.000000     3.000000     3.000000   \n",
       "75%     244.000000    65.000000     1.000000     3.266667     3.000000   \n",
       "max     999.000000   273.000000     1.000000     4.000000     4.000000   \n",
       "\n",
       "          vote_min     vote_max   vote_count  qt_dias_diff_vote_min  \\\n",
       "count  4064.000000  4064.000000  4064.000000            4064.000000   \n",
       "mean      1.859744     3.765748    45.355315               9.157972   \n",
       "std       0.869260     0.485830    58.683164              17.706919   \n",
       "min       1.000000     1.000000     0.000000               1.000000   \n",
       "25%       1.000000     4.000000     5.000000               1.000000   \n",
       "50%       2.000000     4.000000    19.000000               3.000000   \n",
       "75%       2.000000     4.000000    65.000000               7.000000   \n",
       "max       4.000000     4.000000   323.000000             100.000000   \n",
       "\n",
       "       qt_dias_diff_vote_max  qt_dias_diff_vote_median   likes_mean  \\\n",
       "count            4064.000000               4064.000000  4064.000000   \n",
       "mean              148.462106                 83.165108     6.621822   \n",
       "std               125.680774                 70.916590     4.231692   \n",
       "min                 1.000000                  1.000000     0.000000   \n",
       "25%                45.000000                 26.000000     4.000000   \n",
       "50%               130.000000                 72.500000     6.771111   \n",
       "75%               207.000000                117.125000     6.771111   \n",
       "max               563.000000                336.000000    20.500000   \n",
       "\n",
       "         likes_min    likes_max  dislikes_mean  dislikes_min  dislikes_max  \\\n",
       "count  4064.000000  4064.000000    4064.000000   4064.000000   4064.000000   \n",
       "mean      1.675689    13.477362       1.135128      0.103346      3.330217   \n",
       "std       2.515155     9.533752       1.048029      0.458624      3.942949   \n",
       "min       0.000000     0.000000       0.000000      0.000000      0.000000   \n",
       "25%       0.000000     8.000000       0.333333      0.000000      1.000000   \n",
       "50%       1.000000    12.000000       1.206733      0.000000      2.000000   \n",
       "75%       1.000000    15.000000       1.206733      0.000000      3.000000   \n",
       "max      12.000000    44.000000       5.600000      3.000000     17.000000   \n",
       "\n",
       "       qt_dias_diff_comment_min  qt_dias_diff_comment_max  \\\n",
       "count               4064.000000               4064.000000   \n",
       "mean                  33.290108                145.930856   \n",
       "std                   46.409744                 93.598221   \n",
       "min                    1.000000                  1.000000   \n",
       "25%                   10.000000                 97.750000   \n",
       "50%                   17.000000                139.000000   \n",
       "75%                   28.000000                165.000000   \n",
       "max                  215.000000                468.000000   \n",
       "\n",
       "       qt_dias_diff_comment_median  commentId_count  razao_likes_deslikes  \\\n",
       "count                  4064.000000      4064.000000           4064.000000   \n",
       "mean                    102.120325         8.565207           1330.557711   \n",
       "std                      70.456009        18.528229           3386.464224   \n",
       "min                       1.000000         0.000000              0.000000   \n",
       "25%                      64.000000         0.000000              5.466071   \n",
       "50%                      94.000000         2.000000              5.611109   \n",
       "75%                     116.125000         9.000000             11.167619   \n",
       "max                     351.000000       279.000000           9999.000000   \n",
       "\n",
       "       razao_likes_deslikes_discfreq  numVotes_pos  numVotes_box-cox  \\\n",
       "count                    4064.000000   4064.000000       4064.000000   \n",
       "mean                        1.079970     46.640994          3.222967   \n",
       "std                         0.762945     57.645434          1.549058   \n",
       "min                         0.000000      1.000000          0.000000   \n",
       "25%                         0.000000      7.000000          2.013851   \n",
       "50%                         1.000000     21.000000          3.213016   \n",
       "75%                         2.000000     66.000000          4.513130   \n",
       "max                         2.000000    274.000000          6.203779   \n",
       "\n",
       "       qt_dias_diff_vote_max_box-cox  qt_dias_diff_vote_median_box-cox  \\\n",
       "count                    4064.000000                       4064.000000   \n",
       "mean                       13.403065                          9.647534   \n",
       "std                         6.282314                          4.563803   \n",
       "min                         0.000000                          0.000000   \n",
       "25%                         8.636581                          6.239919   \n",
       "50%                        14.294602                         10.300969   \n",
       "75%                        17.602663                         12.786742   \n",
       "max                        27.078685                         20.038600   \n",
       "\n",
       "       qt_dias_diff_comment_min_box-cox  companyType_Service  gender_Male  \n",
       "count                       4064.000000          4064.000000  4064.000000  \n",
       "mean                           3.038490             0.742618     0.387057  \n",
       "std                            1.406228             0.437245     0.487137  \n",
       "min                            0.000000             0.000000     0.000000  \n",
       "25%                            2.435986             0.000000     0.000000  \n",
       "50%                            3.036959             1.000000     0.000000  \n",
       "75%                            3.616377             1.000000     1.000000  \n",
       "max                            6.134444             1.000000     1.000000  "
      ]
     },
     "execution_count": 64,
     "metadata": {},
     "output_type": "execute_result"
    }
   ],
   "source": [
    "pd.options.display.max_rows = 999\n",
    "pd.options.display.max_columns = 999\n",
    "churn_enriq.describe()"
   ]
  },
  {
   "cell_type": "markdown",
   "metadata": {
    "id": "QW54RwtnkwfW"
   },
   "source": [
    "c) Há ainda algum valor nulo? Se sim, trate-os."
   ]
  },
  {
   "cell_type": "code",
   "execution_count": null,
   "metadata": {
    "colab": {
     "base_uri": "https://localhost:8080/"
    },
    "executionInfo": {
     "elapsed": 290,
     "status": "ok",
     "timestamp": 1643334257172,
     "user": {
      "displayName": "Matheus Scheffer",
      "photoUrl": "https://lh3.googleusercontent.com/a-/AOh14GglPDI7gdLFED26W1SJncCIZFA5A-5rjTBcxfjH=s64",
      "userId": "18314476337770992076"
     },
     "user_tz": 180
    },
    "id": "pejXfuWzSkjV",
    "outputId": "0d66bf47-c1a3-4ed9-b115-636598cfe107"
   },
   "outputs": [
    {
     "data": {
      "text/plain": [
       "employee                              0\n",
       "companyAlias                          0\n",
       "numVotes                              0\n",
       "lastParticipationDate                 0\n",
       "stillExists                           0\n",
       "vote_mean                             0\n",
       "vote_mode                             0\n",
       "vote_min                              0\n",
       "vote_max                              0\n",
       "vote_count                            0\n",
       "qt_dias_diff_vote_min                 0\n",
       "qt_dias_diff_vote_max                 0\n",
       "qt_dias_diff_vote_median              0\n",
       "likes_mean                            0\n",
       "likes_min                             0\n",
       "likes_max                             0\n",
       "dislikes_mean                         0\n",
       "dislikes_min                          0\n",
       "dislikes_max                          0\n",
       "qt_dias_diff_comment_min              0\n",
       "qt_dias_diff_comment_max              0\n",
       "qt_dias_diff_comment_median           0\n",
       "commentId_count                       0\n",
       "companyType                           0\n",
       "gender                                0\n",
       "razao_likes_deslikes                  0\n",
       "razao_likes_deslikes_discfreq         0\n",
       "numVotes_pos                          0\n",
       "numVotes_box-cox                      0\n",
       "qt_dias_diff_vote_max_box-cox         0\n",
       "qt_dias_diff_vote_median_box-cox      0\n",
       "qt_dias_diff_comment_min_box-cox      0\n",
       "companyType_Service                   0\n",
       "gender_Male                           0\n",
       "mean_stillExists_liked_comments       0\n",
       "mean_stillExists_disliked_comments    0\n",
       "dtype: int64"
      ]
     },
     "execution_count": 68,
     "metadata": {},
     "output_type": "execute_result"
    }
   ],
   "source": [
    "churn_enriq.isnull().sum()"
   ]
  },
  {
   "cell_type": "code",
   "execution_count": null,
   "metadata": {
    "id": "gpTos69WVglN"
   },
   "outputs": [],
   "source": [
    "mean_cols=['mean_stillExists_liked_comments','mean_stillExists_disliked_comments']\n",
    "\n",
    "for col in mean_cols:\n",
    "    avg=churn_enriq[col].mean()\n",
    "    churn_enriq.loc[churn_enriq[col].isna(),col]=avg\n",
    "    print(col,\"- substituição de nulos por\",avg)"
   ]
  },
  {
   "cell_type": "markdown",
   "metadata": {
    "id": "NZlmrv19kwfW"
   },
   "source": [
    "d) Vamos ver quais colunas manter"
   ]
  },
  {
   "cell_type": "code",
   "execution_count": null,
   "metadata": {
    "id": "kBAyi3ofpLfp"
   },
   "outputs": [],
   "source": [
    "df_churn_final=churn_enriq[['employee',\n",
    " 'companyAlias',\n",
    " #'numVotes',\n",
    " 'vote_mean',\n",
    " 'vote_mode',\n",
    " 'vote_min',\n",
    " 'vote_max',\n",
    " 'vote_count',\n",
    " 'qt_dias_diff_vote_min',\n",
    " #'qt_dias_diff_vote_max',\n",
    " #'qt_dias_diff_vote_median',\n",
    " 'likes_mean',\n",
    " 'likes_min',\n",
    " 'likes_max',\n",
    " 'dislikes_mean',\n",
    " 'dislikes_min',\n",
    " 'dislikes_max',\n",
    " #'qt_dias_diff_comment_min',\n",
    " 'qt_dias_diff_comment_max',\n",
    " 'qt_dias_diff_comment_median',\n",
    " 'commentId_count',\n",
    " #'companyType',\n",
    " #'gender',\n",
    " 'razao_likes_deslikes',\n",
    " 'mean_stillExists_liked_comments',\n",
    " 'mean_stillExists_disliked_comments',\n",
    " 'numVotes_box-cox',\n",
    " 'qt_dias_diff_vote_max_box-cox',\n",
    " 'qt_dias_diff_vote_median_box-cox',\n",
    " 'qt_dias_diff_comment_min_box-cox',\n",
    " 'gender_Male',\n",
    " 'companyType_Service',\n",
    " # previsão\n",
    " 'lastParticipationDate',\n",
    " 'stillExists']]       "
   ]
  },
  {
   "cell_type": "code",
   "execution_count": null,
   "metadata": {},
   "outputs": [],
   "source": []
  },
  {
   "cell_type": "code",
   "execution_count": null,
   "metadata": {
    "colab": {
     "base_uri": "https://localhost:8080/",
     "height": 206
    },
    "executionInfo": {
     "elapsed": 273,
     "status": "ok",
     "timestamp": 1643334392409,
     "user": {
      "displayName": "Matheus Scheffer",
      "photoUrl": "https://lh3.googleusercontent.com/a-/AOh14GglPDI7gdLFED26W1SJncCIZFA5A-5rjTBcxfjH=s64",
      "userId": "18314476337770992076"
     },
     "user_tz": 180
    },
    "id": "nBZQFVyRW9F2",
    "outputId": "435c252c-d5a3-44af-d178-413f9f4a72b5"
   },
   "outputs": [
    {
     "data": {
      "text/html": [
       "\n",
       "  <div id=\"df-a9f272cb-2899-45a7-aa25-a071bc26c1f5\">\n",
       "    <div class=\"colab-df-container\">\n",
       "      <div>\n",
       "<style scoped>\n",
       "    .dataframe tbody tr th:only-of-type {\n",
       "        vertical-align: middle;\n",
       "    }\n",
       "\n",
       "    .dataframe tbody tr th {\n",
       "        vertical-align: top;\n",
       "    }\n",
       "\n",
       "    .dataframe thead th {\n",
       "        text-align: right;\n",
       "    }\n",
       "</style>\n",
       "<table border=\"1\" class=\"dataframe\">\n",
       "  <thead>\n",
       "    <tr style=\"text-align: right;\">\n",
       "      <th></th>\n",
       "      <th>vote_mode</th>\n",
       "    </tr>\n",
       "  </thead>\n",
       "  <tbody>\n",
       "    <tr>\n",
       "      <th>0</th>\n",
       "      <td>1.0</td>\n",
       "    </tr>\n",
       "    <tr>\n",
       "      <th>1</th>\n",
       "      <td>1.0</td>\n",
       "    </tr>\n",
       "    <tr>\n",
       "      <th>2</th>\n",
       "      <td>3.0</td>\n",
       "    </tr>\n",
       "    <tr>\n",
       "      <th>3</th>\n",
       "      <td>4.0</td>\n",
       "    </tr>\n",
       "    <tr>\n",
       "      <th>4</th>\n",
       "      <td>4.0</td>\n",
       "    </tr>\n",
       "  </tbody>\n",
       "</table>\n",
       "</div>\n",
       "      <button class=\"colab-df-convert\" onclick=\"convertToInteractive('df-a9f272cb-2899-45a7-aa25-a071bc26c1f5')\"\n",
       "              title=\"Convert this dataframe to an interactive table.\"\n",
       "              style=\"display:none;\">\n",
       "        \n",
       "  <svg xmlns=\"http://www.w3.org/2000/svg\" height=\"24px\"viewBox=\"0 0 24 24\"\n",
       "       width=\"24px\">\n",
       "    <path d=\"M0 0h24v24H0V0z\" fill=\"none\"/>\n",
       "    <path d=\"M18.56 5.44l.94 2.06.94-2.06 2.06-.94-2.06-.94-.94-2.06-.94 2.06-2.06.94zm-11 1L8.5 8.5l.94-2.06 2.06-.94-2.06-.94L8.5 2.5l-.94 2.06-2.06.94zm10 10l.94 2.06.94-2.06 2.06-.94-2.06-.94-.94-2.06-.94 2.06-2.06.94z\"/><path d=\"M17.41 7.96l-1.37-1.37c-.4-.4-.92-.59-1.43-.59-.52 0-1.04.2-1.43.59L10.3 9.45l-7.72 7.72c-.78.78-.78 2.05 0 2.83L4 21.41c.39.39.9.59 1.41.59.51 0 1.02-.2 1.41-.59l7.78-7.78 2.81-2.81c.8-.78.8-2.07 0-2.86zM5.41 20L4 18.59l7.72-7.72 1.47 1.35L5.41 20z\"/>\n",
       "  </svg>\n",
       "      </button>\n",
       "      \n",
       "  <style>\n",
       "    .colab-df-container {\n",
       "      display:flex;\n",
       "      flex-wrap:wrap;\n",
       "      gap: 12px;\n",
       "    }\n",
       "\n",
       "    .colab-df-convert {\n",
       "      background-color: #E8F0FE;\n",
       "      border: none;\n",
       "      border-radius: 50%;\n",
       "      cursor: pointer;\n",
       "      display: none;\n",
       "      fill: #1967D2;\n",
       "      height: 32px;\n",
       "      padding: 0 0 0 0;\n",
       "      width: 32px;\n",
       "    }\n",
       "\n",
       "    .colab-df-convert:hover {\n",
       "      background-color: #E2EBFA;\n",
       "      box-shadow: 0px 1px 2px rgba(60, 64, 67, 0.3), 0px 1px 3px 1px rgba(60, 64, 67, 0.15);\n",
       "      fill: #174EA6;\n",
       "    }\n",
       "\n",
       "    [theme=dark] .colab-df-convert {\n",
       "      background-color: #3B4455;\n",
       "      fill: #D2E3FC;\n",
       "    }\n",
       "\n",
       "    [theme=dark] .colab-df-convert:hover {\n",
       "      background-color: #434B5C;\n",
       "      box-shadow: 0px 1px 3px 1px rgba(0, 0, 0, 0.15);\n",
       "      filter: drop-shadow(0px 1px 2px rgba(0, 0, 0, 0.3));\n",
       "      fill: #FFFFFF;\n",
       "    }\n",
       "  </style>\n",
       "\n",
       "      <script>\n",
       "        const buttonEl =\n",
       "          document.querySelector('#df-a9f272cb-2899-45a7-aa25-a071bc26c1f5 button.colab-df-convert');\n",
       "        buttonEl.style.display =\n",
       "          google.colab.kernel.accessAllowed ? 'block' : 'none';\n",
       "\n",
       "        async function convertToInteractive(key) {\n",
       "          const element = document.querySelector('#df-a9f272cb-2899-45a7-aa25-a071bc26c1f5');\n",
       "          const dataTable =\n",
       "            await google.colab.kernel.invokeFunction('convertToInteractive',\n",
       "                                                     [key], {});\n",
       "          if (!dataTable) return;\n",
       "\n",
       "          const docLinkHtml = 'Like what you see? Visit the ' +\n",
       "            '<a target=\"_blank\" href=https://colab.research.google.com/notebooks/data_table.ipynb>data table notebook</a>'\n",
       "            + ' to learn more about interactive tables.';\n",
       "          element.innerHTML = '';\n",
       "          dataTable['output_type'] = 'display_data';\n",
       "          await google.colab.output.renderOutput(dataTable, element);\n",
       "          const docLink = document.createElement('div');\n",
       "          docLink.innerHTML = docLinkHtml;\n",
       "          element.appendChild(docLink);\n",
       "        }\n",
       "      </script>\n",
       "    </div>\n",
       "  </div>\n",
       "  "
      ],
      "text/plain": [
       "   vote_mode\n",
       "0        1.0\n",
       "1        1.0\n",
       "2        3.0\n",
       "3        4.0\n",
       "4        4.0"
      ]
     },
     "execution_count": 72,
     "metadata": {},
     "output_type": "execute_result"
    }
   ],
   "source": [
    "df_churn_final[['vote_mode']]"
   ]
  },
  {
   "cell_type": "markdown",
   "metadata": {},
   "source": [
    "# Fim!\n",
    "\n",
    "Não esqueça de salvar o dataset!"
   ]
  },
  {
   "cell_type": "code",
   "execution_count": null,
   "metadata": {},
   "outputs": [],
   "source": [
    "df_churn_final.to_csv('data/df_churn_final.csv',sep=',',index=False)"
   ]
  }
 ],
 "metadata": {
  "colab": {
   "authorship_tag": "ABX9TyOKa7RIlV1v7EwdbVICmZ54",
   "collapsed_sections": [],
   "name": "Exercicio2.ipynb",
   "provenance": []
  },
  "kernelspec": {
   "display_name": "Python 3 (ipykernel)",
   "language": "python",
   "name": "python3"
  },
  "language_info": {
   "codemirror_mode": {
    "name": "ipython",
    "version": 3
   },
   "file_extension": ".py",
   "mimetype": "text/x-python",
   "name": "python",
   "nbconvert_exporter": "python",
   "pygments_lexer": "ipython3",
   "version": "3.8.12"
  }
 },
 "nbformat": 4,
 "nbformat_minor": 4
}
